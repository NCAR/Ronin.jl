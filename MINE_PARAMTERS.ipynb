{
 "cells": [
  {
   "cell_type": "code",
   "execution_count": 6,
   "id": "ceebec22",
   "metadata": {},
   "outputs": [
    {
     "name": "stderr",
     "output_type": "stream",
     "text": [
      "WARNING: replacing module JMLQC_utils.\n",
      "WARNING: using JMLQC_utils.calc_avg in module Main conflicts with an existing identifier.\n",
      "WARNING: using JMLQC_utils.calc_isolation_param in module Main conflicts with an existing identifier.\n",
      "WARNING: using JMLQC_utils.calc_std in module Main conflicts with an existing identifier.\n"
     ]
    }
   ],
   "source": [
    "###Script for datamining a given CFRadial file for the necessary predictors to feed to JMLQC model \n",
    "include(\"./JMLQC_utils.jl\")\n",
    "using .JMLQC_utils\n",
    "\n",
    "using NCDatasets\n",
    "using HDF5\n",
    "using ArgParse "
   ]
  },
  {
   "cell_type": "code",
   "execution_count": null,
   "id": "0a5255ba",
   "metadata": {},
   "outputs": [],
   "source": [
    "###Overall structure \n",
    "###Give script desired variables, input file (or list thereof?), and output file \n",
    "###script will compute desired variables from the data, and output into and h5 file? "
   ]
  },
  {
   "cell_type": "code",
   "execution_count": 7,
   "id": "182bafb4",
   "metadata": {},
   "outputs": [
    {
     "name": "stdout",
     "output_type": "stream",
     "text": [
      "Parsed args:\n",
      "  flag1  =>  false\n",
      "  arg1  =>  /Users/ischluesche/Library/Jupyter/runtime/kernel-25c0bae8-1a5b-43f0-9f68-82adf3446daa.json\n",
      "  opt1  =>  nothing\n",
      "  opt2  =>  0\n"
     ]
    }
   ],
   "source": [
    "function parse_commandline()\n",
    "    \n",
    "    s = ArgParseSettings()\n",
    "\n",
    "    @add_arg_table s begin\n",
    "        \"--argfile\",\"-f\"\n",
    "            help = (\"File containing comma-delimited list of variables you wish the script to calculate\\n\n",
    "                    Currently supported funcs include AVG(var_name), STD(var_name), and ISO(var_name)\")\n",
    "        \"--outfile\", \"-o\"\n",
    "            help = \"Location to output mined data to\"\n",
    "            default = \"./mined_data.h5\"\n",
    "        \"CFRad_path\"\n",
    "            help = \"Path to input CFRadial File\"\n",
    "            required = true\n",
    "    end\n",
    "\n",
    "    return parse_args(s)\n",
    "end\n",
    "\n",
    "function main()\n",
    "    parsed_args = parse_commandline()\n",
    "    println(\"Parsed args:\")\n",
    "    for (arg,val) in parsed_args\n",
    "        println(\"  $arg  =>  $val\")\n",
    "    end\n",
    "end\n",
    "\n",
    "main()"
   ]
  },
  {
   "cell_type": "code",
   "execution_count": null,
   "id": "0fdbb5b0",
   "metadata": {},
   "outputs": [],
   "source": []
  }
 ],
 "metadata": {
  "kernelspec": {
   "display_name": "Julia 1.9.2",
   "language": "julia",
   "name": "julia-1.9"
  },
  "language_info": {
   "file_extension": ".jl",
   "mimetype": "application/julia",
   "name": "julia",
   "version": "1.9.2"
  }
 },
 "nbformat": 4,
 "nbformat_minor": 5
}
