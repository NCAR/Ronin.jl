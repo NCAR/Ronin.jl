{
 "cells": [
  {
   "cell_type": "code",
   "execution_count": 119,
   "id": "30d31f2e",
   "metadata": {},
   "outputs": [],
   "source": [
    "using NCDatasets\n",
    "using HDF5\n",
    "using Plots\n",
    "using DataFrames\n",
    "using TypedTables\n",
    "using DataFrames\n",
    "using DecisionTree\n",
    "using MLJ \n",
    "using GR\n",
    "using ImageFiltering\n",
    "#ImageFilter.jl for calculating the spatial features of radar dataset \n",
    "\n",
    "EarthRadiusKm = 6375.636\n",
    "EarthRadiusSquare = 6375.636 * 6375.636\n",
    "\n",
    "# Beamwidth of ELDORA and TDR\n",
    "eff_beamwidth = 1.8\n",
    "beamwidth = eff_beamwidth*0.017453292;"
   ]
  },
  {
   "cell_type": "code",
   "execution_count": 93,
   "id": "dd372428",
   "metadata": {},
   "outputs": [
    {
     "data": {
      "text/plain": [
       "\u001b[31mDataset: CFRADIALS/cfrad.19950516_222557.623_to_19950516_222559.999_TF-ELDR_AIR.nc\u001b[39m\n",
       "Group: /\n",
       "\n",
       "\u001b[31mDimensions\u001b[39m\n",
       "   time = 221\n",
       "   range = 384\n",
       "   sweep = 1\n",
       "   string_length_8 = 8\n",
       "   string_length_32 = 32\n",
       "   status_xml_length = 1\n",
       "   r_calib = 1\n",
       "   frequency = 4\n",
       "\n",
       "\u001b[31mVariables\u001b[39m\n",
       "\u001b[32m  volume_number\u001b[39m  \n",
       "    Attributes:\n",
       "     long_name            = \u001b[36mdata_volume_index_number\u001b[39m\n",
       "     units                = \n",
       "     _FillValue           = \u001b[36m-9999\u001b[39m\n",
       "\n",
       "\u001b[32m  platform_type\u001b[39m   (32)\n",
       "    Datatype:    \u001b[0m\u001b[1mChar\u001b[22m (Char)\n",
       "    Dimensions:  string_length_32\n",
       "    Attributes:\n",
       "     long_name            = \u001b[36mplatform_type\u001b[39m\n",
       "     options              = \u001b[36mfixed, vehicle, ship, aircraft_fore, aircraft_aft, aircraft_tail, aircraft_belly, aircraft_roof, aircraft_nose, satellite_orbit, satellite_geostat\u001b[39m\n",
       "\n",
       "\u001b[32m  primary_axis\u001b[39m   (32)\n",
       "    Datatype:    \u001b[0m\u001b[1mChar\u001b[22m (Char)\n",
       "    Dimensions:  string_length_32\n",
       "    Attributes:\n",
       "     long_name            = \u001b[36mprimary_axis_of_rotation\u001b[39m\n",
       "     options              = \u001b[36maxis_z, axis_y, axis_x, axis_z_prime, axis_y_prime, axis_x_prime\u001b[39m\n",
       "\n",
       "\u001b[32m  status_xml\u001b[39m   (1)\n",
       "    Datatype:    \u001b[0m\u001b[1mChar\u001b[22m (Char)\n",
       "    Dimensions:  status_xml_length\n",
       "    Attributes:\n",
       "     long_name            = \u001b[36mstatus_of_instrument\u001b[39m\n",
       "\n",
       "\u001b[32m  instrument_type\u001b[39m   (32)\n",
       "    Datatype:    \u001b[0m\u001b[1mChar\u001b[22m (Char)\n",
       "    Dimensions:  string_length_32\n",
       "    Attributes:\n",
       "     long_name            = \u001b[36mtype_of_instrument\u001b[39m\n",
       "     options              = \u001b[36mradar, lidar\u001b[39m\n",
       "     meta_group           = \u001b[36minstrument_parameters\u001b[39m\n",
       "\n",
       "\u001b[32m  radar_antenna_gain_h\u001b[39m  \n",
       "    Attributes:\n",
       "     long_name            = \u001b[36mnominal_radar_antenna_gain_h_channel\u001b[39m\n",
       "     units                = \u001b[36mdb\u001b[39m\n",
       "     _FillValue           = \u001b[36m-9999.0\u001b[39m\n",
       "     meta_group           = \u001b[36mradar_parameters\u001b[39m\n",
       "\n",
       "\u001b[32m  radar_antenna_gain_v\u001b[39m  \n",
       "    Attributes:\n",
       "     long_name            = \u001b[36mnominal_radar_antenna_gain_v_channel\u001b[39m\n",
       "     units                = \u001b[36mdb\u001b[39m\n",
       "     _FillValue           = \u001b[36m-9999.0\u001b[39m\n",
       "     meta_group           = \u001b[36mradar_parameters\u001b[39m\n",
       "\n",
       "\u001b[32m  radar_beam_width_h\u001b[39m  \n",
       "    Attributes:\n",
       "     long_name            = \u001b[36mhalf_power_radar_beam_width_h_channel\u001b[39m\n",
       "     units                = \u001b[36mdegrees\u001b[39m\n",
       "     _FillValue           = \u001b[36m-9999.0\u001b[39m\n",
       "     meta_group           = \u001b[36mradar_parameters\u001b[39m\n",
       "\n",
       "\u001b[32m  radar_beam_width_v\u001b[39m  \n",
       "    Attributes:\n",
       "     long_name            = \u001b[36mhalf_power_radar_beam_width_v_channel\u001b[39m\n",
       "     units                = \u001b[36mdegrees\u001b[39m\n",
       "     _FillValue           = \u001b[36m-9999.0\u001b[39m\n",
       "     meta_group           = \u001b[36mradar_parameters\u001b[39m\n",
       "\n",
       "\u001b[32m  radar_rx_bandwidth\u001b[39m  \n",
       "    Attributes:\n",
       "     long_name            = \u001b[36mradar_receiver_bandwidth\u001b[39m\n",
       "     units                = \u001b[36ms-1\u001b[39m\n",
       "     _FillValue           = \u001b[36m-9999.0\u001b[39m\n",
       "     meta_group           = \u001b[36mradar_parameters\u001b[39m\n",
       "\n",
       "\u001b[32m  time_coverage_start\u001b[39m   (32)\n",
       "    Datatype:    \u001b[0m\u001b[1mChar\u001b[22m (Char)\n",
       "    Dimensions:  string_length_32\n",
       "    Attributes:\n",
       "     long_name            = \u001b[36mdata_volume_start_time_utc\u001b[39m\n",
       "     comment              = \u001b[36mray times are relative to start time in secs\u001b[39m\n",
       "\n",
       "\u001b[32m  time_coverage_end\u001b[39m   (32)\n",
       "    Datatype:    \u001b[0m\u001b[1mChar\u001b[22m (Char)\n",
       "    Dimensions:  string_length_32\n",
       "    Attributes:\n",
       "     long_name            = \u001b[36mdata_volume_end_time_utc\u001b[39m\n",
       "\n",
       "\u001b[32m  frequency\u001b[39m   (4)\n",
       "    Datatype:    \u001b[0m\u001b[1mUnion{Missing, Float32}\u001b[22m (Float32)\n",
       "    Dimensions:  frequency\n",
       "    Attributes:\n",
       "     long_name            = \u001b[36mtransmission_frequency\u001b[39m\n",
       "     units                = \u001b[36ms-1\u001b[39m\n",
       "     _FillValue           = \u001b[36m-9999.0\u001b[39m\n",
       "     meta_group           = \u001b[36minstrument_parameters\u001b[39m\n",
       "\n",
       "\u001b[32m  azimuth_correction\u001b[39m  \n",
       "    Attributes:\n",
       "     long_name            = \u001b[36mazimuth_angle_correction\u001b[39m\n",
       "     units                = \u001b[36mdegrees\u001b[39m\n",
       "     _FillValue           = \u001b[36m-9999.0\u001b[39m\n",
       "     meta_group           = \u001b[36mgeometry_correction\u001b[39m\n",
       "\n",
       "\u001b[32m  elevation_correction\u001b[39m  \n",
       "    Attributes:\n",
       "     long_name            = \u001b[36mray_elevation_angle_correction\u001b[39m\n",
       "     units                = \u001b[36mdegrees\u001b[39m\n",
       "     _FillValue           = \u001b[36m-9999.0\u001b[39m\n",
       "     meta_group           = \u001b[36mgeometry_correction\u001b[39m\n",
       "\n",
       "\u001b[32m  range_correction\u001b[39m  \n",
       "    Attributes:\n",
       "     long_name            = \u001b[36mrange_to_center_of_measurement_volume_correction\u001b[39m\n",
       "     units                = \u001b[36mmeters\u001b[39m\n",
       "     _FillValue           = \u001b[36m-9999.0\u001b[39m\n",
       "     meta_group           = \u001b[36mgeometry_correction\u001b[39m\n",
       "\n",
       "\u001b[32m  longitude_correction\u001b[39m  \n",
       "    Attributes:\n",
       "     long_name            = \u001b[36mlongitude_correction\u001b[39m\n",
       "     units                = \u001b[36mdegrees\u001b[39m\n",
       "     _FillValue           = \u001b[36m-9999.0\u001b[39m\n",
       "     meta_group           = \u001b[36mgeometry_correction\u001b[39m\n",
       "\n",
       "\u001b[32m  latitude_correction\u001b[39m  \n",
       "    Attributes:\n",
       "     long_name            = \u001b[36mlatitude_correction\u001b[39m\n",
       "     units                = \u001b[36mdegrees\u001b[39m\n",
       "     _FillValue           = \u001b[36m-9999.0\u001b[39m\n",
       "     meta_group           = \u001b[36mgeometry_correction\u001b[39m\n",
       "\n",
       "\u001b[32m  pressure_altitude_correction\u001b[39m  \n",
       "    Attributes:\n",
       "     long_name            = \u001b[36mpressure_altitude_correction\u001b[39m\n",
       "     units                = \u001b[36mmeters\u001b[39m\n",
       "     _FillValue           = \u001b[36m-9999.0\u001b[39m\n",
       "     meta_group           = \u001b[36mgeometry_correction\u001b[39m\n",
       "\n",
       "\u001b[32m  altitude_correction\u001b[39m  \n",
       "    Attributes:\n",
       "     long_name            = \u001b[36maltitude_correction\u001b[39m\n",
       "     units                = \u001b[36mmeters\u001b[39m\n",
       "     _FillValue           = \u001b[36m-9999.0\u001b[39m\n",
       "     meta_group           = \u001b[36mgeometry_correction\u001b[39m\n",
       "\n",
       "\u001b[32m  eastward_velocity_correction\u001b[39m  \n",
       "    Attributes:\n",
       "     long_name            = \u001b[36mplatform_eastward_velocity_correction\u001b[39m\n",
       "     units                = \u001b[36mmeters per second\u001b[39m\n",
       "     _FillValue           = \u001b[36m-9999.0\u001b[39m\n",
       "     meta_group           = \u001b[36mgeometry_correction\u001b[39m\n",
       "\n",
       "\u001b[32m  northward_velocity_correction\u001b[39m  \n",
       "    Attributes:\n",
       "     long_name            = \u001b[36mplatform_northward_velocity_correction\u001b[39m\n",
       "     units                = \u001b[36mmeters per second\u001b[39m\n",
       "     _FillValue           = \u001b[36m-9999.0\u001b[39m\n",
       "     meta_group           = \u001b[36mgeometry_correction\u001b[39m\n",
       "\n",
       "\u001b[32m  vertical_velocity_correction\u001b[39m  \n",
       "    Attributes:\n",
       "     long_name            = \u001b[36mplatform_vertical_velocity_correction\u001b[39m\n",
       "     units                = \u001b[36mmeters per second\u001b[39m\n",
       "     _FillValue           = \u001b[36m-9999.0\u001b[39m\n",
       "     meta_group           = \u001b[36mgeometry_correction\u001b[39m\n",
       "\n",
       "\u001b[32m  heading_correction\u001b[39m  \n",
       "    Attributes:\n",
       "     long_name            = \u001b[36mplatform_heading_angle_correction\u001b[39m\n",
       "     units                = \u001b[36mdegrees\u001b[39m\n",
       "     _FillValue           = \u001b[36m-9999.0\u001b[39m\n",
       "     meta_group           = \u001b[36mgeometry_correction\u001b[39m\n",
       "\n",
       "\u001b[32m  roll_correction\u001b[39m  \n",
       "    Attributes:\n",
       "     long_name            = \u001b[36mplatform_roll_angle_correction\u001b[39m\n",
       "     units                = \u001b[36mdegrees\u001b[39m\n",
       "     _FillValue           = \u001b[36m-9999.0\u001b[39m\n",
       "     meta_group           = \u001b[36mgeometry_correction\u001b[39m\n",
       "\n",
       "\u001b[32m  pitch_correction\u001b[39m  \n",
       "    Attributes:\n",
       "     long_name            = \u001b[36mplatform_pitch_angle_correction\u001b[39m\n",
       "     units                = \u001b[36mdegrees\u001b[39m\n",
       "     _FillValue           = \u001b[36m-9999.0\u001b[39m\n",
       "     meta_group           = \u001b[36mgeometry_correction\u001b[39m\n",
       "\n",
       "\u001b[32m  drift_correction\u001b[39m  \n",
       "    Attributes:\n",
       "     long_name            = \u001b[36mplatform_drift_angle_correction\u001b[39m\n",
       "     units                = \u001b[36mdegrees\u001b[39m\n",
       "     _FillValue           = \u001b[36m-9999.0\u001b[39m\n",
       "     meta_group           = \u001b[36mgeometry_correction\u001b[39m\n",
       "\n",
       "\u001b[32m  rotation_correction\u001b[39m  \n",
       "    Attributes:\n",
       "     long_name            = \u001b[36mray_rotation_angle_relative_to_platform_correction\u001b[39m\n",
       "     units                = \u001b[36mdegrees\u001b[39m\n",
       "     _FillValue           = \u001b[36m-9999.0\u001b[39m\n",
       "     meta_group           = \u001b[36mgeometry_correction\u001b[39m\n",
       "\n",
       "\u001b[32m  tilt_correction\u001b[39m  \n",
       "    Attributes:\n",
       "     long_name            = \u001b[36mray_tilt_angle_relative_to_platform_correction\u001b[39m\n",
       "     units                = \u001b[36mdegrees\u001b[39m\n",
       "     _FillValue           = \u001b[36m-9999.0\u001b[39m\n",
       "     meta_group           = \u001b[36mgeometry_correction\u001b[39m\n",
       "\n",
       "\u001b[32m  grid_mapping\u001b[39m  \n",
       "    Attributes:\n",
       "     grid_mapping_name    = \u001b[36mazimuthal_equidistant\u001b[39m\n",
       "\n",
       "\u001b[32m  sweep_number\u001b[39m   (1)\n",
       "    Datatype:    \u001b[0m\u001b[1mUnion{Missing, Int32}\u001b[22m (Int32)\n",
       "    Dimensions:  sweep\n",
       "    Attributes:\n",
       "     long_name            = \u001b[36msweep_index_number_0_based\u001b[39m\n",
       "     units                = \n",
       "     _FillValue           = \u001b[36m-9999\u001b[39m\n",
       "\n",
       "\u001b[32m  sweep_mode\u001b[39m   (32 × 1)\n",
       "    Datatype:    \u001b[0m\u001b[1mChar\u001b[22m (Char)\n",
       "    Dimensions:  string_length_32 × sweep\n",
       "    Attributes:\n",
       "     long_name            = \u001b[36mscan_mode_for_sweep\u001b[39m\n",
       "     options              = \u001b[36msector, coplane, rhi, vertical_pointing, idle, azimuth_surveillance, elevation_surveillance, sunscan, pointing, calibration, manual_ppi, manual_rhi, sunscan_rhi\u001b[39m\n",
       "\n",
       "\u001b[32m  polarization_mode\u001b[39m   (32 × 1)\n",
       "    Datatype:    \u001b[0m\u001b[1mChar\u001b[22m (Char)\n",
       "    Dimensions:  string_length_32 × sweep\n",
       "    Attributes:\n",
       "     long_name            = \u001b[36mpolarization_mode_for_sweep\u001b[39m\n",
       "     options              = \u001b[36mhorizontal, vertical, hv_alt, hv_sim, circular\u001b[39m\n",
       "     meta_group           = \u001b[36mradar_parameters\u001b[39m\n",
       "\n",
       "\u001b[32m  prt_mode\u001b[39m   (32 × 1)\n",
       "    Datatype:    \u001b[0m\u001b[1mChar\u001b[22m (Char)\n",
       "    Dimensions:  string_length_32 × sweep\n",
       "    Attributes:\n",
       "     long_name            = \u001b[36mtransmit_pulse_mode\u001b[39m\n",
       "     options              = \u001b[36mfixed, staggered, dual\u001b[39m\n",
       "     meta_group           = \u001b[36mradar_parameters\u001b[39m\n",
       "\n",
       "\u001b[32m  follow_mode\u001b[39m   (32 × 1)\n",
       "    Datatype:    \u001b[0m\u001b[1mChar\u001b[22m (Char)\n",
       "    Dimensions:  string_length_32 × sweep\n",
       "    Attributes:\n",
       "     long_name            = \u001b[36mfollow_mode_for_scan_strategy\u001b[39m\n",
       "     options              = \u001b[36mnone, sun, vehicle, aircraft, target, manual\u001b[39m\n",
       "     meta_group           = \u001b[36minstrument_parameters\u001b[39m\n",
       "\n",
       "\u001b[32m  fixed_angle\u001b[39m   (1)\n",
       "    Datatype:    \u001b[0m\u001b[1mUnion{Missing, Float32}\u001b[22m (Float32)\n",
       "    Dimensions:  sweep\n",
       "    Attributes:\n",
       "     long_name            = \u001b[36mray_target_fixed_angle\u001b[39m\n",
       "     units                = \u001b[36mdegrees\u001b[39m\n",
       "     _FillValue           = \u001b[36m-9999.0\u001b[39m\n",
       "\n",
       "\u001b[32m  target_scan_rate\u001b[39m   (1)\n",
       "    Datatype:    \u001b[0m\u001b[1mUnion{Missing, Float32}\u001b[22m (Float32)\n",
       "    Dimensions:  sweep\n",
       "    Attributes:\n",
       "     long_name            = \u001b[36mtarget_scan_rate_for_sweep\u001b[39m\n",
       "     units                = \u001b[36mdegrees per second\u001b[39m\n",
       "     _FillValue           = \u001b[36m-9999.0\u001b[39m\n",
       "\n",
       "\u001b[32m  sweep_start_ray_index\u001b[39m   (1)\n",
       "    Datatype:    \u001b[0m\u001b[1mUnion{Missing, Int32}\u001b[22m (Int32)\n",
       "    Dimensions:  sweep\n",
       "    Attributes:\n",
       "     long_name            = \u001b[36mindex_of_first_ray_in_sweep\u001b[39m\n",
       "     units                = \n",
       "     _FillValue           = \u001b[36m-9999\u001b[39m\n",
       "\n",
       "\u001b[32m  sweep_end_ray_index\u001b[39m   (1)\n",
       "    Datatype:    \u001b[0m\u001b[1mUnion{Missing, Int32}\u001b[22m (Int32)\n",
       "    Dimensions:  sweep\n",
       "    Attributes:\n",
       "     long_name            = \u001b[36mindex_of_last_ray_in_sweep\u001b[39m\n",
       "     units                = \n",
       "     _FillValue           = \u001b[36m-9999\u001b[39m\n",
       "\n",
       "\u001b[32m  rays_are_indexed\u001b[39m   (8 × 1)\n",
       "    Datatype:    \u001b[0m\u001b[1mChar\u001b[22m (Char)\n",
       "    Dimensions:  string_length_8 × sweep\n",
       "    Attributes:\n",
       "     long_name            = \u001b[36mflag_for_indexed_rays\u001b[39m\n",
       "\n",
       "\u001b[32m  ray_angle_res\u001b[39m   (1)\n",
       "    Datatype:    \u001b[0m\u001b[1mUnion{Missing, Float32}\u001b[22m (Float32)\n",
       "    Dimensions:  sweep\n",
       "    Attributes:\n",
       "     long_name            = \u001b[36mangular_resolution_between_rays\u001b[39m\n",
       "     units                = \u001b[36mdegrees\u001b[39m\n",
       "     _FillValue           = \u001b[36m-9999.0\u001b[39m\n",
       "\n",
       "\u001b[32m  r_calib_time\u001b[39m   (32 × 1)\n",
       "    Datatype:    \u001b[0m\u001b[1mChar\u001b[22m (Char)\n",
       "    Dimensions:  string_length_32 × r_calib\n",
       "    Attributes:\n",
       "     long_name            = \u001b[36mradar_calibration_time_utc\u001b[39m\n",
       "     meta_group           = \u001b[36mradar_calibration\u001b[39m\n",
       "\n",
       "\u001b[32m  r_calib_pulse_width\u001b[39m   (1)\n",
       "    Datatype:    \u001b[0m\u001b[1mUnion{Missing, Float32}\u001b[22m (Float32)\n",
       "    Dimensions:  r_calib\n",
       "    Attributes:\n",
       "     long_name            = \u001b[36mradar_calibration_pulse_width\u001b[39m\n",
       "     units                = \u001b[36mseconds\u001b[39m\n",
       "     meta_group           = \u001b[36mradar_calibration\u001b[39m\n",
       "     _FillValue           = \u001b[36m-9999.0\u001b[39m\n",
       "\n",
       "\u001b[32m  r_calib_xmit_power_h\u001b[39m   (1)\n",
       "    Datatype:    \u001b[0m\u001b[1mUnion{Missing, Float32}\u001b[22m (Float32)\n",
       "    Dimensions:  r_calib\n",
       "    Attributes:\n",
       "     long_name            = \u001b[36mcalibrated_radar_xmit_power_h_channel\u001b[39m\n",
       "     units                = \u001b[36mdBm\u001b[39m\n",
       "     meta_group           = \u001b[36mradar_calibration\u001b[39m\n",
       "     _FillValue           = \u001b[36m-9999.0\u001b[39m\n",
       "\n",
       "\u001b[32m  r_calib_xmit_power_v\u001b[39m   (1)\n",
       "    Datatype:    \u001b[0m\u001b[1mUnion{Missing, Float32}\u001b[22m (Float32)\n",
       "    Dimensions:  r_calib\n",
       "    Attributes:\n",
       "     long_name            = \u001b[36mcalibrated_radar_xmit_power_v_channel\u001b[39m\n",
       "     units                = \u001b[36mdBm\u001b[39m\n",
       "     meta_group           = \u001b[36mradar_calibration\u001b[39m\n",
       "     _FillValue           = \u001b[36m-9999.0\u001b[39m\n",
       "\n",
       "\u001b[32m  r_calib_two_way_waveguide_loss_h\u001b[39m   (1)\n",
       "    Datatype:    \u001b[0m\u001b[1mUnion{Missing, Float32}\u001b[22m (Float32)\n",
       "    Dimensions:  r_calib\n",
       "    Attributes:\n",
       "     long_name            = \u001b[36mradar_calibration_two_way_waveguide_loss_h_channel\u001b[39m\n",
       "     units                = \u001b[36mdb\u001b[39m\n",
       "     meta_group           = \u001b[36mradar_calibration\u001b[39m\n",
       "     _FillValue           = \u001b[36m-9999.0\u001b[39m\n",
       "\n",
       "\u001b[32m  r_calib_two_way_waveguide_loss_v\u001b[39m   (1)\n",
       "    Datatype:    \u001b[0m\u001b[1mUnion{Missing, Float32}\u001b[22m (Float32)\n",
       "    Dimensions:  r_calib\n",
       "    Attributes:\n",
       "     long_name            = \u001b[36mradar_calibration_two_way_waveguide_loss_v_channel\u001b[39m\n",
       "     units                = \u001b[36mdb\u001b[39m\n",
       "     meta_group           = \u001b[36mradar_calibration\u001b[39m\n",
       "     _FillValue           = \u001b[36m-9999.0\u001b[39m\n",
       "\n",
       "\u001b[32m  r_calib_two_way_radome_loss_h\u001b[39m   (1)\n",
       "    Datatype:    \u001b[0m\u001b[1mUnion{Missing, Float32}\u001b[22m (Float32)\n",
       "    Dimensions:  r_calib\n",
       "    Attributes:\n",
       "     long_name            = \u001b[36mradar_calibration_two_way_radome_loss_h_channel\u001b[39m\n",
       "     units                = \u001b[36mdb\u001b[39m\n",
       "     meta_group           = \u001b[36mradar_calibration\u001b[39m\n",
       "     _FillValue           = \u001b[36m-9999.0\u001b[39m\n",
       "\n",
       "\u001b[32m  r_calib_two_way_radome_loss_v\u001b[39m   (1)\n",
       "    Datatype:    \u001b[0m\u001b[1mUnion{Missing, Float32}\u001b[22m (Float32)\n",
       "    Dimensions:  r_calib\n",
       "    Attributes:\n",
       "     long_name            = \u001b[36mradar_calibration_two_way_radome_loss_v_channel\u001b[39m\n",
       "     units                = \u001b[36mdb\u001b[39m\n",
       "     meta_group           = \u001b[36mradar_calibration\u001b[39m\n",
       "     _FillValue           = \u001b[36m-9999.0\u001b[39m\n",
       "\n",
       "\u001b[32m  r_calib_receiver_mismatch_loss\u001b[39m   (1)\n",
       "    Datatype:    \u001b[0m\u001b[1mUnion{Missing, Float32}\u001b[22m (Float32)\n",
       "    Dimensions:  r_calib\n",
       "    Attributes:\n",
       "     long_name            = \u001b[36mradar_calibration_receiver_mismatch_loss\u001b[39m\n",
       "     units                = \u001b[36mdb\u001b[39m\n",
       "     meta_group           = \u001b[36mradar_calibration\u001b[39m\n",
       "     _FillValue           = \u001b[36m-9999.0\u001b[39m\n",
       "\n",
       "\u001b[32m  r_calib_radar_constant_h\u001b[39m   (1)\n",
       "    Datatype:    \u001b[0m\u001b[1mUnion{Missing, Float32}\u001b[22m (Float32)\n",
       "    Dimensions:  r_calib\n",
       "    Attributes:\n",
       "     long_name            = \u001b[36mcalibrated_radar_constant_h_channel\u001b[39m\n",
       "     units                = \u001b[36mdb\u001b[39m\n",
       "     meta_group           = \u001b[36mradar_calibration\u001b[39m\n",
       "     _FillValue           = \u001b[36m-9999.0\u001b[39m\n",
       "\n",
       "\u001b[32m  r_calib_radar_constant_v\u001b[39m   (1)\n",
       "    Datatype:    \u001b[0m\u001b[1mUnion{Missing, Float32}\u001b[22m (Float32)\n",
       "    Dimensions:  r_calib\n",
       "    Attributes:\n",
       "     long_name            = \u001b[36mcalibrated_radar_constant_v_channel\u001b[39m\n",
       "     units                = \u001b[36mdb\u001b[39m\n",
       "     meta_group           = \u001b[36mradar_calibration\u001b[39m\n",
       "     _FillValue           = \u001b[36m-9999.0\u001b[39m\n",
       "\n",
       "\u001b[32m  r_calib_antenna_gain_h\u001b[39m   (1)\n",
       "    Datatype:    \u001b[0m\u001b[1mUnion{Missing, Float32}\u001b[22m (Float32)\n",
       "    Dimensions:  r_calib\n",
       "    Attributes:\n",
       "     long_name            = \u001b[36mcalibrated_radar_antenna_gain_h_channel\u001b[39m\n",
       "     units                = \u001b[36mdb\u001b[39m\n",
       "     meta_group           = \u001b[36mradar_calibration\u001b[39m\n",
       "     _FillValue           = \u001b[36m-9999.0\u001b[39m\n",
       "\n",
       "\u001b[32m  r_calib_antenna_gain_v\u001b[39m   (1)\n",
       "    Datatype:    \u001b[0m\u001b[1mUnion{Missing, Float32}\u001b[22m (Float32)\n",
       "    Dimensions:  r_calib\n",
       "    Attributes:\n",
       "     long_name            = \u001b[36mcalibrated_radar_antenna_gain_v_channel\u001b[39m\n",
       "     units                = \u001b[36mdb\u001b[39m\n",
       "     meta_group           = \u001b[36mradar_calibration\u001b[39m\n",
       "     _FillValue           = \u001b[36m-9999.0\u001b[39m\n",
       "\n",
       "\u001b[32m  r_calib_noise_hc\u001b[39m   (1)\n",
       "    Datatype:    \u001b[0m\u001b[1mUnion{Missing, Float32}\u001b[22m (Float32)\n",
       "    Dimensions:  r_calib\n",
       "    Attributes:\n",
       "     long_name            = \u001b[36mcalibrated_radar_receiver_noise_h_co_polar_channel\u001b[39m\n",
       "     units                = \u001b[36mdBm\u001b[39m\n",
       "     meta_group           = \u001b[36mradar_calibration\u001b[39m\n",
       "     _FillValue           = \u001b[36m-9999.0\u001b[39m\n",
       "\n",
       "\u001b[32m  r_calib_noise_vc\u001b[39m   (1)\n",
       "    Datatype:    \u001b[0m\u001b[1mUnion{Missing, Float32}\u001b[22m (Float32)\n",
       "    Dimensions:  r_calib\n",
       "    Attributes:\n",
       "     long_name            = \u001b[36mcalibrated_radar_receiver_noise_v_co_polar_channel\u001b[39m\n",
       "     units                = \u001b[36mdBm\u001b[39m\n",
       "     meta_group           = \u001b[36mradar_calibration\u001b[39m\n",
       "     _FillValue           = \u001b[36m-9999.0\u001b[39m\n",
       "\n",
       "\u001b[32m  r_calib_noise_hx\u001b[39m   (1)\n",
       "    Datatype:    \u001b[0m\u001b[1mUnion{Missing, Float32}\u001b[22m (Float32)\n",
       "    Dimensions:  r_calib\n",
       "    Attributes:\n",
       "     long_name            = \u001b[36mcalibrated_radar_receiver_noise_h_cross_polar_channel\u001b[39m\n",
       "     units                = \u001b[36mdBm\u001b[39m\n",
       "     meta_group           = \u001b[36mradar_calibration\u001b[39m\n",
       "     _FillValue           = \u001b[36m-9999.0\u001b[39m\n",
       "\n",
       "\u001b[32m  r_calib_noise_vx\u001b[39m   (1)\n",
       "    Datatype:    \u001b[0m\u001b[1mUnion{Missing, Float32}\u001b[22m (Float32)\n",
       "    Dimensions:  r_calib\n",
       "    Attributes:\n",
       "     long_name            = \u001b[36mcalibrated_radar_receiver_noise_v_cross_polar_channel\u001b[39m\n",
       "     units                = \u001b[36mdBm\u001b[39m\n",
       "     meta_group           = \u001b[36mradar_calibration\u001b[39m\n",
       "     _FillValue           = \u001b[36m-9999.0\u001b[39m\n",
       "\n",
       "\u001b[32m  r_calib_receiver_gain_hc\u001b[39m   (1)\n",
       "    Datatype:    \u001b[0m\u001b[1mUnion{Missing, Float32}\u001b[22m (Float32)\n",
       "    Dimensions:  r_calib\n",
       "    Attributes:\n",
       "     long_name            = \u001b[36mcalibrated_radar_receiver_gain_h_co_polar_channel\u001b[39m\n",
       "     units                = \u001b[36mdb\u001b[39m\n",
       "     meta_group           = \u001b[36mradar_calibration\u001b[39m\n",
       "     _FillValue           = \u001b[36m-9999.0\u001b[39m\n",
       "\n",
       "\u001b[32m  r_calib_receiver_gain_vc\u001b[39m   (1)\n",
       "    Datatype:    \u001b[0m\u001b[1mUnion{Missing, Float32}\u001b[22m (Float32)\n",
       "    Dimensions:  r_calib\n",
       "    Attributes:\n",
       "     long_name            = \u001b[36mcalibrated_radar_receiver_gain_v_co_polar_channel\u001b[39m\n",
       "     units                = \u001b[36mdb\u001b[39m\n",
       "     meta_group           = \u001b[36mradar_calibration\u001b[39m\n",
       "     _FillValue           = \u001b[36m-9999.0\u001b[39m\n",
       "\n",
       "\u001b[32m  r_calib_receiver_gain_hx\u001b[39m   (1)\n",
       "    Datatype:    \u001b[0m\u001b[1mUnion{Missing, Float32}\u001b[22m (Float32)\n",
       "    Dimensions:  r_calib\n",
       "    Attributes:\n",
       "     long_name            = \u001b[36mcalibrated_radar_receiver_gain_h_cross_polar_channel\u001b[39m\n",
       "     units                = \u001b[36mdb\u001b[39m\n",
       "     meta_group           = \u001b[36mradar_calibration\u001b[39m\n",
       "     _FillValue           = \u001b[36m-9999.0\u001b[39m\n",
       "\n",
       "\u001b[32m  r_calib_receiver_gain_vx\u001b[39m   (1)\n",
       "    Datatype:    \u001b[0m\u001b[1mUnion{Missing, Float32}\u001b[22m (Float32)\n",
       "    Dimensions:  r_calib\n",
       "    Attributes:\n",
       "     long_name            = \u001b[36mcalibrated_radar_receiver_gain_v_cross_polar_channel\u001b[39m\n",
       "     units                = \u001b[36mdb\u001b[39m\n",
       "     meta_group           = \u001b[36mradar_calibration\u001b[39m\n",
       "     _FillValue           = \u001b[36m-9999.0\u001b[39m\n",
       "\n",
       "\u001b[32m  r_calib_base_dbz_1km_hc\u001b[39m   (1)\n",
       "    Datatype:    \u001b[0m\u001b[1mUnion{Missing, Float32}\u001b[22m (Float32)\n",
       "    Dimensions:  r_calib\n",
       "    Attributes:\n",
       "     long_name            = \u001b[36mradar_reflectivity_at_1km_at_zero_snr_h_co_polar_channel\u001b[39m\n",
       "     units                = \u001b[36mdBZ\u001b[39m\n",
       "     meta_group           = \u001b[36mradar_calibration\u001b[39m\n",
       "     _FillValue           = \u001b[36m-9999.0\u001b[39m\n",
       "\n",
       "\u001b[32m  r_calib_base_dbz_1km_vc\u001b[39m   (1)\n",
       "    Datatype:    \u001b[0m\u001b[1mUnion{Missing, Float32}\u001b[22m (Float32)\n",
       "    Dimensions:  r_calib\n",
       "    Attributes:\n",
       "     long_name            = \u001b[36mradar_reflectivity_at_1km_at_zero_snr_v_co_polar_channel\u001b[39m\n",
       "     units                = \u001b[36mdBZ\u001b[39m\n",
       "     meta_group           = \u001b[36mradar_calibration\u001b[39m\n",
       "     _FillValue           = \u001b[36m-9999.0\u001b[39m\n",
       "\n",
       "\u001b[32m  r_calib_base_dbz_1km_hx\u001b[39m   (1)\n",
       "    Datatype:    \u001b[0m\u001b[1mUnion{Missing, Float32}\u001b[22m (Float32)\n",
       "    Dimensions:  r_calib\n",
       "    Attributes:\n",
       "     long_name            = \u001b[36mradar_reflectivity_at_1km_at_zero_snr_h_cross_polar_channel\u001b[39m\n",
       "     units                = \u001b[36mdBZ\u001b[39m\n",
       "     meta_group           = \u001b[36mradar_calibration\u001b[39m\n",
       "     _FillValue           = \u001b[36m-9999.0\u001b[39m\n",
       "\n",
       "\u001b[32m  r_calib_base_dbz_1km_vx\u001b[39m   (1)\n",
       "    Datatype:    \u001b[0m\u001b[1mUnion{Missing, Float32}\u001b[22m (Float32)\n",
       "    Dimensions:  r_calib\n",
       "    Attributes:\n",
       "     long_name            = \u001b[36mradar_reflectivity_at_1km_at_zero_snr_v_cross_polar_channel\u001b[39m\n",
       "     units                = \u001b[36mdBZ\u001b[39m\n",
       "     meta_group           = \u001b[36mradar_calibration\u001b[39m\n",
       "     _FillValue           = \u001b[36m-9999.0\u001b[39m\n",
       "\n",
       "\u001b[32m  r_calib_sun_power_hc\u001b[39m   (1)\n",
       "    Datatype:    \u001b[0m\u001b[1mUnion{Missing, Float32}\u001b[22m (Float32)\n",
       "    Dimensions:  r_calib\n",
       "    Attributes:\n",
       "     long_name            = \u001b[36mcalibrated_radar_sun_power_h_co_polar_channel\u001b[39m\n",
       "     units                = \u001b[36mdBm\u001b[39m\n",
       "     meta_group           = \u001b[36mradar_calibration\u001b[39m\n",
       "     _FillValue           = \u001b[36m-9999.0\u001b[39m\n",
       "\n",
       "\u001b[32m  r_calib_sun_power_vc\u001b[39m   (1)\n",
       "    Datatype:    \u001b[0m\u001b[1mUnion{Missing, Float32}\u001b[22m (Float32)\n",
       "    Dimensions:  r_calib\n",
       "    Attributes:\n",
       "     long_name            = \u001b[36mcalibrated_radar_sun_power_v_co_polar_channel\u001b[39m\n",
       "     units                = \u001b[36mdBm\u001b[39m\n",
       "     meta_group           = \u001b[36mradar_calibration\u001b[39m\n",
       "     _FillValue           = \u001b[36m-9999.0\u001b[39m\n",
       "\n",
       "\u001b[32m  r_calib_sun_power_hx\u001b[39m   (1)\n",
       "    Datatype:    \u001b[0m\u001b[1mUnion{Missing, Float32}\u001b[22m (Float32)\n",
       "    Dimensions:  r_calib\n",
       "    Attributes:\n",
       "     long_name            = \u001b[36mcalibrated_radar_sun_power_h_cross_polar_channel\u001b[39m\n",
       "     units                = \u001b[36mdBm\u001b[39m\n",
       "     meta_group           = \u001b[36mradar_calibration\u001b[39m\n",
       "     _FillValue           = \u001b[36m-9999.0\u001b[39m\n",
       "\n",
       "\u001b[32m  r_calib_sun_power_vx\u001b[39m   (1)\n",
       "    Datatype:    \u001b[0m\u001b[1mUnion{Missing, Float32}\u001b[22m (Float32)\n",
       "    Dimensions:  r_calib\n",
       "    Attributes:\n",
       "     long_name            = \u001b[36mcalibrated_radar_sun_power_v_cross_polar_channel\u001b[39m\n",
       "     units                = \u001b[36mdBm\u001b[39m\n",
       "     meta_group           = \u001b[36mradar_calibration\u001b[39m\n",
       "     _FillValue           = \u001b[36m-9999.0\u001b[39m\n",
       "\n",
       "\u001b[32m  r_calib_noise_source_power_h\u001b[39m   (1)\n",
       "    Datatype:    \u001b[0m\u001b[1mUnion{Missing, Float32}\u001b[22m (Float32)\n",
       "    Dimensions:  r_calib\n",
       "    Attributes:\n",
       "     long_name            = \u001b[36mradar_calibration_noise_source_power_h_channel\u001b[39m\n",
       "     units                = \u001b[36mdBm\u001b[39m\n",
       "     meta_group           = \u001b[36mradar_calibration\u001b[39m\n",
       "     _FillValue           = \u001b[36m-9999.0\u001b[39m\n",
       "\n",
       "\u001b[32m  r_calib_noise_source_power_v\u001b[39m   (1)\n",
       "    Datatype:    \u001b[0m\u001b[1mUnion{Missing, Float32}\u001b[22m (Float32)\n",
       "    Dimensions:  r_calib\n",
       "    Attributes:\n",
       "     long_name            = \u001b[36mradar_calibration_noise_source_power_v_channel\u001b[39m\n",
       "     units                = \u001b[36mdBm\u001b[39m\n",
       "     meta_group           = \u001b[36mradar_calibration\u001b[39m\n",
       "     _FillValue           = \u001b[36m-9999.0\u001b[39m\n",
       "\n",
       "\u001b[32m  r_calib_power_measure_loss_h\u001b[39m   (1)\n",
       "    Datatype:    \u001b[0m\u001b[1mUnion{Missing, Float32}\u001b[22m (Float32)\n",
       "    Dimensions:  r_calib\n",
       "    Attributes:\n",
       "     long_name            = \u001b[36mradar_calibration_power_measurement_loss_h_channel\u001b[39m\n",
       "     units                = \u001b[36mdb\u001b[39m\n",
       "     meta_group           = \u001b[36mradar_calibration\u001b[39m\n",
       "     _FillValue           = \u001b[36m-9999.0\u001b[39m\n",
       "\n",
       "\u001b[32m  r_calib_power_measure_loss_v\u001b[39m   (1)\n",
       "    Datatype:    \u001b[0m\u001b[1mUnion{Missing, Float32}\u001b[22m (Float32)\n",
       "    Dimensions:  r_calib\n",
       "    Attributes:\n",
       "     long_name            = \u001b[36mradar_calibration_power_measurement_loss_v_channel\u001b[39m\n",
       "     units                = \u001b[36mdb\u001b[39m\n",
       "     meta_group           = \u001b[36mradar_calibration\u001b[39m\n",
       "     _FillValue           = \u001b[36m-9999.0\u001b[39m\n",
       "\n",
       "\u001b[32m  r_calib_coupler_forward_loss_h\u001b[39m   (1)\n",
       "    Datatype:    \u001b[0m\u001b[1mUnion{Missing, Float32}\u001b[22m (Float32)\n",
       "    Dimensions:  r_calib\n",
       "    Attributes:\n",
       "     long_name            = \u001b[36mradar_calibration_coupler_forward_loss_h_channel\u001b[39m\n",
       "     units                = \u001b[36mdb\u001b[39m\n",
       "     meta_group           = \u001b[36mradar_calibration\u001b[39m\n",
       "     _FillValue           = \u001b[36m-9999.0\u001b[39m\n",
       "\n",
       "\u001b[32m  r_calib_coupler_forward_loss_v\u001b[39m   (1)\n",
       "    Datatype:    \u001b[0m\u001b[1mUnion{Missing, Float32}\u001b[22m (Float32)\n",
       "    Dimensions:  r_calib\n",
       "    Attributes:\n",
       "     long_name            = \u001b[36mradar_calibration_coupler_forward_loss_v_channel\u001b[39m\n",
       "     units                = \u001b[36mdb\u001b[39m\n",
       "     meta_group           = \u001b[36mradar_calibration\u001b[39m\n",
       "     _FillValue           = \u001b[36m-9999.0\u001b[39m\n",
       "\n",
       "\u001b[32m  r_calib_dbz_correction\u001b[39m   (1)\n",
       "    Datatype:    \u001b[0m\u001b[1mUnion{Missing, Float32}\u001b[22m (Float32)\n",
       "    Dimensions:  r_calib\n",
       "    Attributes:\n",
       "     long_name            = \u001b[36mcalibrated_radar_dbz_correction\u001b[39m\n",
       "     units                = \u001b[36mdb\u001b[39m\n",
       "     meta_group           = \u001b[36mradar_calibration\u001b[39m\n",
       "     _FillValue           = \u001b[36m-9999.0\u001b[39m\n",
       "\n",
       "\u001b[32m  r_calib_zdr_correction\u001b[39m   (1)\n",
       "    Datatype:    \u001b[0m\u001b[1mUnion{Missing, Float32}\u001b[22m (Float32)\n",
       "    Dimensions:  r_calib\n",
       "    Attributes:\n",
       "     long_name            = \u001b[36mcalibrated_radar_zdr_correction\u001b[39m\n",
       "     units                = \u001b[36mdb\u001b[39m\n",
       "     meta_group           = \u001b[36mradar_calibration\u001b[39m\n",
       "     _FillValue           = \u001b[36m-9999.0\u001b[39m\n",
       "\n",
       "\u001b[32m  r_calib_ldr_correction_h\u001b[39m   (1)\n",
       "    Datatype:    \u001b[0m\u001b[1mUnion{Missing, Float32}\u001b[22m (Float32)\n",
       "    Dimensions:  r_calib\n",
       "    Attributes:\n",
       "     long_name            = \u001b[36mcalibrated_radar_ldr_correction_h_channel\u001b[39m\n",
       "     units                = \u001b[36mdb\u001b[39m\n",
       "     meta_group           = \u001b[36mradar_calibration\u001b[39m\n",
       "     _FillValue           = \u001b[36m-9999.0\u001b[39m\n",
       "\n",
       "\u001b[32m  r_calib_ldr_correction_v\u001b[39m   (1)\n",
       "    Datatype:    \u001b[0m\u001b[1mUnion{Missing, Float32}\u001b[22m (Float32)\n",
       "    Dimensions:  r_calib\n",
       "    Attributes:\n",
       "     long_name            = \u001b[36mcalibrated_radar_ldr_correction_v_channel\u001b[39m\n",
       "     units                = \u001b[36mdb\u001b[39m\n",
       "     meta_group           = \u001b[36mradar_calibration\u001b[39m\n",
       "     _FillValue           = \u001b[36m-9999.0\u001b[39m\n",
       "\n",
       "\u001b[32m  r_calib_system_phidp\u001b[39m   (1)\n",
       "    Datatype:    \u001b[0m\u001b[1mUnion{Missing, Float32}\u001b[22m (Float32)\n",
       "    Dimensions:  r_calib\n",
       "    Attributes:\n",
       "     long_name            = \u001b[36mcalibrated_radar_system_phidp\u001b[39m\n",
       "     units                = \u001b[36mdegrees\u001b[39m\n",
       "     meta_group           = \u001b[36mradar_calibration\u001b[39m\n",
       "     _FillValue           = \u001b[36m-9999.0\u001b[39m\n",
       "\n",
       "\u001b[32m  r_calib_test_power_h\u001b[39m   (1)\n",
       "    Datatype:    \u001b[0m\u001b[1mUnion{Missing, Float32}\u001b[22m (Float32)\n",
       "    Dimensions:  r_calib\n",
       "    Attributes:\n",
       "     long_name            = \u001b[36mradar_calibration_test_power_h_channel\u001b[39m\n",
       "     units                = \u001b[36mdBm\u001b[39m\n",
       "     meta_group           = \u001b[36mradar_calibration\u001b[39m\n",
       "     _FillValue           = \u001b[36m-9999.0\u001b[39m\n",
       "\n",
       "\u001b[32m  r_calib_test_power_v\u001b[39m   (1)\n",
       "    Datatype:    \u001b[0m\u001b[1mUnion{Missing, Float32}\u001b[22m (Float32)\n",
       "    Dimensions:  r_calib\n",
       "    Attributes:\n",
       "     long_name            = \u001b[36mradar_calibration_test_power_v_channel\u001b[39m\n",
       "     units                = \u001b[36mdBm\u001b[39m\n",
       "     meta_group           = \u001b[36mradar_calibration\u001b[39m\n",
       "     _FillValue           = \u001b[36m-9999.0\u001b[39m\n",
       "\n",
       "\u001b[32m  r_calib_receiver_slope_hc\u001b[39m   (1)\n",
       "    Datatype:    \u001b[0m\u001b[1mUnion{Missing, Float32}\u001b[22m (Float32)\n",
       "    Dimensions:  r_calib\n",
       "    Attributes:\n",
       "     long_name            = \u001b[36mcalibrated_radar_receiver_slope_h_co_polar_channel\u001b[39m\n",
       "     units                = \n",
       "     meta_group           = \u001b[36mradar_calibration\u001b[39m\n",
       "     _FillValue           = \u001b[36m-9999.0\u001b[39m\n",
       "\n",
       "\u001b[32m  r_calib_receiver_slope_vc\u001b[39m   (1)\n",
       "    Datatype:    \u001b[0m\u001b[1mUnion{Missing, Float32}\u001b[22m (Float32)\n",
       "    Dimensions:  r_calib\n",
       "    Attributes:\n",
       "     long_name            = \u001b[36mcalibrated_radar_receiver_slope_v_co_polar_channel\u001b[39m\n",
       "     units                = \n",
       "     meta_group           = \u001b[36mradar_calibration\u001b[39m\n",
       "     _FillValue           = \u001b[36m-9999.0\u001b[39m\n",
       "\n",
       "\u001b[32m  r_calib_receiver_slope_hx\u001b[39m   (1)\n",
       "    Datatype:    \u001b[0m\u001b[1mUnion{Missing, Float32}\u001b[22m (Float32)\n",
       "    Dimensions:  r_calib\n",
       "    Attributes:\n",
       "     long_name            = \u001b[36mcalibrated_radar_receiver_slope_h_cross_polar_channel\u001b[39m\n",
       "     units                = \n",
       "     meta_group           = \u001b[36mradar_calibration\u001b[39m\n",
       "     _FillValue           = \u001b[36m-9999.0\u001b[39m\n",
       "\n",
       "\u001b[32m  r_calib_receiver_slope_vx\u001b[39m   (1)\n",
       "    Datatype:    \u001b[0m\u001b[1mUnion{Missing, Float32}\u001b[22m (Float32)\n",
       "    Dimensions:  r_calib\n",
       "    Attributes:\n",
       "     long_name            = \u001b[36mcalibrated_radar_receiver_slope_v_cross_polar_channel\u001b[39m\n",
       "     units                = \n",
       "     meta_group           = \u001b[36mradar_calibration\u001b[39m\n",
       "     _FillValue           = \u001b[36m-9999.0\u001b[39m\n",
       "\n",
       "\u001b[32m  time\u001b[39m   (221)\n",
       "    Datatype:    \u001b[0m\u001b[1mDates.DateTime\u001b[22m (Float64)\n",
       "    Dimensions:  time\n",
       "    Attributes:\n",
       "     standard_name        = \u001b[36mtime\u001b[39m\n",
       "     long_name            = \u001b[36mtime in seconds since volume start\u001b[39m\n",
       "     calendar             = \u001b[36mgregorian\u001b[39m\n",
       "     units                = \u001b[36mseconds since 1995-05-16T22:25:57Z\u001b[39m\n",
       "     comment              = \u001b[36mtimes are relative to the volume start_time\u001b[39m\n",
       "\n",
       "\u001b[32m  range\u001b[39m   (384)\n",
       "    Datatype:    \u001b[0m\u001b[1mFloat32\u001b[22m (Float32)\n",
       "    Dimensions:  range\n",
       "    Attributes:\n",
       "     long_name            = \u001b[36mRange from instrument to center of gate\u001b[39m\n",
       "     units                = \u001b[36mmeters\u001b[39m\n",
       "     spacing_is_constant  = \u001b[36mtrue\u001b[39m\n",
       "     meters_to_center_of_first_gate = \u001b[36m0.0\u001b[39m\n",
       "     meters_between_gates = \u001b[36m150.00000596046448\u001b[39m\n",
       "\n",
       "\u001b[32m  ray_start_range\u001b[39m   (221)\n",
       "    Datatype:    \u001b[0m\u001b[1mUnion{Missing, Float32}\u001b[22m (Float32)\n",
       "    Dimensions:  time\n",
       "    Attributes:\n",
       "     long_name            = \u001b[36mstart_range_for_ray\u001b[39m\n",
       "     units                = \u001b[36mmeters\u001b[39m\n",
       "     _FillValue           = \u001b[36m-9999.0\u001b[39m\n",
       "\n",
       "\u001b[32m  ray_gate_spacing\u001b[39m   (221)\n",
       "    Datatype:    \u001b[0m\u001b[1mUnion{Missing, Float32}\u001b[22m (Float32)\n",
       "    Dimensions:  time\n",
       "    Attributes:\n",
       "     long_name            = \u001b[36mgate_spacing_for_ray\u001b[39m\n",
       "     units                = \u001b[36mmeters\u001b[39m\n",
       "     _FillValue           = \u001b[36m-9999.0\u001b[39m\n",
       "\n",
       "\u001b[32m  azimuth\u001b[39m   (221)\n",
       "    Datatype:    \u001b[0m\u001b[1mUnion{Missing, Float32}\u001b[22m (Float32)\n",
       "    Dimensions:  time\n",
       "    Attributes:\n",
       "     long_name            = \u001b[36mray_azimuth_angle\u001b[39m\n",
       "     units                = \u001b[36mdegrees\u001b[39m\n",
       "     _FillValue           = \u001b[36m-9999.0\u001b[39m\n",
       "\n",
       "\u001b[32m  elevation\u001b[39m   (221)\n",
       "    Datatype:    \u001b[0m\u001b[1mUnion{Missing, Float32}\u001b[22m (Float32)\n",
       "    Dimensions:  time\n",
       "    Attributes:\n",
       "     long_name            = \u001b[36mray_elevation_angle\u001b[39m\n",
       "     units                = \u001b[36mdegrees\u001b[39m\n",
       "     _FillValue           = \u001b[36m-9999.0\u001b[39m\n",
       "     positive             = \u001b[36mup\u001b[39m\n",
       "\n",
       "\u001b[32m  pulse_width\u001b[39m   (221)\n",
       "    Datatype:    \u001b[0m\u001b[1mUnion{Missing, Float32}\u001b[22m (Float32)\n",
       "    Dimensions:  time\n",
       "    Attributes:\n",
       "     long_name            = \u001b[36mtransmitter_pulse_width\u001b[39m\n",
       "     units                = \u001b[36mseconds\u001b[39m\n",
       "     _FillValue           = \u001b[36m-9999.0\u001b[39m\n",
       "     meta_group           = \u001b[36minstrument_parameters\u001b[39m\n",
       "\n",
       "\u001b[32m  prt\u001b[39m   (221)\n",
       "    Datatype:    \u001b[0m\u001b[1mUnion{Missing, Float32}\u001b[22m (Float32)\n",
       "    Dimensions:  time\n",
       "    Attributes:\n",
       "     long_name            = \u001b[36mpulse_repetition_time\u001b[39m\n",
       "     units                = \u001b[36mseconds\u001b[39m\n",
       "     _FillValue           = \u001b[36m-9999.0\u001b[39m\n",
       "     meta_group           = \u001b[36minstrument_parameters\u001b[39m\n",
       "\n",
       "\u001b[32m  prt_ratio\u001b[39m   (221)\n",
       "    Datatype:    \u001b[0m\u001b[1mUnion{Missing, Float32}\u001b[22m (Float32)\n",
       "    Dimensions:  time\n",
       "    Attributes:\n",
       "     long_name            = \u001b[36mpulse_repetition_frequency_ratio\u001b[39m\n",
       "     units                = \u001b[36mseconds\u001b[39m\n",
       "     _FillValue           = \u001b[36m-9999.0\u001b[39m\n",
       "     meta_group           = \u001b[36minstrument_parameters\u001b[39m\n",
       "\n",
       "\u001b[32m  nyquist_velocity\u001b[39m   (221)\n",
       "    Datatype:    \u001b[0m\u001b[1mUnion{Missing, Float32}\u001b[22m (Float32)\n",
       "    Dimensions:  time\n",
       "    Attributes:\n",
       "     long_name            = \u001b[36munambiguous_doppler_velocity\u001b[39m\n",
       "     units                = \u001b[36mmeters per second\u001b[39m\n",
       "     _FillValue           = \u001b[36m-9999.0\u001b[39m\n",
       "     meta_group           = \u001b[36minstrument_parameters\u001b[39m\n",
       "\n",
       "\u001b[32m  unambiguous_range\u001b[39m   (221)\n",
       "    Datatype:    \u001b[0m\u001b[1mUnion{Missing, Float32}\u001b[22m (Float32)\n",
       "    Dimensions:  time\n",
       "    Attributes:\n",
       "     long_name            = \u001b[36munambiguous_range\u001b[39m\n",
       "     units                = \u001b[36mmeters\u001b[39m\n",
       "     _FillValue           = \u001b[36m-9999.0\u001b[39m\n",
       "     meta_group           = \u001b[36minstrument_parameters\u001b[39m\n",
       "\n",
       "\u001b[32m  antenna_transition\u001b[39m   (221)\n",
       "    Datatype:    \u001b[0m\u001b[1mUnion{Missing, Int8}\u001b[22m (Int8)\n",
       "    Dimensions:  time\n",
       "    Attributes:\n",
       "     long_name            = \u001b[36mantenna_is_in_transition_between_sweeps\u001b[39m\n",
       "     units                = \n",
       "     _FillValue           = \u001b[36m-128\u001b[39m\n",
       "     comment              = \u001b[36m1 if antenna is in transition, 0 otherwise\u001b[39m\n",
       "\n",
       "\u001b[32m  georefs_applied\u001b[39m   (221)\n",
       "    Datatype:    \u001b[0m\u001b[1mUnion{Missing, Int8}\u001b[22m (Int8)\n",
       "    Dimensions:  time\n",
       "    Attributes:\n",
       "     long_name            = \u001b[36mgeorefs_have_been_applied_to_ray\u001b[39m\n",
       "     units                = \n",
       "     _FillValue           = \u001b[36m-128\u001b[39m\n",
       "     comment              = \u001b[36m1 if georefs have been applied, 0 otherwise\u001b[39m\n",
       "\n",
       "\u001b[32m  n_samples\u001b[39m   (221)\n",
       "    Datatype:    \u001b[0m\u001b[1mUnion{Missing, Int32}\u001b[22m (Int32)\n",
       "    Dimensions:  time\n",
       "    Attributes:\n",
       "     long_name            = \u001b[36mnumber_of_samples_used_to_compute_moments\u001b[39m\n",
       "     units                = \n",
       "     _FillValue           = \u001b[36m-9999\u001b[39m\n",
       "     meta_group           = \u001b[36minstrument_parameters\u001b[39m\n",
       "\n",
       "\u001b[32m  r_calib_index\u001b[39m   (221)\n",
       "    Datatype:    \u001b[0m\u001b[1mUnion{Missing, Int32}\u001b[22m (Int32)\n",
       "    Dimensions:  time\n",
       "    Attributes:\n",
       "     long_name            = \u001b[36mcalibration_data_array_index_per_ray\u001b[39m\n",
       "     units                = \n",
       "     _FillValue           = \u001b[36m-9999\u001b[39m\n",
       "     meta_group           = \u001b[36mradar_calibration\u001b[39m\n",
       "     comment              = \u001b[36mThis is the index for the calibration which applies to this ray\u001b[39m\n",
       "\n",
       "\u001b[32m  measured_transmit_power_h\u001b[39m   (221)\n",
       "    Datatype:    \u001b[0m\u001b[1mUnion{Missing, Float32}\u001b[22m (Float32)\n",
       "    Dimensions:  time\n",
       "    Attributes:\n",
       "     long_name            = \u001b[36mmeasured_radar_transmit_power_h_channel\u001b[39m\n",
       "     units                = \u001b[36mdBm\u001b[39m\n",
       "     _FillValue           = \u001b[36m-9999.0\u001b[39m\n",
       "     meta_group           = \u001b[36mradar_parameters\u001b[39m\n",
       "\n",
       "\u001b[32m  measured_transmit_power_v\u001b[39m   (221)\n",
       "    Datatype:    \u001b[0m\u001b[1mUnion{Missing, Float32}\u001b[22m (Float32)\n",
       "    Dimensions:  time\n",
       "    Attributes:\n",
       "     long_name            = \u001b[36mmeasured_radar_transmit_power_v_channel\u001b[39m\n",
       "     units                = \u001b[36mdBm\u001b[39m\n",
       "     _FillValue           = \u001b[36m-9999.0\u001b[39m\n",
       "     meta_group           = \u001b[36mradar_parameters\u001b[39m\n",
       "\n",
       "\u001b[32m  scan_rate\u001b[39m   (221)\n",
       "    Datatype:    \u001b[0m\u001b[1mUnion{Missing, Float32}\u001b[22m (Float32)\n",
       "    Dimensions:  time\n",
       "    Attributes:\n",
       "     long_name            = \u001b[36mantenna_angle_scan_rate\u001b[39m\n",
       "     units                = \u001b[36mdegrees per second\u001b[39m\n",
       "     _FillValue           = \u001b[36m-9999.0\u001b[39m\n",
       "     meta_group           = \u001b[36minstrument_parameters\u001b[39m\n",
       "\n",
       "\u001b[32m  georef_time\u001b[39m   (221)\n",
       "    Datatype:    \u001b[0m\u001b[1mUnion{Missing, Float64}\u001b[22m (Float64)\n",
       "    Dimensions:  time\n",
       "    Attributes:\n",
       "     long_name            = \u001b[36mgeoref time in seconds since volume start\u001b[39m\n",
       "     units                = \u001b[36mseconds\u001b[39m\n",
       "     _FillValue           = \u001b[36m-9999.0\u001b[39m\n",
       "\n",
       "\u001b[32m  georef_unit_num\u001b[39m   (221)\n",
       "    Datatype:    \u001b[0m\u001b[1mUnion{Missing, Int32}\u001b[22m (Int32)\n",
       "    Dimensions:  time\n",
       "    Attributes:\n",
       "     long_name            = \u001b[36mgeoref hardware unit number\u001b[39m\n",
       "     units                = \n",
       "     _FillValue           = \u001b[36m-9999\u001b[39m\n",
       "\n",
       "\u001b[32m  georef_unit_id\u001b[39m   (221)\n",
       "    Datatype:    \u001b[0m\u001b[1mUnion{Missing, Int32}\u001b[22m (Int32)\n",
       "    Dimensions:  time\n",
       "    Attributes:\n",
       "     long_name            = \u001b[36mgeoref hardware id or serial number\u001b[39m\n",
       "     units                = \n",
       "     _FillValue           = \u001b[36m-9999\u001b[39m\n",
       "\n",
       "\u001b[32m  latitude\u001b[39m   (221)\n",
       "    Datatype:    \u001b[0m\u001b[1mUnion{Missing, Float64}\u001b[22m (Float64)\n",
       "    Dimensions:  time\n",
       "    Attributes:\n",
       "     long_name            = \u001b[36mlatitude\u001b[39m\n",
       "     units                = \u001b[36mdegrees_north\u001b[39m\n",
       "     _FillValue           = \u001b[36m-9999.0\u001b[39m\n",
       "\n",
       "\u001b[32m  longitude\u001b[39m   (221)\n",
       "    Datatype:    \u001b[0m\u001b[1mUnion{Missing, Float64}\u001b[22m (Float64)\n",
       "    Dimensions:  time\n",
       "    Attributes:\n",
       "     long_name            = \u001b[36mlongitude\u001b[39m\n",
       "     units                = \u001b[36mdegrees_east\u001b[39m\n",
       "     _FillValue           = \u001b[36m-9999.0\u001b[39m\n",
       "\n",
       "\u001b[32m  altitude\u001b[39m   (221)\n",
       "    Datatype:    \u001b[0m\u001b[1mUnion{Missing, Float64}\u001b[22m (Float64)\n",
       "    Dimensions:  time\n",
       "    Attributes:\n",
       "     long_name            = \u001b[36maltitude\u001b[39m\n",
       "     units                = \u001b[36mmeters\u001b[39m\n",
       "     _FillValue           = \u001b[36m-9999.0\u001b[39m\n",
       "     positive             = \u001b[36mup\u001b[39m\n",
       "\n",
       "\u001b[32m  altitude_agl\u001b[39m   (221)\n",
       "    Datatype:    \u001b[0m\u001b[1mUnion{Missing, Float64}\u001b[22m (Float64)\n",
       "    Dimensions:  time\n",
       "    Attributes:\n",
       "     long_name            = \u001b[36maltitude_above_ground_level\u001b[39m\n",
       "     units                = \u001b[36mmeters\u001b[39m\n",
       "     _FillValue           = \u001b[36m-9999.0\u001b[39m\n",
       "     positive             = \u001b[36mup\u001b[39m\n",
       "\n",
       "\u001b[32m  heading\u001b[39m   (221)\n",
       "    Datatype:    \u001b[0m\u001b[1mUnion{Missing, Float32}\u001b[22m (Float32)\n",
       "    Dimensions:  time\n",
       "    Attributes:\n",
       "     long_name            = \u001b[36mplatform_heading_angle\u001b[39m\n",
       "     units                = \u001b[36mdegrees\u001b[39m\n",
       "     _FillValue           = \u001b[36m-9999.0\u001b[39m\n",
       "\n",
       "\u001b[32m  roll\u001b[39m   (221)\n",
       "    Datatype:    \u001b[0m\u001b[1mUnion{Missing, Float32}\u001b[22m (Float32)\n",
       "    Dimensions:  time\n",
       "    Attributes:\n",
       "     long_name            = \u001b[36mplatform_roll_angle\u001b[39m\n",
       "     units                = \u001b[36mdegrees\u001b[39m\n",
       "     _FillValue           = \u001b[36m-9999.0\u001b[39m\n",
       "\n",
       "\u001b[32m  pitch\u001b[39m   (221)\n",
       "    Datatype:    \u001b[0m\u001b[1mUnion{Missing, Float32}\u001b[22m (Float32)\n",
       "    Dimensions:  time\n",
       "    Attributes:\n",
       "     long_name            = \u001b[36mplatform_pitch_angle\u001b[39m\n",
       "     units                = \u001b[36mdegrees\u001b[39m\n",
       "     _FillValue           = \u001b[36m-9999.0\u001b[39m\n",
       "\n",
       "\u001b[32m  drift\u001b[39m   (221)\n",
       "    Datatype:    \u001b[0m\u001b[1mUnion{Missing, Float32}\u001b[22m (Float32)\n",
       "    Dimensions:  time\n",
       "    Attributes:\n",
       "     long_name            = \u001b[36mplatform_drift_angle\u001b[39m\n",
       "     units                = \u001b[36mdegrees\u001b[39m\n",
       "     _FillValue           = \u001b[36m-9999.0\u001b[39m\n",
       "\n",
       "\u001b[32m  rotation\u001b[39m   (221)\n",
       "    Datatype:    \u001b[0m\u001b[1mUnion{Missing, Float32}\u001b[22m (Float32)\n",
       "    Dimensions:  time\n",
       "    Attributes:\n",
       "     long_name            = \u001b[36mray_rotation_angle_relative_to_platform\u001b[39m\n",
       "     units                = \u001b[36mdegrees\u001b[39m\n",
       "     _FillValue           = \u001b[36m-9999.0\u001b[39m\n",
       "\n",
       "\u001b[32m  tilt\u001b[39m   (221)\n",
       "    Datatype:    \u001b[0m\u001b[1mUnion{Missing, Float32}\u001b[22m (Float32)\n",
       "    Dimensions:  time\n",
       "    Attributes:\n",
       "     long_name            = \u001b[36mray_tilt_angle_relative_to_platform\u001b[39m\n",
       "     units                = \u001b[36mdegrees\u001b[39m\n",
       "     _FillValue           = \u001b[36m-9999.0\u001b[39m\n",
       "\n",
       "\u001b[32m  eastward_velocity\u001b[39m   (221)\n",
       "    Datatype:    \u001b[0m\u001b[1mUnion{Missing, Float32}\u001b[22m (Float32)\n",
       "    Dimensions:  time\n",
       "    Attributes:\n",
       "     long_name            = \u001b[36mplatform_eastward_velocity\u001b[39m\n",
       "     units                = \u001b[36mmeters per second\u001b[39m\n",
       "     _FillValue           = \u001b[36m-9999.0\u001b[39m\n",
       "     meta_group           = \u001b[36mplatform_velocity\u001b[39m\n",
       "\n",
       "\u001b[32m  northward_velocity\u001b[39m   (221)\n",
       "    Datatype:    \u001b[0m\u001b[1mUnion{Missing, Float32}\u001b[22m (Float32)\n",
       "    Dimensions:  time\n",
       "    Attributes:\n",
       "     long_name            = \u001b[36mplatform_northward_velocity\u001b[39m\n",
       "     units                = \u001b[36mmeters per second\u001b[39m\n",
       "     _FillValue           = \u001b[36m-9999.0\u001b[39m\n",
       "     meta_group           = \u001b[36mplatform_velocity\u001b[39m\n",
       "\n",
       "\u001b[32m  vertical_velocity\u001b[39m   (221)\n",
       "    Datatype:    \u001b[0m\u001b[1mUnion{Missing, Float32}\u001b[22m (Float32)\n",
       "    Dimensions:  time\n",
       "    Attributes:\n",
       "     long_name            = \u001b[36mplatform_vertical_velocity\u001b[39m\n",
       "     units                = \u001b[36mmeters per second\u001b[39m\n",
       "     _FillValue           = \u001b[36m-9999.0\u001b[39m\n",
       "     meta_group           = \u001b[36mplatform_velocity\u001b[39m\n",
       "\n",
       "\u001b[32m  eastward_wind\u001b[39m   (221)\n",
       "    Datatype:    \u001b[0m\u001b[1mUnion{Missing, Float32}\u001b[22m (Float32)\n",
       "    Dimensions:  time\n",
       "    Attributes:\n",
       "     long_name            = \u001b[36meastward_wind_speed\u001b[39m\n",
       "     units                = \u001b[36mmeters per second\u001b[39m\n",
       "     _FillValue           = \u001b[36m-9999.0\u001b[39m\n",
       "     meta_group           = \u001b[36mplatform_velocity\u001b[39m\n",
       "\n",
       "\u001b[32m  northward_wind\u001b[39m   (221)\n",
       "    Datatype:    \u001b[0m\u001b[1mUnion{Missing, Float32}\u001b[22m (Float32)\n",
       "    Dimensions:  time\n",
       "    Attributes:\n",
       "     long_name            = \u001b[36mnorthward_wind\u001b[39m\n",
       "     units                = \u001b[36mmeters per second\u001b[39m\n",
       "     _FillValue           = \u001b[36m-9999.0\u001b[39m\n",
       "     meta_group           = \u001b[36mplatform_velocity\u001b[39m\n",
       "\n",
       "\u001b[32m  vertical_wind\u001b[39m   (221)\n",
       "    Datatype:    \u001b[0m\u001b[1mUnion{Missing, Float32}\u001b[22m (Float32)\n",
       "    Dimensions:  time\n",
       "    Attributes:\n",
       "     long_name            = \u001b[36mupward_air_velocity\u001b[39m\n",
       "     units                = \u001b[36mmeters per second\u001b[39m\n",
       "     _FillValue           = \u001b[36m-9999.0\u001b[39m\n",
       "     meta_group           = \u001b[36mplatform_velocity\u001b[39m\n",
       "\n",
       "\u001b[32m  heading_change_rate\u001b[39m   (221)\n",
       "    Datatype:    \u001b[0m\u001b[1mUnion{Missing, Float32}\u001b[22m (Float32)\n",
       "    Dimensions:  time\n",
       "    Attributes:\n",
       "     long_name            = \u001b[36mplatform_heading_angle_rate_of_change\u001b[39m\n",
       "     units                = \u001b[36mdegrees per second\u001b[39m\n",
       "     _FillValue           = \u001b[36m-9999.0\u001b[39m\n",
       "     meta_group           = \u001b[36mplatform_velocity\u001b[39m\n",
       "\n",
       "\u001b[32m  pitch_change_rate\u001b[39m   (221)\n",
       "    Datatype:    \u001b[0m\u001b[1mUnion{Missing, Float32}\u001b[22m (Float32)\n",
       "    Dimensions:  time\n",
       "    Attributes:\n",
       "     long_name            = \u001b[36mplatform_pitch_angle_rate_of_change\u001b[39m\n",
       "     units                = \u001b[36mdegrees per second\u001b[39m\n",
       "     _FillValue           = \u001b[36m-9999.0\u001b[39m\n",
       "     meta_group           = \u001b[36mplatform_velocity\u001b[39m\n",
       "\n",
       "\u001b[32m  VS\u001b[39m   (384 × 221)\n",
       "    Datatype:    \u001b[0m\u001b[1mUnion{Missing, Float32}\u001b[22m (Int16)\n",
       "    Dimensions:  range × time\n",
       "    Attributes:\n",
       "     long_name            = \u001b[36mRadial Velocity, Short PRT\u001b[39m\n",
       "     units                = \u001b[36mm/s\u001b[39m\n",
       "     sampling_ratio       = \u001b[36m0.5\u001b[39m\n",
       "     _FillValue           = \u001b[36m-32768\u001b[39m\n",
       "     scale_factor         = \u001b[36m0.01\u001b[39m\n",
       "     add_offset           = \u001b[36m-0.0\u001b[39m\n",
       "     grid_mapping         = \u001b[36mgrid_mapping\u001b[39m\n",
       "     coordinates          = \u001b[36mtime range\u001b[39m\n",
       "\n",
       "\u001b[32m  VL\u001b[39m   (384 × 221)\n",
       "    Datatype:    \u001b[0m\u001b[1mUnion{Missing, Float32}\u001b[22m (Int16)\n",
       "    Dimensions:  range × time\n",
       "    Attributes:\n",
       "     long_name            = \u001b[36mRadial Velocity, Long PRT\u001b[39m\n",
       "     units                = \u001b[36mm/s\u001b[39m\n",
       "     sampling_ratio       = \u001b[36m0.5\u001b[39m\n",
       "     _FillValue           = \u001b[36m-32768\u001b[39m\n",
       "     scale_factor         = \u001b[36m0.01\u001b[39m\n",
       "     add_offset           = \u001b[36m-0.0\u001b[39m\n",
       "     grid_mapping         = \u001b[36mgrid_mapping\u001b[39m\n",
       "     coordinates          = \u001b[36mtime range\u001b[39m\n",
       "\n",
       "\u001b[32m  SW\u001b[39m   (384 × 221)\n",
       "    Datatype:    \u001b[0m\u001b[1mUnion{Missing, Float32}\u001b[22m (Int16)\n",
       "    Dimensions:  range × time\n",
       "    Attributes:\n",
       "     long_name            = \u001b[36mSpectral Width, Combined\u001b[39m\n",
       "     units                = \u001b[36mm/s\u001b[39m\n",
       "     sampling_ratio       = \u001b[36m1.0\u001b[39m\n",
       "     _FillValue           = \u001b[36m-32768\u001b[39m\n",
       "     scale_factor         = \u001b[36m0.01\u001b[39m\n",
       "     add_offset           = \u001b[36m-0.0\u001b[39m\n",
       "     grid_mapping         = \u001b[36mgrid_mapping\u001b[39m\n",
       "     coordinates          = \u001b[36mtime range\u001b[39m\n",
       "\n",
       "\u001b[32m  VR\u001b[39m   (384 × 221)\n",
       "    Datatype:    \u001b[0m\u001b[1mUnion{Missing, Float32}\u001b[22m (Int16)\n",
       "    Dimensions:  range × time\n",
       "    Attributes:\n",
       "     long_name            = \u001b[36mRadial Velocity, Combined\u001b[39m\n",
       "     units                = \u001b[36mm/s\u001b[39m\n",
       "     sampling_ratio       = \u001b[36m1.0\u001b[39m\n",
       "     _FillValue           = \u001b[36m-32768\u001b[39m\n",
       "     scale_factor         = \u001b[36m0.01\u001b[39m\n",
       "     add_offset           = \u001b[36m-0.0\u001b[39m\n",
       "     grid_mapping         = \u001b[36mgrid_mapping\u001b[39m\n",
       "     coordinates          = \u001b[36mtime range\u001b[39m\n",
       "\n",
       "\u001b[32m  NCP\u001b[39m   (384 × 221)\n",
       "    Datatype:    \u001b[0m\u001b[1mUnion{Missing, Float32}\u001b[22m (Int16)\n",
       "    Dimensions:  range × time\n",
       "    Attributes:\n",
       "     long_name            = \u001b[36mNormalized Coherent Power, Combined\u001b[39m\n",
       "     units                = \u001b[36mnone\u001b[39m\n",
       "     sampling_ratio       = \u001b[36m1.0\u001b[39m\n",
       "     _FillValue           = \u001b[36m-32768\u001b[39m\n",
       "     scale_factor         = \u001b[36m0.01\u001b[39m\n",
       "     add_offset           = \u001b[36m-0.0\u001b[39m\n",
       "     grid_mapping         = \u001b[36mgrid_mapping\u001b[39m\n",
       "     coordinates          = \u001b[36mtime range\u001b[39m\n",
       "\n",
       "\u001b[32m  DBZ\u001b[39m   (384 × 221)\n",
       "    Datatype:    \u001b[0m\u001b[1mUnion{Missing, Float32}\u001b[22m (Int16)\n",
       "    Dimensions:  range × time\n",
       "    Attributes:\n",
       "     long_name            = \u001b[36mRadar Reflectivity Factor, Combined\u001b[39m\n",
       "     units                = \u001b[36mdBZ\u001b[39m\n",
       "     sampling_ratio       = \u001b[36m1.0\u001b[39m\n",
       "     _FillValue           = \u001b[36m-32768\u001b[39m\n",
       "     scale_factor         = \u001b[36m0.01\u001b[39m\n",
       "     add_offset           = \u001b[36m-0.0\u001b[39m\n",
       "     grid_mapping         = \u001b[36mgrid_mapping\u001b[39m\n",
       "     coordinates          = \u001b[36mtime range\u001b[39m\n",
       "\n",
       "\u001b[32m  VT\u001b[39m   (384 × 221)\n",
       "    Datatype:    \u001b[0m\u001b[1mUnion{Missing, Float32}\u001b[22m (Int16)\n",
       "    Dimensions:  range × time\n",
       "    Attributes:\n",
       "     long_name            = \u001b[36mRadial Velocity, Combined\u001b[39m\n",
       "     units                = \u001b[36mm/s\u001b[39m\n",
       "     sampling_ratio       = \u001b[36m1.0\u001b[39m\n",
       "     _FillValue           = \u001b[36m-32768\u001b[39m\n",
       "     scale_factor         = \u001b[36m0.01\u001b[39m\n",
       "     add_offset           = \u001b[36m-0.0\u001b[39m\n",
       "     grid_mapping         = \u001b[36mgrid_mapping\u001b[39m\n",
       "     coordinates          = \u001b[36mtime range\u001b[39m\n",
       "\n",
       "\u001b[32m  VH\u001b[39m   (384 × 221)\n",
       "    Datatype:    \u001b[0m\u001b[1mUnion{Missing, Float32}\u001b[22m (Int16)\n",
       "    Dimensions:  range × time\n",
       "    Attributes:\n",
       "     long_name            = \u001b[36mRadial Velocity, Combined\u001b[39m\n",
       "     units                = \u001b[36mm/s\u001b[39m\n",
       "     sampling_ratio       = \u001b[36m1.0\u001b[39m\n",
       "     _FillValue           = \u001b[36m-32768\u001b[39m\n",
       "     scale_factor         = \u001b[36m0.01\u001b[39m\n",
       "     add_offset           = \u001b[36m-0.0\u001b[39m\n",
       "     grid_mapping         = \u001b[36mgrid_mapping\u001b[39m\n",
       "     coordinates          = \u001b[36mtime range\u001b[39m\n",
       "\n",
       "\u001b[32m  VG\u001b[39m   (384 × 221)\n",
       "    Datatype:    \u001b[0m\u001b[1mUnion{Missing, Float32}\u001b[22m (Int16)\n",
       "    Dimensions:  range × time\n",
       "    Attributes:\n",
       "     long_name            = \u001b[36mRadial Velocity, Combined\u001b[39m\n",
       "     units                = \u001b[36mm/s\u001b[39m\n",
       "     sampling_ratio       = \u001b[36m1.0\u001b[39m\n",
       "     _FillValue           = \u001b[36m-32768\u001b[39m\n",
       "     scale_factor         = \u001b[36m0.01\u001b[39m\n",
       "     add_offset           = \u001b[36m-0.0\u001b[39m\n",
       "     grid_mapping         = \u001b[36mgrid_mapping\u001b[39m\n",
       "     coordinates          = \u001b[36mtime range\u001b[39m\n",
       "\n",
       "\u001b[32m  VV\u001b[39m   (384 × 221)\n",
       "    Datatype:    \u001b[0m\u001b[1mUnion{Missing, Float32}\u001b[22m (Int16)\n",
       "    Dimensions:  range × time\n",
       "    Attributes:\n",
       "     long_name            = \u001b[36mRadial Velocity, Combined\u001b[39m\n",
       "     units                = \u001b[36mm/s\u001b[39m\n",
       "     sampling_ratio       = \u001b[36m1.0\u001b[39m\n",
       "     _FillValue           = \u001b[36m-32768\u001b[39m\n",
       "     scale_factor         = \u001b[36m0.01\u001b[39m\n",
       "     add_offset           = \u001b[36m-0.0\u001b[39m\n",
       "     grid_mapping         = \u001b[36mgrid_mapping\u001b[39m\n",
       "     coordinates          = \u001b[36mtime range\u001b[39m\n",
       "\n",
       "\u001b[32m  ZZ\u001b[39m   (384 × 221)\n",
       "    Datatype:    \u001b[0m\u001b[1mUnion{Missing, Float32}\u001b[22m (Int16)\n",
       "    Dimensions:  range × time\n",
       "    Attributes:\n",
       "     long_name            = \u001b[36mRadar Reflectivity Factor, Combined\u001b[39m\n",
       "     units                = \u001b[36mdBZ\u001b[39m\n",
       "     sampling_ratio       = \u001b[36m1.0\u001b[39m\n",
       "     _FillValue           = \u001b[36m-32768\u001b[39m\n",
       "     scale_factor         = \u001b[36m0.01\u001b[39m\n",
       "     add_offset           = \u001b[36m-0.0\u001b[39m\n",
       "     grid_mapping         = \u001b[36mgrid_mapping\u001b[39m\n",
       "     coordinates          = \u001b[36mtime range\u001b[39m\n",
       "\n",
       "\u001b[31mGlobal attributes\u001b[39m\n",
       "  Conventions          = \u001b[36mCF-1.6\u001b[39m\n",
       "  Sub_conventions      = \u001b[36mCF-Radial instrument_parameters radar_parameters radar_calibration platform_velocity geometry_correction\u001b[39m\n",
       "  version              = \u001b[36mCF-Radial-1.3\u001b[39m\n",
       "  title                = \u001b[36mVORTEX\u001b[39m\n",
       "  institution          = \n",
       "  references           = \u001b[36mr8\u001b[39m\n",
       "  source               = \u001b[36mNCAR/ATD\u001b[39m\n",
       "  history              = \u001b[36m!   time-now 11/21/95 08:44:57.000 GMT\u001b[39m\n",
       "\u001b[36m    sweep-directory \"/data4/chliu/swp0/\"\u001b[39m\n",
       "\u001b[36m    radar-names TF-ELDR\u001b[39m\n",
       "\u001b[36m    first-sweep 05/16/95:22:19:44.169\u001b[39m\n",
       "\u001b[36m    last-sweep 05/16/95:22:25:57.623\u001b[39m\n",
       "\u001b[36m    version last\u001b[39m\n",
       "\u001b[36mno-new-version\u001b[39m\n",
       "\u001b[36m    optimal-beamwidth is 0.1 degrees\u001b[39m\n",
       "\u001b[36m    a-speckle is 1 gates\u001b[39m\n",
       "\u001b[36m    freckle-average is 7 gates\u001b[39m\n",
       "\u001b[36m    freckle-threshold is 24\u001b[39m\n",
       "\u001b[36m!\u001b[39m\n",
       "\u001b[36m! for-each-ray (put one-time cmds before this line)\u001b[39m\n",
       "\u001b[36m!\u001b[39m\n",
       "\u001b[36m    dont-use-boundary\u001b[39m\n",
       "\u001b[36m    fix-vortex-velocities in VG\u001b[39m\n",
       "\u001b[36m    remove-aircraft-motion in VG\u001b[39m\n",
       "\u001b[36m    copy VG to VV\u001b[39m\n",
       "\u001b[36m    copy DBZ to ZZ\u001b[39m\n",
       "\u001b[36m    threshold VG on NCP below 0.18\u001b[39m\n",
       "\u001b[36m    despeckle VG\u001b[39m\n",
       "\u001b[36m    threshold VG on NCP below 0.23\u001b[39m\n",
       "\u001b[36m    clear-bad-flags\u001b[39m\n",
       "\u001b[36m    flag-freckles in VG\u001b[39m\n",
       "\u001b[36m    assert-bad-flags in VG\u001b[39m\n",
       "\u001b[36m    remove-surface in VG\u001b[39m\n",
       "\u001b[36m    !    copy ZZ to DBZ\u001b[39m\n",
       "\u001b[36m    threshold DBZ on VG below -200\u001b[39m\n",
       "\u001b[36m    !    ignore-field GG\u001b[39m\n",
       "\u001b[36m    !    ignore-field HH\u001b[39m\n",
       "\u001b[36mpass-through-data\u001b[39m\n",
       "\u001b[36m \u001b[39m\n",
       "\u001b[36m!   time-now 11/24/95 00:16:35.000 GMT\u001b[39m\n",
       "\u001b[36m    sweep-directory \"/data4/chq/swp0/\"\u001b[39m\n",
       "\u001b[36m    radar-names TF-ELDR\u001b[39m\n",
       "\u001b[36m    first-sweep 05/16/95:22:25:57.623\u001b[39m\n",
       "\u001b[36m    last-sweep 05/16/95:22:25:57.623\u001b[39m\n",
       "\u001b[36m    version last\u001b[39m\n",
       "\u001b[36mno-new-version\u001b[39m\n",
       "\u001b[36m!\u001b[39m\n",
       "\u001b[36m! for-each-ray (put one-time cmds before this line)\u001b[39m\n",
       "\u001b[36m!\u001b[39m\n",
       "\u001b[36m    use-boundary\u001b[39m\n",
       "\u001b[36m    unconditional-delete in  VG\u001b[39m\n",
       "\u001b[36m    unconditional-delete in  DBZ\u001b[39m\n",
       "\u001b[36mpass-through-data\u001b[39m\n",
       "\u001b[36mpass-through-data\u001b[39m\n",
       "\n",
       "\u001b[36m!   time-now 11/24/95 23:17:48.000 GMT\u001b[39m\n",
       "\u001b[36m    sweep-directory \"/data4/chq/swp0/\"\u001b[39m\n",
       "\u001b[36m    radar-names TF-ELDR\u001b[39m\n",
       "\u001b[36m    first-sweep 05/16/95:22:25:57.623\u001b[39m\n",
       "\u001b[36m    last-sweep 05/16/95:22:25:57.623\u001b[39m\n",
       "\u001b[36m    version last\u001b[39m\n",
       "\u001b[36mno-new-version\u001b[39m\n",
       "\u001b[36m!\u001b[39m\n",
       "\u001b[36m! for-each-ray (put one-time cmds before this line)\u001b[39m\n",
       "\u001b[36m!\u001b[39m\n",
       "\u001b[36m    use-boundary\u001b[39m\n",
       "\u001b[36m    threshold  DBZ on  ZZ  above 13 \u001b[39m\n",
       "\u001b[36m    threshold  VG  on  ZZ  above 13 \u001b[39m\n",
       "\u001b[36mpass-through-data\u001b[39m\n",
       "\u001b[36m \u001b[39m\n",
       "\u001b[36m!   time-now 11/24/95 23:18:35.000 GMT\u001b[39m\n",
       "\u001b[36m    sweep-directory \"/data4/chq/swp0/\"\u001b[39m\n",
       "\u001b[36m    radar-names TF-ELDR\u001b[39m\n",
       "\u001b[36m    first-sweep 05/16/95:22:25:57.623\u001b[39m\n",
       "\u001b[36m    last-sweep 05/16/95:22:25:57.623\u001b[39m\n",
       "\u001b[36m    version last\u001b[39m\n",
       "\u001b[36mno-new-version\u001b[39m\n",
       "\u001b[36m!\u001b[39m\n",
       "\u001b[36m! for-each-ray (put one-time cmds before this line)\u001b[39m\n",
       "\u001b[36m!\u001b[39m\n",
       "\u001b[36m    use-boundary\u001b[39m\n",
       "\u001b[36m    threshold  DBZ on  ZZ  above 13 \u001b[39m\n",
       "\u001b[36m    threshold  VG  on  ZZ  above 13 \u001b[39m\n",
       "\u001b[36mpass-through-data\u001b[39m\n",
       "\u001b[36m \u001b[39m\n",
       "\u001b[36m!   time-now 11/29/95 00:19:31.000 GMT\u001b[39m\n",
       "\u001b[36m    sweep-directory \"/data4/chq/swp0/\"\u001b[39m\n",
       "\u001b[36m    radar-names TF-ELDR\u001b[39m\n",
       "\u001b[36m    first-sweep 05/16/95:22:25:57.623\u001b[39m\n",
       "\u001b[36m    last-sweep 05/16/95:22:25:57.623\u001b[39m\n",
       "\u001b[36m    version 651\u001b[39m\n",
       "\u001b[36mno-new-version\u001b[39m\n",
       "\u001b[36m!\u001b[39m\n",
       "\u001b[36m! for-each-ray (put one-time cmds before this line)\u001b[39m\n",
       "\u001b[36m!\u001b[39m\n",
       "\u001b[36m    use-boundary\u001b[39m\n",
       "\u001b[36m    threshold DBZ on VV above 0 \u001b[39m\n",
       "\u001b[36m    threshold VG  on VV above 0\u001b[39m\n",
       "\u001b[36mpass-through-data\u001b[39m\n",
       "\u001b[36m!   time-now 11/29/95 01:51:28.000 GMT\u001b[39m\n",
       "\u001b[36m    sweep-directory \"/data4/chq/swp0/\"\u001b[39m\n",
       "\u001b[36m    radar-names TF-ELDR\u001b[39m\n",
       "\u001b[36m    first-sweep 05/16/95:22:25:57.623\u001b[39m\n",
       "\u001b[36m    last-sweep 05/16/95:22:25:57.623\u001b[39m\n",
       "\u001b[36m    version 551\u001b[39m\n",
       "\u001b[36mno-new-version\u001b[39m\n",
       "\u001b[36m!\u001b[39m\n",
       "\u001b[36m! for-each-ray (put one-time cmds before this line)\u001b[39m\n",
       "\u001b[36m!\u001b[39m\n",
       "\u001b[36m    use-boundary\u001b[39m\n",
       "\u001b[36m    threshold DBZ on VV below -2.5\u001b[39m\n",
       "\u001b[36m    threshold VG  on VV below -2.5\u001b[39m\n",
       "\u001b[36m \u001b[39m\n",
       "\u001b[36mpass-through-data\u001b[39m\n",
       "\n",
       "\u001b[36m!   time-now 11/29/95 01:51:44.000 GMT\u001b[39m\n",
       "\u001b[36m    sweep-directory \"/data4/chq/swp0/\"\u001b[39m\n",
       "\u001b[36m    radar-names TF-ELDR\u001b[39m\n",
       "\u001b[36m    first-sweep 05/16/95:22:25:57.623\u001b[39m\n",
       "\u001b[36m    last-sweep 05/16/95:22:25:57.623\u001b[39m\n",
       "\u001b[36m    version 551\u001b[39m\n",
       "\u001b[36mno-new-version\u001b[39m\n",
       "\u001b[36m!\u001b[39m\n",
       "\u001b[36m! for-each-ray (put one-time cmds before this line)\u001b[39m\n",
       "\u001b[36m!\u001b[39m\n",
       "\u001b[36m    use-boundary\u001b[39m\n",
       "\u001b[36m    unconditional-delete in  VG\u001b[39m\n",
       "\u001b[36m    unconditional-delete in  DBZ\u001b[39m\n",
       "\u001b[36mpass-through-data\u001b[39m\n",
       "\u001b[36m!   time-now 11/29/95 01:51:55.000 GMT\u001b[39m\n",
       "\u001b[36m    sweep-directory \"/data4/chq/swp0/\"\u001b[39m\n",
       "\u001b[36m    radar-names TF-ELDR\u001b[39m\n",
       "\u001b[36m    first-sweep 05/16/95:22:25:57.623\u001b[39m\n",
       "\u001b[36m    last-sweep 05/16/95:22:25:57.623\u001b[39m\n",
       "\u001b[36m    version 551\u001b[39m\n",
       "\u001b[36mno-new-version\u001b[39m\n",
       "\u001b[36m!\u001b[39m\n",
       "\u001b[36m! for-each-ray (put one-time cmds before this line)\u001b[39m\n",
       "\u001b[36m!\u001b[39m\n",
       "\u001b[36m    use-boundary\u001b[39m\n",
       "\u001b[36m    unconditional-delete in  VG\u001b[39m\n",
       "\u001b[36m    unconditional-delete in  DBZ\u001b[39m\n",
       "\u001b[36mpass-through-data\u001b[39m\n",
       "\u001b[36m!   time-now 11/29/95 01:52:08.000 GMT\u001b[39m\n",
       "\u001b[36m    sweep-directory \"/data4/chq/swp0/\"\u001b[39m\n",
       "\u001b[36m    radar-names TF-ELDR\u001b[39m\n",
       "\u001b[36m    first-sweep 05/16/95:22:25:57.623\u001b[39m\n",
       "\u001b[36m    last-sweep 05/16/95:22:25:57.623\u001b[39m\n",
       "\u001b[36m    version 551\u001b[39m\n",
       "\u001b[36mno-new-version\u001b[39m\n",
       "\u001b[36m!\u001b[39m\n",
       "\u001b[36m! for-each-ray (put one-time cmds before this line)\u001b[39m\n",
       "\u001b[36m!\u001b[39m\n",
       "\u001b[36m    use-boundary\u001b[39m\n",
       "\u001b[36m    unconditional-delete in  VG\u001b[39m\n",
       "\u001b[36m    unconditional-delete in  DBZ\u001b[39m\n",
       "\u001b[36mpass-through-data\u001b[39m\n",
       "\u001b[36m!   time-now 11/29/95 19:50:00.000 GMT\u001b[39m\n",
       "\u001b[36m    sweep-directory \"/data4/chq/swp0/\"\u001b[39m\n",
       "\u001b[36m    radar-names TF-ELDR\u001b[39m\n",
       "\u001b[36m    first-sweep 05/16/95:22:25:57.623\u001b[39m\n",
       "\u001b[36m    last-sweep 05/16/95:22:25:57.623\u001b[39m\n",
       "\u001b[36m    version 169\u001b[39m\n",
       "\u001b[36mno-new-version\u001b[39m\n",
       "\u001b[36m!\u001b[39m\n",
       "\u001b[36m! for-each-ray (put one-time cmds before this line)\u001b[39m\n",
       "\u001b[36m!\u001b[39m\n",
       "\u001b[36m    use-boundary\u001b[39m\n",
       "\u001b[36m    unconditional-delete in  VG\u001b[39m\n",
       "\u001b[36m    unconditional-delete in  DBZ\u001b[39m\n",
       "\u001b[36mpass-through-data\u001b[39m\n",
       "\u001b[36m!   time-now 11/29/95 19:50:09.000 GMT\u001b[39m\n",
       "\u001b[36m    sweep-directory \"/data4/chq/swp0/\"\u001b[39m\n",
       "\u001b[36m    radar-names TF-ELDR\u001b[39m\n",
       "\u001b[36m    first-sweep 05/16/95:22:25:57.623\u001b[39m\n",
       "\u001b[36m    last-sweep 05/16/95:22:25:57.623\u001b[39m\n",
       "\u001b[36m    version 169\u001b[39m\n",
       "\u001b[36mno-new-version\u001b[39m\n",
       "\u001b[36m!\u001b[39m\n",
       "\u001b[36m! for-each-ray (put one-time cmds before this line)\u001b[39m\n",
       "\u001b[36m!\u001b[39m\n",
       "\u001b[36m    use-boundary\u001b[39m\n",
       "\u001b[36m    unconditional-delete in  VG\u001b[39m\n",
       "\u001b[36m    unconditional-delete in  DBZ\u001b[39m\n",
       "\u001b[36mpass-through-data\u001b[39m\n",
       "\u001b[36m!   time-now 11/29/95 19:50:17.000 GMT\u001b[39m\n",
       "\u001b[36m    sweep-directory \"/data4/chq/swp0/\"\u001b[39m\n",
       "\u001b[36m    radar-names TF-ELDR\u001b[39m\n",
       "\u001b[36m    first-sweep 05/16/95:22:25:57.623\u001b[39m\n",
       "\u001b[36m    last-sweep 05/16/95:22:25:57.623\u001b[39m\n",
       "\u001b[36m    version 169\u001b[39m\n",
       "\u001b[36mno-new-version\u001b[39m\n",
       "\u001b[36m!\u001b[39m\n",
       "\u001b[36m! for-each-ray (put one-time cmds before this line)\u001b[39m\n",
       "\u001b[36m!\u001b[39m\n",
       "\u001b[36m    use-boundary\u001b[39m\n",
       "\u001b[36m    unconditional-delete in  VG\u001b[39m\n",
       "\u001b[36m    unconditional-delete in  DBZ\u001b[39m\n",
       "\u001b[36mpass-through-data\u001b[39m\n",
       "\u001b[36m!   time-now 11/29/95 19:50:37.000 GMT\u001b[39m\n",
       "\u001b[36m    sweep-directory \"/data4/chq/swp0/\"\u001b[39m\n",
       "\u001b[36m    radar-names TF-ELDR\u001b[39m\n",
       "\u001b[36m    first-sweep 05/16/95:22:25:57.623\u001b[39m\n",
       "\u001b[36m    last-sweep 05/16/95:22:25:57.623\u001b[39m\n",
       "\u001b[36m    version 169\u001b[39m\n",
       "\u001b[36mno-new-version\u001b[39m\n",
       "\u001b[36m!\u001b[39m\n",
       "\u001b[36m! for-each-ray (put one-time cmds before this line)\u001b[39m\n",
       "\u001b[36m!\u001b[39m\n",
       "\u001b[36m    use-boundary\u001b[39m\n",
       "\u001b[36m    unconditional-delete in  VG\u001b[39m\n",
       "\u001b[36m    unconditional-delete in  DBZ\u001b[39m\n",
       "\u001b[36mpass-through-data\u001b[39m\n",
       "\u001b[36m!   time-now 11/29/95 19:50:46.000 GMT\u001b[39m\n",
       "\u001b[36m    sweep-directory \"/data4/chq/swp0/\"\u001b[39m\n",
       "\u001b[36m    radar-names TF-ELDR\u001b[39m\n",
       "\u001b[36m    first-sweep 05/16/95:22:25:57.623\u001b[39m\n",
       "\u001b[36m    last-sweep 05/16/95:22:25:57.623\u001b[39m\n",
       "\u001b[36m    version 169\u001b[39m\n",
       "\u001b[36mno-new-version\u001b[39m\n",
       "\u001b[36m!\u001b[39m\n",
       "\u001b[36m! for-each-ray (put one-time cmds before this line)\u001b[39m\n",
       "\u001b[36m!\u001b[39m\n",
       "\u001b[36m    use-boundary\u001b[39m\n",
       "\u001b[36m    unconditional-delete in  VG\u001b[39m\n",
       "\u001b[36m    unconditional-delete in  DBZ\u001b[39m\n",
       "\u001b[36mpass-through-data\u001b[39m\n",
       "  comment              = \n",
       "  original_format      = \u001b[36mDORADE\u001b[39m\n",
       "  driver               = \u001b[36mRadxConvert(NCAR)\u001b[39m\n",
       "  created              = \u001b[36m2019/01/22 22:17:57.888\u001b[39m\n",
       "  start_datetime       = \u001b[36m1995-05-16T22:25:57Z\u001b[39m\n",
       "  time_coverage_start  = \u001b[36m1995-05-16T22:25:57Z\u001b[39m\n",
       "  start_time           = \u001b[36m1995-05-16 22:25:57.623\u001b[39m\n",
       "  end_datetime         = \u001b[36m1995-05-16T22:25:59Z\u001b[39m\n",
       "  time_coverage_end    = \u001b[36m1995-05-16T22:25:59Z\u001b[39m\n",
       "  end_time             = \u001b[36m1995-05-16 22:25:59.999\u001b[39m\n",
       "  instrument_name      = \u001b[36mTF-ELDR\u001b[39m\n",
       "  site_name            = \n",
       "  scan_name            = \n",
       "  scan_id              = \u001b[36m0\u001b[39m\n",
       "  platform_is_mobile   = \u001b[36mtrue\u001b[39m\n",
       "  n_gates_vary         = \u001b[36mfalse\u001b[39m\n",
       "  ray_times_increase   = \u001b[36mtrue\u001b[39m\n"
      ]
     },
     "execution_count": 93,
     "metadata": {},
     "output_type": "execute_result"
    }
   ],
   "source": [
    "##Explore some datasets \n",
    "###Sweep is global dimension \n",
    "currset = Dataset(\"CFRADIALS/cfrad.19950516_222557.623_to_19950516_222559.999_TF-ELDR_AIR.nc\")"
   ]
  },
  {
   "cell_type": "code",
   "execution_count": 98,
   "id": "716ad15b",
   "metadata": {},
   "outputs": [
    {
     "data": {
      "text/plain": [
       "384-element Vector{Float32}:\n",
       "     0.0\n",
       "   150.0\n",
       "   300.0\n",
       "   450.0\n",
       "   600.0\n",
       "   750.0\n",
       "   900.0\n",
       "  1050.0\n",
       "  1200.0\n",
       "  1350.0\n",
       "  1500.0\n",
       "  1650.0\n",
       "  1800.0\n",
       "     ⋮\n",
       " 55800.0\n",
       " 55950.0\n",
       " 56100.0\n",
       " 56250.0\n",
       " 56400.0\n",
       " 56550.0\n",
       " 56700.0\n",
       " 56850.0\n",
       " 57000.0\n",
       " 57150.0\n",
       " 57300.0\n",
       " 57450.0"
      ]
     },
     "execution_count": 98,
     "metadata": {},
     "output_type": "execute_result"
    }
   ],
   "source": [
    "plane_alts = currset[\"altitude\"][:]\n",
    "ray_angles = currset[\"elevation\"][:]\n",
    "azimuths = currset[\"azimuth\"][:]\n",
    "ranges = currset[\"range\"][:]"
   ]
  },
  {
   "cell_type": "code",
   "execution_count": 102,
   "id": "61cf49bd",
   "metadata": {},
   "outputs": [
    {
     "data": {
      "text/plain": [
       "57450.0f0"
      ]
     },
     "execution_count": 102,
     "metadata": {},
     "output_type": "execute_result"
    }
   ],
   "source": [
    "max_range = maximum(ranges)"
   ]
  },
  {
   "cell_type": "code",
   "execution_count": 110,
   "id": "5612ffa7",
   "metadata": {},
   "outputs": [
    {
     "data": {
      "text/plain": [
       "1.5707963267948966"
      ]
     },
     "execution_count": 110,
     "metadata": {},
     "output_type": "execute_result"
    }
   ],
   "source": [
    "deg2rad(90)"
   ]
  },
  {
   "cell_type": "code",
   "execution_count": 111,
   "id": "f046b44a",
   "metadata": {},
   "outputs": [
    {
     "data": {
      "text/plain": [
       "1.5707963267948966"
      ]
     },
     "execution_count": 111,
     "metadata": {},
     "output_type": "execute_result"
    }
   ],
   "source": [
    "    #Because the model was not trained on null data, this tells you where predictions need to be autoassigned\n"
   ]
  },
  {
   "cell_type": "code",
   "execution_count": 103,
   "id": "58ab3bec",
   "metadata": {},
   "outputs": [],
   "source": [
    "####goes througha and for each gate calculates its height, \n",
    "####so is basically passing in a single gate's elevation, plane altitude\n",
    "####azimuth, and range\n",
    "####Slantrange is simply the range of the gate from the antenna, need to calculate its height then "
   ]
  },
  {
   "cell_type": "code",
   "execution_count": 126,
   "id": "613c0127",
   "metadata": {},
   "outputs": [
    {
     "data": {
      "text/plain": [
       "prob_groundgate (generic function with 1 method)"
      ]
     },
     "execution_count": 126,
     "metadata": {},
     "output_type": "execute_result"
    }
   ],
   "source": [
    "##Can be done on a ray-by-ray basis, otherwise the elevation angle will change \n",
    "##What is this algorithm? \n",
    "function airborne_ht(elevation_angle::Float64, antenna_range::Float64, aircraft_height::Float64)\n",
    "    ##Initial heights are in meters, convert to km \n",
    "    aRange_km, acHeight_km = (antenna_range, aircraft_height) ./ 1000\n",
    "    \n",
    "    term1 = aRange_km^2 + EarthRadiusKm^2\n",
    "    term2 = 2 * aRange_km * EarthRadiusKm * sin(deg2rad(elevation_angle))\n",
    "    return sqrt(term1 + term2) - EarthRadiusKm + acHeight_km\n",
    "end \n",
    "\n",
    "\n",
    "###How can we optimize this.... if one gate has a probability of ground equal to 1, the rest of \n",
    "###The gates further in that range must also have probability equal to 1, correct? \n",
    "function prob_groundgate(elevation_angle, antenna_range, aircraft_height, azimuth, max_range)\n",
    "    \n",
    "    ###If range of gate is less than altitude, cannot hit ground\n",
    "    ###If elevation angle is positive, cannot hit ground \n",
    "    if (antenna_range > aircraft_height || elevation_angle > 0)\n",
    "        return 0. \n",
    "    end \n",
    "    elevation_rad, azimuth_rad = map((x) -> deg2rad(x), (elevation_angle, azimuth))\n",
    "    \n",
    "    #Range at which the beam will intersect the ground (Testud et. al 1995 or 1999?)\n",
    "    Earth_Rad_M = EarthRadiusKm*1000\n",
    "    ground_intersect = (-(aircraft_height)/sin(elevation_rad))*(1+aircraft_height/(2*Earth_Rad_M* (tan(elevation_rad)^2)))\n",
    "    \n",
    "    range_diff = ground_intersect - antenna_range\n",
    "    \n",
    "    if (range_diff <= 0)\n",
    "            return 1.\n",
    "    end \n",
    "    \n",
    "    gelev = asin(-aircraft_height/antenna_range)\n",
    "    elevation_offset = elevation_rad - gelev\n",
    "    \n",
    "    if elevation_offset < 0\n",
    "        return 1.\n",
    "    else\n",
    "        \n",
    "        beamaxis = sqrt(elevation_offset * elevation_offset)\n",
    "        gprob = exp(-0.69314718055995*(beamaxis/beamwidth))\n",
    "        \n",
    "        if (gprob>1.0)\n",
    "            return 1.\n",
    "        else\n",
    "            return gprob\n",
    "        end\n",
    "    end \n",
    "end "
   ]
  },
  {
   "cell_type": "code",
   "execution_count": 121,
   "id": "cc8d2d16",
   "metadata": {},
   "outputs": [
    {
     "data": {
      "text/plain": [
       "exp (generic function with 18 methods)"
      ]
     },
     "execution_count": 121,
     "metadata": {},
     "output_type": "execute_result"
    }
   ],
   "source": [
    "exp"
   ]
  },
  {
   "cell_type": "code",
   "execution_count": 68,
   "id": "6d3bb12b",
   "metadata": {},
   "outputs": [
    {
     "data": {
      "text/plain": [
       "384-element Vector{Float32}:\n",
       "     0.0\n",
       "    42.175385\n",
       "    84.35077\n",
       "   126.52615\n",
       "   168.70154\n",
       "   210.87692\n",
       "   253.0523\n",
       "   295.2277\n",
       "   337.40308\n",
       "   379.57846\n",
       "   421.75385\n",
       "   463.92923\n",
       "   506.1046\n",
       "     ⋮\n",
       " 15689.243\n",
       " 15731.419\n",
       " 15773.594\n",
       " 15815.77\n",
       " 15857.945\n",
       " 15900.12\n",
       " 15942.296\n",
       " 15984.471\n",
       " 16026.646\n",
       " 16068.822\n",
       " 16110.997\n",
       " 16153.173"
      ]
     },
     "execution_count": 68,
     "metadata": {},
     "output_type": "execute_result"
    }
   ],
   "source": [
    "###Get the DBZ data from a single scan \n",
    "###This is ASSUMING that this is not a npoints type file \n",
    "###If it is, possibly call radxconvert? \n",
    "\n",
    "JULIA_OFFSET = 1\n",
    "\n",
    "SCAN = 1\n",
    "start_idxs = currset[\"sweep_start_ray_index\"]\n",
    "end_idxs = currset[\"sweep_end_ray_index\"]\n",
    "\n",
    "###NOTE: JULIA is 1-INDEXED, so add OFFSET \n",
    "start_scan_idx = start_idxs[SCAN] + JULIA_OFFSET\n",
    "end_scan_idx = end_idxs[SCAN] + JULIA_OFFSET\n",
    "\n",
    "DBZ_currscan = currset[\"DBZ\"][:,start_idxs[1]+1:1:end_idxs[1]+1]\n",
    "\n",
    "##Need to remember to project range onto the elevation angle \n",
    "RANGE = currset[\"range\"][:]\n",
    "azimuth_angles = currset[\"azimuth\"][start_idxs[1] + 1:1:end_idxs[1]+1]\n",
    "\n",
    "\n",
    "##this is all WRONG because we're doing radars from a plane \n",
    "##Elevation angle of the current scan \n",
    "ELEV_ANGLE = currset[\"fixed_angle\"][SCAN]\n",
    "##Determine ground range \n",
    "GROUND_RANGE = map((x)-> x*cos(deg2rad(ELEV_ANGLE)), RANGE)\n",
    "##Assuming no super/subrefraction \n",
    "###This is beam bottom height \n",
    "GATE_ELEVATION = map((x) -> x*sin(deg2rad(ELEV_ANGLE)), RANGE)"
   ]
  },
  {
   "cell_type": "code",
   "execution_count": 116,
   "id": "c873db3a",
   "metadata": {},
   "outputs": [
    {
     "data": {
      "text/plain": [
       "(0.017453292519943295, 0.03490658503988659)"
      ]
     },
     "execution_count": 116,
     "metadata": {},
     "output_type": "execute_result"
    }
   ],
   "source": [
    "map((x) -> deg2rad(x), (1,2))"
   ]
  },
  {
   "cell_type": "code",
   "execution_count": 80,
   "id": "53fab0ae",
   "metadata": {},
   "outputs": [
    {
     "data": {
      "text/plain": [
       "get_NCP (generic function with 3 methods)"
      ]
     },
     "execution_count": 80,
     "metadata": {},
     "output_type": "execute_result"
    }
   ],
   "source": [
    "function get_NCP(data::NCDataset)\n",
    "    ###Some ternary operator + short circuit trickery here \n",
    "    (\"NCP\" in keys(data)) ? (return(data[\"NCP\"][:,start_scan_idx:1:end_scan_idx])) : (\"SQI\" in keys(data) || \n",
    "                                                                                        error(\"Could Not Find NCP in dataset\"))\n",
    "    return(data[\"SQI\"][:, start_scan_idx:1:end_scan_idx])\n",
    "end"
   ]
  },
  {
   "cell_type": "code",
   "execution_count": 79,
   "id": "d8427de9",
   "metadata": {},
   "outputs": [
    {
     "data": {
      "text/plain": [
       "384×221 Matrix{Union{Missing, Float32}}:\n",
       " 0.76      0.81      0.83      0.8       …  0.82      0.84      0.78\n",
       " 0.62      0.61      0.63      0.69         0.55      0.58      0.42\n",
       " 0.8       0.83      0.83      0.88         0.61      0.58      0.43\n",
       " 0.27      0.42      0.33      0.37         0.33      0.27      0.32\n",
       " 0.92      0.96      0.94      0.96         0.92      0.98      0.96\n",
       " 0.93      0.95      0.96      0.95      …  0.95      0.93      0.94\n",
       " 0.96      0.91      0.95      1.0          0.97      0.96      0.89\n",
       " 0.93      0.95      0.99      0.96         0.97      0.95      0.91\n",
       " 0.83      0.92      0.91      0.96         0.84      0.79      0.84\n",
       " 0.91      0.97      0.95      1.0          0.62      0.69      0.5\n",
       " 0.59      0.54      0.52      0.84      …  0.47      0.71      0.65\n",
       " 0.44      0.71      0.33      0.72         0.46      0.4       0.47\n",
       " 0.24      0.55      0.43      0.45         0.46      0.49      0.7\n",
       " ⋮                                       ⋱                      ⋮\n",
       "  missing   missing   missing   missing      missing   missing   missing\n",
       "  missing   missing   missing   missing      missing   missing   missing\n",
       "  missing   missing   missing   missing      missing   missing   missing\n",
       "  missing   missing   missing   missing  …   missing   missing   missing\n",
       "  missing   missing   missing   missing      missing   missing   missing\n",
       "  missing   missing   missing   missing      missing   missing   missing\n",
       "  missing   missing   missing   missing      missing   missing   missing\n",
       "  missing   missing   missing   missing      missing   missing   missing\n",
       "  missing   missing   missing   missing  …   missing   missing   missing\n",
       "  missing   missing   missing   missing      missing   missing   missing\n",
       "  missing   missing   missing   missing      missing   missing   missing\n",
       "  missing   missing   missing   missing      missing   missing   missing"
      ]
     },
     "execution_count": 79,
     "metadata": {},
     "output_type": "execute_result"
    }
   ],
   "source": [
    "currset[\"NCP\"][:,:][:,1:1:221]"
   ]
  },
  {
   "cell_type": "code",
   "execution_count": 63,
   "id": "1d5d274f",
   "metadata": {},
   "outputs": [
    {
     "data": {
      "text/plain": [
       "3-element Vector{Int64}:\n",
       " 1\n",
       " 2\n",
       " 3"
      ]
     },
     "execution_count": 63,
     "metadata": {},
     "output_type": "execute_result"
    }
   ],
   "source": [
    "[1 2 3][1:3]"
   ]
  },
  {
   "cell_type": "code",
   "execution_count": 19,
   "id": "91dd3c87",
   "metadata": {},
   "outputs": [
    {
     "data": {
      "text/plain": [
       "calc_isolation_param (generic function with 2 methods)"
      ]
     },
     "execution_count": 19,
     "metadata": {},
     "output_type": "execute_result"
    }
   ],
   "source": [
    "\n",
    "##higher isolation parameter = more isolated \n",
    "##Check to see if Alex normalized this \n",
    "\n",
    "##Is there a smarter way to do this? Probably\n",
    "##Probably create a parallel missing array and just window on this? \n",
    "##Benchmark this for optimization \n",
    "function isolation(var, weights)\n",
    "    ##Returns 0 when missing, 1 when not \n",
    "    return sum(var .* weights)\n",
    "end\n",
    "\n",
    "iso_weights = ones(7,7)\n",
    "iso_weights[4,4] = 0\n",
    "avg_weights = ones(5,5)\n",
    "avg_weights[3,3] = 0\n",
    "\n",
    "##Testing function for timing \n",
    "##Why is the compilation time s\n",
    "function calc_isolation_param(var, weights, window)\n",
    "    \n",
    "    if size(weights) != window\n",
    "        error(\"Weight matrix does not equal window size\")\n",
    "    end\n",
    "    \n",
    "    missings = map((x) -> ismissing(x), var)\n",
    "    iso_array = mapwindow((x) -> isolation(x, weights), missings, window) \n",
    "end"
   ]
  },
  {
   "cell_type": "code",
   "execution_count": 25,
   "id": "58c5bd71",
   "metadata": {},
   "outputs": [
    {
     "name": "stdout",
     "output_type": "stream",
     "text": [
      "  0.021937 seconds (135.20 k allocations: 39.876 MiB, 23.62% gc time)\n"
     ]
    },
    {
     "data": {
      "text/plain": [
       "384×221 Matrix{Float64}:\n",
       " 44.0  45.0  46.0  47.0  48.0  48.0  …  45.0  44.0  44.0  44.0  43.0  43.0\n",
       " 37.0  38.0  39.0  40.0  41.0  41.0     38.0  37.0  37.0  37.0  37.0  37.0\n",
       " 30.0  31.0  32.0  33.0  34.0  34.0     31.0  30.0  30.0  30.0  29.0  29.0\n",
       " 24.0  24.0  25.0  26.0  27.0  27.0     24.0  24.0  23.0  23.0  22.0  22.0\n",
       " 17.0  18.0  19.0  20.0  21.0  21.0     18.0  17.0  17.0  17.0  16.0  16.0\n",
       " 10.0  11.0  12.0  13.0  14.0  14.0  …  12.0  12.0  13.0  13.0  13.0  14.0\n",
       "  3.0   4.0   5.0   6.0   7.0   7.0      5.0   5.0   6.0   6.0   6.0   7.0\n",
       "  0.0   0.0   0.0   0.0   0.0   0.0      0.0   0.0   0.0   0.0   0.0   0.0\n",
       "  0.0   0.0   0.0   0.0   0.0   0.0      0.0   0.0   0.0   0.0   0.0   0.0\n",
       "  4.0   3.0   2.0   1.0   0.0   0.0      0.0   0.0   0.0   0.0   0.0   0.0\n",
       "  5.0   4.0   3.0   2.0   1.0   0.0  …   0.0   0.0   0.0   0.0   0.0   0.0\n",
       "  5.0   4.0   4.0   3.0   2.0   1.0      0.0   0.0   0.0   0.0   0.0   0.0\n",
       "  5.0   5.0   5.0   4.0   3.0   1.0      1.0   1.0   1.0   1.0   0.0   0.0\n",
       "  ⋮                             ⋮    ⋱   ⋮                             ⋮\n",
       " 48.0  48.0  48.0  48.0  48.0  48.0     48.0  48.0  48.0  48.0  48.0  48.0\n",
       " 48.0  48.0  48.0  48.0  48.0  48.0     48.0  48.0  48.0  48.0  48.0  48.0\n",
       " 48.0  48.0  48.0  48.0  48.0  48.0     48.0  48.0  48.0  48.0  48.0  48.0\n",
       " 48.0  48.0  48.0  48.0  48.0  48.0  …  48.0  48.0  48.0  48.0  48.0  48.0\n",
       " 48.0  48.0  48.0  48.0  48.0  48.0     48.0  48.0  48.0  48.0  48.0  48.0\n",
       " 48.0  48.0  48.0  48.0  48.0  48.0     48.0  48.0  48.0  48.0  48.0  48.0\n",
       " 48.0  48.0  48.0  48.0  48.0  48.0     48.0  48.0  48.0  48.0  48.0  48.0\n",
       " 48.0  48.0  48.0  48.0  48.0  48.0     48.0  48.0  48.0  48.0  48.0  48.0\n",
       " 48.0  48.0  48.0  48.0  48.0  48.0  …  48.0  48.0  48.0  48.0  48.0  48.0\n",
       " 48.0  48.0  48.0  48.0  48.0  48.0     48.0  48.0  48.0  48.0  48.0  48.0\n",
       " 48.0  48.0  48.0  48.0  48.0  48.0     48.0  48.0  48.0  48.0  48.0  48.0\n",
       " 48.0  48.0  48.0  48.0  48.0  48.0     48.0  48.0  48.0  48.0  48.0  48.0"
      ]
     },
     "execution_count": 25,
     "metadata": {},
     "output_type": "execute_result"
    }
   ],
   "source": [
    "@time calc_isolation_param(DBZ_currscan, iso_weights, (7,7))"
   ]
  },
  {
   "cell_type": "code",
   "execution_count": 22,
   "id": "80641183",
   "metadata": {},
   "outputs": [
    {
     "ename": "LoadError",
     "evalue": "entries in window must be odd, got (1, 1, 1, 1, 0, 1, 1, 1, 1)",
     "output_type": "error",
     "traceback": [
      "entries in window must be odd, got (1, 1, 1, 1, 0, 1, 1, 1, 1)",
      "",
      "Stacktrace:",
      " [1] error(s::String)",
      "   @ Base ./error.jl:35",
      " [2] resolve_window(window::NTuple{9, Int64})",
      "   @ ImageFiltering.MapWindow ~/.julia/packages/ImageFiltering/QW8Jn/src/mapwindow.jl:134",
      " [3] resolve_window(window::Matrix{Int64})",
      "   @ ImageFiltering.MapWindow ~/.julia/packages/ImageFiltering/QW8Jn/src/mapwindow.jl:143",
      " [4] mapwindow(f::var\"#33#34\", img::Matrix{Union{Missing, Float32}}, window::Matrix{Int64}; border::String, indices::Tuple{Base.OneTo{Int64}, Base.OneTo{Int64}}, callmode::Symbol)",
      "   @ ImageFiltering.MapWindow ~/.julia/packages/ImageFiltering/QW8Jn/src/mapwindow.jl:80",
      " [5] mapwindow(f::var\"#33#34\", img::Matrix{Union{Missing, Float32}}, window::Matrix{Int64})",
      "   @ ImageFiltering.MapWindow ~/.julia/packages/ImageFiltering/QW8Jn/src/mapwindow.jl:75",
      " [6] top-level scope",
      "   @ ./timing.jl:273 [inlined]",
      " [7] top-level scope",
      "   @ ./In[22]:0"
     ]
    }
   ],
   "source": [
    "@time mapwindow((x) -> isolation(x), DBZ_currscan, [1 1 1; 1 0 1; 1 1 1])"
   ]
  },
  {
   "cell_type": "code",
   "execution_count": 26,
   "id": "5491b81e",
   "metadata": {},
   "outputs": [
    {
     "ename": "LoadError",
     "evalue": "syntax: incomplete: premature end of input",
     "output_type": "error",
     "traceback": [
      "syntax: incomplete: premature end of input",
      "",
      "Stacktrace:",
      " [1] top-level scope",
      "   @ In[26]:1"
     ]
    }
   ],
   "source": [
    "###Possible to add in some superrefraction/subrefraction information here given geographic location? \n",
    "function probability_ground_gate(tilt, platform_height, azimuth, max-range)"
   ]
  },
  {
   "cell_type": "code",
   "execution_count": 39,
   "id": "2e428e2a",
   "metadata": {},
   "outputs": [
    {
     "data": {
      "text/plain": [
       "3×3 Matrix{Union{Missing, Int64}}:\n",
       " 1   missing  1\n",
       " 0   missing  0\n",
       " 2  3          missing"
      ]
     },
     "execution_count": 39,
     "metadata": {},
     "output_type": "execute_result"
    }
   ],
   "source": [
    "toymatrix = [1 missing 1; 0 missing 0; 2 3 missing]"
   ]
  },
  {
   "cell_type": "code",
   "execution_count": 131,
   "id": "f7d2f6c7",
   "metadata": {},
   "outputs": [
    {
     "ename": "LoadError",
     "evalue": "MethodError: no method matching (Matrix)(::Vector{Vector{Union{Missing, Int64}}})\n\n\u001b[0mClosest candidates are:\n\u001b[0m  (Array{T, N} where T)(::AbstractArray{S, N}) where {S, N}\n\u001b[0m\u001b[90m   @\u001b[39m \u001b[90mCore\u001b[39m \u001b[90m\u001b[4mboot.jl:498\u001b[24m\u001b[39m\n\u001b[0m  (Matrix)(\u001b[91m::Union{LinearAlgebra.QR, LinearAlgebra.QRCompactWY}\u001b[39m)\n\u001b[0m\u001b[90m   @\u001b[39m \u001b[36mLinearAlgebra\u001b[39m \u001b[90m/Applications/Julia-1.9.app/Contents/Resources/julia/share/julia/stdlib/v1.9/LinearAlgebra/src/\u001b[39m\u001b[90m\u001b[4mqr.jl:449\u001b[24m\u001b[39m\n\u001b[0m  (Matrix)(\u001b[91m::LinearAlgebra.Schur\u001b[39m)\n\u001b[0m\u001b[90m   @\u001b[39m \u001b[36mLinearAlgebra\u001b[39m \u001b[90m/Applications/Julia-1.9.app/Contents/Resources/julia/share/julia/stdlib/v1.9/LinearAlgebra/src/\u001b[39m\u001b[90m\u001b[4mschur.jl:437\u001b[24m\u001b[39m\n\u001b[0m  ...\n",
     "output_type": "error",
     "traceback": [
      "MethodError: no method matching (Matrix)(::Vector{Vector{Union{Missing, Int64}}})\n\n\u001b[0mClosest candidates are:\n\u001b[0m  (Array{T, N} where T)(::AbstractArray{S, N}) where {S, N}\n\u001b[0m\u001b[90m   @\u001b[39m \u001b[90mCore\u001b[39m \u001b[90m\u001b[4mboot.jl:498\u001b[24m\u001b[39m\n\u001b[0m  (Matrix)(\u001b[91m::Union{LinearAlgebra.QR, LinearAlgebra.QRCompactWY}\u001b[39m)\n\u001b[0m\u001b[90m   @\u001b[39m \u001b[36mLinearAlgebra\u001b[39m \u001b[90m/Applications/Julia-1.9.app/Contents/Resources/julia/share/julia/stdlib/v1.9/LinearAlgebra/src/\u001b[39m\u001b[90m\u001b[4mqr.jl:449\u001b[24m\u001b[39m\n\u001b[0m  (Matrix)(\u001b[91m::LinearAlgebra.Schur\u001b[39m)\n\u001b[0m\u001b[90m   @\u001b[39m \u001b[36mLinearAlgebra\u001b[39m \u001b[90m/Applications/Julia-1.9.app/Contents/Resources/julia/share/julia/stdlib/v1.9/LinearAlgebra/src/\u001b[39m\u001b[90m\u001b[4mschur.jl:437\u001b[24m\u001b[39m\n\u001b[0m  ...\n",
      "",
      "Stacktrace:",
      " [1] top-level scope",
      "   @ In[131]:1"
     ]
    }
   ],
   "source": [
    "toy_arr = Matrix([[missing,missing,1],[1,0,1],[1,3,4]])"
   ]
  },
  {
   "cell_type": "code",
   "execution_count": 30,
   "id": "53cfa4d2",
   "metadata": {},
   "outputs": [
    {
     "data": {
      "text/plain": [
       "test (generic function with 1 method)"
      ]
     },
     "execution_count": 30,
     "metadata": {},
     "output_type": "execute_result"
    }
   ],
   "source": [
    "function test(weights::AbstractMatrix{Float64})\n",
    "    return \"OK\"\n",
    "end"
   ]
  },
  {
   "cell_type": "code",
   "execution_count": 32,
   "id": "75888c95",
   "metadata": {},
   "outputs": [
    {
     "data": {
      "text/plain": [
       "\"OK\""
      ]
     },
     "execution_count": 32,
     "metadata": {},
     "output_type": "execute_result"
    }
   ],
   "source": [
    "test([1. 2. 3.])"
   ]
  },
  {
   "cell_type": "code",
   "execution_count": 52,
   "id": "6ffbe7d6",
   "metadata": {},
   "outputs": [
    {
     "data": {
      "text/plain": [
       "CartesianIndices((3, 3))"
      ]
     },
     "execution_count": 52,
     "metadata": {},
     "output_type": "execute_result"
    }
   ],
   "source": [
    "CartesianIndices(indind_full)"
   ]
  },
  {
   "cell_type": "code",
   "execution_count": 44,
   "id": "697881e1",
   "metadata": {},
   "outputs": [
    {
     "data": {
      "text/plain": [
       "(3, 3)"
      ]
     },
     "execution_count": 44,
     "metadata": {},
     "output_type": "execute_result"
    }
   ],
   "source": [
    "map(length, axes(toymatrix))"
   ]
  },
  {
   "cell_type": "code",
   "execution_count": 53,
   "id": "0e4a31e1",
   "metadata": {},
   "outputs": [
    {
     "ename": "LoadError",
     "evalue": "UndefVarError: `_IndexTransformer` not defined",
     "output_type": "error",
     "traceback": [
      "UndefVarError: `_IndexTransformer` not defined",
      ""
     ]
    }
   ],
   "source": [
    "_IndexTransformer"
   ]
  },
  {
   "cell_type": "code",
   "execution_count": 46,
   "id": "1515bd29",
   "metadata": {},
   "outputs": [
    {
     "data": {
      "text/plain": [
       "(Base.OneTo(3), Base.OneTo(3))"
      ]
     },
     "execution_count": 46,
     "metadata": {},
     "output_type": "execute_result"
    }
   ],
   "source": [
    "axes(toymatrix)"
   ]
  },
  {
   "cell_type": "code",
   "execution_count": 47,
   "id": "5e56cea1",
   "metadata": {},
   "outputs": [
    {
     "data": {
      "text/plain": [
       "(Base.OneTo(3), Base.OneTo(3))"
      ]
     },
     "execution_count": 47,
     "metadata": {},
     "output_type": "execute_result"
    }
   ],
   "source": [
    "indind_full = map(r -> axes(r, 1), axes(toymatrix))"
   ]
  },
  {
   "cell_type": "code",
   "execution_count": 105,
   "id": "c4bbfe26",
   "metadata": {},
   "outputs": [
    {
     "data": {
      "text/plain": [
       "249"
      ]
     },
     "execution_count": 105,
     "metadata": {},
     "output_type": "execute_result"
    }
   ],
   "source": [
    "start_scan_idx = findmin(azimuth_angles)[2]"
   ]
  },
  {
   "cell_type": "code",
   "execution_count": 66,
   "id": "d22813d0",
   "metadata": {},
   "outputs": [
    {
     "data": {
      "text/plain": [
       "112-element Vector{Union{Missing, Float32}}:\n",
       "   0.02746582f0\n",
       "   1.0519409f0\n",
       "   1.9995117f0\n",
       "   3.0596924f0\n",
       "   4.040222f0\n",
       "   5.072937f0\n",
       "   6.0699463f0\n",
       "   7.0092773f0\n",
       "   8.02002f0\n",
       "   9.0060425f0\n",
       "  10.082703f0\n",
       "  10.986328f0\n",
       "  12.041016f0\n",
       "   ⋮\n",
       " 100.02777f0\n",
       " 101.01105f0\n",
       " 102.05475f0\n",
       " 103.03528f0\n",
       " 104.07623f0\n",
       " 105.02106f0\n",
       " 106.04004f0\n",
       " 107.039795f0\n",
       " 108.045044f0\n",
       " 109.072266f0\n",
       " 109.981384f0\n",
       " 111.049805f0"
      ]
     },
     "execution_count": 66,
     "metadata": {},
     "output_type": "execute_result"
    }
   ],
   "source": [
    "azimuth_angles[start_scan_idx:1:end]"
   ]
  },
  {
   "cell_type": "code",
   "execution_count": 80,
   "id": "a8f2c47b",
   "metadata": {},
   "outputs": [
    {
     "ename": "LoadError",
     "evalue": "TypeError: non-boolean (Missing) used in boolean context",
     "output_type": "error",
     "traceback": [
      "TypeError: non-boolean (Missing) used in boolean context",
      "",
      "Stacktrace:",
      " [1] Extrema64(a::LinearAlgebra.Adjoint{Union{Missing, Float32}, Matrix{Union{Missing, Float32}}})",
      "   @ GR.jlgr ~/.julia/packages/GR/yBe3g/src/jlgr.jl:268",
      " [2] minmax(kind::Symbol, plt::GR.jlgr.PlotObject)",
      "   @ GR.jlgr ~/.julia/packages/GR/yBe3g/src/jlgr.jl:313",
      " [3] minmax",
      "   @ ~/.julia/packages/GR/yBe3g/src/jlgr.jl:281 [inlined]",
      " [4] set_window(kind::Symbol, plt::GR.jlgr.PlotObject)",
      "   @ GR.jlgr ~/.julia/packages/GR/yBe3g/src/jlgr.jl:409",
      " [5] plot_data(flag::Bool, plt::GR.jlgr.PlotObject)",
      "   @ GR.jlgr ~/.julia/packages/GR/yBe3g/src/jlgr.jl:1249",
      " [6] plot_data (repeats 2 times)",
      "   @ ~/.julia/packages/GR/yBe3g/src/jlgr.jl:1192 [inlined]",
      " [7] polarheatmap(D::Matrix{Union{Missing, Float32}}; kv::Base.Pairs{Symbol, Union{}, Tuple{}, NamedTuple{(), Tuple{}}})",
      "   @ GR.jlgr ~/.julia/packages/GR/yBe3g/src/jlgr.jl:2245",
      " [8] polarheatmap(D::Matrix{Union{Missing, Float32}})",
      "   @ GR.jlgr ~/.julia/packages/GR/yBe3g/src/jlgr.jl:2236",
      " [9] top-level scope",
      "   @ In[80]:1"
     ]
    }
   ],
   "source": [
    "polarheatmap(full_DBZ)"
   ]
  },
  {
   "cell_type": "code",
   "execution_count": 20,
   "id": "68436239",
   "metadata": {},
   "outputs": [
    {
     "data": {
      "text/plain": [
       "\"2008-04-11 18:22:30.747\""
      ]
     },
     "execution_count": 20,
     "metadata": {},
     "output_type": "execute_result"
    }
   ],
   "source": [
    "begin_time = currset.attrib[\"start_time\"]"
   ]
  },
  {
   "cell_type": "code",
   "execution_count": 76,
   "id": "f3ff56f3",
   "metadata": {},
   "outputs": [
    {
     "data": {
      "text/plain": [
       "Set{Union{Missing, Float32}} with 145 elements:\n",
       "  1.3513184f0\n",
       "  1.2936401f0\n",
       "  9.08844f0\n",
       "  6.9625854f0\n",
       "  8.047485f0\n",
       "  1.2744141f0\n",
       "  8.997803f0\n",
       "  5.973816f0\n",
       "  9.060974f0\n",
       "  7.998047f0\n",
       "  1.340332f0\n",
       "  11.060486f0\n",
       "  0.48339844f0\n",
       "  11.071472f0\n",
       "  5.987549f0\n",
       "  4.9658203f0\n",
       "  2.2521973f0\n",
       "  11.030273f0\n",
       "  3.9990234f0\n",
       "  4.97406f0\n",
       "  3.147583f0\n",
       "  8.10791f0\n",
       "  3.100891f0\n",
       "  7.0806885f0\n",
       "  2.194519f0\n",
       "  ⋮ "
      ]
     },
     "execution_count": 76,
     "metadata": {},
     "output_type": "execute_result"
    }
   ],
   "source": [
    "Set(currset[\"elevation\"][:])"
   ]
  },
  {
   "cell_type": "code",
   "execution_count": 50,
   "id": "a0c8de30",
   "metadata": {},
   "outputs": [
    {
     "data": {
      "text/plain": [
       "true"
      ]
     },
     "execution_count": 50,
     "metadata": {},
     "output_type": "execute_result"
    }
   ],
   "source": [
    "haskey(currset.dim, \"sweep\")"
   ]
  },
  {
   "cell_type": "code",
   "execution_count": 9,
   "id": "fc58013a",
   "metadata": {},
   "outputs": [
    {
     "data": {
      "text/plain": [
       "360.0"
      ]
     },
     "execution_count": 9,
     "metadata": {},
     "output_type": "execute_result"
    }
   ],
   "source": [
    "# But functions like mean, sum (and many more) would load every element \n",
    "# individually which is very inefficient for large fields read from disk.\n",
    "#     You should instead convert such a variable to a standard Julia Array and then\n",
    "# #     do computations with it. See also the performance tips for more information.\n",
    "# Reading data from a file is not type-stable, because the type of the output of the read \n",
    "# operation is dependent on the type defined in the NetCDF files and the value of \n",
    "# various attribute (like scale_factor, add_offset and units for time conversion). \n",
    "# All this information cannot be inferred from a static analysis of the source code. \n",
    "# It is therefore recommended to use type annotation if the resulting type of a read operation in known:"
   ]
  },
  {
   "cell_type": "code",
   "execution_count": 50,
   "id": "73b402bb",
   "metadata": {},
   "outputs": [
    {
     "data": {
      "text/plain": [
       "RandomForestClassifier\n",
       "n_trees:             21\n",
       "n_subfeatures:       -1\n",
       "partial_sampling:    0.7\n",
       "max_depth:           14\n",
       "min_samples_leaf:    1\n",
       "min_samples_split:   2\n",
       "min_purity_increase: 0.0\n",
       "classes:             nothing\n",
       "ensemble:            nothing"
      ]
     },
     "execution_count": 50,
     "metadata": {},
     "output_type": "execute_result"
    }
   ],
   "source": [
    "\n",
    "###Hyperparameters from paper: 21 trees, max depth 14\n",
    "currmodel = DecisionTree.RandomForestClassifier(;n_trees=21, max_depth=14)\n",
    "###Determine the class weights "
   ]
  },
  {
   "cell_type": "code",
   "execution_count": 29,
   "id": "ceb9ee4b",
   "metadata": {},
   "outputs": [
    {
     "data": {
      "text/plain": [
       "0.36000000000000004"
      ]
     },
     "execution_count": 29,
     "metadata": {},
     "output_type": "execute_result"
    }
   ],
   "source": [
    "training_frac = .72\n",
    "validation_frac = .08 \n",
    "testing_frac = 1 - training_frac + validation_frac "
   ]
  },
  {
   "cell_type": "code",
   "execution_count": 15,
   "id": "e514fc09",
   "metadata": {},
   "outputs": [
    {
     "data": {
      "text/plain": [
       "12878391"
      ]
     },
     "execution_count": 15,
     "metadata": {},
     "output_type": "execute_result"
    }
   ],
   "source": [
    "filepath = \"./data/raw_Vortex.h5\"\n",
    "currset = HDF5.h5open(filepath)\n",
    "x = currset[\"X\"]\n",
    "y = currset[\"Y\"]\n",
    "\n",
    "n_features = size(x)[2]\n",
    "n_outputs = size(y)[1]"
   ]
  },
  {
   "cell_type": "code",
   "execution_count": 16,
   "id": "82f612d8",
   "metadata": {},
   "outputs": [
    {
     "data": {
      "text/html": [
       "<div><div style = \"float: left;\"><span>12878391×1 DataFrame</span></div><div style = \"float: right;\"><span style = \"font-style: italic;\">12878366 rows omitted</span></div><div style = \"clear: both;\"></div></div><div class = \"data-frame\" style = \"overflow-x: scroll;\"><table class = \"data-frame\" style = \"margin-bottom: 6px;\"><thead><tr class = \"header\"><th class = \"rowNumber\" style = \"font-weight: bold; text-align: right;\">Row</th><th style = \"text-align: left;\">x1</th></tr><tr class = \"subheader headerLastRow\"><th class = \"rowNumber\" style = \"font-weight: bold; text-align: right;\"></th><th title = \"Int64\" style = \"text-align: left;\">Int64</th></tr></thead><tbody><tr><td class = \"rowNumber\" style = \"font-weight: bold; text-align: right;\">1</td><td style = \"text-align: right;\">1</td></tr><tr><td class = \"rowNumber\" style = \"font-weight: bold; text-align: right;\">2</td><td style = \"text-align: right;\">1</td></tr><tr><td class = \"rowNumber\" style = \"font-weight: bold; text-align: right;\">3</td><td style = \"text-align: right;\">1</td></tr><tr><td class = \"rowNumber\" style = \"font-weight: bold; text-align: right;\">4</td><td style = \"text-align: right;\">1</td></tr><tr><td class = \"rowNumber\" style = \"font-weight: bold; text-align: right;\">5</td><td style = \"text-align: right;\">1</td></tr><tr><td class = \"rowNumber\" style = \"font-weight: bold; text-align: right;\">6</td><td style = \"text-align: right;\">1</td></tr><tr><td class = \"rowNumber\" style = \"font-weight: bold; text-align: right;\">7</td><td style = \"text-align: right;\">1</td></tr><tr><td class = \"rowNumber\" style = \"font-weight: bold; text-align: right;\">8</td><td style = \"text-align: right;\">1</td></tr><tr><td class = \"rowNumber\" style = \"font-weight: bold; text-align: right;\">9</td><td style = \"text-align: right;\">1</td></tr><tr><td class = \"rowNumber\" style = \"font-weight: bold; text-align: right;\">10</td><td style = \"text-align: right;\">1</td></tr><tr><td class = \"rowNumber\" style = \"font-weight: bold; text-align: right;\">11</td><td style = \"text-align: right;\">1</td></tr><tr><td class = \"rowNumber\" style = \"font-weight: bold; text-align: right;\">12</td><td style = \"text-align: right;\">1</td></tr><tr><td class = \"rowNumber\" style = \"font-weight: bold; text-align: right;\">13</td><td style = \"text-align: right;\">1</td></tr><tr><td style = \"text-align: right;\">&vellip;</td><td style = \"text-align: right;\">&vellip;</td></tr><tr><td class = \"rowNumber\" style = \"font-weight: bold; text-align: right;\">12878380</td><td style = \"text-align: right;\">1</td></tr><tr><td class = \"rowNumber\" style = \"font-weight: bold; text-align: right;\">12878381</td><td style = \"text-align: right;\">1</td></tr><tr><td class = \"rowNumber\" style = \"font-weight: bold; text-align: right;\">12878382</td><td style = \"text-align: right;\">1</td></tr><tr><td class = \"rowNumber\" style = \"font-weight: bold; text-align: right;\">12878383</td><td style = \"text-align: right;\">1</td></tr><tr><td class = \"rowNumber\" style = \"font-weight: bold; text-align: right;\">12878384</td><td style = \"text-align: right;\">1</td></tr><tr><td class = \"rowNumber\" style = \"font-weight: bold; text-align: right;\">12878385</td><td style = \"text-align: right;\">1</td></tr><tr><td class = \"rowNumber\" style = \"font-weight: bold; text-align: right;\">12878386</td><td style = \"text-align: right;\">1</td></tr><tr><td class = \"rowNumber\" style = \"font-weight: bold; text-align: right;\">12878387</td><td style = \"text-align: right;\">1</td></tr><tr><td class = \"rowNumber\" style = \"font-weight: bold; text-align: right;\">12878388</td><td style = \"text-align: right;\">1</td></tr><tr><td class = \"rowNumber\" style = \"font-weight: bold; text-align: right;\">12878389</td><td style = \"text-align: right;\">1</td></tr><tr><td class = \"rowNumber\" style = \"font-weight: bold; text-align: right;\">12878390</td><td style = \"text-align: right;\">1</td></tr><tr><td class = \"rowNumber\" style = \"font-weight: bold; text-align: right;\">12878391</td><td style = \"text-align: right;\">1</td></tr></tbody></table></div>"
      ],
      "text/latex": [
       "\\begin{tabular}{r|c}\n",
       "\t& x1\\\\\n",
       "\t\\hline\n",
       "\t& Int64\\\\\n",
       "\t\\hline\n",
       "\t1 & 1 \\\\\n",
       "\t2 & 1 \\\\\n",
       "\t3 & 1 \\\\\n",
       "\t4 & 1 \\\\\n",
       "\t5 & 1 \\\\\n",
       "\t6 & 1 \\\\\n",
       "\t7 & 1 \\\\\n",
       "\t8 & 1 \\\\\n",
       "\t9 & 1 \\\\\n",
       "\t10 & 1 \\\\\n",
       "\t11 & 1 \\\\\n",
       "\t12 & 1 \\\\\n",
       "\t13 & 1 \\\\\n",
       "\t14 & 1 \\\\\n",
       "\t15 & 1 \\\\\n",
       "\t16 & 1 \\\\\n",
       "\t17 & 1 \\\\\n",
       "\t18 & 1 \\\\\n",
       "\t19 & 1 \\\\\n",
       "\t20 & 1 \\\\\n",
       "\t21 & 1 \\\\\n",
       "\t22 & 1 \\\\\n",
       "\t23 & 1 \\\\\n",
       "\t24 & 1 \\\\\n",
       "\t25 & 1 \\\\\n",
       "\t26 & 1 \\\\\n",
       "\t27 & 1 \\\\\n",
       "\t28 & 1 \\\\\n",
       "\t29 & 1 \\\\\n",
       "\t30 & 1 \\\\\n",
       "\t$\\dots$ & $\\dots$ \\\\\n",
       "\\end{tabular}\n"
      ],
      "text/plain": [
       "\u001b[1m12878391×1 DataFrame\u001b[0m\n",
       "\u001b[1m      Row \u001b[0m│\u001b[1m x1    \u001b[0m\n",
       "          │\u001b[90m Int64 \u001b[0m\n",
       "──────────┼───────\n",
       "        1 │     1\n",
       "        2 │     1\n",
       "        3 │     1\n",
       "        4 │     1\n",
       "        5 │     1\n",
       "        6 │     1\n",
       "        7 │     1\n",
       "        8 │     1\n",
       "        9 │     1\n",
       "       10 │     1\n",
       "       11 │     1\n",
       "    ⋮     │   ⋮\n",
       " 12878382 │     1\n",
       " 12878383 │     1\n",
       " 12878384 │     1\n",
       " 12878385 │     1\n",
       " 12878386 │     1\n",
       " 12878387 │     1\n",
       " 12878388 │     1\n",
       " 12878389 │     1\n",
       " 12878390 │     1\n",
       " 12878391 │     1\n",
       "\u001b[36m12878370 rows omitted\u001b[0m"
      ]
     },
     "execution_count": 16,
     "metadata": {},
     "output_type": "execute_result"
    }
   ],
   "source": [
    "###Convert HDFS data into a dataframe \n",
    "X_DF = DataFrames.DataFrame(x[:,:], :auto)\n",
    "Y_DF = DataFrames.DataFrame(reshape(y[:],(n_outputs, 1)), :auto)"
   ]
  },
  {
   "cell_type": "code",
   "execution_count": 38,
   "id": "45988c95",
   "metadata": {
    "collapsed": true
   },
   "outputs": [
    {
     "data": {
      "text/plain": [
       "((\u001b[1m9272442×14 DataFrame\u001b[0m\n",
       "\u001b[1m     Row \u001b[0m│\u001b[1m x1      \u001b[0m\u001b[1m x2      \u001b[0m\u001b[1m x3      \u001b[0m\u001b[1m x4       \u001b[0m\u001b[1m x5           \u001b[0m\u001b[1m x6           \u001b[0m\u001b[1m x7\u001b[0m ⋯\n",
       "         │\u001b[90m Float64 \u001b[0m\u001b[90m Float64 \u001b[0m\u001b[90m Float64 \u001b[0m\u001b[90m Float64  \u001b[0m\u001b[90m Float64      \u001b[0m\u001b[90m Float64      \u001b[0m\u001b[90m Fl\u001b[0m ⋯\n",
       "─────────┼──────────────────────────────────────────────────────────────────────\n",
       "       1 │   -7.6    -34.99     0.83   1358.94      -8.636         7.24533     ⋯\n",
       "       2 │   -7.71    10.5      0.92   1431.68      -8.91842       8.93789\n",
       "       3 │   -9.06    18.5      0.94   1507.07      -9.03609      11.7696\n",
       "       4 │   -9.6     25.13     0.97   1584.99      -9.05296      13.7578\n",
       "       5 │  -10.12    25.75     0.98   1665.38      -9.2037       22.8863      ⋯\n",
       "       6 │   -9.27    27.25     0.98   1748.14      -9.27296      24.7196\n",
       "       7 │   -9.04    26.13     0.96   1833.19      -9.2263       25.3489\n",
       "       8 │   -7.8     25.38     0.96   1920.43      -9.19481      24.9322\n",
       "       9 │   -7.1     23.0      0.95   2009.79      -9.24185      23.9789      ⋯\n",
       "      10 │   -8.41    20.38     0.96   2101.2       -9.11111      23.0763\n",
       "      11 │   -9.6     20.25     0.97   2194.56      -8.88296      22.0763\n",
       "    ⋮    │    ⋮        ⋮        ⋮        ⋮           ⋮             ⋮           ⋱\n",
       " 9272433 │   -6.09    19.75     0.97   1465.97      -6.01458      10.066\n",
       " 9272434 │   -6.37    20.38     0.97   1535.42      -5.98896      18.7706      ⋯\n",
       " 9272435 │   -6.47    23.25     0.97   1607.51      -5.93812      21.4921\n",
       " 9272436 │   -6.28    22.38     0.94   1682.14      -5.80458      22.9035\n",
       " 9272437 │   -5.6     24.25     0.96   1759.25      -5.6775       23.2344\n",
       " 9272438 │   -5.46    24.0      0.96   1838.74      -5.52125      22.9479      ⋯\n",
       " 9272439 │   -5.45    24.25     0.99   1920.54      -5.35229      21.5181\n",
       " 9272440 │   -4.71    21.75     0.95   2004.56      -5.24667      19.539\n",
       " 9272441 │   -4.81    19.0      0.99   2090.73      -5.15333      16.4556\n",
       " 9272442 │   -4.65    16.88     0.98   2178.97      -5.00562      12.9508      ⋯\n",
       "\u001b[36m                                              8 columns and 9272421 rows omitted\u001b[0m, \u001b[1m1030271×14 DataFrame\u001b[0m\n",
       "\u001b[1m     Row \u001b[0m│\u001b[1m x1      \u001b[0m\u001b[1m x2      \u001b[0m\u001b[1m x3      \u001b[0m\u001b[1m x4      \u001b[0m\u001b[1m x5           \u001b[0m\u001b[1m x6           \u001b[0m\u001b[1m x7 \u001b[0m ⋯\n",
       "         │\u001b[90m Float64 \u001b[0m\u001b[90m Float64 \u001b[0m\u001b[90m Float64 \u001b[0m\u001b[90m Float64 \u001b[0m\u001b[90m Float64      \u001b[0m\u001b[90m Float64      \u001b[0m\u001b[90m Flo\u001b[0m ⋯\n",
       "─────────┼──────────────────────────────────────────────────────────────────────\n",
       "       1 │   -4.89    10.13     0.95  2269.2       -4.97021       9.50833      ⋯\n",
       "       2 │   -5.06     3.25     0.96  2361.36      -5.00229       7.00604\n",
       "       3 │   -4.2      0.13     0.99  2455.38      -5.20667       5.23271\n",
       "       4 │   -5.31    -0.99     0.94  2551.18      -5.44667       4.38083\n",
       "       5 │   -4.98     2.25     0.97  2648.7       -5.87729       3.83417      ⋯\n",
       "       6 │   -6.58     6.13     0.91  2747.87      -6.25917       4.13354\n",
       "       7 │   -7.6     10.25     0.99  2848.64      -6.82604       4.33104\n",
       "       8 │   -8.08     8.5      0.93  2950.94      -7.35646       4.91417\n",
       "       9 │   -7.65     6.63     0.96  3054.71      -7.92521       4.93771      ⋯\n",
       "      10 │   -9.53     1.0      0.95  3159.91      -8.34083       4.77146\n",
       "      11 │   -9.68     1.13     0.94  3266.47      -8.66021       4.12875\n",
       "    ⋮    │    ⋮        ⋮        ⋮        ⋮          ⋮             ⋮            ⋱\n",
       " 1030262 │   16.98   -13.62     0.09  1720.09      -2.5825      -13.4327\n",
       " 1030263 │   79.2    -13.37     0.07  1802.6        1.69583     -13.6669       ⋯\n",
       " 1030264 │  -59.62   -13.87     0.07  1887.35    -675.314      -696.836      -\n",
       " 1030265 │  -50.07   -12.99     0.13  1974.25   -2724.63      -2744.83      -2\n",
       " 1030266 │   73.01   -12.99     0.19  2063.22   -6138.61      -6157.65      -6\n",
       " 1030267 │   40.36   -12.49     0.15  2154.19  -10920.7      -10934.4      -10 ⋯\n",
       " 1030268 │   43.83   -34.87     0.0   2247.1   -15694.5      -15710.7      -15\n",
       " 1030269 │   70.34   -34.99     0.43  1237.32      -2.69926       3.75889\n",
       " 1030270 │   -1.6     19.25     0.93  1175.3       -4.38529       3.13647\n",
       " 1030271 │   -1.45    18.88     0.91  1116.26      -3.88512       3.79927      ⋯\n",
       "\u001b[36m                                              8 columns and 1030250 rows omitted\u001b[0m), (\u001b[1m9272442×1 DataFrame\u001b[0m\n",
       "\u001b[1m     Row \u001b[0m│\u001b[1m x1    \u001b[0m\n",
       "         │\u001b[90m Int64 \u001b[0m\n",
       "─────────┼───────\n",
       "       1 │     1\n",
       "       2 │     1\n",
       "       3 │     1\n",
       "       4 │     1\n",
       "       5 │     1\n",
       "       6 │     1\n",
       "       7 │     1\n",
       "       8 │     1\n",
       "       9 │     1\n",
       "      10 │     1\n",
       "      11 │     1\n",
       "    ⋮    │   ⋮\n",
       " 9272433 │     1\n",
       " 9272434 │     1\n",
       " 9272435 │     1\n",
       " 9272436 │     1\n",
       " 9272437 │     1\n",
       " 9272438 │     1\n",
       " 9272439 │     1\n",
       " 9272440 │     1\n",
       " 9272441 │     1\n",
       " 9272442 │     1\n",
       "\u001b[36m9272421 rows omitted\u001b[0m, \u001b[1m1030271×1 DataFrame\u001b[0m\n",
       "\u001b[1m     Row \u001b[0m│\u001b[1m x1    \u001b[0m\n",
       "         │\u001b[90m Int64 \u001b[0m\n",
       "─────────┼───────\n",
       "       1 │     1\n",
       "       2 │     1\n",
       "       3 │     1\n",
       "       4 │     1\n",
       "       5 │     1\n",
       "       6 │     1\n",
       "       7 │     1\n",
       "       8 │     1\n",
       "       9 │     1\n",
       "      10 │     1\n",
       "      11 │     1\n",
       "    ⋮    │   ⋮\n",
       " 1030262 │     0\n",
       " 1030263 │     0\n",
       " 1030264 │     0\n",
       " 1030265 │     0\n",
       " 1030266 │     0\n",
       " 1030267 │     0\n",
       " 1030268 │     0\n",
       " 1030269 │     0\n",
       " 1030270 │     0\n",
       " 1030271 │     0\n",
       "\u001b[36m1030250 rows omitted\u001b[0m))"
      ]
     },
     "execution_count": 38,
     "metadata": {},
     "output_type": "execute_result"
    }
   ],
   "source": [
    "###Partition the data accordingly \n",
    "(training_x, testing_x), (training_y, testing_y) = partition((X_DF, Y_DF), (training_frac + validation_frac), multi=true)\n",
    "(training_x, validation_x), (training_y, validation_y) = partition((training_x, training_y), \n",
    "                                                        training_frac/(training_frac + validation_frac), multi=true )"
   ]
  },
  {
   "cell_type": "code",
   "execution_count": 45,
   "id": "df180b41",
   "metadata": {},
   "outputs": [
    {
     "data": {
      "text/plain": [
       "12878391"
      ]
     },
     "execution_count": 45,
     "metadata": {},
     "output_type": "execute_result"
    }
   ],
   "source": [
    "total = nrow(training_x) + nrow(validation_x) + nrow(testing_x)"
   ]
  },
  {
   "cell_type": "code",
   "execution_count": 66,
   "id": "c85e898c",
   "metadata": {},
   "outputs": [
    {
     "data": {
      "text/plain": [
       "9.252876734733581"
      ]
     },
     "execution_count": 66,
     "metadata": {},
     "output_type": "execute_result"
    }
   ],
   "source": [
    "(endtime-starttime)/60"
   ]
  },
  {
   "cell_type": "code",
   "execution_count": 62,
   "id": "cfe2e5a7",
   "metadata": {},
   "outputs": [
    {
     "data": {
      "text/plain": [
       "1.698872595271028e9"
      ]
     },
     "execution_count": 62,
     "metadata": {},
     "output_type": "execute_result"
    }
   ],
   "source": [
    "starttime = time()\n",
    "fit!(currmodel, x[:,:], y[:])\n",
    "endtime = time() "
   ]
  },
  {
   "cell_type": "code",
   "execution_count": 18,
   "id": "91592b30",
   "metadata": {},
   "outputs": [
    {
     "data": {
      "text/plain": [
       "12878391-element Vector{Int64}:\n",
       " 1\n",
       " 1\n",
       " 1\n",
       " 1\n",
       " 1\n",
       " 1\n",
       " 1\n",
       " 1\n",
       " 1\n",
       " 1\n",
       " 1\n",
       " 1\n",
       " 1\n",
       " ⋮\n",
       " 1\n",
       " 1\n",
       " 1\n",
       " 1\n",
       " 1\n",
       " 1\n",
       " 1\n",
       " 1\n",
       " 1\n",
       " 1\n",
       " 1\n",
       " 1"
      ]
     },
     "execution_count": 18,
     "metadata": {},
     "output_type": "execute_result"
    }
   ],
   "source": [
    "results = predict(currmodel,x[:,:])"
   ]
  },
  {
   "cell_type": "code",
   "execution_count": 21,
   "id": "dc49c6a2",
   "metadata": {},
   "outputs": [
    {
     "data": {
      "text/plain": [
       "169782"
      ]
     },
     "execution_count": 21,
     "metadata": {},
     "output_type": "execute_result"
    }
   ],
   "source": [
    "nwrong = sum(abs.(results - y[:]))"
   ]
  },
  {
   "cell_type": "code",
   "execution_count": 22,
   "id": "3d114301",
   "metadata": {},
   "outputs": [
    {
     "data": {
      "text/plain": [
       "0.01318347920947578"
      ]
     },
     "execution_count": 22,
     "metadata": {},
     "output_type": "execute_result"
    }
   ],
   "source": [
    "nwrong / length(y)"
   ]
  },
  {
   "cell_type": "code",
   "execution_count": 13,
   "id": "f4f1a602",
   "metadata": {},
   "outputs": [
    {
     "name": "stdout",
     "output_type": "stream",
     "text": [
      "search: \u001b[0m\u001b[1mR\u001b[22m\u001b[0m\u001b[1ma\u001b[22m\u001b[0m\u001b[1mn\u001b[22m\u001b[0m\u001b[1md\u001b[22m\u001b[0m\u001b[1mo\u001b[22m\u001b[0m\u001b[1mm\u001b[22m\u001b[0m\u001b[1mF\u001b[22m\u001b[0m\u001b[1mo\u001b[22m\u001b[0m\u001b[1mr\u001b[22m\u001b[0m\u001b[1me\u001b[22m\u001b[0m\u001b[1ms\u001b[22m\u001b[0m\u001b[1mt\u001b[22m\u001b[0m\u001b[1mC\u001b[22m\u001b[0m\u001b[1ml\u001b[22m\u001b[0m\u001b[1ma\u001b[22m\u001b[0m\u001b[1ms\u001b[22m\u001b[0m\u001b[1ms\u001b[22m\u001b[0m\u001b[1mi\u001b[22m\u001b[0m\u001b[1mf\u001b[22m\u001b[0m\u001b[1mi\u001b[22m\u001b[0m\u001b[1me\u001b[22m\u001b[0m\u001b[1mr\u001b[22m\n",
      "\n"
     ]
    },
    {
     "data": {
      "text/latex": [
       "\\begin{verbatim}\n",
       "RandomForestClassifier(; n_subfeatures::Int=-1,\n",
       "                       n_trees::Int=10,\n",
       "                       partial_sampling::Float=0.7,\n",
       "                       max_depth::Int=-1,\n",
       "                       rng=Random.GLOBAL_RNG,\n",
       "                       impurity_importance::Bool=true)\n",
       "\\end{verbatim}\n",
       "Random forest classification. See \\href{https://github.com/bensadeghi/DecisionTree.jl}{DecisionTree.jl's documentation}\n",
       "\n",
       "Hyperparameters:\n",
       "\n",
       "\\begin{itemize}\n",
       "\\item \\texttt{n\\_subfeatures}: number of features to consider at random per split (default: -1, sqrt(\\# features))\n",
       "\n",
       "\n",
       "\\item \\texttt{n\\_trees}: number of trees to train (default: 10)\n",
       "\n",
       "\n",
       "\\item \\texttt{partial\\_sampling}: fraction of samples to train each tree on (default: 0.7)\n",
       "\n",
       "\n",
       "\\item \\texttt{max\\_depth}: maximum depth of the decision trees (default: no maximum)\n",
       "\n",
       "\n",
       "\\item \\texttt{min\\_samples\\_leaf}: the minimum number of samples each leaf needs to have\n",
       "\n",
       "\n",
       "\\item \\texttt{min\\_samples\\_split}: the minimum number of samples in needed for a split\n",
       "\n",
       "\n",
       "\\item \\texttt{min\\_purity\\_increase}: minimum purity needed for a split\n",
       "\n",
       "\n",
       "\\item \\texttt{rng}: the random number generator to use. Can be an \\texttt{Int}, which will be used to seed and create a new random number generator. Multi-threaded forests must be seeded with an \\texttt{Int}\n",
       "\n",
       "\n",
       "\\item \\texttt{impurity\\_importance}: whether to calculate feature importances using \\texttt{Mean Decrease in Impurity (MDI)}. See \\href{@ref}{\\texttt{DecisionTree.impurity\\_importance}}\n",
       "\n",
       "\\end{itemize}\n",
       "Implements \\texttt{fit!}, \\texttt{predict}, \\texttt{predict\\_proba}, \\texttt{get\\_classes}\n",
       "\n"
      ],
      "text/markdown": [
       "```\n",
       "RandomForestClassifier(; n_subfeatures::Int=-1,\n",
       "                       n_trees::Int=10,\n",
       "                       partial_sampling::Float=0.7,\n",
       "                       max_depth::Int=-1,\n",
       "                       rng=Random.GLOBAL_RNG,\n",
       "                       impurity_importance::Bool=true)\n",
       "```\n",
       "\n",
       "Random forest classification. See [DecisionTree.jl's documentation](https://github.com/bensadeghi/DecisionTree.jl)\n",
       "\n",
       "Hyperparameters:\n",
       "\n",
       "  * `n_subfeatures`: number of features to consider at random per split (default: -1, sqrt(# features))\n",
       "  * `n_trees`: number of trees to train (default: 10)\n",
       "  * `partial_sampling`: fraction of samples to train each tree on (default: 0.7)\n",
       "  * `max_depth`: maximum depth of the decision trees (default: no maximum)\n",
       "  * `min_samples_leaf`: the minimum number of samples each leaf needs to have\n",
       "  * `min_samples_split`: the minimum number of samples in needed for a split\n",
       "  * `min_purity_increase`: minimum purity needed for a split\n",
       "  * `rng`: the random number generator to use. Can be an `Int`, which will be used to seed and create a new random number generator. Multi-threaded forests must be seeded with an `Int`\n",
       "  * `impurity_importance`: whether to calculate feature importances using `Mean Decrease in Impurity (MDI)`. See [`DecisionTree.impurity_importance`](@ref)\n",
       "\n",
       "Implements `fit!`, `predict`, `predict_proba`, `get_classes`\n"
      ],
      "text/plain": [
       "\u001b[36m  RandomForestClassifier(; n_subfeatures::Int=-1,\u001b[39m\n",
       "\u001b[36m                         n_trees::Int=10,\u001b[39m\n",
       "\u001b[36m                         partial_sampling::Float=0.7,\u001b[39m\n",
       "\u001b[36m                         max_depth::Int=-1,\u001b[39m\n",
       "\u001b[36m                         rng=Random.GLOBAL_RNG,\u001b[39m\n",
       "\u001b[36m                         impurity_importance::Bool=true)\u001b[39m\n",
       "\n",
       "  Random forest classification. See DecisionTree.jl's documentation\n",
       "  (https://github.com/bensadeghi/DecisionTree.jl)\n",
       "\n",
       "  Hyperparameters:\n",
       "\n",
       "    •  \u001b[36mn_subfeatures\u001b[39m: number of features to consider at random per split\n",
       "       (default: -1, sqrt(# features))\n",
       "\n",
       "    •  \u001b[36mn_trees\u001b[39m: number of trees to train (default: 10)\n",
       "\n",
       "    •  \u001b[36mpartial_sampling\u001b[39m: fraction of samples to train each tree on\n",
       "       (default: 0.7)\n",
       "\n",
       "    •  \u001b[36mmax_depth\u001b[39m: maximum depth of the decision trees (default: no\n",
       "       maximum)\n",
       "\n",
       "    •  \u001b[36mmin_samples_leaf\u001b[39m: the minimum number of samples each leaf needs to\n",
       "       have\n",
       "\n",
       "    •  \u001b[36mmin_samples_split\u001b[39m: the minimum number of samples in needed for a\n",
       "       split\n",
       "\n",
       "    •  \u001b[36mmin_purity_increase\u001b[39m: minimum purity needed for a split\n",
       "\n",
       "    •  \u001b[36mrng\u001b[39m: the random number generator to use. Can be an \u001b[36mInt\u001b[39m, which will\n",
       "       be used to seed and create a new random number generator.\n",
       "       Multi-threaded forests must be seeded with an \u001b[36mInt\u001b[39m\n",
       "\n",
       "    •  \u001b[36mimpurity_importance\u001b[39m: whether to calculate feature importances\n",
       "       using \u001b[36mMean Decrease in Impurity (MDI)\u001b[39m. See\n",
       "       \u001b[36mDecisionTree.impurity_importance\u001b[39m\n",
       "\n",
       "  Implements \u001b[36mfit!\u001b[39m, \u001b[36mpredict\u001b[39m, \u001b[36mpredict_proba\u001b[39m, \u001b[36mget_classes\u001b[39m"
      ]
     },
     "execution_count": 13,
     "metadata": {},
     "output_type": "execute_result"
    }
   ],
   "source": [
    "?RandomForestClassifier"
   ]
  },
  {
   "cell_type": "code",
   "execution_count": 133,
   "id": "ab7ddd9a",
   "metadata": {},
   "outputs": [
    {
     "data": {
      "text/plain": [
       "Tuple{Table{<:Union{AbstractVector{<:Count}, AbstractVector{<:Continuous}}}, AbstractVector{<:Finite}}"
      ]
     },
     "execution_count": 133,
     "metadata": {},
     "output_type": "execute_result"
    }
   ],
   "source": [
    "MLJ.fit_data_scitype(default_model)"
   ]
  },
  {
   "cell_type": "code",
   "execution_count": 64,
   "id": "8439f7ba",
   "metadata": {},
   "outputs": [
    {
     "name": "stdout",
     "output_type": "stream",
     "text": [
      "import MLJScikitLearnInterface ✔\n"
     ]
    },
    {
     "name": "stderr",
     "output_type": "stream",
     "text": [
      "\u001b[36m\u001b[1m[ \u001b[22m\u001b[39m\u001b[36m\u001b[1mInfo: \u001b[22m\u001b[39mFor silent loading, specify `verbosity=0`. \n"
     ]
    },
    {
     "data": {
      "text/plain": [
       "RandomForestClassifier(\n",
       "  n_estimators = 14, \n",
       "  criterion = \"gini\", \n",
       "  max_depth = nothing, \n",
       "  min_samples_split = 2, \n",
       "  min_samples_leaf = 1, \n",
       "  min_weight_fraction_leaf = 0.0, \n",
       "  max_features = \"sqrt\", \n",
       "  max_leaf_nodes = nothing, \n",
       "  min_impurity_decrease = 0.0, \n",
       "  bootstrap = true, \n",
       "  oob_score = false, \n",
       "  n_jobs = nothing, \n",
       "  random_state = nothing, \n",
       "  verbose = 0, \n",
       "  warm_start = false, \n",
       "  class_weight = nothing, \n",
       "  ccp_alpha = 0.0, \n",
       "  max_samples = nothing)"
      ]
     },
     "execution_count": 64,
     "metadata": {},
     "output_type": "execute_result"
    }
   ],
   "source": [
    "##Grab the model and instantiate a base version of it\n",
    "RFC = @load RandomForestClassifier pkg=MLJScikitLearnInterface\n",
    "default_model = RFC(n_estimators=14)"
   ]
  },
  {
   "cell_type": "code",
   "execution_count": 158,
   "id": "0c7756e1",
   "metadata": {},
   "outputs": [
    {
     "name": "stderr",
     "output_type": "stream",
     "text": [
      "\u001b[33m\u001b[1m┌ \u001b[22m\u001b[39m\u001b[33m\u001b[1mWarning: \u001b[22m\u001b[39mThe number and/or types of data arguments do not match what the specified model\n",
      "\u001b[33m\u001b[1m│ \u001b[22m\u001b[39msupports. Suppress this type check by specifying `scitype_check_level=0`.\n",
      "\u001b[33m\u001b[1m│ \u001b[22m\u001b[39m\n",
      "\u001b[33m\u001b[1m│ \u001b[22m\u001b[39mRun `@doc MLJScikitLearnInterface.RandomForestClassifier` to learn more about your model's requirements.\n",
      "\u001b[33m\u001b[1m│ \u001b[22m\u001b[39m\n",
      "\u001b[33m\u001b[1m│ \u001b[22m\u001b[39mCommonly, but non exclusively, supervised models are constructed using the syntax\n",
      "\u001b[33m\u001b[1m│ \u001b[22m\u001b[39m`machine(model, X, y)` or `machine(model, X, y, w)` while most other models are\n",
      "\u001b[33m\u001b[1m│ \u001b[22m\u001b[39mconstructed with `machine(model, X)`.  Here `X` are features, `y` a target, and `w`\n",
      "\u001b[33m\u001b[1m│ \u001b[22m\u001b[39msample or class weights.\n",
      "\u001b[33m\u001b[1m│ \u001b[22m\u001b[39m\n",
      "\u001b[33m\u001b[1m│ \u001b[22m\u001b[39mIn general, data in `machine(model, data...)` is expected to satisfy\n",
      "\u001b[33m\u001b[1m│ \u001b[22m\u001b[39m\n",
      "\u001b[33m\u001b[1m│ \u001b[22m\u001b[39m    scitype(data) <: MLJ.fit_data_scitype(model)\n",
      "\u001b[33m\u001b[1m│ \u001b[22m\u001b[39m\n",
      "\u001b[33m\u001b[1m│ \u001b[22m\u001b[39mIn the present case:\n",
      "\u001b[33m\u001b[1m│ \u001b[22m\u001b[39m\n",
      "\u001b[33m\u001b[1m│ \u001b[22m\u001b[39mscitype(data) = Tuple{Table{AbstractVector{Continuous}}, Table{AbstractVector{Count}}}\n",
      "\u001b[33m\u001b[1m│ \u001b[22m\u001b[39m\n",
      "\u001b[33m\u001b[1m│ \u001b[22m\u001b[39mfit_data_scitype(model) = Tuple{Table{<:Union{AbstractVector{<:Count}, AbstractVector{<:Continuous}}}, AbstractVector{<:Finite}}\n",
      "\u001b[33m\u001b[1m└ \u001b[22m\u001b[39m\u001b[90m@ MLJBase ~/.julia/packages/MLJBase/fEiP2/src/machines.jl:230\u001b[39m\n"
     ]
    },
    {
     "ename": "LoadError",
     "evalue": "ArgumentError: \nobservation scitype of target = `AbstractVector{Count}` but (LogLoss(tol = 2.22045e-16)) only supports `Union{Missing, Infinite, Finite}`.\nTo override measure checks, set check_measure=false. ",
     "output_type": "error",
     "traceback": [
      "ArgumentError: \nobservation scitype of target = `AbstractVector{Count}` but (LogLoss(tol = 2.22045e-16)) only supports `Union{Missing, Infinite, Finite}`.\nTo override measure checks, set check_measure=false. ",
      "",
      "Stacktrace:",
      "  [1] _check_measure(measure::StatisticalMeasuresBase.RobustMeasure{StatisticalMeasuresBase.FussyMeasure{StatisticalMeasuresBase.RobustMeasure{StatisticalMeasures._LogLossType{Float64}}, typeof(StatisticalMeasures.l2_check)}}, operation::Function, model::MLJScikitLearnInterface.RandomForestClassifier, y::DataFrame)",
      "    @ MLJBase ~/.julia/packages/MLJBase/fEiP2/src/resampling.jl:641",
      "  [2] #259",
      "    @ ~/.julia/packages/MLJBase/fEiP2/src/resampling.jl:668 [inlined]",
      "  [3] _all(f::MLJBase.var\"#259#260\"{Vector{StatisticalMeasuresBase.RobustMeasure{StatisticalMeasuresBase.FussyMeasure{StatisticalMeasuresBase.RobustMeasure{StatisticalMeasures._LogLossType{Float64}}, typeof(StatisticalMeasures.l2_check)}}}, Vector{typeof(predict)}, MLJScikitLearnInterface.RandomForestClassifier, DataFrame}, itr::Base.OneTo{Int64}, #unused#::Colon)",
      "    @ Base ./reduce.jl:1283",
      "  [4] all(f::Function, a::Base.OneTo{Int64}; dims::Function)",
      "    @ Base ./reducedim.jl:1007",
      "  [5] all",
      "    @ ./reducedim.jl:1007 [inlined]",
      "  [6] _check_measures",
      "    @ ~/.julia/packages/MLJBase/fEiP2/src/resampling.jl:667 [inlined]",
      "  [7] _check_weights_measures(weights::Nothing, class_weights::Nothing, measures::Vector{StatisticalMeasuresBase.RobustMeasure{StatisticalMeasuresBase.FussyMeasure{StatisticalMeasuresBase.RobustMeasure{StatisticalMeasures._LogLossType{Float64}}, typeof(StatisticalMeasures.l2_check)}}}, mach::Machine{MLJScikitLearnInterface.RandomForestClassifier, true}, operations::Vector{typeof(predict)}, verbosity::Int64, check_measure::Bool)",
      "    @ MLJBase ~/.julia/packages/MLJBase/fEiP2/src/resampling.jl:717",
      "  [8] evaluate!(mach::Machine{MLJScikitLearnInterface.RandomForestClassifier, true}; resampling::CV, measures::Nothing, measure::Nothing, weights::Nothing, class_weights::Nothing, operations::Nothing, operation::Nothing, acceleration::CPU1{Nothing}, rows::Nothing, repeats::Int64, force::Bool, check_measure::Bool, per_observation::Bool, verbosity::Int64, logger::Nothing)",
      "    @ MLJBase ~/.julia/packages/MLJBase/fEiP2/src/resampling.jl:980",
      "  [9] evaluate!(mach::Machine{MLJScikitLearnInterface.RandomForestClassifier, true})",
      "    @ MLJBase ~/.julia/packages/MLJBase/fEiP2/src/resampling.jl:937",
      " [10] evaluate(::MLJScikitLearnInterface.RandomForestClassifier, ::DataFrame, ::Vararg{DataFrame}; cache::Bool, kwargs::Base.Pairs{Symbol, Union{}, Tuple{}, NamedTuple{(), Tuple{}}})",
      "    @ MLJBase ~/.julia/packages/MLJBase/fEiP2/src/resampling.jl:1035",
      " [11] evaluate(::MLJScikitLearnInterface.RandomForestClassifier, ::DataFrame, ::DataFrame)",
      "    @ MLJBase ~/.julia/packages/MLJBase/fEiP2/src/resampling.jl:1035",
      " [12] top-level scope",
      "    @ In[158]:1"
     ]
    }
   ],
   "source": [
    "evaluate(default_model, X_DF, Y_DF) "
   ]
  },
  {
   "cell_type": "code",
   "execution_count": 138,
   "id": "c85fddf5",
   "metadata": {},
   "outputs": [
    {
     "data": {
      "text/plain": [
       "Table{AbstractVector{Count}}"
      ]
     },
     "execution_count": 138,
     "metadata": {},
     "output_type": "execute_result"
    }
   ],
   "source": [
    "scitype(Y_DF)"
   ]
  },
  {
   "cell_type": "code",
   "execution_count": 156,
   "id": "2f7c1c45",
   "metadata": {},
   "outputs": [
    {
     "data": {
      "text/plain": [
       "true"
      ]
     },
     "execution_count": 156,
     "metadata": {},
     "output_type": "execute_result"
    }
   ],
   "source": [
    "Vector<:AbstractVector"
   ]
  },
  {
   "cell_type": "code",
   "execution_count": 155,
   "id": "4ab7303d",
   "metadata": {},
   "outputs": [
    {
     "ename": "LoadError",
     "evalue": "TypeError: in <:, expected Type, got a value of type Vector{Int64}",
     "output_type": "error",
     "traceback": [
      "TypeError: in <:, expected Type, got a value of type Vector{Int64}",
      "",
      "Stacktrace:",
      " [1] top-level scope",
      "   @ In[155]:1"
     ]
    }
   ],
   "source": [
    "y[:]<:Union{AbstractVector{<:Count}, AbstractVector{<:Continuous}}"
   ]
  },
  {
   "cell_type": "code",
   "execution_count": 63,
   "id": "611e42a7",
   "metadata": {},
   "outputs": [
    {
     "data": {
      "text/latex": [
       "\\begin{verbatim}\n",
       "RandomForestClassifier\n",
       "\\end{verbatim}\n",
       "A model type for constructing a random forest classifier, based on \\href{https://github.com/JuliaAI/MLJScikitLearnInterface.jl}{MLJScikitLearnInterface.jl}, and implementing the MLJ model interface.\n",
       "\n",
       "From MLJ, the type can be imported using\n",
       "\n",
       "\\begin{verbatim}\n",
       "RandomForestClassifier = @load RandomForestClassifier pkg=MLJScikitLearnInterface\n",
       "\\end{verbatim}\n",
       "Do \\texttt{model = RandomForestClassifier()} to construct an instance with default hyper-parameters. Provide keyword arguments to override hyper-parameter defaults, as in \\texttt{RandomForestClassifier(n\\_estimators=...)}.\n",
       "\n",
       "A random forest is a meta estimator that fits a number of  classifying decision trees on various sub-samples of the  dataset and uses averaging to improve the predictive accuracy  and control over-fitting. The sub-sample size is controlled  with the \\texttt{max\\_samples} parameter if \\texttt{bootstrap=True} (default),  otherwise the whole dataset is used to build each tree.\n",
       "\n"
      ],
      "text/markdown": [
       "```\n",
       "RandomForestClassifier\n",
       "```\n",
       "\n",
       "A model type for constructing a random forest classifier, based on [MLJScikitLearnInterface.jl](https://github.com/JuliaAI/MLJScikitLearnInterface.jl), and implementing the MLJ model interface.\n",
       "\n",
       "From MLJ, the type can be imported using\n",
       "\n",
       "```\n",
       "RandomForestClassifier = @load RandomForestClassifier pkg=MLJScikitLearnInterface\n",
       "```\n",
       "\n",
       "Do `model = RandomForestClassifier()` to construct an instance with default hyper-parameters. Provide keyword arguments to override hyper-parameter defaults, as in `RandomForestClassifier(n_estimators=...)`.\n",
       "\n",
       "A random forest is a meta estimator that fits a number of  classifying decision trees on various sub-samples of the  dataset and uses averaging to improve the predictive accuracy  and control over-fitting. The sub-sample size is controlled  with the `max_samples` parameter if `bootstrap=True` (default),  otherwise the whole dataset is used to build each tree.\n"
      ],
      "text/plain": [
       "\u001b[36m  RandomForestClassifier\u001b[39m\n",
       "\n",
       "  A model type for constructing a random forest classifier, based on\n",
       "  MLJScikitLearnInterface.jl\n",
       "  (https://github.com/JuliaAI/MLJScikitLearnInterface.jl), and implementing\n",
       "  the MLJ model interface.\n",
       "\n",
       "  From MLJ, the type can be imported using\n",
       "\n",
       "\u001b[36m  RandomForestClassifier = @load RandomForestClassifier pkg=MLJScikitLearnInterface\u001b[39m\n",
       "\n",
       "  Do \u001b[36mmodel = RandomForestClassifier()\u001b[39m to construct an instance with default\n",
       "  hyper-parameters. Provide keyword arguments to override hyper-parameter\n",
       "  defaults, as in \u001b[36mRandomForestClassifier(n_estimators=...)\u001b[39m.\n",
       "\n",
       "  A random forest is a meta estimator that fits a number of classifying\n",
       "  decision trees on various sub-samples of the dataset and uses averaging to\n",
       "  improve the predictive accuracy and control over-fitting. The sub-sample\n",
       "  size is controlled with the \u001b[36mmax_samples\u001b[39m parameter if \u001b[36mbootstrap=True\u001b[39m\n",
       "  (default), otherwise the whole dataset is used to build each tree."
      ]
     },
     "execution_count": 63,
     "metadata": {},
     "output_type": "execute_result"
    }
   ],
   "source": [
    "@doc MLJScikitLearnInterface.RandomForestClassifier"
   ]
  },
  {
   "cell_type": "code",
   "execution_count": 71,
   "id": "9dcd826c",
   "metadata": {},
   "outputs": [
    {
     "data": {
      "text/plain": [
       "Tuple{Table{<:Union{AbstractVector{<:Count}, AbstractVector{<:Continuous}}}, AbstractVector{<:Finite}}"
      ]
     },
     "execution_count": 71,
     "metadata": {},
     "output_type": "execute_result"
    }
   ],
   "source": [
    " MLJ.fit_data_scitype(default_model)"
   ]
  },
  {
   "cell_type": "code",
   "execution_count": 47,
   "id": "8301188e",
   "metadata": {},
   "outputs": [
    {
     "ename": "LoadError",
     "evalue": "syntax: incomplete: \"function\" at In[47]:6 requires end",
     "output_type": "error",
     "traceback": [
      "syntax: incomplete: \"function\" at In[47]:6 requires end",
      "",
      "Stacktrace:",
      " [1] top-level scope",
      "   @ In[47]:1"
     ]
    }
   ],
   "source": [
    "function calc_std(ds)\n",
    "    return \n",
    "end \n",
    "\n",
    "\n",
    "function mine_cfradial(filepath)\n",
    "    ##Open cfradial file using netcdf \n",
    "    currset = Dataset(filepath)\n",
    "    return\n"
   ]
  },
  {
   "cell_type": "code",
   "execution_count": 49,
   "id": "7bbd90ef",
   "metadata": {},
   "outputs": [
    {
     "data": {
      "text/plain": [
       "mine_cfradial (generic function with 1 method)"
      ]
     },
     "execution_count": 49,
     "metadata": {},
     "output_type": "execute_result"
    }
   ],
   "source": [
    "function mine_cfradial(filepath)\n",
    "    ##Open cfradial file using netcdf \n",
    "    currset = Dataset(filepath)\n",
    "    return\n",
    "end"
   ]
  },
  {
   "cell_type": "code",
   "execution_count": 87,
   "id": "162add00",
   "metadata": {},
   "outputs": [
    {
     "ename": "LoadError",
     "evalue": "MethodError: no method matching Table(; name::Vector{Int64}, test::Vector{Int64})\n\n\u001b[0mClosest candidates are:\n\u001b[0m  Table(\u001b[91m::Type...\u001b[39m)\u001b[91m got unsupported keyword arguments \"name\", \"test\"\u001b[39m\n\u001b[0m\u001b[90m   @\u001b[39m \u001b[35mScientificTypesBase\u001b[39m \u001b[90m~/.julia/packages/ScientificTypesBase/N7myy/src/\u001b[39m\u001b[90m\u001b[4mScientificTypesBase.jl:107\u001b[24m\u001b[39m\n",
     "output_type": "error",
     "traceback": [
      "MethodError: no method matching Table(; name::Vector{Int64}, test::Vector{Int64})\n\n\u001b[0mClosest candidates are:\n\u001b[0m  Table(\u001b[91m::Type...\u001b[39m)\u001b[91m got unsupported keyword arguments \"name\", \"test\"\u001b[39m\n\u001b[0m\u001b[90m   @\u001b[39m \u001b[35mScientificTypesBase\u001b[39m \u001b[90m~/.julia/packages/ScientificTypesBase/N7myy/src/\u001b[39m\u001b[90m\u001b[4mScientificTypesBase.jl:107\u001b[24m\u001b[39m\n",
      "",
      "Stacktrace:",
      " [1] top-level scope",
      "   @ In[87]:1"
     ]
    }
   ],
   "source": [
    "Table(name=[1,2,3,4,5], test=[1,0,0,1,1])"
   ]
  },
  {
   "cell_type": "code",
   "execution_count": 22,
   "id": "002b0f78",
   "metadata": {},
   "outputs": [
    {
     "data": {
      "image/png": "[encoded data removed]",
      "image/svg+xml": [
       "<?xml version=\"1.0\" encoding=\"utf-8\"?>\n",
       "<svg xmlns=\"http://www.w3.org/2000/svg\" xmlns:xlink=\"http://www.w3.org/1999/xlink\" width=\"600\" height=\"400\" viewBox=\"0 0 2400 1600\">\n",
       "<defs>\n",
       "  <clipPath id=\"clip840\">\n",
       "    <rect x=\"0\" y=\"0\" width=\"2400\" height=\"1600\"/>\n",
       "  </clipPath>\n",
       "</defs>\n",
       "<path clip-path=\"url(#clip840)\" d=\"M0 1600 L2400 1600 L2400 0 L0 0  Z\" fill=\"#ffffff\" fill-rule=\"evenodd\" fill-opacity=\"1\"/>\n",
       "<defs>\n",
       "  <clipPath id=\"clip841\">\n",
       "    <rect x=\"480\" y=\"0\" width=\"1681\" height=\"1600\"/>\n",
       "  </clipPath>\n",
       "</defs>\n",
       "<path clip-path=\"url(#clip840)\" d=\"M170.857 1486.45 L2352.76 1486.45 L2352.76 47.2441 L170.857 47.2441  Z\" fill=\"#ffffff\" fill-rule=\"evenodd\" fill-opacity=\"1\"/>\n",
       "<defs>\n",
       "  <clipPath id=\"clip842\">\n",
       "    <rect x=\"170\" y=\"47\" width=\"2183\" height=\"1440\"/>\n",
       "  </clipPath>\n",
       "</defs>\n",
       "<polyline clip-path=\"url(#clip842)\" style=\"stroke:#000000; stroke-linecap:round; stroke-linejoin:round; stroke-width:2; stroke-opacity:0.1; fill:none\" points=\"226.876,1486.45 226.876,47.2441 \"/>\n",
       "<polyline clip-path=\"url(#clip842)\" style=\"stroke:#000000; stroke-linecap:round; stroke-linejoin:round; stroke-width:2; stroke-opacity:0.1; fill:none\" points=\"800.245,1486.45 800.245,47.2441 \"/>\n",
       "<polyline clip-path=\"url(#clip842)\" style=\"stroke:#000000; stroke-linecap:round; stroke-linejoin:round; stroke-width:2; stroke-opacity:0.1; fill:none\" points=\"1373.61,1486.45 1373.61,47.2441 \"/>\n",
       "<polyline clip-path=\"url(#clip842)\" style=\"stroke:#000000; stroke-linecap:round; stroke-linejoin:round; stroke-width:2; stroke-opacity:0.1; fill:none\" points=\"1946.98,1486.45 1946.98,47.2441 \"/>\n",
       "<polyline clip-path=\"url(#clip840)\" style=\"stroke:#000000; stroke-linecap:round; stroke-linejoin:round; stroke-width:4; stroke-opacity:1; fill:none\" points=\"170.857,1486.45 2352.76,1486.45 \"/>\n",
       "<polyline clip-path=\"url(#clip840)\" style=\"stroke:#000000; stroke-linecap:round; stroke-linejoin:round; stroke-width:4; stroke-opacity:1; fill:none\" points=\"226.876,1486.45 226.876,1467.55 \"/>\n",
       "<polyline clip-path=\"url(#clip840)\" style=\"stroke:#000000; stroke-linecap:round; stroke-linejoin:round; stroke-width:4; stroke-opacity:1; fill:none\" points=\"800.245,1486.45 800.245,1467.55 \"/>\n",
       "<polyline clip-path=\"url(#clip840)\" style=\"stroke:#000000; stroke-linecap:round; stroke-linejoin:round; stroke-width:4; stroke-opacity:1; fill:none\" points=\"1373.61,1486.45 1373.61,1467.55 \"/>\n",
       "<polyline clip-path=\"url(#clip840)\" style=\"stroke:#000000; stroke-linecap:round; stroke-linejoin:round; stroke-width:4; stroke-opacity:1; fill:none\" points=\"1946.98,1486.45 1946.98,1467.55 \"/>\n",
       "<path clip-path=\"url(#clip840)\" d=\"M226.876 1517.37 Q223.264 1517.37 221.436 1520.93 Q219.63 1524.47 219.63 1531.6 Q219.63 1538.71 221.436 1542.27 Q223.264 1545.82 226.876 1545.82 Q230.51 1545.82 232.315 1542.27 Q234.144 1538.71 234.144 1531.6 Q234.144 1524.47 232.315 1520.93 Q230.51 1517.37 226.876 1517.37 M226.876 1513.66 Q232.686 1513.66 235.741 1518.27 Q238.82 1522.85 238.82 1531.6 Q238.82 1540.33 235.741 1544.94 Q232.686 1549.52 226.876 1549.52 Q221.065 1549.52 217.987 1544.94 Q214.931 1540.33 214.931 1531.6 Q214.931 1522.85 217.987 1518.27 Q221.065 1513.66 226.876 1513.66 Z\" fill=\"#000000\" fill-rule=\"nonzero\" fill-opacity=\"1\" /><path clip-path=\"url(#clip840)\" d=\"M759.851 1544.91 L767.49 1544.91 L767.49 1518.55 L759.18 1520.21 L759.18 1515.95 L767.444 1514.29 L772.12 1514.29 L772.12 1544.91 L779.759 1544.91 L779.759 1548.85 L759.851 1548.85 L759.851 1544.91 Z\" fill=\"#000000\" fill-rule=\"nonzero\" fill-opacity=\"1\" /><path clip-path=\"url(#clip840)\" d=\"M799.203 1517.37 Q795.592 1517.37 793.763 1520.93 Q791.958 1524.47 791.958 1531.6 Q791.958 1538.71 793.763 1542.27 Q795.592 1545.82 799.203 1545.82 Q802.837 1545.82 804.643 1542.27 Q806.471 1538.71 806.471 1531.6 Q806.471 1524.47 804.643 1520.93 Q802.837 1517.37 799.203 1517.37 M799.203 1513.66 Q805.013 1513.66 808.069 1518.27 Q811.147 1522.85 811.147 1531.6 Q811.147 1540.33 808.069 1544.94 Q805.013 1549.52 799.203 1549.52 Q793.393 1549.52 790.314 1544.94 Q787.259 1540.33 787.259 1531.6 Q787.259 1522.85 790.314 1518.27 Q793.393 1513.66 799.203 1513.66 Z\" fill=\"#000000\" fill-rule=\"nonzero\" fill-opacity=\"1\" /><path clip-path=\"url(#clip840)\" d=\"M829.365 1517.37 Q825.754 1517.37 823.925 1520.93 Q822.119 1524.47 822.119 1531.6 Q822.119 1538.71 823.925 1542.27 Q825.754 1545.82 829.365 1545.82 Q832.999 1545.82 834.805 1542.27 Q836.633 1538.71 836.633 1531.6 Q836.633 1524.47 834.805 1520.93 Q832.999 1517.37 829.365 1517.37 M829.365 1513.66 Q835.175 1513.66 838.231 1518.27 Q841.309 1522.85 841.309 1531.6 Q841.309 1540.33 838.231 1544.94 Q835.175 1549.52 829.365 1549.52 Q823.555 1549.52 820.476 1544.94 Q817.42 1540.33 817.42 1531.6 Q817.42 1522.85 820.476 1518.27 Q823.555 1513.66 829.365 1513.66 Z\" fill=\"#000000\" fill-rule=\"nonzero\" fill-opacity=\"1\" /><path clip-path=\"url(#clip840)\" d=\"M1337.31 1544.91 L1353.63 1544.91 L1353.63 1548.85 L1331.68 1548.85 L1331.68 1544.91 Q1334.34 1542.16 1338.93 1537.53 Q1343.53 1532.88 1344.71 1531.53 Q1346.96 1529.01 1347.84 1527.27 Q1348.74 1525.51 1348.74 1523.82 Q1348.74 1521.07 1346.8 1519.33 Q1344.88 1517.6 1341.77 1517.6 Q1339.57 1517.6 1337.12 1518.36 Q1334.69 1519.13 1331.91 1520.68 L1331.91 1515.95 Q1334.74 1514.82 1337.19 1514.24 Q1339.64 1513.66 1341.68 1513.66 Q1347.05 1513.66 1350.25 1516.35 Q1353.44 1519.03 1353.44 1523.52 Q1353.44 1525.65 1352.63 1527.57 Q1351.84 1529.47 1349.74 1532.07 Q1349.16 1532.74 1346.06 1535.95 Q1342.95 1539.15 1337.31 1544.91 Z\" fill=\"#000000\" fill-rule=\"nonzero\" fill-opacity=\"1\" /><path clip-path=\"url(#clip840)\" d=\"M1373.44 1517.37 Q1369.83 1517.37 1368 1520.93 Q1366.19 1524.47 1366.19 1531.6 Q1366.19 1538.71 1368 1542.27 Q1369.83 1545.82 1373.44 1545.82 Q1377.07 1545.82 1378.88 1542.27 Q1380.71 1538.71 1380.71 1531.6 Q1380.71 1524.47 1378.88 1520.93 Q1377.07 1517.37 1373.44 1517.37 M1373.44 1513.66 Q1379.25 1513.66 1382.31 1518.27 Q1385.38 1522.85 1385.38 1531.6 Q1385.38 1540.33 1382.31 1544.94 Q1379.25 1549.52 1373.44 1549.52 Q1367.63 1549.52 1364.55 1544.94 Q1361.5 1540.33 1361.5 1531.6 Q1361.5 1522.85 1364.55 1518.27 Q1367.63 1513.66 1373.44 1513.66 Z\" fill=\"#000000\" fill-rule=\"nonzero\" fill-opacity=\"1\" /><path clip-path=\"url(#clip840)\" d=\"M1403.6 1517.37 Q1399.99 1517.37 1398.16 1520.93 Q1396.36 1524.47 1396.36 1531.6 Q1396.36 1538.71 1398.16 1542.27 Q1399.99 1545.82 1403.6 1545.82 Q1407.24 1545.82 1409.04 1542.27 Q1410.87 1538.71 1410.87 1531.6 Q1410.87 1524.47 1409.04 1520.93 Q1407.24 1517.37 1403.6 1517.37 M1403.6 1513.66 Q1409.41 1513.66 1412.47 1518.27 Q1415.55 1522.85 1415.55 1531.6 Q1415.55 1540.33 1412.47 1544.94 Q1409.41 1549.52 1403.6 1549.52 Q1397.79 1549.52 1394.71 1544.94 Q1391.66 1540.33 1391.66 1531.6 Q1391.66 1522.85 1394.71 1518.27 Q1397.79 1513.66 1403.6 1513.66 Z\" fill=\"#000000\" fill-rule=\"nonzero\" fill-opacity=\"1\" /><path clip-path=\"url(#clip840)\" d=\"M1920.74 1530.21 Q1924.1 1530.93 1925.98 1533.2 Q1927.87 1535.47 1927.87 1538.8 Q1927.87 1543.92 1924.36 1546.72 Q1920.84 1549.52 1914.36 1549.52 Q1912.18 1549.52 1909.86 1549.08 Q1907.57 1548.66 1905.12 1547.81 L1905.12 1543.29 Q1907.06 1544.43 1909.38 1545.01 Q1911.69 1545.58 1914.22 1545.58 Q1918.61 1545.58 1920.91 1543.85 Q1923.22 1542.11 1923.22 1538.8 Q1923.22 1535.75 1921.07 1534.03 Q1918.94 1532.3 1915.12 1532.3 L1911.09 1532.3 L1911.09 1528.45 L1915.3 1528.45 Q1918.75 1528.45 1920.58 1527.09 Q1922.41 1525.7 1922.41 1523.11 Q1922.41 1520.45 1920.51 1519.03 Q1918.64 1517.6 1915.12 1517.6 Q1913.2 1517.6 1911 1518.01 Q1908.8 1518.43 1906.16 1519.31 L1906.16 1515.14 Q1908.82 1514.4 1911.14 1514.03 Q1913.48 1513.66 1915.54 1513.66 Q1920.86 1513.66 1923.96 1516.09 Q1927.06 1518.5 1927.06 1522.62 Q1927.06 1525.49 1925.42 1527.48 Q1923.78 1529.45 1920.74 1530.21 Z\" fill=\"#000000\" fill-rule=\"nonzero\" fill-opacity=\"1\" /><path clip-path=\"url(#clip840)\" d=\"M1946.74 1517.37 Q1943.13 1517.37 1941.3 1520.93 Q1939.49 1524.47 1939.49 1531.6 Q1939.49 1538.71 1941.3 1542.27 Q1943.13 1545.82 1946.74 1545.82 Q1950.37 1545.82 1952.18 1542.27 Q1954.01 1538.71 1954.01 1531.6 Q1954.01 1524.47 1952.18 1520.93 Q1950.37 1517.37 1946.74 1517.37 M1946.74 1513.66 Q1952.55 1513.66 1955.61 1518.27 Q1958.68 1522.85 1958.68 1531.6 Q1958.68 1540.33 1955.61 1544.94 Q1952.55 1549.52 1946.74 1549.52 Q1940.93 1549.52 1937.85 1544.94 Q1934.8 1540.33 1934.8 1531.6 Q1934.8 1522.85 1937.85 1518.27 Q1940.93 1513.66 1946.74 1513.66 Z\" fill=\"#000000\" fill-rule=\"nonzero\" fill-opacity=\"1\" /><path clip-path=\"url(#clip840)\" d=\"M1976.9 1517.37 Q1973.29 1517.37 1971.46 1520.93 Q1969.66 1524.47 1969.66 1531.6 Q1969.66 1538.71 1971.46 1542.27 Q1973.29 1545.82 1976.9 1545.82 Q1980.54 1545.82 1982.34 1542.27 Q1984.17 1538.71 1984.17 1531.6 Q1984.17 1524.47 1982.34 1520.93 Q1980.54 1517.37 1976.9 1517.37 M1976.9 1513.66 Q1982.71 1513.66 1985.77 1518.27 Q1988.85 1522.85 1988.85 1531.6 Q1988.85 1540.33 1985.77 1544.94 Q1982.71 1549.52 1976.9 1549.52 Q1971.09 1549.52 1968.01 1544.94 Q1964.96 1540.33 1964.96 1531.6 Q1964.96 1522.85 1968.01 1518.27 Q1971.09 1513.66 1976.9 1513.66 Z\" fill=\"#000000\" fill-rule=\"nonzero\" fill-opacity=\"1\" /><polyline clip-path=\"url(#clip842)\" style=\"stroke:#000000; stroke-linecap:round; stroke-linejoin:round; stroke-width:2; stroke-opacity:0.1; fill:none\" points=\"170.857,1445.82 2352.76,1445.82 \"/>\n",
       "<polyline clip-path=\"url(#clip842)\" style=\"stroke:#000000; stroke-linecap:round; stroke-linejoin:round; stroke-width:2; stroke-opacity:0.1; fill:none\" points=\"170.857,1067.65 2352.76,1067.65 \"/>\n",
       "<polyline clip-path=\"url(#clip842)\" style=\"stroke:#000000; stroke-linecap:round; stroke-linejoin:round; stroke-width:2; stroke-opacity:0.1; fill:none\" points=\"170.857,689.483 2352.76,689.483 \"/>\n",
       "<polyline clip-path=\"url(#clip842)\" style=\"stroke:#000000; stroke-linecap:round; stroke-linejoin:round; stroke-width:2; stroke-opacity:0.1; fill:none\" points=\"170.857,311.315 2352.76,311.315 \"/>\n",
       "<polyline clip-path=\"url(#clip840)\" style=\"stroke:#000000; stroke-linecap:round; stroke-linejoin:round; stroke-width:4; stroke-opacity:1; fill:none\" points=\"170.857,1486.45 170.857,47.2441 \"/>\n",
       "<polyline clip-path=\"url(#clip840)\" style=\"stroke:#000000; stroke-linecap:round; stroke-linejoin:round; stroke-width:4; stroke-opacity:1; fill:none\" points=\"170.857,1445.82 189.755,1445.82 \"/>\n",
       "<polyline clip-path=\"url(#clip840)\" style=\"stroke:#000000; stroke-linecap:round; stroke-linejoin:round; stroke-width:4; stroke-opacity:1; fill:none\" points=\"170.857,1067.65 189.755,1067.65 \"/>\n",
       "<polyline clip-path=\"url(#clip840)\" style=\"stroke:#000000; stroke-linecap:round; stroke-linejoin:round; stroke-width:4; stroke-opacity:1; fill:none\" points=\"170.857,689.483 189.755,689.483 \"/>\n",
       "<polyline clip-path=\"url(#clip840)\" style=\"stroke:#000000; stroke-linecap:round; stroke-linejoin:round; stroke-width:4; stroke-opacity:1; fill:none\" points=\"170.857,311.315 189.755,311.315 \"/>\n",
       "<path clip-path=\"url(#clip840)\" d=\"M122.913 1431.62 Q119.302 1431.62 117.473 1435.18 Q115.668 1438.72 115.668 1445.85 Q115.668 1452.96 117.473 1456.53 Q119.302 1460.07 122.913 1460.07 Q126.547 1460.07 128.353 1456.53 Q130.182 1452.96 130.182 1445.85 Q130.182 1438.72 128.353 1435.18 Q126.547 1431.62 122.913 1431.62 M122.913 1427.91 Q128.723 1427.91 131.779 1432.52 Q134.857 1437.1 134.857 1445.85 Q134.857 1454.58 131.779 1459.19 Q128.723 1463.77 122.913 1463.77 Q117.103 1463.77 114.024 1459.19 Q110.969 1454.58 110.969 1445.85 Q110.969 1437.1 114.024 1432.52 Q117.103 1427.91 122.913 1427.91 Z\" fill=\"#000000\" fill-rule=\"nonzero\" fill-opacity=\"1\" /><path clip-path=\"url(#clip840)\" d=\"M53.3995 1081 L61.0384 1081 L61.0384 1054.63 L52.7282 1056.3 L52.7282 1052.04 L60.9921 1050.37 L65.668 1050.37 L65.668 1081 L73.3068 1081 L73.3068 1084.93 L53.3995 1084.93 L53.3995 1081 Z\" fill=\"#000000\" fill-rule=\"nonzero\" fill-opacity=\"1\" /><path clip-path=\"url(#clip840)\" d=\"M92.7512 1053.45 Q89.1401 1053.45 87.3114 1057.01 Q85.5058 1060.56 85.5058 1067.69 Q85.5058 1074.79 87.3114 1078.36 Q89.1401 1081.9 92.7512 1081.9 Q96.3854 1081.9 98.1909 1078.36 Q100.02 1074.79 100.02 1067.69 Q100.02 1060.56 98.1909 1057.01 Q96.3854 1053.45 92.7512 1053.45 M92.7512 1049.75 Q98.5613 1049.75 101.617 1054.35 Q104.696 1058.94 104.696 1067.69 Q104.696 1076.41 101.617 1081.02 Q98.5613 1085.6 92.7512 1085.6 Q86.941 1085.6 83.8623 1081.02 Q80.8068 1076.41 80.8068 1067.69 Q80.8068 1058.94 83.8623 1054.35 Q86.941 1049.75 92.7512 1049.75 Z\" fill=\"#000000\" fill-rule=\"nonzero\" fill-opacity=\"1\" /><path clip-path=\"url(#clip840)\" d=\"M122.913 1053.45 Q119.302 1053.45 117.473 1057.01 Q115.668 1060.56 115.668 1067.69 Q115.668 1074.79 117.473 1078.36 Q119.302 1081.9 122.913 1081.9 Q126.547 1081.9 128.353 1078.36 Q130.182 1074.79 130.182 1067.69 Q130.182 1060.56 128.353 1057.01 Q126.547 1053.45 122.913 1053.45 M122.913 1049.75 Q128.723 1049.75 131.779 1054.35 Q134.857 1058.94 134.857 1067.69 Q134.857 1076.41 131.779 1081.02 Q128.723 1085.6 122.913 1085.6 Q117.103 1085.6 114.024 1081.02 Q110.969 1076.41 110.969 1067.69 Q110.969 1058.94 114.024 1054.35 Q117.103 1049.75 122.913 1049.75 Z\" fill=\"#000000\" fill-rule=\"nonzero\" fill-opacity=\"1\" /><path clip-path=\"url(#clip840)\" d=\"M56.6171 702.828 L72.9365 702.828 L72.9365 706.763 L50.9921 706.763 L50.9921 702.828 Q53.6541 700.073 58.2375 695.444 Q62.8439 690.791 64.0245 689.448 Q66.2698 686.925 67.1494 685.189 Q68.0522 683.43 68.0522 681.74 Q68.0522 678.985 66.1078 677.249 Q64.1865 675.513 61.0847 675.513 Q58.8856 675.513 56.4319 676.277 Q54.0014 677.041 51.2236 678.592 L51.2236 673.87 Q54.0477 672.735 56.5014 672.157 Q58.955 671.578 60.9921 671.578 Q66.3624 671.578 69.5568 674.263 Q72.7513 676.948 72.7513 681.439 Q72.7513 683.569 71.9411 685.49 Q71.1541 687.388 69.0476 689.981 Q68.4689 690.652 65.367 693.869 Q62.2652 697.064 56.6171 702.828 Z\" fill=\"#000000\" fill-rule=\"nonzero\" fill-opacity=\"1\" /><path clip-path=\"url(#clip840)\" d=\"M92.7512 675.282 Q89.1401 675.282 87.3114 678.846 Q85.5058 682.388 85.5058 689.518 Q85.5058 696.624 87.3114 700.189 Q89.1401 703.731 92.7512 703.731 Q96.3854 703.731 98.1909 700.189 Q100.02 696.624 100.02 689.518 Q100.02 682.388 98.1909 678.846 Q96.3854 675.282 92.7512 675.282 M92.7512 671.578 Q98.5613 671.578 101.617 676.184 Q104.696 680.768 104.696 689.518 Q104.696 698.244 101.617 702.851 Q98.5613 707.434 92.7512 707.434 Q86.941 707.434 83.8623 702.851 Q80.8068 698.244 80.8068 689.518 Q80.8068 680.768 83.8623 676.184 Q86.941 671.578 92.7512 671.578 Z\" fill=\"#000000\" fill-rule=\"nonzero\" fill-opacity=\"1\" /><path clip-path=\"url(#clip840)\" d=\"M122.913 675.282 Q119.302 675.282 117.473 678.846 Q115.668 682.388 115.668 689.518 Q115.668 696.624 117.473 700.189 Q119.302 703.731 122.913 703.731 Q126.547 703.731 128.353 700.189 Q130.182 696.624 130.182 689.518 Q130.182 682.388 128.353 678.846 Q126.547 675.282 122.913 675.282 M122.913 671.578 Q128.723 671.578 131.779 676.184 Q134.857 680.768 134.857 689.518 Q134.857 698.244 131.779 702.851 Q128.723 707.434 122.913 707.434 Q117.103 707.434 114.024 702.851 Q110.969 698.244 110.969 689.518 Q110.969 680.768 114.024 676.184 Q117.103 671.578 122.913 671.578 Z\" fill=\"#000000\" fill-rule=\"nonzero\" fill-opacity=\"1\" /><path clip-path=\"url(#clip840)\" d=\"M66.7559 309.96 Q70.1124 310.678 71.9874 312.947 Q73.8855 315.215 73.8855 318.548 Q73.8855 323.664 70.367 326.465 Q66.8485 329.266 60.3671 329.266 Q58.1912 329.266 55.8764 328.826 Q53.5847 328.409 51.131 327.553 L51.131 323.039 Q53.0754 324.173 55.3903 324.752 Q57.7051 325.331 60.2282 325.331 Q64.6263 325.331 66.918 323.595 Q69.2328 321.859 69.2328 318.548 Q69.2328 315.493 67.08 313.78 Q64.9504 312.044 61.131 312.044 L57.1032 312.044 L57.1032 308.201 L61.3161 308.201 Q64.7652 308.201 66.5939 306.835 Q68.4226 305.447 68.4226 302.854 Q68.4226 300.192 66.5245 298.78 Q64.6495 297.345 61.131 297.345 Q59.2097 297.345 57.0106 297.761 Q54.8115 298.178 52.1727 299.058 L52.1727 294.891 Q54.8347 294.15 57.1495 293.78 Q59.4875 293.41 61.5476 293.41 Q66.8717 293.41 69.9735 295.84 Q73.0753 298.248 73.0753 302.368 Q73.0753 305.238 71.4318 307.229 Q69.7883 309.197 66.7559 309.96 Z\" fill=\"#000000\" fill-rule=\"nonzero\" fill-opacity=\"1\" /><path clip-path=\"url(#clip840)\" d=\"M92.7512 297.113 Q89.1401 297.113 87.3114 300.678 Q85.5058 304.22 85.5058 311.349 Q85.5058 318.456 87.3114 322.021 Q89.1401 325.562 92.7512 325.562 Q96.3854 325.562 98.1909 322.021 Q100.02 318.456 100.02 311.349 Q100.02 304.22 98.1909 300.678 Q96.3854 297.113 92.7512 297.113 M92.7512 293.41 Q98.5613 293.41 101.617 298.016 Q104.696 302.599 104.696 311.349 Q104.696 320.076 101.617 324.683 Q98.5613 329.266 92.7512 329.266 Q86.941 329.266 83.8623 324.683 Q80.8068 320.076 80.8068 311.349 Q80.8068 302.599 83.8623 298.016 Q86.941 293.41 92.7512 293.41 Z\" fill=\"#000000\" fill-rule=\"nonzero\" fill-opacity=\"1\" /><path clip-path=\"url(#clip840)\" d=\"M122.913 297.113 Q119.302 297.113 117.473 300.678 Q115.668 304.22 115.668 311.349 Q115.668 318.456 117.473 322.021 Q119.302 325.562 122.913 325.562 Q126.547 325.562 128.353 322.021 Q130.182 318.456 130.182 311.349 Q130.182 304.22 128.353 300.678 Q126.547 297.113 122.913 297.113 M122.913 293.41 Q128.723 293.41 131.779 298.016 Q134.857 302.599 134.857 311.349 Q134.857 320.076 131.779 324.683 Q128.723 329.266 122.913 329.266 Q117.103 329.266 114.024 324.683 Q110.969 320.076 110.969 311.349 Q110.969 302.599 114.024 298.016 Q117.103 293.41 122.913 293.41 Z\" fill=\"#000000\" fill-rule=\"nonzero\" fill-opacity=\"1\" /><polyline clip-path=\"url(#clip842)\" style=\"stroke:#009af9; stroke-linecap:round; stroke-linejoin:round; stroke-width:4; stroke-opacity:1; fill:none\" points=\"232.609,1022.29 238.343,1018.41 244.077,1014.52 249.81,1010.65 255.544,1007.07 261.278,1003.13 267.011,999.513 272.745,995.618 278.479,991.765 284.212,988.181 289.946,984.432 295.68,980.485 301.414,976.725 307.147,972.944 312.881,969.143 318.615,965.455 324.348,961.581 330.082,957.655 335.816,954.092 341.549,950.197 347.283,946.759 353.017,942.501 358.75,938.948 364.484,935.116 370.218,931.418 375.952,927.544 381.685,923.659 387.419,920.107 393.153,916.17 398.886,912.338 404.62,908.785 410.354,904.963 416.087,901.079 421.821,897.308 427.555,893.465 433.288,889.892 439.022,885.924 444.756,882.227 450.489,878.363 456.223,874.592 461.957,870.905 467.691,867.104 473.424,863.177 479.158,859.532 484.892,855.741 490.625,851.929 496.359,848.158 502.093,844.346 507.826,840.711 513.56,836.774 519.294,833.16 525.027,829.213 530.761,825.484 536.495,821.672 542.229,817.985 547.962,814.08 553.696,810.413 559.43,806.58 565.163,802.768 570.897,799.04 576.631,795.155 582.364,791.488 588.098,787.645 593.832,783.844 599.565,780.073 605.299,776.324 611.033,772.585 616.767,768.762 622.5,764.971 628.234,761.138 633.968,757.482 639.701,753.619 645.435,749.879 651.169,745.922 656.902,742.266 662.636,738.589 668.37,734.642 674.103,731.1 679.837,727.049 685.571,723.435 691.304,719.654 697.038,715.666 702.772,712.041 708.506,708.364 714.239,704.427 719.973,700.729 725.707,696.866 731.44,692.815 737.174,689.491 742.908,685.482 748.641,681.929 754.375,677.931 760.109,674.223 765.842,670.411 771.576,666.578 777.31,662.828 783.044,659.255 788.777,655.288 794.511,651.548 800.245,647.892 805.978,643.966 811.712,639.998 817.446,636.425 823.179,632.582 828.913,628.698 834.647,625.156 840.38,621.198 846.114,617.376 851.848,613.782 857.581,609.867 863.315,606.242 869.049,602.326 874.783,598.368 880.516,594.982 886.25,590.88 891.984,587.379 897.717,583.505 903.451,579.548 909.185,575.975 914.918,572.173 920.652,568.309 926.386,564.518 932.119,560.665 937.853,556.998 943.587,553.103 949.321,549.489 955.054,545.604 960.788,541.626 966.522,538.313 972.255,534.314 977.989,530.533 983.723,526.544 989.456,522.992 995.19,519.128 1000.92,515.337 1006.66,511.629 1012.39,507.88 1018.12,503.87 1023.86,500.308 1029.59,496.413 1035.33,492.767 1041.06,488.965 1046.79,485.112 1052.53,481.362 1058.26,477.54 1063.99,473.749 1069.73,470.03 1075.46,466.239 1081.2,462.427 1086.93,458.605 1092.66,454.928 1098.4,451.127 1104.13,447.377 1109.86,443.43 1115.6,439.805 1121.33,435.941 1127.06,432.192 1132.8,428.338 1138.53,424.62 1144.27,420.808 1150,417.1 1155.73,413.257 1161.47,409.414 1167.2,405.841 1172.93,401.883 1178.67,398.321 1184.4,394.249 1190.14,390.582 1195.87,386.854 1201.6,383.083 1207.34,379.167 1213.07,375.522 1218.8,371.481 1224.54,367.991 1230.27,364.096 1236.01,360.087 1241.74,356.857 1247.47,352.775 1253.21,348.942 1258.94,345.203 1264.67,341.661 1270.41,337.454 1276.14,333.809 1281.87,330.059 1287.61,326.424 1293.34,322.529 1299.08,318.436 1304.81,315.237 1310.54,311.093 1316.28,307.427 1322.01,303.604 1327.74,299.865 1333.48,295.98 1339.21,292.231 1344.95,288.429 1350.68,284.732 1356.41,281.003 1362.15,276.89 1367.88,273.545 1373.61,269.557 1379.35,265.859 1385.08,262.005 1390.81,258.152 1396.55,254.236 1402.28,250.798 1408.02,247.111 1413.75,242.821 1419.48,239.508 1425.22,235.509 1430.95,231.791 1436.68,228.02 1442.42,224.115 1448.15,220.469 1453.89,216.657 1459.62,212.856 1465.35,209.116 1471.09,205.211 1476.82,201.493 1482.55,197.67 1488.29,193.921 1494.02,190.046 1499.75,186.349 1505.49,182.63 1511.22,178.548 1516.96,175.121 1522.69,171.33 1528.42,167.497 1534.16,163.498 1539.89,160.102 1545.62,156.061 1551.36,152.457 1557.09,148.417 1562.83,144.823 1568.56,141.021 1574.29,137.272 1580.03,133.501 1585.76,129.648 1591.49,125.877 1597.23,122.065 1602.96,118.305 1608.69,114.597 1614.43,110.713 1620.16,106.89 1625.9,103.182 1631.63,99.3289 1637.36,94.9561 1643.1,92.0894 1648.83,87.9763 1654.56,1445.72 1660.3,1441.84 1666.03,1438.26 1671.77,1434.25 1677.5,1430.54 1683.23,1426.64 1688.97,1422.86 1694.7,1419.31 1700.43,1415.49 1706.17,1411.76 1711.9,1407.69 1717.64,1404.27 1723.37,1400.28 1729.1,1396.46 1734.84,1392.79 1740.57,1388.83 1746.3,1385.33 1752.04,1381.37 1757.77,1377.64 1763.5,1373.83 1769.24,1370.01 1774.97,1366.29 1780.71,1362.52 1786.44,1358.75 1792.17,1354.85 1797.91,1351.12 1803.64,1347.38 1809.37,1343.56 1815.11,1339.72 1820.84,1335.92 1826.58,1332.44 1832.31,1328.4 1838.04,1324.44 1843.78,1320.91 1849.51,1316.97 1855.24,1313.43 1860.98,1309.49 1866.71,1305.78 1872.44,1301.8 1878.18,1298.38 1883.91,1294.4 1889.65,1290.67 1895.38,1286.83 1901.11,1282.95 1906.85,1279.35 1912.58,1275.48 1918.31,1271.63 1924.05,1267.87 1929.78,1264.22 1935.52,1260.43 1941.25,1256.58 1946.98,1252.86 1952.72,1249.03 1958.45,1245.24 1964.18,1241.4 1969.92,1237.77 1975.65,1233.82 1981.38,1230.13 1987.12,1226.24 1992.85,1222.59 1998.59,1218.7 2004.32,1215.06 2010.05,1211.27 2015.79,1207.37 2021.52,1203.66 2027.25,1199.81 2032.99,1196.12 2038.72,1192.28 2044.46,1188.53 2050.19,1184.81 2055.92,1180.98 2061.66,1177.17 2067.39,1173.5 2073.12,1169.51 2078.86,1165.83 2084.59,1162.01 2090.32,1158.32 2096.06,1154.46 2101.79,1150.73 2107.53,1146.91 2113.26,1143.07 2118.99,1139.4 2124.73,1135.61 2130.46,1131.66 2136.19,1128.08 2141.93,1124.28 2147.66,1120.48 2153.4,1116.54 2159.13,1113.07 2164.86,1109.01 2170.6,1105.31 2176.33,1101.65 2182.06,1097.64 2187.8,1094.18 2193.53,1090.21 2199.27,1086.44 2205,1082.5 2210.73,1078.99 2216.47,1075.1 2222.2,1071.28 2227.93,1067.55 2233.67,1063.83 2239.4,1059.88 2245.13,1056.17 2250.87,1052.24 2256.6,1048.66 2262.34,1044.81 2268.07,1041.03 2273.8,1037.23 2279.54,1033.34 2285.27,1029.9 2291,1025.86 \"/>\n",
       "<path clip-path=\"url(#clip840)\" d=\"M2009.41 198.898 L2280.03 198.898 L2280.03 95.2176 L2009.41 95.2176  Z\" fill=\"#ffffff\" fill-rule=\"evenodd\" fill-opacity=\"1\"/>\n",
       "<polyline clip-path=\"url(#clip840)\" style=\"stroke:#000000; stroke-linecap:round; stroke-linejoin:round; stroke-width:4; stroke-opacity:1; fill:none\" points=\"2009.41,198.898 2280.03,198.898 2280.03,95.2176 2009.41,95.2176 2009.41,198.898 \"/>\n",
       "<polyline clip-path=\"url(#clip840)\" style=\"stroke:#009af9; stroke-linecap:round; stroke-linejoin:round; stroke-width:4; stroke-opacity:1; fill:none\" points=\"2033.65,147.058 2179.11,147.058 \"/>\n",
       "<path clip-path=\"url(#clip840)\" d=\"M2217.19 166.745 Q2215.39 171.375 2213.68 172.787 Q2211.96 174.199 2209.09 174.199 L2205.69 174.199 L2205.69 170.634 L2208.19 170.634 Q2209.95 170.634 2210.92 169.8 Q2211.89 168.967 2213.07 165.865 L2213.84 163.921 L2203.35 138.412 L2207.87 138.412 L2215.97 158.689 L2224.07 138.412 L2228.58 138.412 L2217.19 166.745 Z\" fill=\"#000000\" fill-rule=\"nonzero\" fill-opacity=\"1\" /><path clip-path=\"url(#clip840)\" d=\"M2235.88 160.402 L2243.51 160.402 L2243.51 134.037 L2235.2 135.703 L2235.2 131.444 L2243.47 129.778 L2248.14 129.778 L2248.14 160.402 L2255.78 160.402 L2255.78 164.338 L2235.88 164.338 L2235.88 160.402 Z\" fill=\"#000000\" fill-rule=\"nonzero\" fill-opacity=\"1\" /></svg>\n"
      ],
      "text/html": [
       "<?xml version=\"1.0\" encoding=\"utf-8\"?>\n",
       "<svg xmlns=\"http://www.w3.org/2000/svg\" xmlns:xlink=\"http://www.w3.org/1999/xlink\" width=\"600\" height=\"400\" viewBox=\"0 0 2400 1600\">\n",
       "<defs>\n",
       "  <clipPath id=\"clip890\">\n",
       "    <rect x=\"0\" y=\"0\" width=\"2400\" height=\"1600\"/>\n",
       "  </clipPath>\n",
       "</defs>\n",
       "<path clip-path=\"url(#clip890)\" d=\"M0 1600 L2400 1600 L2400 0 L0 0  Z\" fill=\"#ffffff\" fill-rule=\"evenodd\" fill-opacity=\"1\"/>\n",
       "<defs>\n",
       "  <clipPath id=\"clip891\">\n",
       "    <rect x=\"480\" y=\"0\" width=\"1681\" height=\"1600\"/>\n",
       "  </clipPath>\n",
       "</defs>\n",
       "<path clip-path=\"url(#clip890)\" d=\"M170.857 1486.45 L2352.76 1486.45 L2352.76 47.2441 L170.857 47.2441  Z\" fill=\"#ffffff\" fill-rule=\"evenodd\" fill-opacity=\"1\"/>\n",
       "<defs>\n",
       "  <clipPath id=\"clip892\">\n",
       "    <rect x=\"170\" y=\"47\" width=\"2183\" height=\"1440\"/>\n",
       "  </clipPath>\n",
       "</defs>\n",
       "<polyline clip-path=\"url(#clip892)\" style=\"stroke:#000000; stroke-linecap:round; stroke-linejoin:round; stroke-width:2; stroke-opacity:0.1; fill:none\" points=\"226.876,1486.45 226.876,47.2441 \"/>\n",
       "<polyline clip-path=\"url(#clip892)\" style=\"stroke:#000000; stroke-linecap:round; stroke-linejoin:round; stroke-width:2; stroke-opacity:0.1; fill:none\" points=\"800.245,1486.45 800.245,47.2441 \"/>\n",
       "<polyline clip-path=\"url(#clip892)\" style=\"stroke:#000000; stroke-linecap:round; stroke-linejoin:round; stroke-width:2; stroke-opacity:0.1; fill:none\" points=\"1373.61,1486.45 1373.61,47.2441 \"/>\n",
       "<polyline clip-path=\"url(#clip892)\" style=\"stroke:#000000; stroke-linecap:round; stroke-linejoin:round; stroke-width:2; stroke-opacity:0.1; fill:none\" points=\"1946.98,1486.45 1946.98,47.2441 \"/>\n",
       "<polyline clip-path=\"url(#clip890)\" style=\"stroke:#000000; stroke-linecap:round; stroke-linejoin:round; stroke-width:4; stroke-opacity:1; fill:none\" points=\"170.857,1486.45 2352.76,1486.45 \"/>\n",
       "<polyline clip-path=\"url(#clip890)\" style=\"stroke:#000000; stroke-linecap:round; stroke-linejoin:round; stroke-width:4; stroke-opacity:1; fill:none\" points=\"226.876,1486.45 226.876,1467.55 \"/>\n",
       "<polyline clip-path=\"url(#clip890)\" style=\"stroke:#000000; stroke-linecap:round; stroke-linejoin:round; stroke-width:4; stroke-opacity:1; fill:none\" points=\"800.245,1486.45 800.245,1467.55 \"/>\n",
       "<polyline clip-path=\"url(#clip890)\" style=\"stroke:#000000; stroke-linecap:round; stroke-linejoin:round; stroke-width:4; stroke-opacity:1; fill:none\" points=\"1373.61,1486.45 1373.61,1467.55 \"/>\n",
       "<polyline clip-path=\"url(#clip890)\" style=\"stroke:#000000; stroke-linecap:round; stroke-linejoin:round; stroke-width:4; stroke-opacity:1; fill:none\" points=\"1946.98,1486.45 1946.98,1467.55 \"/>\n",
       "<path clip-path=\"url(#clip890)\" d=\"M226.876 1517.37 Q223.264 1517.37 221.436 1520.93 Q219.63 1524.47 219.63 1531.6 Q219.63 1538.71 221.436 1542.27 Q223.264 1545.82 226.876 1545.82 Q230.51 1545.82 232.315 1542.27 Q234.144 1538.71 234.144 1531.6 Q234.144 1524.47 232.315 1520.93 Q230.51 1517.37 226.876 1517.37 M226.876 1513.66 Q232.686 1513.66 235.741 1518.27 Q238.82 1522.85 238.82 1531.6 Q238.82 1540.33 235.741 1544.94 Q232.686 1549.52 226.876 1549.52 Q221.065 1549.52 217.987 1544.94 Q214.931 1540.33 214.931 1531.6 Q214.931 1522.85 217.987 1518.27 Q221.065 1513.66 226.876 1513.66 Z\" fill=\"#000000\" fill-rule=\"nonzero\" fill-opacity=\"1\" /><path clip-path=\"url(#clip890)\" d=\"M759.851 1544.91 L767.49 1544.91 L767.49 1518.55 L759.18 1520.21 L759.18 1515.95 L767.444 1514.29 L772.12 1514.29 L772.12 1544.91 L779.759 1544.91 L779.759 1548.85 L759.851 1548.85 L759.851 1544.91 Z\" fill=\"#000000\" fill-rule=\"nonzero\" fill-opacity=\"1\" /><path clip-path=\"url(#clip890)\" d=\"M799.203 1517.37 Q795.592 1517.37 793.763 1520.93 Q791.958 1524.47 791.958 1531.6 Q791.958 1538.71 793.763 1542.27 Q795.592 1545.82 799.203 1545.82 Q802.837 1545.82 804.643 1542.27 Q806.471 1538.71 806.471 1531.6 Q806.471 1524.47 804.643 1520.93 Q802.837 1517.37 799.203 1517.37 M799.203 1513.66 Q805.013 1513.66 808.069 1518.27 Q811.147 1522.85 811.147 1531.6 Q811.147 1540.33 808.069 1544.94 Q805.013 1549.52 799.203 1549.52 Q793.393 1549.52 790.314 1544.94 Q787.259 1540.33 787.259 1531.6 Q787.259 1522.85 790.314 1518.27 Q793.393 1513.66 799.203 1513.66 Z\" fill=\"#000000\" fill-rule=\"nonzero\" fill-opacity=\"1\" /><path clip-path=\"url(#clip890)\" d=\"M829.365 1517.37 Q825.754 1517.37 823.925 1520.93 Q822.119 1524.47 822.119 1531.6 Q822.119 1538.71 823.925 1542.27 Q825.754 1545.82 829.365 1545.82 Q832.999 1545.82 834.805 1542.27 Q836.633 1538.71 836.633 1531.6 Q836.633 1524.47 834.805 1520.93 Q832.999 1517.37 829.365 1517.37 M829.365 1513.66 Q835.175 1513.66 838.231 1518.27 Q841.309 1522.85 841.309 1531.6 Q841.309 1540.33 838.231 1544.94 Q835.175 1549.52 829.365 1549.52 Q823.555 1549.52 820.476 1544.94 Q817.42 1540.33 817.42 1531.6 Q817.42 1522.85 820.476 1518.27 Q823.555 1513.66 829.365 1513.66 Z\" fill=\"#000000\" fill-rule=\"nonzero\" fill-opacity=\"1\" /><path clip-path=\"url(#clip890)\" d=\"M1337.31 1544.91 L1353.63 1544.91 L1353.63 1548.85 L1331.68 1548.85 L1331.68 1544.91 Q1334.34 1542.16 1338.93 1537.53 Q1343.53 1532.88 1344.71 1531.53 Q1346.96 1529.01 1347.84 1527.27 Q1348.74 1525.51 1348.74 1523.82 Q1348.74 1521.07 1346.8 1519.33 Q1344.88 1517.6 1341.77 1517.6 Q1339.57 1517.6 1337.12 1518.36 Q1334.69 1519.13 1331.91 1520.68 L1331.91 1515.95 Q1334.74 1514.82 1337.19 1514.24 Q1339.64 1513.66 1341.68 1513.66 Q1347.05 1513.66 1350.25 1516.35 Q1353.44 1519.03 1353.44 1523.52 Q1353.44 1525.65 1352.63 1527.57 Q1351.84 1529.47 1349.74 1532.07 Q1349.16 1532.74 1346.06 1535.95 Q1342.95 1539.15 1337.31 1544.91 Z\" fill=\"#000000\" fill-rule=\"nonzero\" fill-opacity=\"1\" /><path clip-path=\"url(#clip890)\" d=\"M1373.44 1517.37 Q1369.83 1517.37 1368 1520.93 Q1366.19 1524.47 1366.19 1531.6 Q1366.19 1538.71 1368 1542.27 Q1369.83 1545.82 1373.44 1545.82 Q1377.07 1545.82 1378.88 1542.27 Q1380.71 1538.71 1380.71 1531.6 Q1380.71 1524.47 1378.88 1520.93 Q1377.07 1517.37 1373.44 1517.37 M1373.44 1513.66 Q1379.25 1513.66 1382.31 1518.27 Q1385.38 1522.85 1385.38 1531.6 Q1385.38 1540.33 1382.31 1544.94 Q1379.25 1549.52 1373.44 1549.52 Q1367.63 1549.52 1364.55 1544.94 Q1361.5 1540.33 1361.5 1531.6 Q1361.5 1522.85 1364.55 1518.27 Q1367.63 1513.66 1373.44 1513.66 Z\" fill=\"#000000\" fill-rule=\"nonzero\" fill-opacity=\"1\" /><path clip-path=\"url(#clip890)\" d=\"M1403.6 1517.37 Q1399.99 1517.37 1398.16 1520.93 Q1396.36 1524.47 1396.36 1531.6 Q1396.36 1538.71 1398.16 1542.27 Q1399.99 1545.82 1403.6 1545.82 Q1407.24 1545.82 1409.04 1542.27 Q1410.87 1538.71 1410.87 1531.6 Q1410.87 1524.47 1409.04 1520.93 Q1407.24 1517.37 1403.6 1517.37 M1403.6 1513.66 Q1409.41 1513.66 1412.47 1518.27 Q1415.55 1522.85 1415.55 1531.6 Q1415.55 1540.33 1412.47 1544.94 Q1409.41 1549.52 1403.6 1549.52 Q1397.79 1549.52 1394.71 1544.94 Q1391.66 1540.33 1391.66 1531.6 Q1391.66 1522.85 1394.71 1518.27 Q1397.79 1513.66 1403.6 1513.66 Z\" fill=\"#000000\" fill-rule=\"nonzero\" fill-opacity=\"1\" /><path clip-path=\"url(#clip890)\" d=\"M1920.74 1530.21 Q1924.1 1530.93 1925.98 1533.2 Q1927.87 1535.47 1927.87 1538.8 Q1927.87 1543.92 1924.36 1546.72 Q1920.84 1549.52 1914.36 1549.52 Q1912.18 1549.52 1909.86 1549.08 Q1907.57 1548.66 1905.12 1547.81 L1905.12 1543.29 Q1907.06 1544.43 1909.38 1545.01 Q1911.69 1545.58 1914.22 1545.58 Q1918.61 1545.58 1920.91 1543.85 Q1923.22 1542.11 1923.22 1538.8 Q1923.22 1535.75 1921.07 1534.03 Q1918.94 1532.3 1915.12 1532.3 L1911.09 1532.3 L1911.09 1528.45 L1915.3 1528.45 Q1918.75 1528.45 1920.58 1527.09 Q1922.41 1525.7 1922.41 1523.11 Q1922.41 1520.45 1920.51 1519.03 Q1918.64 1517.6 1915.12 1517.6 Q1913.2 1517.6 1911 1518.01 Q1908.8 1518.43 1906.16 1519.31 L1906.16 1515.14 Q1908.82 1514.4 1911.14 1514.03 Q1913.48 1513.66 1915.54 1513.66 Q1920.86 1513.66 1923.96 1516.09 Q1927.06 1518.5 1927.06 1522.62 Q1927.06 1525.49 1925.42 1527.48 Q1923.78 1529.45 1920.74 1530.21 Z\" fill=\"#000000\" fill-rule=\"nonzero\" fill-opacity=\"1\" /><path clip-path=\"url(#clip890)\" d=\"M1946.74 1517.37 Q1943.13 1517.37 1941.3 1520.93 Q1939.49 1524.47 1939.49 1531.6 Q1939.49 1538.71 1941.3 1542.27 Q1943.13 1545.82 1946.74 1545.82 Q1950.37 1545.82 1952.18 1542.27 Q1954.01 1538.71 1954.01 1531.6 Q1954.01 1524.47 1952.18 1520.93 Q1950.37 1517.37 1946.74 1517.37 M1946.74 1513.66 Q1952.55 1513.66 1955.61 1518.27 Q1958.68 1522.85 1958.68 1531.6 Q1958.68 1540.33 1955.61 1544.94 Q1952.55 1549.52 1946.74 1549.52 Q1940.93 1549.52 1937.85 1544.94 Q1934.8 1540.33 1934.8 1531.6 Q1934.8 1522.85 1937.85 1518.27 Q1940.93 1513.66 1946.74 1513.66 Z\" fill=\"#000000\" fill-rule=\"nonzero\" fill-opacity=\"1\" /><path clip-path=\"url(#clip890)\" d=\"M1976.9 1517.37 Q1973.29 1517.37 1971.46 1520.93 Q1969.66 1524.47 1969.66 1531.6 Q1969.66 1538.71 1971.46 1542.27 Q1973.29 1545.82 1976.9 1545.82 Q1980.54 1545.82 1982.34 1542.27 Q1984.17 1538.71 1984.17 1531.6 Q1984.17 1524.47 1982.34 1520.93 Q1980.54 1517.37 1976.9 1517.37 M1976.9 1513.66 Q1982.71 1513.66 1985.77 1518.27 Q1988.85 1522.85 1988.85 1531.6 Q1988.85 1540.33 1985.77 1544.94 Q1982.71 1549.52 1976.9 1549.52 Q1971.09 1549.52 1968.01 1544.94 Q1964.96 1540.33 1964.96 1531.6 Q1964.96 1522.85 1968.01 1518.27 Q1971.09 1513.66 1976.9 1513.66 Z\" fill=\"#000000\" fill-rule=\"nonzero\" fill-opacity=\"1\" /><polyline clip-path=\"url(#clip892)\" style=\"stroke:#000000; stroke-linecap:round; stroke-linejoin:round; stroke-width:2; stroke-opacity:0.1; fill:none\" points=\"170.857,1445.82 2352.76,1445.82 \"/>\n",
       "<polyline clip-path=\"url(#clip892)\" style=\"stroke:#000000; stroke-linecap:round; stroke-linejoin:round; stroke-width:2; stroke-opacity:0.1; fill:none\" points=\"170.857,1067.65 2352.76,1067.65 \"/>\n",
       "<polyline clip-path=\"url(#clip892)\" style=\"stroke:#000000; stroke-linecap:round; stroke-linejoin:round; stroke-width:2; stroke-opacity:0.1; fill:none\" points=\"170.857,689.483 2352.76,689.483 \"/>\n",
       "<polyline clip-path=\"url(#clip892)\" style=\"stroke:#000000; stroke-linecap:round; stroke-linejoin:round; stroke-width:2; stroke-opacity:0.1; fill:none\" points=\"170.857,311.315 2352.76,311.315 \"/>\n",
       "<polyline clip-path=\"url(#clip890)\" style=\"stroke:#000000; stroke-linecap:round; stroke-linejoin:round; stroke-width:4; stroke-opacity:1; fill:none\" points=\"170.857,1486.45 170.857,47.2441 \"/>\n",
       "<polyline clip-path=\"url(#clip890)\" style=\"stroke:#000000; stroke-linecap:round; stroke-linejoin:round; stroke-width:4; stroke-opacity:1; fill:none\" points=\"170.857,1445.82 189.755,1445.82 \"/>\n",
       "<polyline clip-path=\"url(#clip890)\" style=\"stroke:#000000; stroke-linecap:round; stroke-linejoin:round; stroke-width:4; stroke-opacity:1; fill:none\" points=\"170.857,1067.65 189.755,1067.65 \"/>\n",
       "<polyline clip-path=\"url(#clip890)\" style=\"stroke:#000000; stroke-linecap:round; stroke-linejoin:round; stroke-width:4; stroke-opacity:1; fill:none\" points=\"170.857,689.483 189.755,689.483 \"/>\n",
       "<polyline clip-path=\"url(#clip890)\" style=\"stroke:#000000; stroke-linecap:round; stroke-linejoin:round; stroke-width:4; stroke-opacity:1; fill:none\" points=\"170.857,311.315 189.755,311.315 \"/>\n",
       "<path clip-path=\"url(#clip890)\" d=\"M122.913 1431.62 Q119.302 1431.62 117.473 1435.18 Q115.668 1438.72 115.668 1445.85 Q115.668 1452.96 117.473 1456.53 Q119.302 1460.07 122.913 1460.07 Q126.547 1460.07 128.353 1456.53 Q130.182 1452.96 130.182 1445.85 Q130.182 1438.72 128.353 1435.18 Q126.547 1431.62 122.913 1431.62 M122.913 1427.91 Q128.723 1427.91 131.779 1432.52 Q134.857 1437.1 134.857 1445.85 Q134.857 1454.58 131.779 1459.19 Q128.723 1463.77 122.913 1463.77 Q117.103 1463.77 114.024 1459.19 Q110.969 1454.58 110.969 1445.85 Q110.969 1437.1 114.024 1432.52 Q117.103 1427.91 122.913 1427.91 Z\" fill=\"#000000\" fill-rule=\"nonzero\" fill-opacity=\"1\" /><path clip-path=\"url(#clip890)\" d=\"M53.3995 1081 L61.0384 1081 L61.0384 1054.63 L52.7282 1056.3 L52.7282 1052.04 L60.9921 1050.37 L65.668 1050.37 L65.668 1081 L73.3068 1081 L73.3068 1084.93 L53.3995 1084.93 L53.3995 1081 Z\" fill=\"#000000\" fill-rule=\"nonzero\" fill-opacity=\"1\" /><path clip-path=\"url(#clip890)\" d=\"M92.7512 1053.45 Q89.1401 1053.45 87.3114 1057.01 Q85.5058 1060.56 85.5058 1067.69 Q85.5058 1074.79 87.3114 1078.36 Q89.1401 1081.9 92.7512 1081.9 Q96.3854 1081.9 98.1909 1078.36 Q100.02 1074.79 100.02 1067.69 Q100.02 1060.56 98.1909 1057.01 Q96.3854 1053.45 92.7512 1053.45 M92.7512 1049.75 Q98.5613 1049.75 101.617 1054.35 Q104.696 1058.94 104.696 1067.69 Q104.696 1076.41 101.617 1081.02 Q98.5613 1085.6 92.7512 1085.6 Q86.941 1085.6 83.8623 1081.02 Q80.8068 1076.41 80.8068 1067.69 Q80.8068 1058.94 83.8623 1054.35 Q86.941 1049.75 92.7512 1049.75 Z\" fill=\"#000000\" fill-rule=\"nonzero\" fill-opacity=\"1\" /><path clip-path=\"url(#clip890)\" d=\"M122.913 1053.45 Q119.302 1053.45 117.473 1057.01 Q115.668 1060.56 115.668 1067.69 Q115.668 1074.79 117.473 1078.36 Q119.302 1081.9 122.913 1081.9 Q126.547 1081.9 128.353 1078.36 Q130.182 1074.79 130.182 1067.69 Q130.182 1060.56 128.353 1057.01 Q126.547 1053.45 122.913 1053.45 M122.913 1049.75 Q128.723 1049.75 131.779 1054.35 Q134.857 1058.94 134.857 1067.69 Q134.857 1076.41 131.779 1081.02 Q128.723 1085.6 122.913 1085.6 Q117.103 1085.6 114.024 1081.02 Q110.969 1076.41 110.969 1067.69 Q110.969 1058.94 114.024 1054.35 Q117.103 1049.75 122.913 1049.75 Z\" fill=\"#000000\" fill-rule=\"nonzero\" fill-opacity=\"1\" /><path clip-path=\"url(#clip890)\" d=\"M56.6171 702.828 L72.9365 702.828 L72.9365 706.763 L50.9921 706.763 L50.9921 702.828 Q53.6541 700.073 58.2375 695.444 Q62.8439 690.791 64.0245 689.448 Q66.2698 686.925 67.1494 685.189 Q68.0522 683.43 68.0522 681.74 Q68.0522 678.985 66.1078 677.249 Q64.1865 675.513 61.0847 675.513 Q58.8856 675.513 56.4319 676.277 Q54.0014 677.041 51.2236 678.592 L51.2236 673.87 Q54.0477 672.735 56.5014 672.157 Q58.955 671.578 60.9921 671.578 Q66.3624 671.578 69.5568 674.263 Q72.7513 676.948 72.7513 681.439 Q72.7513 683.569 71.9411 685.49 Q71.1541 687.388 69.0476 689.981 Q68.4689 690.652 65.367 693.869 Q62.2652 697.064 56.6171 702.828 Z\" fill=\"#000000\" fill-rule=\"nonzero\" fill-opacity=\"1\" /><path clip-path=\"url(#clip890)\" d=\"M92.7512 675.282 Q89.1401 675.282 87.3114 678.846 Q85.5058 682.388 85.5058 689.518 Q85.5058 696.624 87.3114 700.189 Q89.1401 703.731 92.7512 703.731 Q96.3854 703.731 98.1909 700.189 Q100.02 696.624 100.02 689.518 Q100.02 682.388 98.1909 678.846 Q96.3854 675.282 92.7512 675.282 M92.7512 671.578 Q98.5613 671.578 101.617 676.184 Q104.696 680.768 104.696 689.518 Q104.696 698.244 101.617 702.851 Q98.5613 707.434 92.7512 707.434 Q86.941 707.434 83.8623 702.851 Q80.8068 698.244 80.8068 689.518 Q80.8068 680.768 83.8623 676.184 Q86.941 671.578 92.7512 671.578 Z\" fill=\"#000000\" fill-rule=\"nonzero\" fill-opacity=\"1\" /><path clip-path=\"url(#clip890)\" d=\"M122.913 675.282 Q119.302 675.282 117.473 678.846 Q115.668 682.388 115.668 689.518 Q115.668 696.624 117.473 700.189 Q119.302 703.731 122.913 703.731 Q126.547 703.731 128.353 700.189 Q130.182 696.624 130.182 689.518 Q130.182 682.388 128.353 678.846 Q126.547 675.282 122.913 675.282 M122.913 671.578 Q128.723 671.578 131.779 676.184 Q134.857 680.768 134.857 689.518 Q134.857 698.244 131.779 702.851 Q128.723 707.434 122.913 707.434 Q117.103 707.434 114.024 702.851 Q110.969 698.244 110.969 689.518 Q110.969 680.768 114.024 676.184 Q117.103 671.578 122.913 671.578 Z\" fill=\"#000000\" fill-rule=\"nonzero\" fill-opacity=\"1\" /><path clip-path=\"url(#clip890)\" d=\"M66.7559 309.96 Q70.1124 310.678 71.9874 312.947 Q73.8855 315.215 73.8855 318.548 Q73.8855 323.664 70.367 326.465 Q66.8485 329.266 60.3671 329.266 Q58.1912 329.266 55.8764 328.826 Q53.5847 328.409 51.131 327.553 L51.131 323.039 Q53.0754 324.173 55.3903 324.752 Q57.7051 325.331 60.2282 325.331 Q64.6263 325.331 66.918 323.595 Q69.2328 321.859 69.2328 318.548 Q69.2328 315.493 67.08 313.78 Q64.9504 312.044 61.131 312.044 L57.1032 312.044 L57.1032 308.201 L61.3161 308.201 Q64.7652 308.201 66.5939 306.835 Q68.4226 305.447 68.4226 302.854 Q68.4226 300.192 66.5245 298.78 Q64.6495 297.345 61.131 297.345 Q59.2097 297.345 57.0106 297.761 Q54.8115 298.178 52.1727 299.058 L52.1727 294.891 Q54.8347 294.15 57.1495 293.78 Q59.4875 293.41 61.5476 293.41 Q66.8717 293.41 69.9735 295.84 Q73.0753 298.248 73.0753 302.368 Q73.0753 305.238 71.4318 307.229 Q69.7883 309.197 66.7559 309.96 Z\" fill=\"#000000\" fill-rule=\"nonzero\" fill-opacity=\"1\" /><path clip-path=\"url(#clip890)\" d=\"M92.7512 297.113 Q89.1401 297.113 87.3114 300.678 Q85.5058 304.22 85.5058 311.349 Q85.5058 318.456 87.3114 322.021 Q89.1401 325.562 92.7512 325.562 Q96.3854 325.562 98.1909 322.021 Q100.02 318.456 100.02 311.349 Q100.02 304.22 98.1909 300.678 Q96.3854 297.113 92.7512 297.113 M92.7512 293.41 Q98.5613 293.41 101.617 298.016 Q104.696 302.599 104.696 311.349 Q104.696 320.076 101.617 324.683 Q98.5613 329.266 92.7512 329.266 Q86.941 329.266 83.8623 324.683 Q80.8068 320.076 80.8068 311.349 Q80.8068 302.599 83.8623 298.016 Q86.941 293.41 92.7512 293.41 Z\" fill=\"#000000\" fill-rule=\"nonzero\" fill-opacity=\"1\" /><path clip-path=\"url(#clip890)\" d=\"M122.913 297.113 Q119.302 297.113 117.473 300.678 Q115.668 304.22 115.668 311.349 Q115.668 318.456 117.473 322.021 Q119.302 325.562 122.913 325.562 Q126.547 325.562 128.353 322.021 Q130.182 318.456 130.182 311.349 Q130.182 304.22 128.353 300.678 Q126.547 297.113 122.913 297.113 M122.913 293.41 Q128.723 293.41 131.779 298.016 Q134.857 302.599 134.857 311.349 Q134.857 320.076 131.779 324.683 Q128.723 329.266 122.913 329.266 Q117.103 329.266 114.024 324.683 Q110.969 320.076 110.969 311.349 Q110.969 302.599 114.024 298.016 Q117.103 293.41 122.913 293.41 Z\" fill=\"#000000\" fill-rule=\"nonzero\" fill-opacity=\"1\" /><polyline clip-path=\"url(#clip892)\" style=\"stroke:#009af9; stroke-linecap:round; stroke-linejoin:round; stroke-width:4; stroke-opacity:1; fill:none\" points=\"232.609,1022.29 238.343,1018.41 244.077,1014.52 249.81,1010.65 255.544,1007.07 261.278,1003.13 267.011,999.513 272.745,995.618 278.479,991.765 284.212,988.181 289.946,984.432 295.68,980.485 301.414,976.725 307.147,972.944 312.881,969.143 318.615,965.455 324.348,961.581 330.082,957.655 335.816,954.092 341.549,950.197 347.283,946.759 353.017,942.501 358.75,938.948 364.484,935.116 370.218,931.418 375.952,927.544 381.685,923.659 387.419,920.107 393.153,916.17 398.886,912.338 404.62,908.785 410.354,904.963 416.087,901.079 421.821,897.308 427.555,893.465 433.288,889.892 439.022,885.924 444.756,882.227 450.489,878.363 456.223,874.592 461.957,870.905 467.691,867.104 473.424,863.177 479.158,859.532 484.892,855.741 490.625,851.929 496.359,848.158 502.093,844.346 507.826,840.711 513.56,836.774 519.294,833.16 525.027,829.213 530.761,825.484 536.495,821.672 542.229,817.985 547.962,814.08 553.696,810.413 559.43,806.58 565.163,802.768 570.897,799.04 576.631,795.155 582.364,791.488 588.098,787.645 593.832,783.844 599.565,780.073 605.299,776.324 611.033,772.585 616.767,768.762 622.5,764.971 628.234,761.138 633.968,757.482 639.701,753.619 645.435,749.879 651.169,745.922 656.902,742.266 662.636,738.589 668.37,734.642 674.103,731.1 679.837,727.049 685.571,723.435 691.304,719.654 697.038,715.666 702.772,712.041 708.506,708.364 714.239,704.427 719.973,700.729 725.707,696.866 731.44,692.815 737.174,689.491 742.908,685.482 748.641,681.929 754.375,677.931 760.109,674.223 765.842,670.411 771.576,666.578 777.31,662.828 783.044,659.255 788.777,655.288 794.511,651.548 800.245,647.892 805.978,643.966 811.712,639.998 817.446,636.425 823.179,632.582 828.913,628.698 834.647,625.156 840.38,621.198 846.114,617.376 851.848,613.782 857.581,609.867 863.315,606.242 869.049,602.326 874.783,598.368 880.516,594.982 886.25,590.88 891.984,587.379 897.717,583.505 903.451,579.548 909.185,575.975 914.918,572.173 920.652,568.309 926.386,564.518 932.119,560.665 937.853,556.998 943.587,553.103 949.321,549.489 955.054,545.604 960.788,541.626 966.522,538.313 972.255,534.314 977.989,530.533 983.723,526.544 989.456,522.992 995.19,519.128 1000.92,515.337 1006.66,511.629 1012.39,507.88 1018.12,503.87 1023.86,500.308 1029.59,496.413 1035.33,492.767 1041.06,488.965 1046.79,485.112 1052.53,481.362 1058.26,477.54 1063.99,473.749 1069.73,470.03 1075.46,466.239 1081.2,462.427 1086.93,458.605 1092.66,454.928 1098.4,451.127 1104.13,447.377 1109.86,443.43 1115.6,439.805 1121.33,435.941 1127.06,432.192 1132.8,428.338 1138.53,424.62 1144.27,420.808 1150,417.1 1155.73,413.257 1161.47,409.414 1167.2,405.841 1172.93,401.883 1178.67,398.321 1184.4,394.249 1190.14,390.582 1195.87,386.854 1201.6,383.083 1207.34,379.167 1213.07,375.522 1218.8,371.481 1224.54,367.991 1230.27,364.096 1236.01,360.087 1241.74,356.857 1247.47,352.775 1253.21,348.942 1258.94,345.203 1264.67,341.661 1270.41,337.454 1276.14,333.809 1281.87,330.059 1287.61,326.424 1293.34,322.529 1299.08,318.436 1304.81,315.237 1310.54,311.093 1316.28,307.427 1322.01,303.604 1327.74,299.865 1333.48,295.98 1339.21,292.231 1344.95,288.429 1350.68,284.732 1356.41,281.003 1362.15,276.89 1367.88,273.545 1373.61,269.557 1379.35,265.859 1385.08,262.005 1390.81,258.152 1396.55,254.236 1402.28,250.798 1408.02,247.111 1413.75,242.821 1419.48,239.508 1425.22,235.509 1430.95,231.791 1436.68,228.02 1442.42,224.115 1448.15,220.469 1453.89,216.657 1459.62,212.856 1465.35,209.116 1471.09,205.211 1476.82,201.493 1482.55,197.67 1488.29,193.921 1494.02,190.046 1499.75,186.349 1505.49,182.63 1511.22,178.548 1516.96,175.121 1522.69,171.33 1528.42,167.497 1534.16,163.498 1539.89,160.102 1545.62,156.061 1551.36,152.457 1557.09,148.417 1562.83,144.823 1568.56,141.021 1574.29,137.272 1580.03,133.501 1585.76,129.648 1591.49,125.877 1597.23,122.065 1602.96,118.305 1608.69,114.597 1614.43,110.713 1620.16,106.89 1625.9,103.182 1631.63,99.3289 1637.36,94.9561 1643.1,92.0894 1648.83,87.9763 1654.56,1445.72 1660.3,1441.84 1666.03,1438.26 1671.77,1434.25 1677.5,1430.54 1683.23,1426.64 1688.97,1422.86 1694.7,1419.31 1700.43,1415.49 1706.17,1411.76 1711.9,1407.69 1717.64,1404.27 1723.37,1400.28 1729.1,1396.46 1734.84,1392.79 1740.57,1388.83 1746.3,1385.33 1752.04,1381.37 1757.77,1377.64 1763.5,1373.83 1769.24,1370.01 1774.97,1366.29 1780.71,1362.52 1786.44,1358.75 1792.17,1354.85 1797.91,1351.12 1803.64,1347.38 1809.37,1343.56 1815.11,1339.72 1820.84,1335.92 1826.58,1332.44 1832.31,1328.4 1838.04,1324.44 1843.78,1320.91 1849.51,1316.97 1855.24,1313.43 1860.98,1309.49 1866.71,1305.78 1872.44,1301.8 1878.18,1298.38 1883.91,1294.4 1889.65,1290.67 1895.38,1286.83 1901.11,1282.95 1906.85,1279.35 1912.58,1275.48 1918.31,1271.63 1924.05,1267.87 1929.78,1264.22 1935.52,1260.43 1941.25,1256.58 1946.98,1252.86 1952.72,1249.03 1958.45,1245.24 1964.18,1241.4 1969.92,1237.77 1975.65,1233.82 1981.38,1230.13 1987.12,1226.24 1992.85,1222.59 1998.59,1218.7 2004.32,1215.06 2010.05,1211.27 2015.79,1207.37 2021.52,1203.66 2027.25,1199.81 2032.99,1196.12 2038.72,1192.28 2044.46,1188.53 2050.19,1184.81 2055.92,1180.98 2061.66,1177.17 2067.39,1173.5 2073.12,1169.51 2078.86,1165.83 2084.59,1162.01 2090.32,1158.32 2096.06,1154.46 2101.79,1150.73 2107.53,1146.91 2113.26,1143.07 2118.99,1139.4 2124.73,1135.61 2130.46,1131.66 2136.19,1128.08 2141.93,1124.28 2147.66,1120.48 2153.4,1116.54 2159.13,1113.07 2164.86,1109.01 2170.6,1105.31 2176.33,1101.65 2182.06,1097.64 2187.8,1094.18 2193.53,1090.21 2199.27,1086.44 2205,1082.5 2210.73,1078.99 2216.47,1075.1 2222.2,1071.28 2227.93,1067.55 2233.67,1063.83 2239.4,1059.88 2245.13,1056.17 2250.87,1052.24 2256.6,1048.66 2262.34,1044.81 2268.07,1041.03 2273.8,1037.23 2279.54,1033.34 2285.27,1029.9 2291,1025.86 \"/>\n",
       "<path clip-path=\"url(#clip890)\" d=\"M2009.41 198.898 L2280.03 198.898 L2280.03 95.2176 L2009.41 95.2176  Z\" fill=\"#ffffff\" fill-rule=\"evenodd\" fill-opacity=\"1\"/>\n",
       "<polyline clip-path=\"url(#clip890)\" style=\"stroke:#000000; stroke-linecap:round; stroke-linejoin:round; stroke-width:4; stroke-opacity:1; fill:none\" points=\"2009.41,198.898 2280.03,198.898 2280.03,95.2176 2009.41,95.2176 2009.41,198.898 \"/>\n",
       "<polyline clip-path=\"url(#clip890)\" style=\"stroke:#009af9; stroke-linecap:round; stroke-linejoin:round; stroke-width:4; stroke-opacity:1; fill:none\" points=\"2033.65,147.058 2179.11,147.058 \"/>\n",
       "<path clip-path=\"url(#clip890)\" d=\"M2217.19 166.745 Q2215.39 171.375 2213.68 172.787 Q2211.96 174.199 2209.09 174.199 L2205.69 174.199 L2205.69 170.634 L2208.19 170.634 Q2209.95 170.634 2210.92 169.8 Q2211.89 168.967 2213.07 165.865 L2213.84 163.921 L2203.35 138.412 L2207.87 138.412 L2215.97 158.689 L2224.07 138.412 L2228.58 138.412 L2217.19 166.745 Z\" fill=\"#000000\" fill-rule=\"nonzero\" fill-opacity=\"1\" /><path clip-path=\"url(#clip890)\" d=\"M2235.88 160.402 L2243.51 160.402 L2243.51 134.037 L2235.2 135.703 L2235.2 131.444 L2243.47 129.778 L2248.14 129.778 L2248.14 160.402 L2255.78 160.402 L2255.78 164.338 L2235.88 164.338 L2235.88 160.402 Z\" fill=\"#000000\" fill-rule=\"nonzero\" fill-opacity=\"1\" /></svg>\n"
      ]
     },
     "execution_count": 22,
     "metadata": {},
     "output_type": "execute_result"
    }
   ],
   "source": [
    "plot(currset[\"azimuth\"][start_idxs[1]+1:1:end_idxs[1]+1])"
   ]
  },
  {
   "cell_type": "code",
   "execution_count": 24,
   "id": "f6ce05b5",
   "metadata": {},
   "outputs": [
    {
     "data": {
      "image/png": "[encoded data removed]",
      "image/svg+xml": [
       "<?xml version=\"1.0\" encoding=\"utf-8\"?>\n",
       "<svg xmlns=\"http://www.w3.org/2000/svg\" xmlns:xlink=\"http://www.w3.org/1999/xlink\" width=\"600\" height=\"400\" viewBox=\"0 0 2400 1600\">\n",
       "<defs>\n",
       "  <clipPath id=\"clip930\">\n",
       "    <rect x=\"0\" y=\"0\" width=\"2400\" height=\"1600\"/>\n",
       "  </clipPath>\n",
       "</defs>\n",
       "<path clip-path=\"url(#clip930)\" d=\"M0 1600 L2400 1600 L2400 0 L0 0  Z\" fill=\"#ffffff\" fill-rule=\"evenodd\" fill-opacity=\"1\"/>\n",
       "<defs>\n",
       "  <clipPath id=\"clip931\">\n",
       "    <rect x=\"480\" y=\"0\" width=\"1681\" height=\"1600\"/>\n",
       "  </clipPath>\n",
       "</defs>\n",
       "<path clip-path=\"url(#clip930)\" d=\"M307.593 1486.45 L2352.76 1486.45 L2352.76 47.2441 L307.593 47.2441  Z\" fill=\"#ffffff\" fill-rule=\"evenodd\" fill-opacity=\"1\"/>\n",
       "<defs>\n",
       "  <clipPath id=\"clip932\">\n",
       "    <rect x=\"307\" y=\"47\" width=\"2046\" height=\"1440\"/>\n",
       "  </clipPath>\n",
       "</defs>\n",
       "<polyline clip-path=\"url(#clip932)\" style=\"stroke:#000000; stroke-linecap:round; stroke-linejoin:round; stroke-width:2; stroke-opacity:0.1; fill:none\" points=\"363.528,1486.45 363.528,47.2441 \"/>\n",
       "<polyline clip-path=\"url(#clip932)\" style=\"stroke:#000000; stroke-linecap:round; stroke-linejoin:round; stroke-width:2; stroke-opacity:0.1; fill:none\" points=\"850.258,1486.45 850.258,47.2441 \"/>\n",
       "<polyline clip-path=\"url(#clip932)\" style=\"stroke:#000000; stroke-linecap:round; stroke-linejoin:round; stroke-width:2; stroke-opacity:0.1; fill:none\" points=\"1336.99,1486.45 1336.99,47.2441 \"/>\n",
       "<polyline clip-path=\"url(#clip932)\" style=\"stroke:#000000; stroke-linecap:round; stroke-linejoin:round; stroke-width:2; stroke-opacity:0.1; fill:none\" points=\"1823.72,1486.45 1823.72,47.2441 \"/>\n",
       "<polyline clip-path=\"url(#clip932)\" style=\"stroke:#000000; stroke-linecap:round; stroke-linejoin:round; stroke-width:2; stroke-opacity:0.1; fill:none\" points=\"2310.45,1486.45 2310.45,47.2441 \"/>\n",
       "<polyline clip-path=\"url(#clip930)\" style=\"stroke:#000000; stroke-linecap:round; stroke-linejoin:round; stroke-width:4; stroke-opacity:1; fill:none\" points=\"307.593,1486.45 2352.76,1486.45 \"/>\n",
       "<polyline clip-path=\"url(#clip930)\" style=\"stroke:#000000; stroke-linecap:round; stroke-linejoin:round; stroke-width:4; stroke-opacity:1; fill:none\" points=\"363.528,1486.45 363.528,1467.55 \"/>\n",
       "<polyline clip-path=\"url(#clip930)\" style=\"stroke:#000000; stroke-linecap:round; stroke-linejoin:round; stroke-width:4; stroke-opacity:1; fill:none\" points=\"850.258,1486.45 850.258,1467.55 \"/>\n",
       "<polyline clip-path=\"url(#clip930)\" style=\"stroke:#000000; stroke-linecap:round; stroke-linejoin:round; stroke-width:4; stroke-opacity:1; fill:none\" points=\"1336.99,1486.45 1336.99,1467.55 \"/>\n",
       "<polyline clip-path=\"url(#clip930)\" style=\"stroke:#000000; stroke-linecap:round; stroke-linejoin:round; stroke-width:4; stroke-opacity:1; fill:none\" points=\"1823.72,1486.45 1823.72,1467.55 \"/>\n",
       "<polyline clip-path=\"url(#clip930)\" style=\"stroke:#000000; stroke-linecap:round; stroke-linejoin:round; stroke-width:4; stroke-opacity:1; fill:none\" points=\"2310.45,1486.45 2310.45,1467.55 \"/>\n",
       "<path clip-path=\"url(#clip930)\" d=\"M363.528 1517.37 Q359.917 1517.37 358.088 1520.93 Q356.283 1524.47 356.283 1531.6 Q356.283 1538.71 358.088 1542.27 Q359.917 1545.82 363.528 1545.82 Q367.162 1545.82 368.968 1542.27 Q370.796 1538.71 370.796 1531.6 Q370.796 1524.47 368.968 1520.93 Q367.162 1517.37 363.528 1517.37 M363.528 1513.66 Q369.338 1513.66 372.394 1518.27 Q375.472 1522.85 375.472 1531.6 Q375.472 1540.33 372.394 1544.94 Q369.338 1549.52 363.528 1549.52 Q357.718 1549.52 354.639 1544.94 Q351.583 1540.33 351.583 1531.6 Q351.583 1522.85 354.639 1518.27 Q357.718 1513.66 363.528 1513.66 Z\" fill=\"#000000\" fill-rule=\"nonzero\" fill-opacity=\"1\" /><path clip-path=\"url(#clip930)\" d=\"M813.951 1544.91 L830.27 1544.91 L830.27 1548.85 L808.326 1548.85 L808.326 1544.91 Q810.988 1542.16 815.571 1537.53 Q820.177 1532.88 821.358 1531.53 Q823.603 1529.01 824.483 1527.27 Q825.386 1525.51 825.386 1523.82 Q825.386 1521.07 823.441 1519.33 Q821.52 1517.6 818.418 1517.6 Q816.219 1517.6 813.765 1518.36 Q811.335 1519.13 808.557 1520.68 L808.557 1515.95 Q811.381 1514.82 813.835 1514.24 Q816.288 1513.66 818.326 1513.66 Q823.696 1513.66 826.89 1516.35 Q830.085 1519.03 830.085 1523.52 Q830.085 1525.65 829.275 1527.57 Q828.487 1529.47 826.381 1532.07 Q825.802 1532.74 822.7 1535.95 Q819.599 1539.15 813.951 1544.91 Z\" fill=\"#000000\" fill-rule=\"nonzero\" fill-opacity=\"1\" /><path clip-path=\"url(#clip930)\" d=\"M840.131 1514.29 L858.487 1514.29 L858.487 1518.22 L844.413 1518.22 L844.413 1526.7 Q845.432 1526.35 846.45 1526.19 Q847.469 1526 848.487 1526 Q854.274 1526 857.654 1529.17 Q861.034 1532.34 861.034 1537.76 Q861.034 1543.34 857.561 1546.44 Q854.089 1549.52 847.77 1549.52 Q845.594 1549.52 843.325 1549.15 Q841.08 1548.78 838.673 1548.04 L838.673 1543.34 Q840.756 1544.47 842.978 1545.03 Q845.2 1545.58 847.677 1545.58 Q851.682 1545.58 854.02 1543.48 Q856.358 1541.37 856.358 1537.76 Q856.358 1534.15 854.02 1532.04 Q851.682 1529.94 847.677 1529.94 Q845.802 1529.94 843.927 1530.35 Q842.075 1530.77 840.131 1531.65 L840.131 1514.29 Z\" fill=\"#000000\" fill-rule=\"nonzero\" fill-opacity=\"1\" /><path clip-path=\"url(#clip930)\" d=\"M880.246 1517.37 Q876.635 1517.37 874.807 1520.93 Q873.001 1524.47 873.001 1531.6 Q873.001 1538.71 874.807 1542.27 Q876.635 1545.82 880.246 1545.82 Q883.881 1545.82 885.686 1542.27 Q887.515 1538.71 887.515 1531.6 Q887.515 1524.47 885.686 1520.93 Q883.881 1517.37 880.246 1517.37 M880.246 1513.66 Q886.057 1513.66 889.112 1518.27 Q892.191 1522.85 892.191 1531.6 Q892.191 1540.33 889.112 1544.94 Q886.057 1549.52 880.246 1549.52 Q874.436 1549.52 871.358 1544.94 Q868.302 1540.33 868.302 1531.6 Q868.302 1522.85 871.358 1518.27 Q874.436 1513.66 880.246 1513.66 Z\" fill=\"#000000\" fill-rule=\"nonzero\" fill-opacity=\"1\" /><path clip-path=\"url(#clip930)\" d=\"M1296.61 1514.29 L1314.96 1514.29 L1314.96 1518.22 L1300.89 1518.22 L1300.89 1526.7 Q1301.91 1526.35 1302.93 1526.19 Q1303.94 1526 1304.96 1526 Q1310.75 1526 1314.13 1529.17 Q1317.51 1532.34 1317.51 1537.76 Q1317.51 1543.34 1314.04 1546.44 Q1310.57 1549.52 1304.25 1549.52 Q1302.07 1549.52 1299.8 1549.15 Q1297.56 1548.78 1295.15 1548.04 L1295.15 1543.34 Q1297.23 1544.47 1299.45 1545.03 Q1301.68 1545.58 1304.15 1545.58 Q1308.16 1545.58 1310.5 1543.48 Q1312.83 1541.37 1312.83 1537.76 Q1312.83 1534.15 1310.5 1532.04 Q1308.16 1529.94 1304.15 1529.94 Q1302.28 1529.94 1300.4 1530.35 Q1298.55 1530.77 1296.61 1531.65 L1296.61 1514.29 Z\" fill=\"#000000\" fill-rule=\"nonzero\" fill-opacity=\"1\" /><path clip-path=\"url(#clip930)\" d=\"M1336.72 1517.37 Q1333.11 1517.37 1331.28 1520.93 Q1329.48 1524.47 1329.48 1531.6 Q1329.48 1538.71 1331.28 1542.27 Q1333.11 1545.82 1336.72 1545.82 Q1340.36 1545.82 1342.16 1542.27 Q1343.99 1538.71 1343.99 1531.6 Q1343.99 1524.47 1342.16 1520.93 Q1340.36 1517.37 1336.72 1517.37 M1336.72 1513.66 Q1342.53 1513.66 1345.59 1518.27 Q1348.67 1522.85 1348.67 1531.6 Q1348.67 1540.33 1345.59 1544.94 Q1342.53 1549.52 1336.72 1549.52 Q1330.91 1549.52 1327.83 1544.94 Q1324.78 1540.33 1324.78 1531.6 Q1324.78 1522.85 1327.83 1518.27 Q1330.91 1513.66 1336.72 1513.66 Z\" fill=\"#000000\" fill-rule=\"nonzero\" fill-opacity=\"1\" /><path clip-path=\"url(#clip930)\" d=\"M1366.88 1517.37 Q1363.27 1517.37 1361.44 1520.93 Q1359.64 1524.47 1359.64 1531.6 Q1359.64 1538.71 1361.44 1542.27 Q1363.27 1545.82 1366.88 1545.82 Q1370.52 1545.82 1372.32 1542.27 Q1374.15 1538.71 1374.15 1531.6 Q1374.15 1524.47 1372.32 1520.93 Q1370.52 1517.37 1366.88 1517.37 M1366.88 1513.66 Q1372.69 1513.66 1375.75 1518.27 Q1378.83 1522.85 1378.83 1531.6 Q1378.83 1540.33 1375.75 1544.94 Q1372.69 1549.52 1366.88 1549.52 Q1361.07 1549.52 1358 1544.94 Q1354.94 1540.33 1354.94 1531.6 Q1354.94 1522.85 1358 1518.27 Q1361.07 1513.66 1366.88 1513.66 Z\" fill=\"#000000\" fill-rule=\"nonzero\" fill-opacity=\"1\" /><path clip-path=\"url(#clip930)\" d=\"M1781.99 1514.29 L1804.22 1514.29 L1804.22 1516.28 L1791.67 1548.85 L1786.79 1548.85 L1798.59 1518.22 L1781.99 1518.22 L1781.99 1514.29 Z\" fill=\"#000000\" fill-rule=\"nonzero\" fill-opacity=\"1\" /><path clip-path=\"url(#clip930)\" d=\"M1813.38 1514.29 L1831.74 1514.29 L1831.74 1518.22 L1817.67 1518.22 L1817.67 1526.7 Q1818.68 1526.35 1819.7 1526.19 Q1820.72 1526 1821.74 1526 Q1827.53 1526 1830.91 1529.17 Q1834.29 1532.34 1834.29 1537.76 Q1834.29 1543.34 1830.81 1546.44 Q1827.34 1549.52 1821.02 1549.52 Q1818.85 1549.52 1816.58 1549.15 Q1814.33 1548.78 1811.93 1548.04 L1811.93 1543.34 Q1814.01 1544.47 1816.23 1545.03 Q1818.45 1545.58 1820.93 1545.58 Q1824.93 1545.58 1827.27 1543.48 Q1829.61 1541.37 1829.61 1537.76 Q1829.61 1534.15 1827.27 1532.04 Q1824.93 1529.94 1820.93 1529.94 Q1819.05 1529.94 1817.18 1530.35 Q1815.33 1530.77 1813.38 1531.65 L1813.38 1514.29 Z\" fill=\"#000000\" fill-rule=\"nonzero\" fill-opacity=\"1\" /><path clip-path=\"url(#clip930)\" d=\"M1853.5 1517.37 Q1849.89 1517.37 1848.06 1520.93 Q1846.25 1524.47 1846.25 1531.6 Q1846.25 1538.71 1848.06 1542.27 Q1849.89 1545.82 1853.5 1545.82 Q1857.13 1545.82 1858.94 1542.27 Q1860.77 1538.71 1860.77 1531.6 Q1860.77 1524.47 1858.94 1520.93 Q1857.13 1517.37 1853.5 1517.37 M1853.5 1513.66 Q1859.31 1513.66 1862.36 1518.27 Q1865.44 1522.85 1865.44 1531.6 Q1865.44 1540.33 1862.36 1544.94 Q1859.31 1549.52 1853.5 1549.52 Q1847.69 1549.52 1844.61 1544.94 Q1841.55 1540.33 1841.55 1531.6 Q1841.55 1522.85 1844.61 1518.27 Q1847.69 1513.66 1853.5 1513.66 Z\" fill=\"#000000\" fill-rule=\"nonzero\" fill-opacity=\"1\" /><path clip-path=\"url(#clip930)\" d=\"M2254.98 1544.91 L2262.61 1544.91 L2262.61 1518.55 L2254.3 1520.21 L2254.3 1515.95 L2262.57 1514.29 L2267.24 1514.29 L2267.24 1544.91 L2274.88 1544.91 L2274.88 1548.85 L2254.98 1548.85 L2254.98 1544.91 Z\" fill=\"#000000\" fill-rule=\"nonzero\" fill-opacity=\"1\" /><path clip-path=\"url(#clip930)\" d=\"M2294.33 1517.37 Q2290.72 1517.37 2288.89 1520.93 Q2287.08 1524.47 2287.08 1531.6 Q2287.08 1538.71 2288.89 1542.27 Q2290.72 1545.82 2294.33 1545.82 Q2297.96 1545.82 2299.77 1542.27 Q2301.6 1538.71 2301.6 1531.6 Q2301.6 1524.47 2299.77 1520.93 Q2297.96 1517.37 2294.33 1517.37 M2294.33 1513.66 Q2300.14 1513.66 2303.19 1518.27 Q2306.27 1522.85 2306.27 1531.6 Q2306.27 1540.33 2303.19 1544.94 Q2300.14 1549.52 2294.33 1549.52 Q2288.52 1549.52 2285.44 1544.94 Q2282.38 1540.33 2282.38 1531.6 Q2282.38 1522.85 2285.44 1518.27 Q2288.52 1513.66 2294.33 1513.66 Z\" fill=\"#000000\" fill-rule=\"nonzero\" fill-opacity=\"1\" /><path clip-path=\"url(#clip930)\" d=\"M2324.49 1517.37 Q2320.88 1517.37 2319.05 1520.93 Q2317.24 1524.47 2317.24 1531.6 Q2317.24 1538.71 2319.05 1542.27 Q2320.88 1545.82 2324.49 1545.82 Q2328.12 1545.82 2329.93 1542.27 Q2331.76 1538.71 2331.76 1531.6 Q2331.76 1524.47 2329.93 1520.93 Q2328.12 1517.37 2324.49 1517.37 M2324.49 1513.66 Q2330.3 1513.66 2333.35 1518.27 Q2336.43 1522.85 2336.43 1531.6 Q2336.43 1540.33 2333.35 1544.94 Q2330.3 1549.52 2324.49 1549.52 Q2318.68 1549.52 2315.6 1544.94 Q2312.54 1540.33 2312.54 1531.6 Q2312.54 1522.85 2315.6 1518.27 Q2318.68 1513.66 2324.49 1513.66 Z\" fill=\"#000000\" fill-rule=\"nonzero\" fill-opacity=\"1\" /><path clip-path=\"url(#clip930)\" d=\"M2354.65 1517.37 Q2351.04 1517.37 2349.21 1520.93 Q2347.41 1524.47 2347.41 1531.6 Q2347.41 1538.71 2349.21 1542.27 Q2351.04 1545.82 2354.65 1545.82 Q2358.28 1545.82 2360.09 1542.27 Q2361.92 1538.71 2361.92 1531.6 Q2361.92 1524.47 2360.09 1520.93 Q2358.28 1517.37 2354.65 1517.37 M2354.65 1513.66 Q2360.46 1513.66 2363.52 1518.27 Q2366.59 1522.85 2366.59 1531.6 Q2366.59 1540.33 2363.52 1544.94 Q2360.46 1549.52 2354.65 1549.52 Q2348.84 1549.52 2345.76 1544.94 Q2342.71 1540.33 2342.71 1531.6 Q2342.71 1522.85 2345.76 1518.27 Q2348.84 1513.66 2354.65 1513.66 Z\" fill=\"#000000\" fill-rule=\"nonzero\" fill-opacity=\"1\" /><polyline clip-path=\"url(#clip932)\" style=\"stroke:#000000; stroke-linecap:round; stroke-linejoin:round; stroke-width:2; stroke-opacity:0.1; fill:none\" points=\"307.593,1456.68 2352.76,1456.68 \"/>\n",
       "<polyline clip-path=\"url(#clip932)\" style=\"stroke:#000000; stroke-linecap:round; stroke-linejoin:round; stroke-width:2; stroke-opacity:0.1; fill:none\" points=\"307.593,1237.47 2352.76,1237.47 \"/>\n",
       "<polyline clip-path=\"url(#clip932)\" style=\"stroke:#000000; stroke-linecap:round; stroke-linejoin:round; stroke-width:2; stroke-opacity:0.1; fill:none\" points=\"307.593,1018.25 2352.76,1018.25 \"/>\n",
       "<polyline clip-path=\"url(#clip932)\" style=\"stroke:#000000; stroke-linecap:round; stroke-linejoin:round; stroke-width:2; stroke-opacity:0.1; fill:none\" points=\"307.593,799.043 2352.76,799.043 \"/>\n",
       "<polyline clip-path=\"url(#clip932)\" style=\"stroke:#000000; stroke-linecap:round; stroke-linejoin:round; stroke-width:2; stroke-opacity:0.1; fill:none\" points=\"307.593,579.831 2352.76,579.831 \"/>\n",
       "<polyline clip-path=\"url(#clip932)\" style=\"stroke:#000000; stroke-linecap:round; stroke-linejoin:round; stroke-width:2; stroke-opacity:0.1; fill:none\" points=\"307.593,360.62 2352.76,360.62 \"/>\n",
       "<polyline clip-path=\"url(#clip932)\" style=\"stroke:#000000; stroke-linecap:round; stroke-linejoin:round; stroke-width:2; stroke-opacity:0.1; fill:none\" points=\"307.593,141.409 2352.76,141.409 \"/>\n",
       "<polyline clip-path=\"url(#clip930)\" style=\"stroke:#000000; stroke-linecap:round; stroke-linejoin:round; stroke-width:4; stroke-opacity:1; fill:none\" points=\"307.593,1486.45 307.593,47.2441 \"/>\n",
       "<polyline clip-path=\"url(#clip930)\" style=\"stroke:#000000; stroke-linecap:round; stroke-linejoin:round; stroke-width:4; stroke-opacity:1; fill:none\" points=\"307.593,1456.68 326.49,1456.68 \"/>\n",
       "<polyline clip-path=\"url(#clip930)\" style=\"stroke:#000000; stroke-linecap:round; stroke-linejoin:round; stroke-width:4; stroke-opacity:1; fill:none\" points=\"307.593,1237.47 326.49,1237.47 \"/>\n",
       "<polyline clip-path=\"url(#clip930)\" style=\"stroke:#000000; stroke-linecap:round; stroke-linejoin:round; stroke-width:4; stroke-opacity:1; fill:none\" points=\"307.593,1018.25 326.49,1018.25 \"/>\n",
       "<polyline clip-path=\"url(#clip930)\" style=\"stroke:#000000; stroke-linecap:round; stroke-linejoin:round; stroke-width:4; stroke-opacity:1; fill:none\" points=\"307.593,799.043 326.49,799.043 \"/>\n",
       "<polyline clip-path=\"url(#clip930)\" style=\"stroke:#000000; stroke-linecap:round; stroke-linejoin:round; stroke-width:4; stroke-opacity:1; fill:none\" points=\"307.593,579.831 326.49,579.831 \"/>\n",
       "<polyline clip-path=\"url(#clip930)\" style=\"stroke:#000000; stroke-linecap:round; stroke-linejoin:round; stroke-width:4; stroke-opacity:1; fill:none\" points=\"307.593,360.62 326.49,360.62 \"/>\n",
       "<polyline clip-path=\"url(#clip930)\" style=\"stroke:#000000; stroke-linecap:round; stroke-linejoin:round; stroke-width:4; stroke-opacity:1; fill:none\" points=\"307.593,141.409 326.49,141.409 \"/>\n",
       "<path clip-path=\"url(#clip930)\" d=\"M259.648 1442.47 Q256.037 1442.47 254.209 1446.04 Q252.403 1449.58 252.403 1456.71 Q252.403 1463.82 254.209 1467.38 Q256.037 1470.92 259.648 1470.92 Q263.283 1470.92 265.088 1467.38 Q266.917 1463.82 266.917 1456.71 Q266.917 1449.58 265.088 1446.04 Q263.283 1442.47 259.648 1442.47 M259.648 1438.77 Q265.459 1438.77 268.514 1443.38 Q271.593 1447.96 271.593 1456.71 Q271.593 1465.44 268.514 1470.04 Q265.459 1474.63 259.648 1474.63 Q253.838 1474.63 250.76 1470.04 Q247.704 1465.44 247.704 1456.71 Q247.704 1447.96 250.76 1443.38 Q253.838 1438.77 259.648 1438.77 Z\" fill=\"#000000\" fill-rule=\"nonzero\" fill-opacity=\"1\" /><path clip-path=\"url(#clip930)\" d=\"M57.7745 1257.26 L74.0939 1257.26 L74.0939 1261.19 L52.1495 1261.19 L52.1495 1257.26 Q54.8115 1254.5 59.3949 1249.87 Q64.0013 1245.22 65.1819 1243.88 Q67.4272 1241.35 68.3068 1239.62 Q69.2096 1237.86 69.2096 1236.17 Q69.2096 1233.42 67.2652 1231.68 Q65.3439 1229.94 62.2421 1229.94 Q60.043 1229.94 57.5893 1230.71 Q55.1588 1231.47 52.381 1233.02 L52.381 1228.3 Q55.2051 1227.17 57.6588 1226.59 Q60.1124 1226.01 62.1495 1226.01 Q67.5198 1226.01 70.7142 1228.69 Q73.9087 1231.38 73.9087 1235.87 Q73.9087 1238 73.0985 1239.92 Q72.3115 1241.82 70.205 1244.41 Q69.6263 1245.08 66.5245 1248.3 Q63.4226 1251.49 57.7745 1257.26 Z\" fill=\"#000000\" fill-rule=\"nonzero\" fill-opacity=\"1\" /><path clip-path=\"url(#clip930)\" d=\"M83.9086 1255.31 L88.7928 1255.31 L88.7928 1261.19 L83.9086 1261.19 L83.9086 1255.31 Z\" fill=\"#000000\" fill-rule=\"nonzero\" fill-opacity=\"1\" /><path clip-path=\"url(#clip930)\" d=\"M108.978 1229.71 Q105.367 1229.71 103.538 1233.28 Q101.733 1236.82 101.733 1243.95 Q101.733 1251.05 103.538 1254.62 Q105.367 1258.16 108.978 1258.16 Q112.612 1258.16 114.418 1254.62 Q116.246 1251.05 116.246 1243.95 Q116.246 1236.82 114.418 1233.28 Q112.612 1229.71 108.978 1229.71 M108.978 1226.01 Q114.788 1226.01 117.844 1230.61 Q120.922 1235.2 120.922 1243.95 Q120.922 1252.67 117.844 1257.28 Q114.788 1261.86 108.978 1261.86 Q103.168 1261.86 100.089 1257.28 Q97.0335 1252.67 97.0335 1243.95 Q97.0335 1235.2 100.089 1230.61 Q103.168 1226.01 108.978 1226.01 Z\" fill=\"#000000\" fill-rule=\"nonzero\" fill-opacity=\"1\" /><path clip-path=\"url(#clip930)\" d=\"M139.14 1229.71 Q135.529 1229.71 133.7 1233.28 Q131.894 1236.82 131.894 1243.95 Q131.894 1251.05 133.7 1254.62 Q135.529 1258.16 139.14 1258.16 Q142.774 1258.16 144.58 1254.62 Q146.408 1251.05 146.408 1243.95 Q146.408 1236.82 144.58 1233.28 Q142.774 1229.71 139.14 1229.71 M139.14 1226.01 Q144.95 1226.01 148.005 1230.61 Q151.084 1235.2 151.084 1243.95 Q151.084 1252.67 148.005 1257.28 Q144.95 1261.86 139.14 1261.86 Q133.33 1261.86 130.251 1257.28 Q127.195 1252.67 127.195 1243.95 Q127.195 1235.2 130.251 1230.61 Q133.33 1226.01 139.14 1226.01 Z\" fill=\"#000000\" fill-rule=\"nonzero\" fill-opacity=\"1\" /><path clip-path=\"url(#clip930)\" d=\"M187.473 1235.73 L176.894 1246.35 L187.473 1256.93 L184.718 1259.73 L174.093 1249.11 L163.468 1259.73 L160.737 1256.93 L171.292 1246.35 L160.737 1235.73 L163.468 1232.93 L174.093 1243.55 L184.718 1232.93 L187.473 1235.73 Z\" fill=\"#000000\" fill-rule=\"nonzero\" fill-opacity=\"1\" /><path clip-path=\"url(#clip930)\" d=\"M199.834 1257.26 L207.473 1257.26 L207.473 1230.89 L199.163 1232.56 L199.163 1228.3 L207.426 1226.63 L212.102 1226.63 L212.102 1257.26 L219.741 1257.26 L219.741 1261.19 L199.834 1261.19 L199.834 1257.26 Z\" fill=\"#000000\" fill-rule=\"nonzero\" fill-opacity=\"1\" /><path clip-path=\"url(#clip930)\" d=\"M239.186 1229.71 Q235.574 1229.71 233.746 1233.28 Q231.94 1236.82 231.94 1243.95 Q231.94 1251.05 233.746 1254.62 Q235.574 1258.16 239.186 1258.16 Q242.82 1258.16 244.625 1254.62 Q246.454 1251.05 246.454 1243.95 Q246.454 1236.82 244.625 1233.28 Q242.82 1229.71 239.186 1229.71 M239.186 1226.01 Q244.996 1226.01 248.051 1230.61 Q251.13 1235.2 251.13 1243.95 Q251.13 1252.67 248.051 1257.28 Q244.996 1261.86 239.186 1261.86 Q233.375 1261.86 230.297 1257.28 Q227.241 1252.67 227.241 1243.95 Q227.241 1235.2 230.297 1230.61 Q233.375 1226.01 239.186 1226.01 Z\" fill=\"#000000\" fill-rule=\"nonzero\" fill-opacity=\"1\" /><path clip-path=\"url(#clip930)\" d=\"M263.806 1209.01 L254.214 1224 L263.806 1224 L263.806 1209.01 M262.81 1205.7 L267.587 1205.7 L267.587 1224 L271.593 1224 L271.593 1227.16 L267.587 1227.16 L267.587 1233.78 L263.806 1233.78 L263.806 1227.16 L251.13 1227.16 L251.13 1223.49 L262.81 1205.7 Z\" fill=\"#000000\" fill-rule=\"nonzero\" fill-opacity=\"1\" /><path clip-path=\"url(#clip930)\" d=\"M66.5939 1011.5 L54.7884 1029.94 L66.5939 1029.94 L66.5939 1011.5 M65.367 1007.42 L71.2466 1007.42 L71.2466 1029.94 L76.1772 1029.94 L76.1772 1033.83 L71.2466 1033.83 L71.2466 1041.98 L66.5939 1041.98 L66.5939 1033.83 L50.9921 1033.83 L50.9921 1029.32 L65.367 1007.42 Z\" fill=\"#000000\" fill-rule=\"nonzero\" fill-opacity=\"1\" /><path clip-path=\"url(#clip930)\" d=\"M83.9086 1036.1 L88.7928 1036.1 L88.7928 1041.98 L83.9086 1041.98 L83.9086 1036.1 Z\" fill=\"#000000\" fill-rule=\"nonzero\" fill-opacity=\"1\" /><path clip-path=\"url(#clip930)\" d=\"M108.978 1010.5 Q105.367 1010.5 103.538 1014.06 Q101.733 1017.61 101.733 1024.74 Q101.733 1031.84 103.538 1035.41 Q105.367 1038.95 108.978 1038.95 Q112.612 1038.95 114.418 1035.41 Q116.246 1031.84 116.246 1024.74 Q116.246 1017.61 114.418 1014.06 Q112.612 1010.5 108.978 1010.5 M108.978 1006.8 Q114.788 1006.8 117.844 1011.4 Q120.922 1015.99 120.922 1024.74 Q120.922 1033.46 117.844 1038.07 Q114.788 1042.65 108.978 1042.65 Q103.168 1042.65 100.089 1038.07 Q97.0335 1033.46 97.0335 1024.74 Q97.0335 1015.99 100.089 1011.4 Q103.168 1006.8 108.978 1006.8 Z\" fill=\"#000000\" fill-rule=\"nonzero\" fill-opacity=\"1\" /><path clip-path=\"url(#clip930)\" d=\"M139.14 1010.5 Q135.529 1010.5 133.7 1014.06 Q131.894 1017.61 131.894 1024.74 Q131.894 1031.84 133.7 1035.41 Q135.529 1038.95 139.14 1038.95 Q142.774 1038.95 144.58 1035.41 Q146.408 1031.84 146.408 1024.74 Q146.408 1017.61 144.58 1014.06 Q142.774 1010.5 139.14 1010.5 M139.14 1006.8 Q144.95 1006.8 148.005 1011.4 Q151.084 1015.99 151.084 1024.74 Q151.084 1033.46 148.005 1038.07 Q144.95 1042.65 139.14 1042.65 Q133.33 1042.65 130.251 1038.07 Q127.195 1033.46 127.195 1024.74 Q127.195 1015.99 130.251 1011.4 Q133.33 1006.8 139.14 1006.8 Z\" fill=\"#000000\" fill-rule=\"nonzero\" fill-opacity=\"1\" /><path clip-path=\"url(#clip930)\" d=\"M187.473 1016.52 L176.894 1027.14 L187.473 1037.72 L184.718 1040.52 L174.093 1029.9 L163.468 1040.52 L160.737 1037.72 L171.292 1027.14 L160.737 1016.52 L163.468 1013.72 L174.093 1024.34 L184.718 1013.72 L187.473 1016.52 Z\" fill=\"#000000\" fill-rule=\"nonzero\" fill-opacity=\"1\" /><path clip-path=\"url(#clip930)\" d=\"M199.834 1038.05 L207.473 1038.05 L207.473 1011.68 L199.163 1013.35 L199.163 1009.09 L207.426 1007.42 L212.102 1007.42 L212.102 1038.05 L219.741 1038.05 L219.741 1041.98 L199.834 1041.98 L199.834 1038.05 Z\" fill=\"#000000\" fill-rule=\"nonzero\" fill-opacity=\"1\" /><path clip-path=\"url(#clip930)\" d=\"M239.186 1010.5 Q235.574 1010.5 233.746 1014.06 Q231.94 1017.61 231.94 1024.74 Q231.94 1031.84 233.746 1035.41 Q235.574 1038.95 239.186 1038.95 Q242.82 1038.95 244.625 1035.41 Q246.454 1031.84 246.454 1024.74 Q246.454 1017.61 244.625 1014.06 Q242.82 1010.5 239.186 1010.5 M239.186 1006.8 Q244.996 1006.8 248.051 1011.4 Q251.13 1015.99 251.13 1024.74 Q251.13 1033.46 248.051 1038.07 Q244.996 1042.65 239.186 1042.65 Q233.375 1042.65 230.297 1038.07 Q227.241 1033.46 227.241 1024.74 Q227.241 1015.99 230.297 1011.4 Q233.375 1006.8 239.186 1006.8 Z\" fill=\"#000000\" fill-rule=\"nonzero\" fill-opacity=\"1\" /><path clip-path=\"url(#clip930)\" d=\"M263.806 989.801 L254.214 1004.79 L263.806 1004.79 L263.806 989.801 M262.81 986.491 L267.587 986.491 L267.587 1004.79 L271.593 1004.79 L271.593 1007.95 L267.587 1007.95 L267.587 1014.57 L263.806 1014.57 L263.806 1007.95 L251.13 1007.95 L251.13 1004.28 L262.81 986.491 Z\" fill=\"#000000\" fill-rule=\"nonzero\" fill-opacity=\"1\" /><path clip-path=\"url(#clip930)\" d=\"M64.3254 803.627 Q61.1773 803.627 59.3254 805.78 Q57.4967 807.932 57.4967 811.682 Q57.4967 815.409 59.3254 817.585 Q61.1773 819.738 64.3254 819.738 Q67.4735 819.738 69.3022 817.585 Q71.1541 815.409 71.1541 811.682 Q71.1541 807.932 69.3022 805.78 Q67.4735 803.627 64.3254 803.627 M73.6077 788.974 L73.6077 793.233 Q71.8485 792.4 70.0429 791.96 Q68.2606 791.52 66.5013 791.52 Q61.8717 791.52 59.418 794.645 Q56.9875 797.77 56.6402 804.09 Q58.006 802.076 60.0662 801.011 Q62.1263 799.923 64.6032 799.923 Q69.8115 799.923 72.8207 803.094 Q75.8531 806.243 75.8531 811.682 Q75.8531 817.006 72.705 820.224 Q69.5568 823.442 64.3254 823.442 Q58.33 823.442 55.1588 818.858 Q51.9875 814.252 51.9875 805.525 Q51.9875 797.331 55.8764 792.469 Q59.7652 787.585 66.3161 787.585 Q68.0754 787.585 69.8578 787.932 Q71.6633 788.28 73.6077 788.974 Z\" fill=\"#000000\" fill-rule=\"nonzero\" fill-opacity=\"1\" /><path clip-path=\"url(#clip930)\" d=\"M83.9086 816.891 L88.7928 816.891 L88.7928 822.77 L83.9086 822.77 L83.9086 816.891 Z\" fill=\"#000000\" fill-rule=\"nonzero\" fill-opacity=\"1\" /><path clip-path=\"url(#clip930)\" d=\"M108.978 791.289 Q105.367 791.289 103.538 794.854 Q101.733 798.395 101.733 805.525 Q101.733 812.631 103.538 816.196 Q105.367 819.738 108.978 819.738 Q112.612 819.738 114.418 816.196 Q116.246 812.631 116.246 805.525 Q116.246 798.395 114.418 794.854 Q112.612 791.289 108.978 791.289 M108.978 787.585 Q114.788 787.585 117.844 792.192 Q120.922 796.775 120.922 805.525 Q120.922 814.252 117.844 818.858 Q114.788 823.442 108.978 823.442 Q103.168 823.442 100.089 818.858 Q97.0335 814.252 97.0335 805.525 Q97.0335 796.775 100.089 792.192 Q103.168 787.585 108.978 787.585 Z\" fill=\"#000000\" fill-rule=\"nonzero\" fill-opacity=\"1\" /><path clip-path=\"url(#clip930)\" d=\"M139.14 791.289 Q135.529 791.289 133.7 794.854 Q131.894 798.395 131.894 805.525 Q131.894 812.631 133.7 816.196 Q135.529 819.738 139.14 819.738 Q142.774 819.738 144.58 816.196 Q146.408 812.631 146.408 805.525 Q146.408 798.395 144.58 794.854 Q142.774 791.289 139.14 791.289 M139.14 787.585 Q144.95 787.585 148.005 792.192 Q151.084 796.775 151.084 805.525 Q151.084 814.252 148.005 818.858 Q144.95 823.442 139.14 823.442 Q133.33 823.442 130.251 818.858 Q127.195 814.252 127.195 805.525 Q127.195 796.775 130.251 792.192 Q133.33 787.585 139.14 787.585 Z\" fill=\"#000000\" fill-rule=\"nonzero\" fill-opacity=\"1\" /><path clip-path=\"url(#clip930)\" d=\"M187.473 797.307 L176.894 807.932 L187.473 818.511 L184.718 821.312 L174.093 810.687 L163.468 821.312 L160.737 818.511 L171.292 807.932 L160.737 797.307 L163.468 794.506 L174.093 805.131 L184.718 794.506 L187.473 797.307 Z\" fill=\"#000000\" fill-rule=\"nonzero\" fill-opacity=\"1\" /><path clip-path=\"url(#clip930)\" d=\"M199.834 818.835 L207.473 818.835 L207.473 792.469 L199.163 794.136 L199.163 789.877 L207.426 788.21 L212.102 788.21 L212.102 818.835 L219.741 818.835 L219.741 822.77 L199.834 822.77 L199.834 818.835 Z\" fill=\"#000000\" fill-rule=\"nonzero\" fill-opacity=\"1\" /><path clip-path=\"url(#clip930)\" d=\"M239.186 791.289 Q235.574 791.289 233.746 794.854 Q231.94 798.395 231.94 805.525 Q231.94 812.631 233.746 816.196 Q235.574 819.738 239.186 819.738 Q242.82 819.738 244.625 816.196 Q246.454 812.631 246.454 805.525 Q246.454 798.395 244.625 794.854 Q242.82 791.289 239.186 791.289 M239.186 787.585 Q244.996 787.585 248.051 792.192 Q251.13 796.775 251.13 805.525 Q251.13 814.252 248.051 818.858 Q244.996 823.442 239.186 823.442 Q233.375 823.442 230.297 818.858 Q227.241 814.252 227.241 805.525 Q227.241 796.775 230.297 792.192 Q233.375 787.585 239.186 787.585 Z\" fill=\"#000000\" fill-rule=\"nonzero\" fill-opacity=\"1\" /><path clip-path=\"url(#clip930)\" d=\"M263.806 770.59 L254.214 785.58 L263.806 785.58 L263.806 770.59 M262.81 767.28 L267.587 767.28 L267.587 785.58 L271.593 785.58 L271.593 788.739 L267.587 788.739 L267.587 795.36 L263.806 795.36 L263.806 788.739 L251.13 788.739 L251.13 785.072 L262.81 767.28 Z\" fill=\"#000000\" fill-rule=\"nonzero\" fill-opacity=\"1\" /><path clip-path=\"url(#clip930)\" d=\"M63.7467 587.147 Q60.4134 587.147 58.4921 588.929 Q56.5939 590.712 56.5939 593.837 Q56.5939 596.962 58.4921 598.744 Q60.4134 600.527 63.7467 600.527 Q67.08 600.527 69.0013 598.744 Q70.9226 596.939 70.9226 593.837 Q70.9226 590.712 69.0013 588.929 Q67.1032 587.147 63.7467 587.147 M59.0708 585.156 Q56.0615 584.416 54.3717 582.355 Q52.7051 580.295 52.7051 577.332 Q52.7051 573.189 55.6449 570.781 Q58.6078 568.374 63.7467 568.374 Q68.9087 568.374 71.8485 570.781 Q74.7883 573.189 74.7883 577.332 Q74.7883 580.295 73.0985 582.355 Q71.4318 584.416 68.4457 585.156 Q71.8253 585.943 73.7003 588.235 Q75.5985 590.527 75.5985 593.837 Q75.5985 598.86 72.5198 601.545 Q69.4642 604.23 63.7467 604.23 Q58.0291 604.23 54.9504 601.545 Q51.8949 598.86 51.8949 593.837 Q51.8949 590.527 53.793 588.235 Q55.6912 585.943 59.0708 585.156 M57.3578 577.772 Q57.3578 580.457 59.0245 581.962 Q60.7143 583.467 63.7467 583.467 Q66.7559 583.467 68.4457 581.962 Q70.1587 580.457 70.1587 577.772 Q70.1587 575.087 68.4457 573.582 Q66.7559 572.078 63.7467 572.078 Q60.7143 572.078 59.0245 573.582 Q57.3578 575.087 57.3578 577.772 Z\" fill=\"#000000\" fill-rule=\"nonzero\" fill-opacity=\"1\" /><path clip-path=\"url(#clip930)\" d=\"M83.9086 597.679 L88.7928 597.679 L88.7928 603.559 L83.9086 603.559 L83.9086 597.679 Z\" fill=\"#000000\" fill-rule=\"nonzero\" fill-opacity=\"1\" /><path clip-path=\"url(#clip930)\" d=\"M108.978 572.078 Q105.367 572.078 103.538 575.643 Q101.733 579.184 101.733 586.314 Q101.733 593.42 103.538 596.985 Q105.367 600.527 108.978 600.527 Q112.612 600.527 114.418 596.985 Q116.246 593.42 116.246 586.314 Q116.246 579.184 114.418 575.643 Q112.612 572.078 108.978 572.078 M108.978 568.374 Q114.788 568.374 117.844 572.98 Q120.922 577.564 120.922 586.314 Q120.922 595.041 117.844 599.647 Q114.788 604.23 108.978 604.23 Q103.168 604.23 100.089 599.647 Q97.0335 595.041 97.0335 586.314 Q97.0335 577.564 100.089 572.98 Q103.168 568.374 108.978 568.374 Z\" fill=\"#000000\" fill-rule=\"nonzero\" fill-opacity=\"1\" /><path clip-path=\"url(#clip930)\" d=\"M139.14 572.078 Q135.529 572.078 133.7 575.643 Q131.894 579.184 131.894 586.314 Q131.894 593.42 133.7 596.985 Q135.529 600.527 139.14 600.527 Q142.774 600.527 144.58 596.985 Q146.408 593.42 146.408 586.314 Q146.408 579.184 144.58 575.643 Q142.774 572.078 139.14 572.078 M139.14 568.374 Q144.95 568.374 148.005 572.98 Q151.084 577.564 151.084 586.314 Q151.084 595.041 148.005 599.647 Q144.95 604.23 139.14 604.23 Q133.33 604.23 130.251 599.647 Q127.195 595.041 127.195 586.314 Q127.195 577.564 130.251 572.98 Q133.33 568.374 139.14 568.374 Z\" fill=\"#000000\" fill-rule=\"nonzero\" fill-opacity=\"1\" /><path clip-path=\"url(#clip930)\" d=\"M187.473 578.096 L176.894 588.721 L187.473 599.3 L184.718 602.101 L174.093 591.476 L163.468 602.101 L160.737 599.3 L171.292 588.721 L160.737 578.096 L163.468 575.295 L174.093 585.92 L184.718 575.295 L187.473 578.096 Z\" fill=\"#000000\" fill-rule=\"nonzero\" fill-opacity=\"1\" /><path clip-path=\"url(#clip930)\" d=\"M199.834 599.624 L207.473 599.624 L207.473 573.258 L199.163 574.925 L199.163 570.666 L207.426 568.999 L212.102 568.999 L212.102 599.624 L219.741 599.624 L219.741 603.559 L199.834 603.559 L199.834 599.624 Z\" fill=\"#000000\" fill-rule=\"nonzero\" fill-opacity=\"1\" /><path clip-path=\"url(#clip930)\" d=\"M239.186 572.078 Q235.574 572.078 233.746 575.643 Q231.94 579.184 231.94 586.314 Q231.94 593.42 233.746 596.985 Q235.574 600.527 239.186 600.527 Q242.82 600.527 244.625 596.985 Q246.454 593.42 246.454 586.314 Q246.454 579.184 244.625 575.643 Q242.82 572.078 239.186 572.078 M239.186 568.374 Q244.996 568.374 248.051 572.98 Q251.13 577.564 251.13 586.314 Q251.13 595.041 248.051 599.647 Q244.996 604.23 239.186 604.23 Q233.375 604.23 230.297 599.647 Q227.241 595.041 227.241 586.314 Q227.241 577.564 230.297 572.98 Q233.375 568.374 239.186 568.374 Z\" fill=\"#000000\" fill-rule=\"nonzero\" fill-opacity=\"1\" /><path clip-path=\"url(#clip930)\" d=\"M263.806 551.379 L254.214 566.369 L263.806 566.369 L263.806 551.379 M262.81 548.069 L267.587 548.069 L267.587 566.369 L271.593 566.369 L271.593 569.528 L267.587 569.528 L267.587 576.149 L263.806 576.149 L263.806 569.528 L251.13 569.528 L251.13 565.861 L262.81 548.069 Z\" fill=\"#000000\" fill-rule=\"nonzero\" fill-opacity=\"1\" /><path clip-path=\"url(#clip930)\" d=\"M56.8515 380.413 L64.4903 380.413 L64.4903 354.047 L56.1802 355.714 L56.1802 351.454 L64.444 349.788 L69.1199 349.788 L69.1199 380.413 L76.7588 380.413 L76.7588 384.348 L56.8515 384.348 L56.8515 380.413 Z\" fill=\"#000000\" fill-rule=\"nonzero\" fill-opacity=\"1\" /><path clip-path=\"url(#clip930)\" d=\"M86.2032 378.468 L91.0874 378.468 L91.0874 384.348 L86.2032 384.348 L86.2032 378.468 Z\" fill=\"#000000\" fill-rule=\"nonzero\" fill-opacity=\"1\" /><path clip-path=\"url(#clip930)\" d=\"M111.272 352.867 Q107.661 352.867 105.833 356.431 Q104.027 359.973 104.027 367.103 Q104.027 374.209 105.833 377.774 Q107.661 381.315 111.272 381.315 Q114.907 381.315 116.712 377.774 Q118.541 374.209 118.541 367.103 Q118.541 359.973 116.712 356.431 Q114.907 352.867 111.272 352.867 M111.272 349.163 Q117.083 349.163 120.138 353.769 Q123.217 358.353 123.217 367.103 Q123.217 375.829 120.138 380.436 Q117.083 385.019 111.272 385.019 Q105.462 385.019 102.384 380.436 Q99.3281 375.829 99.3281 367.103 Q99.3281 358.353 102.384 353.769 Q105.462 349.163 111.272 349.163 Z\" fill=\"#000000\" fill-rule=\"nonzero\" fill-opacity=\"1\" /><path clip-path=\"url(#clip930)\" d=\"M141.434 352.867 Q137.823 352.867 135.995 356.431 Q134.189 359.973 134.189 367.103 Q134.189 374.209 135.995 377.774 Q137.823 381.315 141.434 381.315 Q145.069 381.315 146.874 377.774 Q148.703 374.209 148.703 367.103 Q148.703 359.973 146.874 356.431 Q145.069 352.867 141.434 352.867 M141.434 349.163 Q147.245 349.163 150.3 353.769 Q153.379 358.353 153.379 367.103 Q153.379 375.829 150.3 380.436 Q147.245 385.019 141.434 385.019 Q135.624 385.019 132.546 380.436 Q129.49 375.829 129.49 367.103 Q129.49 358.353 132.546 353.769 Q135.624 349.163 141.434 349.163 Z\" fill=\"#000000\" fill-rule=\"nonzero\" fill-opacity=\"1\" /><path clip-path=\"url(#clip930)\" d=\"M189.767 358.885 L179.189 369.51 L189.767 380.089 L187.013 382.889 L176.388 372.265 L165.763 382.889 L163.031 380.089 L173.587 369.51 L163.031 358.885 L165.763 356.084 L176.388 366.709 L187.013 356.084 L189.767 358.885 Z\" fill=\"#000000\" fill-rule=\"nonzero\" fill-opacity=\"1\" /><path clip-path=\"url(#clip930)\" d=\"M202.128 380.413 L209.767 380.413 L209.767 354.047 L201.457 355.714 L201.457 351.454 L209.721 349.788 L214.397 349.788 L214.397 380.413 L222.036 380.413 L222.036 384.348 L202.128 384.348 L202.128 380.413 Z\" fill=\"#000000\" fill-rule=\"nonzero\" fill-opacity=\"1\" /><path clip-path=\"url(#clip930)\" d=\"M241.48 352.867 Q237.869 352.867 236.04 356.431 Q234.235 359.973 234.235 367.103 Q234.235 374.209 236.04 377.774 Q237.869 381.315 241.48 381.315 Q245.114 381.315 246.92 377.774 Q248.749 374.209 248.749 367.103 Q248.749 359.973 246.92 356.431 Q245.114 352.867 241.48 352.867 M241.48 349.163 Q247.29 349.163 250.346 353.769 Q253.424 358.353 253.424 367.103 Q253.424 375.829 250.346 380.436 Q247.29 385.019 241.48 385.019 Q235.67 385.019 232.591 380.436 Q229.536 375.829 229.536 367.103 Q229.536 358.353 232.591 353.769 Q235.67 349.163 241.48 349.163 Z\" fill=\"#000000\" fill-rule=\"nonzero\" fill-opacity=\"1\" /><path clip-path=\"url(#clip930)\" d=\"M254.609 328.857 L269.524 328.857 L269.524 332.055 L258.089 332.055 L258.089 338.938 Q258.916 338.656 259.744 338.525 Q260.571 338.374 261.399 338.374 Q266.101 338.374 268.847 340.951 Q271.593 343.527 271.593 347.928 Q271.593 352.461 268.772 354.981 Q265.95 357.483 260.816 357.483 Q259.048 357.483 257.205 357.182 Q255.38 356.881 253.424 356.279 L253.424 352.461 Q255.117 353.383 256.923 353.834 Q258.728 354.286 260.741 354.286 Q263.994 354.286 265.894 352.574 Q267.794 350.863 267.794 347.928 Q267.794 344.994 265.894 343.283 Q263.994 341.571 260.741 341.571 Q259.217 341.571 257.694 341.91 Q256.189 342.249 254.609 342.963 L254.609 328.857 Z\" fill=\"#000000\" fill-rule=\"nonzero\" fill-opacity=\"1\" /><path clip-path=\"url(#clip930)\" d=\"M56.8515 161.201 L64.4903 161.201 L64.4903 134.836 L56.1802 136.503 L56.1802 132.243 L64.444 130.577 L69.1199 130.577 L69.1199 161.201 L76.7588 161.201 L76.7588 165.137 L56.8515 165.137 L56.8515 161.201 Z\" fill=\"#000000\" fill-rule=\"nonzero\" fill-opacity=\"1\" /><path clip-path=\"url(#clip930)\" d=\"M86.2032 159.257 L91.0874 159.257 L91.0874 165.137 L86.2032 165.137 L86.2032 159.257 Z\" fill=\"#000000\" fill-rule=\"nonzero\" fill-opacity=\"1\" /><path clip-path=\"url(#clip930)\" d=\"M105.3 161.201 L121.62 161.201 L121.62 165.137 L99.6753 165.137 L99.6753 161.201 Q102.337 158.447 106.921 153.817 Q111.527 149.164 112.708 147.822 Q114.953 145.299 115.833 143.563 Q116.735 141.803 116.735 140.114 Q116.735 137.359 114.791 135.623 Q112.87 133.887 109.768 133.887 Q107.569 133.887 105.115 134.651 Q102.685 135.415 99.9068 136.965 L99.9068 132.243 Q102.731 131.109 105.185 130.53 Q107.638 129.952 109.675 129.952 Q115.046 129.952 118.24 132.637 Q121.434 135.322 121.434 139.813 Q121.434 141.942 120.624 143.864 Q119.837 145.762 117.731 148.354 Q117.152 149.026 114.05 152.243 Q110.948 155.438 105.3 161.201 Z\" fill=\"#000000\" fill-rule=\"nonzero\" fill-opacity=\"1\" /><path clip-path=\"url(#clip930)\" d=\"M141.434 133.655 Q137.823 133.655 135.995 137.22 Q134.189 140.762 134.189 147.891 Q134.189 154.998 135.995 158.563 Q137.823 162.104 141.434 162.104 Q145.069 162.104 146.874 158.563 Q148.703 154.998 148.703 147.891 Q148.703 140.762 146.874 137.22 Q145.069 133.655 141.434 133.655 M141.434 129.952 Q147.245 129.952 150.3 134.558 Q153.379 139.141 153.379 147.891 Q153.379 156.618 150.3 161.225 Q147.245 165.808 141.434 165.808 Q135.624 165.808 132.546 161.225 Q129.49 156.618 129.49 147.891 Q129.49 139.141 132.546 134.558 Q135.624 129.952 141.434 129.952 Z\" fill=\"#000000\" fill-rule=\"nonzero\" fill-opacity=\"1\" /><path clip-path=\"url(#clip930)\" d=\"M189.767 139.674 L179.189 150.299 L189.767 160.877 L187.013 163.678 L176.388 153.053 L165.763 163.678 L163.031 160.877 L173.587 150.299 L163.031 139.674 L165.763 136.873 L176.388 147.498 L187.013 136.873 L189.767 139.674 Z\" fill=\"#000000\" fill-rule=\"nonzero\" fill-opacity=\"1\" /><path clip-path=\"url(#clip930)\" d=\"M202.128 161.201 L209.767 161.201 L209.767 134.836 L201.457 136.503 L201.457 132.243 L209.721 130.577 L214.397 130.577 L214.397 161.201 L222.036 161.201 L222.036 165.137 L202.128 165.137 L202.128 161.201 Z\" fill=\"#000000\" fill-rule=\"nonzero\" fill-opacity=\"1\" /><path clip-path=\"url(#clip930)\" d=\"M241.48 133.655 Q237.869 133.655 236.04 137.22 Q234.235 140.762 234.235 147.891 Q234.235 154.998 236.04 158.563 Q237.869 162.104 241.48 162.104 Q245.114 162.104 246.92 158.563 Q248.749 154.998 248.749 147.891 Q248.749 140.762 246.92 137.22 Q245.114 133.655 241.48 133.655 M241.48 129.952 Q247.29 129.952 250.346 134.558 Q253.424 139.141 253.424 147.891 Q253.424 156.618 250.346 161.225 Q247.29 165.808 241.48 165.808 Q235.67 165.808 232.591 161.225 Q229.536 156.618 229.536 147.891 Q229.536 139.141 232.591 134.558 Q235.67 129.952 241.48 129.952 Z\" fill=\"#000000\" fill-rule=\"nonzero\" fill-opacity=\"1\" /><path clip-path=\"url(#clip930)\" d=\"M254.609 109.646 L269.524 109.646 L269.524 112.844 L258.089 112.844 L258.089 119.727 Q258.916 119.445 259.744 119.313 Q260.571 119.163 261.399 119.163 Q266.101 119.163 268.847 121.74 Q271.593 124.316 271.593 128.717 Q271.593 133.25 268.772 135.77 Q265.95 138.272 260.816 138.272 Q259.048 138.272 257.205 137.971 Q255.38 137.67 253.424 137.068 L253.424 133.25 Q255.117 134.172 256.923 134.623 Q258.728 135.074 260.741 135.074 Q263.994 135.074 265.894 133.363 Q267.794 131.651 267.794 128.717 Q267.794 125.783 265.894 124.072 Q263.994 122.36 260.741 122.36 Q259.217 122.36 257.694 122.699 Q256.189 123.037 254.609 123.752 L254.609 109.646 Z\" fill=\"#000000\" fill-rule=\"nonzero\" fill-opacity=\"1\" /><polyline clip-path=\"url(#clip932)\" style=\"stroke:#009af9; stroke-linecap:round; stroke-linejoin:round; stroke-width:4; stroke-opacity:1; fill:none\" points=\"365.475,1445.72 367.422,1444.35 369.369,1442.98 371.316,1441.61 373.262,1440.24 375.209,1438.87 377.156,1437.5 379.103,1436.13 381.05,1434.76 382.997,1433.39 384.944,1432.01 386.891,1430.64 388.838,1429.27 390.785,1427.9 392.732,1426.53 394.679,1425.16 396.626,1423.79 398.572,1422.42 400.519,1421.05 402.466,1419.68 404.413,1418.31 406.36,1416.94 408.307,1415.57 410.254,1414.2 412.201,1412.83 414.148,1411.46 416.095,1410.09 418.042,1408.72 419.989,1407.35 421.935,1405.98 423.882,1404.61 425.829,1403.24 427.776,1401.87 429.723,1400.5 431.67,1399.13 433.617,1397.76 435.564,1396.39 437.511,1395.02 439.458,1393.65 441.405,1392.28 443.352,1390.91 445.299,1389.54 447.245,1388.17 449.192,1386.8 451.139,1385.43 453.086,1384.06 455.033,1382.69 456.98,1381.32 458.927,1379.95 460.874,1378.58 462.821,1377.21 464.768,1375.84 466.715,1374.47 468.662,1373.1 470.609,1371.73 472.555,1370.36 474.502,1368.99 476.449,1367.62 478.396,1366.25 480.343,1364.88 482.29,1363.51 484.237,1362.14 486.184,1360.77 488.131,1359.4 490.078,1358.03 492.025,1356.66 493.972,1355.29 495.919,1353.92 497.865,1352.55 499.812,1351.18 501.759,1349.81 503.706,1348.44 505.653,1347.07 507.6,1345.7 509.547,1344.33 511.494,1342.96 513.441,1341.59 515.388,1340.22 517.335,1338.85 519.282,1337.48 521.228,1336.11 523.175,1334.74 525.122,1333.37 527.069,1332 529.016,1330.63 530.963,1329.26 532.91,1327.89 534.857,1326.52 536.804,1325.15 538.751,1323.78 540.698,1322.41 542.645,1321.04 544.592,1319.67 546.538,1318.3 548.485,1316.93 550.432,1315.56 552.379,1314.19 554.326,1312.82 556.273,1311.45 558.22,1310.08 560.167,1308.71 562.114,1307.34 564.061,1305.97 566.008,1304.6 567.955,1303.23 569.902,1301.86 571.848,1300.49 573.795,1299.12 575.742,1297.75 577.689,1296.38 579.636,1295.01 581.583,1293.64 583.53,1292.27 585.477,1290.9 587.424,1289.53 589.371,1288.16 591.318,1286.79 593.265,1285.42 595.212,1284.05 597.158,1282.68 599.105,1281.31 601.052,1279.94 602.999,1278.57 604.946,1277.2 606.893,1275.83 608.84,1274.46 610.787,1273.09 612.734,1271.72 614.681,1270.35 616.628,1268.98 618.575,1267.61 620.521,1266.24 622.468,1264.87 624.415,1263.5 626.362,1262.13 628.309,1260.76 630.256,1259.39 632.203,1258.02 634.15,1256.65 636.097,1255.28 638.044,1253.91 639.991,1252.54 641.938,1251.17 643.885,1249.8 645.831,1248.43 647.778,1247.06 649.725,1245.69 651.672,1244.32 653.619,1242.95 655.566,1241.58 657.513,1240.21 659.46,1238.84 661.407,1237.47 663.354,1236.09 665.301,1234.72 667.248,1233.35 669.195,1231.98 671.141,1230.61 673.088,1229.24 675.035,1227.87 676.982,1226.5 678.929,1225.13 680.876,1223.76 682.823,1222.39 684.77,1221.02 686.717,1219.65 688.664,1218.28 690.611,1216.91 692.558,1215.54 694.504,1214.17 696.451,1212.8 698.398,1211.43 700.345,1210.06 702.292,1208.69 704.239,1207.32 706.186,1205.95 708.133,1204.58 710.08,1203.21 712.027,1201.84 713.974,1200.47 715.921,1199.1 717.868,1197.73 719.814,1196.36 721.761,1194.99 723.708,1193.62 725.655,1192.25 727.602,1190.88 729.549,1189.51 731.496,1188.14 733.443,1186.77 735.39,1185.4 737.337,1184.03 739.284,1182.66 741.231,1181.29 743.178,1179.92 745.124,1178.55 747.071,1177.18 749.018,1175.81 750.965,1174.44 752.912,1173.07 754.859,1171.7 756.806,1170.33 758.753,1168.96 760.7,1167.59 762.647,1166.22 764.594,1164.85 766.541,1163.48 768.488,1162.11 770.434,1160.74 772.381,1159.37 774.328,1158 776.275,1156.63 778.222,1155.26 780.169,1153.89 782.116,1152.52 784.063,1151.15 786.01,1149.78 787.957,1148.41 789.904,1147.04 791.851,1145.67 793.797,1144.3 795.744,1142.93 797.691,1141.56 799.638,1140.19 801.585,1138.82 803.532,1137.45 805.479,1136.08 807.426,1134.71 809.373,1133.34 811.32,1131.97 813.267,1130.6 815.214,1129.23 817.161,1127.86 819.107,1126.49 821.054,1125.12 823.001,1123.75 824.948,1122.38 826.895,1121.01 828.842,1119.64 830.789,1118.27 832.736,1116.9 834.683,1115.53 836.63,1114.16 838.577,1112.79 840.524,1111.42 842.471,1110.05 844.417,1108.68 846.364,1107.31 848.311,1105.94 850.258,1104.57 852.205,1103.2 854.152,1101.83 856.099,1100.46 858.046,1099.09 859.993,1097.72 861.94,1096.35 863.887,1094.98 865.834,1093.61 867.781,1092.24 869.727,1090.87 871.674,1089.5 873.621,1088.13 875.568,1086.76 877.515,1085.39 879.462,1084.02 881.409,1082.65 883.356,1081.28 885.303,1079.91 887.25,1078.54 889.197,1077.17 891.144,1075.8 893.09,1074.43 895.037,1073.06 896.984,1071.69 898.931,1070.32 900.878,1068.95 902.825,1067.58 904.772,1066.21 906.719,1064.84 908.666,1063.47 910.613,1062.1 912.56,1060.73 914.507,1059.36 916.454,1057.99 918.4,1056.62 920.347,1055.25 922.294,1053.88 924.241,1052.51 926.188,1051.14 928.135,1049.77 930.082,1048.4 932.029,1047.03 933.976,1045.66 935.923,1044.29 937.87,1042.92 939.817,1041.55 941.764,1040.17 943.71,1038.8 945.657,1037.43 947.604,1036.06 949.551,1034.69 951.498,1033.32 953.445,1031.95 955.392,1030.58 957.339,1029.21 959.286,1027.84 961.233,1026.47 963.18,1025.1 965.127,1023.73 967.073,1022.36 969.02,1020.99 970.967,1019.62 972.914,1018.25 974.861,1016.88 976.808,1015.51 978.755,1014.14 980.702,1012.77 982.649,1011.4 984.596,1010.03 986.543,1008.66 988.49,1007.29 990.437,1005.92 992.383,1004.55 994.33,1003.18 996.277,1001.81 998.224,1000.44 1000.17,999.073 1002.12,997.703 1004.07,996.333 1006.01,994.963 1007.96,993.593 1009.91,992.223 1011.85,990.852 1013.8,989.482 1015.75,988.112 1017.69,986.742 1019.64,985.372 1021.59,984.002 1023.53,982.632 1025.48,981.262 1027.43,979.892 1029.37,978.522 1031.32,977.152 1033.27,975.782 1035.22,974.412 1037.16,973.042 1039.11,971.671 1041.06,970.301 1043,968.931 1044.95,967.561 1046.9,966.191 1048.84,964.821 1050.79,963.451 1052.74,962.081 1054.68,960.711 1056.63,959.341 1058.58,957.971 1060.53,956.601 1062.47,955.231 1064.42,953.861 1066.37,952.49 1068.31,951.12 1070.26,949.75 1072.21,948.38 1074.15,947.01 1076.1,945.64 1078.05,944.27 1079.99,942.9 1081.94,941.53 1083.89,940.16 1085.84,938.79 1087.78,937.42 1089.73,936.05 1091.68,934.68 1093.62,933.309 1095.57,931.939 1097.52,930.569 1099.46,929.199 1101.41,927.829 1103.36,926.459 1105.3,925.089 1107.25,923.719 1109.2,922.349 1111.15,920.979 1113.09,919.609 1115.04,918.239 1116.99,916.869 1118.93,915.499 1120.88,914.129 1122.83,912.758 1124.77,911.388 1126.72,910.018 1128.67,908.648 1130.61,907.278 1132.56,905.908 1134.51,904.538 1136.46,903.168 1138.4,901.798 1140.35,900.428 1142.3,899.058 1144.24,897.688 1146.19,896.318 1148.14,894.948 1150.08,893.577 1152.03,892.207 1153.98,890.837 1155.92,889.467 1157.87,888.097 1159.82,886.727 1161.77,885.357 1163.71,883.987 1165.66,882.617 1167.61,881.247 1169.55,879.877 1171.5,878.507 1173.45,877.137 1175.39,875.767 1177.34,874.396 1179.29,873.026 1181.23,871.656 1183.18,870.286 1185.13,868.916 1187.08,867.546 1189.02,866.176 1190.97,864.806 1192.92,863.436 1194.86,862.066 1196.81,860.696 1198.76,859.326 1200.7,857.956 1202.65,856.586 1204.6,855.216 1206.54,853.845 1208.49,852.475 1210.44,851.105 1212.39,849.735 1214.33,848.365 1216.28,846.995 1218.23,845.625 1220.17,844.255 1222.12,842.885 1224.07,841.515 1226.01,840.145 1227.96,838.775 1229.91,837.405 1231.85,836.035 1233.8,834.664 1235.75,833.294 1237.7,831.924 1239.64,830.554 1241.59,829.184 1243.54,827.814 1245.48,826.444 1247.43,825.074 1249.38,823.704 1251.32,822.334 1253.27,820.964 1255.22,819.594 1257.16,818.224 1259.11,816.854 1261.06,815.483 1263.01,814.113 1264.95,812.743 1266.9,811.373 1268.85,810.003 1270.79,808.633 1272.74,807.263 1274.69,805.893 1276.63,804.523 1278.58,803.153 1280.53,801.783 1282.47,800.413 1284.42,799.043 1286.37,797.673 1288.32,796.302 1290.26,794.932 1292.21,793.562 1294.16,792.192 1296.1,790.822 1298.05,789.452 1300,788.082 1301.94,786.712 1303.89,785.342 1305.84,783.972 1307.78,782.602 1309.73,781.232 1311.68,779.862 1313.63,778.492 1315.57,777.122 1317.52,775.751 1319.47,774.381 1321.41,773.011 1323.36,771.641 1325.31,770.271 1327.25,768.901 1329.2,767.531 1331.15,766.161 1333.09,764.791 1335.04,763.421 1336.99,762.051 1338.94,760.681 1340.88,759.311 1342.83,757.941 1344.78,756.57 1346.72,755.2 1348.67,753.83 1350.62,752.46 1352.56,751.09 1354.51,749.72 1356.46,748.35 1358.4,746.98 1360.35,745.61 1362.3,744.24 1364.25,742.87 1366.19,741.5 1368.14,740.13 1370.09,738.76 1372.03,737.389 1373.98,736.019 1375.93,734.649 1377.87,733.279 1379.82,731.909 1381.77,730.539 1383.71,729.169 1385.66,727.799 1387.61,726.429 1389.56,725.059 1391.5,723.689 1393.45,722.319 1395.4,720.949 1397.34,719.579 1399.29,718.208 1401.24,716.838 1403.18,715.468 1405.13,714.098 1407.08,712.728 1409.02,711.358 1410.97,709.988 1412.92,708.618 1414.87,707.248 1416.81,705.878 1418.76,704.508 1420.71,703.138 1422.65,701.768 1424.6,700.398 1426.55,699.028 1428.49,697.657 1430.44,696.287 1432.39,694.917 1434.33,693.547 1436.28,692.177 1438.23,690.807 1440.18,689.437 1442.12,688.067 1444.07,686.697 1446.02,685.327 1447.96,683.957 1449.91,682.587 1451.86,681.217 1453.8,679.847 1455.75,678.476 1457.7,677.106 1459.64,675.736 1461.59,674.366 1463.54,672.996 1465.49,671.626 1467.43,670.256 1469.38,668.886 1471.33,667.516 1473.27,666.146 1475.22,664.776 1477.17,663.406 1479.11,662.036 1481.06,660.666 1483.01,659.295 1484.95,657.925 1486.9,656.555 1488.85,655.185 1490.8,653.815 1492.74,652.445 1494.69,651.075 1496.64,649.705 1498.58,648.335 1500.53,646.965 1502.48,645.595 1504.42,644.225 1506.37,642.855 1508.32,641.485 1510.26,640.115 1512.21,638.744 1514.16,637.374 1516.11,636.004 1518.05,634.634 1520,633.264 1521.95,631.894 1523.89,630.524 1525.84,629.154 1527.79,627.784 1529.73,626.414 1531.68,625.044 1533.63,623.674 1535.57,622.304 1537.52,620.934 1539.47,619.563 1541.42,618.193 1543.36,616.823 1545.31,615.453 1547.26,614.083 1549.2,612.713 1551.15,611.343 1553.1,609.973 1555.04,608.603 1556.99,607.233 1558.94,605.863 1560.88,604.493 1562.83,603.123 1564.78,601.753 1566.73,600.382 1568.67,599.012 1570.62,597.642 1572.57,596.272 1574.51,594.902 1576.46,593.532 1578.41,592.162 1580.35,590.792 1582.3,589.422 1584.25,588.052 1586.19,586.682 1588.14,585.312 1590.09,583.942 1592.04,582.572 1593.98,581.201 1595.93,579.831 1597.88,578.461 1599.82,577.091 1601.77,575.721 1603.72,574.351 1605.66,572.981 1607.61,571.611 1609.56,570.241 1611.5,568.871 1613.45,567.501 1615.4,566.131 1617.35,564.761 1619.29,563.391 1621.24,562.021 1623.19,560.65 1625.13,559.28 1627.08,557.91 1629.03,556.54 1630.97,555.17 1632.92,553.8 1634.87,552.43 1636.81,551.06 1638.76,549.69 1640.71,548.32 1642.66,546.95 1644.6,545.58 1646.55,544.21 1648.5,542.84 1650.44,541.469 1652.39,540.099 1654.34,538.729 1656.28,537.359 1658.23,535.989 1660.18,534.619 1662.12,533.249 1664.07,531.879 1666.02,530.509 1667.97,529.139 1669.91,527.769 1671.86,526.399 1673.81,525.029 1675.75,523.659 1677.7,522.288 1679.65,520.918 1681.59,519.548 1683.54,518.178 1685.49,516.808 1687.43,515.438 1689.38,514.068 1691.33,512.698 1693.28,511.328 1695.22,509.958 1697.17,508.588 1699.12,507.218 1701.06,505.848 1703.01,504.478 1704.96,503.108 1706.9,501.737 1708.85,500.367 1710.8,498.997 1712.74,497.627 1714.69,496.257 1716.64,494.887 1718.59,493.517 1720.53,492.147 1722.48,490.777 1724.43,489.407 1726.37,488.037 1728.32,486.667 1730.27,485.297 1732.21,483.927 1734.16,482.556 1736.11,481.186 1738.05,479.816 1740,478.446 1741.95,477.076 1743.9,475.706 1745.84,474.336 1747.79,472.966 1749.74,471.596 1751.68,470.226 1753.63,468.856 1755.58,467.486 1757.52,466.116 1759.47,464.746 1761.42,463.375 1763.36,462.005 1765.31,460.635 1767.26,459.265 1769.21,457.895 1771.15,456.525 1773.1,455.155 1775.05,453.785 1776.99,452.415 1778.94,451.045 1780.89,449.675 1782.83,448.305 1784.78,446.935 1786.73,445.565 1788.67,444.194 1790.62,442.824 1792.57,441.454 1794.52,440.084 1796.46,438.714 1798.41,437.344 1800.36,435.974 1802.3,434.604 1804.25,433.234 1806.2,431.864 1808.14,430.494 1810.09,429.124 1812.04,427.754 1813.98,426.384 1815.93,425.014 1817.88,423.643 1819.83,422.273 1821.77,420.903 1823.72,419.533 1825.67,418.163 1827.61,416.793 1829.56,415.423 1831.51,414.053 1833.45,412.683 1835.4,411.313 1837.35,409.943 1839.29,408.573 1841.24,407.203 1843.19,405.833 1845.14,404.462 1847.08,403.092 1849.03,401.722 1850.98,400.352 1852.92,398.982 1854.87,397.612 1856.82,396.242 1858.76,394.872 1860.71,393.502 1862.66,392.132 1864.6,390.762 1866.55,389.392 1868.5,388.022 1870.45,386.652 1872.39,385.281 1874.34,383.911 1876.29,382.541 1878.23,381.171 1880.18,379.801 1882.13,378.431 1884.07,377.061 1886.02,375.691 1887.97,374.321 1889.91,372.951 1891.86,371.581 1893.81,370.211 1895.76,368.841 1897.7,367.471 1899.65,366.1 1901.6,364.73 1903.54,363.36 1905.49,361.99 1907.44,360.62 1909.38,359.25 1911.33,357.88 1913.28,356.51 1915.22,355.14 1917.17,353.77 1919.12,352.4 1921.07,351.03 1923.01,349.66 1924.96,348.29 1926.91,346.92 1928.85,345.549 1930.8,344.179 1932.75,342.809 1934.69,341.439 1936.64,340.069 1938.59,338.699 1940.53,337.329 1942.48,335.959 1944.43,334.589 1946.37,333.219 1948.32,331.849 1950.27,330.479 1952.22,329.109 1954.16,327.739 1956.11,326.368 1958.06,324.998 1960,323.628 1961.95,322.258 1963.9,320.888 1965.84,319.518 1967.79,318.148 1969.74,316.778 1971.68,315.408 1973.63,314.038 1975.58,312.668 1977.53,311.298 1979.47,309.928 1981.42,308.558 1983.37,307.187 1985.31,305.817 1987.26,304.447 1989.21,303.077 1991.15,301.707 1993.1,300.337 1995.05,298.967 1996.99,297.597 1998.94,296.227 2000.89,294.857 2002.84,293.487 2004.78,292.117 2006.73,290.747 2008.68,289.377 2010.62,288.007 2012.57,286.636 2014.52,285.266 2016.46,283.896 2018.41,282.526 2020.36,281.156 2022.3,279.786 2024.25,278.416 2026.2,277.046 2028.15,275.676 2030.09,274.306 2032.04,272.936 2033.99,271.566 2035.93,270.196 2037.88,268.826 2039.83,267.455 2041.77,266.085 2043.72,264.715 2045.67,263.345 2047.61,261.975 2049.56,260.605 2051.51,259.235 2053.46,257.865 2055.4,256.495 2057.35,255.125 2059.3,253.755 2061.24,252.385 2063.19,251.015 2065.14,249.645 2067.08,248.274 2069.03,246.904 2070.98,245.534 2072.92,244.164 2074.87,242.794 2076.82,241.424 2078.77,240.054 2080.71,238.684 2082.66,237.314 2084.61,235.944 2086.55,234.574 2088.5,233.204 2090.45,231.834 2092.39,230.464 2094.34,229.093 2096.29,227.723 2098.23,226.353 2100.18,224.983 2102.13,223.613 2104.08,222.243 2106.02,220.873 2107.97,219.503 2109.92,218.133 2111.86,216.763 2113.81,215.393 2115.76,214.023 2117.7,212.653 2119.65,211.283 2121.6,209.913 2123.54,208.542 2125.49,207.172 2127.44,205.802 2129.39,204.432 2131.33,203.062 2133.28,201.692 2135.23,200.322 2137.17,198.952 2139.12,197.582 2141.07,196.212 2143.01,194.842 2144.96,193.472 2146.91,192.102 2148.85,190.732 2150.8,189.361 2152.75,187.991 2154.7,186.621 2156.64,185.251 2158.59,183.881 2160.54,182.511 2162.48,181.141 2164.43,179.771 2166.38,178.401 2168.32,177.031 2170.27,175.661 2172.22,174.291 2174.16,172.921 2176.11,171.551 2178.06,170.18 2180.01,168.81 2181.95,167.44 2183.9,166.07 2185.85,164.7 2187.79,163.33 2189.74,161.96 2191.69,160.59 2193.63,159.22 2195.58,157.85 2197.53,156.48 2199.47,155.11 2201.42,153.74 2203.37,152.37 2205.32,150.999 2207.26,149.629 2209.21,148.259 2211.16,146.889 2213.1,145.519 2215.05,144.149 2217,142.779 2218.94,141.409 2220.89,140.039 2222.84,138.669 2224.78,137.299 2226.73,135.929 2228.68,134.559 2230.63,133.189 2232.57,131.819 2234.52,130.448 2236.47,129.078 2238.41,127.708 2240.36,126.338 2242.31,124.968 2244.25,123.598 2246.2,122.228 2248.15,120.858 2250.09,119.488 2252.04,118.118 2253.99,116.748 2255.94,115.378 2257.88,114.008 2259.83,112.638 2261.78,111.267 2263.72,109.897 2265.67,108.527 2267.62,107.157 2269.56,105.787 2271.51,104.417 2273.46,103.047 2275.4,101.677 2277.35,100.307 2279.3,98.9368 2281.25,97.5668 2283.19,96.1967 2285.14,94.8266 2287.09,93.4566 2289.03,92.0865 2290.98,90.7164 2292.93,89.3463 2294.87,87.9763 \"/>\n",
       "<path clip-path=\"url(#clip930)\" d=\"M375.765 198.898 L632.711 198.898 L632.711 95.2176 L375.765 95.2176  Z\" fill=\"#ffffff\" fill-rule=\"evenodd\" fill-opacity=\"1\"/>\n",
       "<polyline clip-path=\"url(#clip930)\" style=\"stroke:#000000; stroke-linecap:round; stroke-linejoin:round; stroke-width:4; stroke-opacity:1; fill:none\" points=\"375.765,198.898 632.711,198.898 632.711,95.2176 375.765,95.2176 375.765,198.898 \"/>\n",
       "<polyline clip-path=\"url(#clip930)\" style=\"stroke:#009af9; stroke-linecap:round; stroke-linejoin:round; stroke-width:4; stroke-opacity:1; fill:none\" points=\"398.489,147.058 534.833,147.058 \"/>\n",
       "<path clip-path=\"url(#clip930)\" d=\"M571.4 166.745 Q569.594 171.375 567.881 172.787 Q566.168 174.199 563.298 174.199 L559.895 174.199 L559.895 170.634 L562.395 170.634 Q564.154 170.634 565.127 169.8 Q566.099 168.967 567.279 165.865 L568.043 163.921 L557.557 138.412 L562.071 138.412 L570.173 158.689 L578.275 138.412 L582.789 138.412 L571.4 166.745 Z\" fill=\"#000000\" fill-rule=\"nonzero\" fill-opacity=\"1\" /><path clip-path=\"url(#clip930)\" d=\"M590.08 160.402 L597.719 160.402 L597.719 134.037 L589.409 135.703 L589.409 131.444 L597.673 129.778 L602.349 129.778 L602.349 160.402 L609.987 160.402 L609.987 164.338 L590.08 164.338 L590.08 160.402 Z\" fill=\"#000000\" fill-rule=\"nonzero\" fill-opacity=\"1\" /></svg>\n"
      ],
      "text/html": [
       "<?xml version=\"1.0\" encoding=\"utf-8\"?>\n",
       "<svg xmlns=\"http://www.w3.org/2000/svg\" xmlns:xlink=\"http://www.w3.org/1999/xlink\" width=\"600\" height=\"400\" viewBox=\"0 0 2400 1600\">\n",
       "<defs>\n",
       "  <clipPath id=\"clip980\">\n",
       "    <rect x=\"0\" y=\"0\" width=\"2400\" height=\"1600\"/>\n",
       "  </clipPath>\n",
       "</defs>\n",
       "<path clip-path=\"url(#clip980)\" d=\"M0 1600 L2400 1600 L2400 0 L0 0  Z\" fill=\"#ffffff\" fill-rule=\"evenodd\" fill-opacity=\"1\"/>\n",
       "<defs>\n",
       "  <clipPath id=\"clip981\">\n",
       "    <rect x=\"480\" y=\"0\" width=\"1681\" height=\"1600\"/>\n",
       "  </clipPath>\n",
       "</defs>\n",
       "<path clip-path=\"url(#clip980)\" d=\"M307.593 1486.45 L2352.76 1486.45 L2352.76 47.2441 L307.593 47.2441  Z\" fill=\"#ffffff\" fill-rule=\"evenodd\" fill-opacity=\"1\"/>\n",
       "<defs>\n",
       "  <clipPath id=\"clip982\">\n",
       "    <rect x=\"307\" y=\"47\" width=\"2046\" height=\"1440\"/>\n",
       "  </clipPath>\n",
       "</defs>\n",
       "<polyline clip-path=\"url(#clip982)\" style=\"stroke:#000000; stroke-linecap:round; stroke-linejoin:round; stroke-width:2; stroke-opacity:0.1; fill:none\" points=\"363.528,1486.45 363.528,47.2441 \"/>\n",
       "<polyline clip-path=\"url(#clip982)\" style=\"stroke:#000000; stroke-linecap:round; stroke-linejoin:round; stroke-width:2; stroke-opacity:0.1; fill:none\" points=\"850.258,1486.45 850.258,47.2441 \"/>\n",
       "<polyline clip-path=\"url(#clip982)\" style=\"stroke:#000000; stroke-linecap:round; stroke-linejoin:round; stroke-width:2; stroke-opacity:0.1; fill:none\" points=\"1336.99,1486.45 1336.99,47.2441 \"/>\n",
       "<polyline clip-path=\"url(#clip982)\" style=\"stroke:#000000; stroke-linecap:round; stroke-linejoin:round; stroke-width:2; stroke-opacity:0.1; fill:none\" points=\"1823.72,1486.45 1823.72,47.2441 \"/>\n",
       "<polyline clip-path=\"url(#clip982)\" style=\"stroke:#000000; stroke-linecap:round; stroke-linejoin:round; stroke-width:2; stroke-opacity:0.1; fill:none\" points=\"2310.45,1486.45 2310.45,47.2441 \"/>\n",
       "<polyline clip-path=\"url(#clip980)\" style=\"stroke:#000000; stroke-linecap:round; stroke-linejoin:round; stroke-width:4; stroke-opacity:1; fill:none\" points=\"307.593,1486.45 2352.76,1486.45 \"/>\n",
       "<polyline clip-path=\"url(#clip980)\" style=\"stroke:#000000; stroke-linecap:round; stroke-linejoin:round; stroke-width:4; stroke-opacity:1; fill:none\" points=\"363.528,1486.45 363.528,1467.55 \"/>\n",
       "<polyline clip-path=\"url(#clip980)\" style=\"stroke:#000000; stroke-linecap:round; stroke-linejoin:round; stroke-width:4; stroke-opacity:1; fill:none\" points=\"850.258,1486.45 850.258,1467.55 \"/>\n",
       "<polyline clip-path=\"url(#clip980)\" style=\"stroke:#000000; stroke-linecap:round; stroke-linejoin:round; stroke-width:4; stroke-opacity:1; fill:none\" points=\"1336.99,1486.45 1336.99,1467.55 \"/>\n",
       "<polyline clip-path=\"url(#clip980)\" style=\"stroke:#000000; stroke-linecap:round; stroke-linejoin:round; stroke-width:4; stroke-opacity:1; fill:none\" points=\"1823.72,1486.45 1823.72,1467.55 \"/>\n",
       "<polyline clip-path=\"url(#clip980)\" style=\"stroke:#000000; stroke-linecap:round; stroke-linejoin:round; stroke-width:4; stroke-opacity:1; fill:none\" points=\"2310.45,1486.45 2310.45,1467.55 \"/>\n",
       "<path clip-path=\"url(#clip980)\" d=\"M363.528 1517.37 Q359.917 1517.37 358.088 1520.93 Q356.283 1524.47 356.283 1531.6 Q356.283 1538.71 358.088 1542.27 Q359.917 1545.82 363.528 1545.82 Q367.162 1545.82 368.968 1542.27 Q370.796 1538.71 370.796 1531.6 Q370.796 1524.47 368.968 1520.93 Q367.162 1517.37 363.528 1517.37 M363.528 1513.66 Q369.338 1513.66 372.394 1518.27 Q375.472 1522.85 375.472 1531.6 Q375.472 1540.33 372.394 1544.94 Q369.338 1549.52 363.528 1549.52 Q357.718 1549.52 354.639 1544.94 Q351.583 1540.33 351.583 1531.6 Q351.583 1522.85 354.639 1518.27 Q357.718 1513.66 363.528 1513.66 Z\" fill=\"#000000\" fill-rule=\"nonzero\" fill-opacity=\"1\" /><path clip-path=\"url(#clip980)\" d=\"M813.951 1544.91 L830.27 1544.91 L830.27 1548.85 L808.326 1548.85 L808.326 1544.91 Q810.988 1542.16 815.571 1537.53 Q820.177 1532.88 821.358 1531.53 Q823.603 1529.01 824.483 1527.27 Q825.386 1525.51 825.386 1523.82 Q825.386 1521.07 823.441 1519.33 Q821.52 1517.6 818.418 1517.6 Q816.219 1517.6 813.765 1518.36 Q811.335 1519.13 808.557 1520.68 L808.557 1515.95 Q811.381 1514.82 813.835 1514.24 Q816.288 1513.66 818.326 1513.66 Q823.696 1513.66 826.89 1516.35 Q830.085 1519.03 830.085 1523.52 Q830.085 1525.65 829.275 1527.57 Q828.487 1529.47 826.381 1532.07 Q825.802 1532.74 822.7 1535.95 Q819.599 1539.15 813.951 1544.91 Z\" fill=\"#000000\" fill-rule=\"nonzero\" fill-opacity=\"1\" /><path clip-path=\"url(#clip980)\" d=\"M840.131 1514.29 L858.487 1514.29 L858.487 1518.22 L844.413 1518.22 L844.413 1526.7 Q845.432 1526.35 846.45 1526.19 Q847.469 1526 848.487 1526 Q854.274 1526 857.654 1529.17 Q861.034 1532.34 861.034 1537.76 Q861.034 1543.34 857.561 1546.44 Q854.089 1549.52 847.77 1549.52 Q845.594 1549.52 843.325 1549.15 Q841.08 1548.78 838.673 1548.04 L838.673 1543.34 Q840.756 1544.47 842.978 1545.03 Q845.2 1545.58 847.677 1545.58 Q851.682 1545.58 854.02 1543.48 Q856.358 1541.37 856.358 1537.76 Q856.358 1534.15 854.02 1532.04 Q851.682 1529.94 847.677 1529.94 Q845.802 1529.94 843.927 1530.35 Q842.075 1530.77 840.131 1531.65 L840.131 1514.29 Z\" fill=\"#000000\" fill-rule=\"nonzero\" fill-opacity=\"1\" /><path clip-path=\"url(#clip980)\" d=\"M880.246 1517.37 Q876.635 1517.37 874.807 1520.93 Q873.001 1524.47 873.001 1531.6 Q873.001 1538.71 874.807 1542.27 Q876.635 1545.82 880.246 1545.82 Q883.881 1545.82 885.686 1542.27 Q887.515 1538.71 887.515 1531.6 Q887.515 1524.47 885.686 1520.93 Q883.881 1517.37 880.246 1517.37 M880.246 1513.66 Q886.057 1513.66 889.112 1518.27 Q892.191 1522.85 892.191 1531.6 Q892.191 1540.33 889.112 1544.94 Q886.057 1549.52 880.246 1549.52 Q874.436 1549.52 871.358 1544.94 Q868.302 1540.33 868.302 1531.6 Q868.302 1522.85 871.358 1518.27 Q874.436 1513.66 880.246 1513.66 Z\" fill=\"#000000\" fill-rule=\"nonzero\" fill-opacity=\"1\" /><path clip-path=\"url(#clip980)\" d=\"M1296.61 1514.29 L1314.96 1514.29 L1314.96 1518.22 L1300.89 1518.22 L1300.89 1526.7 Q1301.91 1526.35 1302.93 1526.19 Q1303.94 1526 1304.96 1526 Q1310.75 1526 1314.13 1529.17 Q1317.51 1532.34 1317.51 1537.76 Q1317.51 1543.34 1314.04 1546.44 Q1310.57 1549.52 1304.25 1549.52 Q1302.07 1549.52 1299.8 1549.15 Q1297.56 1548.78 1295.15 1548.04 L1295.15 1543.34 Q1297.23 1544.47 1299.45 1545.03 Q1301.68 1545.58 1304.15 1545.58 Q1308.16 1545.58 1310.5 1543.48 Q1312.83 1541.37 1312.83 1537.76 Q1312.83 1534.15 1310.5 1532.04 Q1308.16 1529.94 1304.15 1529.94 Q1302.28 1529.94 1300.4 1530.35 Q1298.55 1530.77 1296.61 1531.65 L1296.61 1514.29 Z\" fill=\"#000000\" fill-rule=\"nonzero\" fill-opacity=\"1\" /><path clip-path=\"url(#clip980)\" d=\"M1336.72 1517.37 Q1333.11 1517.37 1331.28 1520.93 Q1329.48 1524.47 1329.48 1531.6 Q1329.48 1538.71 1331.28 1542.27 Q1333.11 1545.82 1336.72 1545.82 Q1340.36 1545.82 1342.16 1542.27 Q1343.99 1538.71 1343.99 1531.6 Q1343.99 1524.47 1342.16 1520.93 Q1340.36 1517.37 1336.72 1517.37 M1336.72 1513.66 Q1342.53 1513.66 1345.59 1518.27 Q1348.67 1522.85 1348.67 1531.6 Q1348.67 1540.33 1345.59 1544.94 Q1342.53 1549.52 1336.72 1549.52 Q1330.91 1549.52 1327.83 1544.94 Q1324.78 1540.33 1324.78 1531.6 Q1324.78 1522.85 1327.83 1518.27 Q1330.91 1513.66 1336.72 1513.66 Z\" fill=\"#000000\" fill-rule=\"nonzero\" fill-opacity=\"1\" /><path clip-path=\"url(#clip980)\" d=\"M1366.88 1517.37 Q1363.27 1517.37 1361.44 1520.93 Q1359.64 1524.47 1359.64 1531.6 Q1359.64 1538.71 1361.44 1542.27 Q1363.27 1545.82 1366.88 1545.82 Q1370.52 1545.82 1372.32 1542.27 Q1374.15 1538.71 1374.15 1531.6 Q1374.15 1524.47 1372.32 1520.93 Q1370.52 1517.37 1366.88 1517.37 M1366.88 1513.66 Q1372.69 1513.66 1375.75 1518.27 Q1378.83 1522.85 1378.83 1531.6 Q1378.83 1540.33 1375.75 1544.94 Q1372.69 1549.52 1366.88 1549.52 Q1361.07 1549.52 1358 1544.94 Q1354.94 1540.33 1354.94 1531.6 Q1354.94 1522.85 1358 1518.27 Q1361.07 1513.66 1366.88 1513.66 Z\" fill=\"#000000\" fill-rule=\"nonzero\" fill-opacity=\"1\" /><path clip-path=\"url(#clip980)\" d=\"M1781.99 1514.29 L1804.22 1514.29 L1804.22 1516.28 L1791.67 1548.85 L1786.79 1548.85 L1798.59 1518.22 L1781.99 1518.22 L1781.99 1514.29 Z\" fill=\"#000000\" fill-rule=\"nonzero\" fill-opacity=\"1\" /><path clip-path=\"url(#clip980)\" d=\"M1813.38 1514.29 L1831.74 1514.29 L1831.74 1518.22 L1817.67 1518.22 L1817.67 1526.7 Q1818.68 1526.35 1819.7 1526.19 Q1820.72 1526 1821.74 1526 Q1827.53 1526 1830.91 1529.17 Q1834.29 1532.34 1834.29 1537.76 Q1834.29 1543.34 1830.81 1546.44 Q1827.34 1549.52 1821.02 1549.52 Q1818.85 1549.52 1816.58 1549.15 Q1814.33 1548.78 1811.93 1548.04 L1811.93 1543.34 Q1814.01 1544.47 1816.23 1545.03 Q1818.45 1545.58 1820.93 1545.58 Q1824.93 1545.58 1827.27 1543.48 Q1829.61 1541.37 1829.61 1537.76 Q1829.61 1534.15 1827.27 1532.04 Q1824.93 1529.94 1820.93 1529.94 Q1819.05 1529.94 1817.18 1530.35 Q1815.33 1530.77 1813.38 1531.65 L1813.38 1514.29 Z\" fill=\"#000000\" fill-rule=\"nonzero\" fill-opacity=\"1\" /><path clip-path=\"url(#clip980)\" d=\"M1853.5 1517.37 Q1849.89 1517.37 1848.06 1520.93 Q1846.25 1524.47 1846.25 1531.6 Q1846.25 1538.71 1848.06 1542.27 Q1849.89 1545.82 1853.5 1545.82 Q1857.13 1545.82 1858.94 1542.27 Q1860.77 1538.71 1860.77 1531.6 Q1860.77 1524.47 1858.94 1520.93 Q1857.13 1517.37 1853.5 1517.37 M1853.5 1513.66 Q1859.31 1513.66 1862.36 1518.27 Q1865.44 1522.85 1865.44 1531.6 Q1865.44 1540.33 1862.36 1544.94 Q1859.31 1549.52 1853.5 1549.52 Q1847.69 1549.52 1844.61 1544.94 Q1841.55 1540.33 1841.55 1531.6 Q1841.55 1522.85 1844.61 1518.27 Q1847.69 1513.66 1853.5 1513.66 Z\" fill=\"#000000\" fill-rule=\"nonzero\" fill-opacity=\"1\" /><path clip-path=\"url(#clip980)\" d=\"M2254.98 1544.91 L2262.61 1544.91 L2262.61 1518.55 L2254.3 1520.21 L2254.3 1515.95 L2262.57 1514.29 L2267.24 1514.29 L2267.24 1544.91 L2274.88 1544.91 L2274.88 1548.85 L2254.98 1548.85 L2254.98 1544.91 Z\" fill=\"#000000\" fill-rule=\"nonzero\" fill-opacity=\"1\" /><path clip-path=\"url(#clip980)\" d=\"M2294.33 1517.37 Q2290.72 1517.37 2288.89 1520.93 Q2287.08 1524.47 2287.08 1531.6 Q2287.08 1538.71 2288.89 1542.27 Q2290.72 1545.82 2294.33 1545.82 Q2297.96 1545.82 2299.77 1542.27 Q2301.6 1538.71 2301.6 1531.6 Q2301.6 1524.47 2299.77 1520.93 Q2297.96 1517.37 2294.33 1517.37 M2294.33 1513.66 Q2300.14 1513.66 2303.19 1518.27 Q2306.27 1522.85 2306.27 1531.6 Q2306.27 1540.33 2303.19 1544.94 Q2300.14 1549.52 2294.33 1549.52 Q2288.52 1549.52 2285.44 1544.94 Q2282.38 1540.33 2282.38 1531.6 Q2282.38 1522.85 2285.44 1518.27 Q2288.52 1513.66 2294.33 1513.66 Z\" fill=\"#000000\" fill-rule=\"nonzero\" fill-opacity=\"1\" /><path clip-path=\"url(#clip980)\" d=\"M2324.49 1517.37 Q2320.88 1517.37 2319.05 1520.93 Q2317.24 1524.47 2317.24 1531.6 Q2317.24 1538.71 2319.05 1542.27 Q2320.88 1545.82 2324.49 1545.82 Q2328.12 1545.82 2329.93 1542.27 Q2331.76 1538.71 2331.76 1531.6 Q2331.76 1524.47 2329.93 1520.93 Q2328.12 1517.37 2324.49 1517.37 M2324.49 1513.66 Q2330.3 1513.66 2333.35 1518.27 Q2336.43 1522.85 2336.43 1531.6 Q2336.43 1540.33 2333.35 1544.94 Q2330.3 1549.52 2324.49 1549.52 Q2318.68 1549.52 2315.6 1544.94 Q2312.54 1540.33 2312.54 1531.6 Q2312.54 1522.85 2315.6 1518.27 Q2318.68 1513.66 2324.49 1513.66 Z\" fill=\"#000000\" fill-rule=\"nonzero\" fill-opacity=\"1\" /><path clip-path=\"url(#clip980)\" d=\"M2354.65 1517.37 Q2351.04 1517.37 2349.21 1520.93 Q2347.41 1524.47 2347.41 1531.6 Q2347.41 1538.71 2349.21 1542.27 Q2351.04 1545.82 2354.65 1545.82 Q2358.28 1545.82 2360.09 1542.27 Q2361.92 1538.71 2361.92 1531.6 Q2361.92 1524.47 2360.09 1520.93 Q2358.28 1517.37 2354.65 1517.37 M2354.65 1513.66 Q2360.46 1513.66 2363.52 1518.27 Q2366.59 1522.85 2366.59 1531.6 Q2366.59 1540.33 2363.52 1544.94 Q2360.46 1549.52 2354.65 1549.52 Q2348.84 1549.52 2345.76 1544.94 Q2342.71 1540.33 2342.71 1531.6 Q2342.71 1522.85 2345.76 1518.27 Q2348.84 1513.66 2354.65 1513.66 Z\" fill=\"#000000\" fill-rule=\"nonzero\" fill-opacity=\"1\" /><polyline clip-path=\"url(#clip982)\" style=\"stroke:#000000; stroke-linecap:round; stroke-linejoin:round; stroke-width:2; stroke-opacity:0.1; fill:none\" points=\"307.593,1456.68 2352.76,1456.68 \"/>\n",
       "<polyline clip-path=\"url(#clip982)\" style=\"stroke:#000000; stroke-linecap:round; stroke-linejoin:round; stroke-width:2; stroke-opacity:0.1; fill:none\" points=\"307.593,1237.47 2352.76,1237.47 \"/>\n",
       "<polyline clip-path=\"url(#clip982)\" style=\"stroke:#000000; stroke-linecap:round; stroke-linejoin:round; stroke-width:2; stroke-opacity:0.1; fill:none\" points=\"307.593,1018.25 2352.76,1018.25 \"/>\n",
       "<polyline clip-path=\"url(#clip982)\" style=\"stroke:#000000; stroke-linecap:round; stroke-linejoin:round; stroke-width:2; stroke-opacity:0.1; fill:none\" points=\"307.593,799.043 2352.76,799.043 \"/>\n",
       "<polyline clip-path=\"url(#clip982)\" style=\"stroke:#000000; stroke-linecap:round; stroke-linejoin:round; stroke-width:2; stroke-opacity:0.1; fill:none\" points=\"307.593,579.831 2352.76,579.831 \"/>\n",
       "<polyline clip-path=\"url(#clip982)\" style=\"stroke:#000000; stroke-linecap:round; stroke-linejoin:round; stroke-width:2; stroke-opacity:0.1; fill:none\" points=\"307.593,360.62 2352.76,360.62 \"/>\n",
       "<polyline clip-path=\"url(#clip982)\" style=\"stroke:#000000; stroke-linecap:round; stroke-linejoin:round; stroke-width:2; stroke-opacity:0.1; fill:none\" points=\"307.593,141.409 2352.76,141.409 \"/>\n",
       "<polyline clip-path=\"url(#clip980)\" style=\"stroke:#000000; stroke-linecap:round; stroke-linejoin:round; stroke-width:4; stroke-opacity:1; fill:none\" points=\"307.593,1486.45 307.593,47.2441 \"/>\n",
       "<polyline clip-path=\"url(#clip980)\" style=\"stroke:#000000; stroke-linecap:round; stroke-linejoin:round; stroke-width:4; stroke-opacity:1; fill:none\" points=\"307.593,1456.68 326.49,1456.68 \"/>\n",
       "<polyline clip-path=\"url(#clip980)\" style=\"stroke:#000000; stroke-linecap:round; stroke-linejoin:round; stroke-width:4; stroke-opacity:1; fill:none\" points=\"307.593,1237.47 326.49,1237.47 \"/>\n",
       "<polyline clip-path=\"url(#clip980)\" style=\"stroke:#000000; stroke-linecap:round; stroke-linejoin:round; stroke-width:4; stroke-opacity:1; fill:none\" points=\"307.593,1018.25 326.49,1018.25 \"/>\n",
       "<polyline clip-path=\"url(#clip980)\" style=\"stroke:#000000; stroke-linecap:round; stroke-linejoin:round; stroke-width:4; stroke-opacity:1; fill:none\" points=\"307.593,799.043 326.49,799.043 \"/>\n",
       "<polyline clip-path=\"url(#clip980)\" style=\"stroke:#000000; stroke-linecap:round; stroke-linejoin:round; stroke-width:4; stroke-opacity:1; fill:none\" points=\"307.593,579.831 326.49,579.831 \"/>\n",
       "<polyline clip-path=\"url(#clip980)\" style=\"stroke:#000000; stroke-linecap:round; stroke-linejoin:round; stroke-width:4; stroke-opacity:1; fill:none\" points=\"307.593,360.62 326.49,360.62 \"/>\n",
       "<polyline clip-path=\"url(#clip980)\" style=\"stroke:#000000; stroke-linecap:round; stroke-linejoin:round; stroke-width:4; stroke-opacity:1; fill:none\" points=\"307.593,141.409 326.49,141.409 \"/>\n",
       "<path clip-path=\"url(#clip980)\" d=\"M259.648 1442.47 Q256.037 1442.47 254.209 1446.04 Q252.403 1449.58 252.403 1456.71 Q252.403 1463.82 254.209 1467.38 Q256.037 1470.92 259.648 1470.92 Q263.283 1470.92 265.088 1467.38 Q266.917 1463.82 266.917 1456.71 Q266.917 1449.58 265.088 1446.04 Q263.283 1442.47 259.648 1442.47 M259.648 1438.77 Q265.459 1438.77 268.514 1443.38 Q271.593 1447.96 271.593 1456.71 Q271.593 1465.44 268.514 1470.04 Q265.459 1474.63 259.648 1474.63 Q253.838 1474.63 250.76 1470.04 Q247.704 1465.44 247.704 1456.71 Q247.704 1447.96 250.76 1443.38 Q253.838 1438.77 259.648 1438.77 Z\" fill=\"#000000\" fill-rule=\"nonzero\" fill-opacity=\"1\" /><path clip-path=\"url(#clip980)\" d=\"M57.7745 1257.26 L74.0939 1257.26 L74.0939 1261.19 L52.1495 1261.19 L52.1495 1257.26 Q54.8115 1254.5 59.3949 1249.87 Q64.0013 1245.22 65.1819 1243.88 Q67.4272 1241.35 68.3068 1239.62 Q69.2096 1237.86 69.2096 1236.17 Q69.2096 1233.42 67.2652 1231.68 Q65.3439 1229.94 62.2421 1229.94 Q60.043 1229.94 57.5893 1230.71 Q55.1588 1231.47 52.381 1233.02 L52.381 1228.3 Q55.2051 1227.17 57.6588 1226.59 Q60.1124 1226.01 62.1495 1226.01 Q67.5198 1226.01 70.7142 1228.69 Q73.9087 1231.38 73.9087 1235.87 Q73.9087 1238 73.0985 1239.92 Q72.3115 1241.82 70.205 1244.41 Q69.6263 1245.08 66.5245 1248.3 Q63.4226 1251.49 57.7745 1257.26 Z\" fill=\"#000000\" fill-rule=\"nonzero\" fill-opacity=\"1\" /><path clip-path=\"url(#clip980)\" d=\"M83.9086 1255.31 L88.7928 1255.31 L88.7928 1261.19 L83.9086 1261.19 L83.9086 1255.31 Z\" fill=\"#000000\" fill-rule=\"nonzero\" fill-opacity=\"1\" /><path clip-path=\"url(#clip980)\" d=\"M108.978 1229.71 Q105.367 1229.71 103.538 1233.28 Q101.733 1236.82 101.733 1243.95 Q101.733 1251.05 103.538 1254.62 Q105.367 1258.16 108.978 1258.16 Q112.612 1258.16 114.418 1254.62 Q116.246 1251.05 116.246 1243.95 Q116.246 1236.82 114.418 1233.28 Q112.612 1229.71 108.978 1229.71 M108.978 1226.01 Q114.788 1226.01 117.844 1230.61 Q120.922 1235.2 120.922 1243.95 Q120.922 1252.67 117.844 1257.28 Q114.788 1261.86 108.978 1261.86 Q103.168 1261.86 100.089 1257.28 Q97.0335 1252.67 97.0335 1243.95 Q97.0335 1235.2 100.089 1230.61 Q103.168 1226.01 108.978 1226.01 Z\" fill=\"#000000\" fill-rule=\"nonzero\" fill-opacity=\"1\" /><path clip-path=\"url(#clip980)\" d=\"M139.14 1229.71 Q135.529 1229.71 133.7 1233.28 Q131.894 1236.82 131.894 1243.95 Q131.894 1251.05 133.7 1254.62 Q135.529 1258.16 139.14 1258.16 Q142.774 1258.16 144.58 1254.62 Q146.408 1251.05 146.408 1243.95 Q146.408 1236.82 144.58 1233.28 Q142.774 1229.71 139.14 1229.71 M139.14 1226.01 Q144.95 1226.01 148.005 1230.61 Q151.084 1235.2 151.084 1243.95 Q151.084 1252.67 148.005 1257.28 Q144.95 1261.86 139.14 1261.86 Q133.33 1261.86 130.251 1257.28 Q127.195 1252.67 127.195 1243.95 Q127.195 1235.2 130.251 1230.61 Q133.33 1226.01 139.14 1226.01 Z\" fill=\"#000000\" fill-rule=\"nonzero\" fill-opacity=\"1\" /><path clip-path=\"url(#clip980)\" d=\"M187.473 1235.73 L176.894 1246.35 L187.473 1256.93 L184.718 1259.73 L174.093 1249.11 L163.468 1259.73 L160.737 1256.93 L171.292 1246.35 L160.737 1235.73 L163.468 1232.93 L174.093 1243.55 L184.718 1232.93 L187.473 1235.73 Z\" fill=\"#000000\" fill-rule=\"nonzero\" fill-opacity=\"1\" /><path clip-path=\"url(#clip980)\" d=\"M199.834 1257.26 L207.473 1257.26 L207.473 1230.89 L199.163 1232.56 L199.163 1228.3 L207.426 1226.63 L212.102 1226.63 L212.102 1257.26 L219.741 1257.26 L219.741 1261.19 L199.834 1261.19 L199.834 1257.26 Z\" fill=\"#000000\" fill-rule=\"nonzero\" fill-opacity=\"1\" /><path clip-path=\"url(#clip980)\" d=\"M239.186 1229.71 Q235.574 1229.71 233.746 1233.28 Q231.94 1236.82 231.94 1243.95 Q231.94 1251.05 233.746 1254.62 Q235.574 1258.16 239.186 1258.16 Q242.82 1258.16 244.625 1254.62 Q246.454 1251.05 246.454 1243.95 Q246.454 1236.82 244.625 1233.28 Q242.82 1229.71 239.186 1229.71 M239.186 1226.01 Q244.996 1226.01 248.051 1230.61 Q251.13 1235.2 251.13 1243.95 Q251.13 1252.67 248.051 1257.28 Q244.996 1261.86 239.186 1261.86 Q233.375 1261.86 230.297 1257.28 Q227.241 1252.67 227.241 1243.95 Q227.241 1235.2 230.297 1230.61 Q233.375 1226.01 239.186 1226.01 Z\" fill=\"#000000\" fill-rule=\"nonzero\" fill-opacity=\"1\" /><path clip-path=\"url(#clip980)\" d=\"M263.806 1209.01 L254.214 1224 L263.806 1224 L263.806 1209.01 M262.81 1205.7 L267.587 1205.7 L267.587 1224 L271.593 1224 L271.593 1227.16 L267.587 1227.16 L267.587 1233.78 L263.806 1233.78 L263.806 1227.16 L251.13 1227.16 L251.13 1223.49 L262.81 1205.7 Z\" fill=\"#000000\" fill-rule=\"nonzero\" fill-opacity=\"1\" /><path clip-path=\"url(#clip980)\" d=\"M66.5939 1011.5 L54.7884 1029.94 L66.5939 1029.94 L66.5939 1011.5 M65.367 1007.42 L71.2466 1007.42 L71.2466 1029.94 L76.1772 1029.94 L76.1772 1033.83 L71.2466 1033.83 L71.2466 1041.98 L66.5939 1041.98 L66.5939 1033.83 L50.9921 1033.83 L50.9921 1029.32 L65.367 1007.42 Z\" fill=\"#000000\" fill-rule=\"nonzero\" fill-opacity=\"1\" /><path clip-path=\"url(#clip980)\" d=\"M83.9086 1036.1 L88.7928 1036.1 L88.7928 1041.98 L83.9086 1041.98 L83.9086 1036.1 Z\" fill=\"#000000\" fill-rule=\"nonzero\" fill-opacity=\"1\" /><path clip-path=\"url(#clip980)\" d=\"M108.978 1010.5 Q105.367 1010.5 103.538 1014.06 Q101.733 1017.61 101.733 1024.74 Q101.733 1031.84 103.538 1035.41 Q105.367 1038.95 108.978 1038.95 Q112.612 1038.95 114.418 1035.41 Q116.246 1031.84 116.246 1024.74 Q116.246 1017.61 114.418 1014.06 Q112.612 1010.5 108.978 1010.5 M108.978 1006.8 Q114.788 1006.8 117.844 1011.4 Q120.922 1015.99 120.922 1024.74 Q120.922 1033.46 117.844 1038.07 Q114.788 1042.65 108.978 1042.65 Q103.168 1042.65 100.089 1038.07 Q97.0335 1033.46 97.0335 1024.74 Q97.0335 1015.99 100.089 1011.4 Q103.168 1006.8 108.978 1006.8 Z\" fill=\"#000000\" fill-rule=\"nonzero\" fill-opacity=\"1\" /><path clip-path=\"url(#clip980)\" d=\"M139.14 1010.5 Q135.529 1010.5 133.7 1014.06 Q131.894 1017.61 131.894 1024.74 Q131.894 1031.84 133.7 1035.41 Q135.529 1038.95 139.14 1038.95 Q142.774 1038.95 144.58 1035.41 Q146.408 1031.84 146.408 1024.74 Q146.408 1017.61 144.58 1014.06 Q142.774 1010.5 139.14 1010.5 M139.14 1006.8 Q144.95 1006.8 148.005 1011.4 Q151.084 1015.99 151.084 1024.74 Q151.084 1033.46 148.005 1038.07 Q144.95 1042.65 139.14 1042.65 Q133.33 1042.65 130.251 1038.07 Q127.195 1033.46 127.195 1024.74 Q127.195 1015.99 130.251 1011.4 Q133.33 1006.8 139.14 1006.8 Z\" fill=\"#000000\" fill-rule=\"nonzero\" fill-opacity=\"1\" /><path clip-path=\"url(#clip980)\" d=\"M187.473 1016.52 L176.894 1027.14 L187.473 1037.72 L184.718 1040.52 L174.093 1029.9 L163.468 1040.52 L160.737 1037.72 L171.292 1027.14 L160.737 1016.52 L163.468 1013.72 L174.093 1024.34 L184.718 1013.72 L187.473 1016.52 Z\" fill=\"#000000\" fill-rule=\"nonzero\" fill-opacity=\"1\" /><path clip-path=\"url(#clip980)\" d=\"M199.834 1038.05 L207.473 1038.05 L207.473 1011.68 L199.163 1013.35 L199.163 1009.09 L207.426 1007.42 L212.102 1007.42 L212.102 1038.05 L219.741 1038.05 L219.741 1041.98 L199.834 1041.98 L199.834 1038.05 Z\" fill=\"#000000\" fill-rule=\"nonzero\" fill-opacity=\"1\" /><path clip-path=\"url(#clip980)\" d=\"M239.186 1010.5 Q235.574 1010.5 233.746 1014.06 Q231.94 1017.61 231.94 1024.74 Q231.94 1031.84 233.746 1035.41 Q235.574 1038.95 239.186 1038.95 Q242.82 1038.95 244.625 1035.41 Q246.454 1031.84 246.454 1024.74 Q246.454 1017.61 244.625 1014.06 Q242.82 1010.5 239.186 1010.5 M239.186 1006.8 Q244.996 1006.8 248.051 1011.4 Q251.13 1015.99 251.13 1024.74 Q251.13 1033.46 248.051 1038.07 Q244.996 1042.65 239.186 1042.65 Q233.375 1042.65 230.297 1038.07 Q227.241 1033.46 227.241 1024.74 Q227.241 1015.99 230.297 1011.4 Q233.375 1006.8 239.186 1006.8 Z\" fill=\"#000000\" fill-rule=\"nonzero\" fill-opacity=\"1\" /><path clip-path=\"url(#clip980)\" d=\"M263.806 989.801 L254.214 1004.79 L263.806 1004.79 L263.806 989.801 M262.81 986.491 L267.587 986.491 L267.587 1004.79 L271.593 1004.79 L271.593 1007.95 L267.587 1007.95 L267.587 1014.57 L263.806 1014.57 L263.806 1007.95 L251.13 1007.95 L251.13 1004.28 L262.81 986.491 Z\" fill=\"#000000\" fill-rule=\"nonzero\" fill-opacity=\"1\" /><path clip-path=\"url(#clip980)\" d=\"M64.3254 803.627 Q61.1773 803.627 59.3254 805.78 Q57.4967 807.932 57.4967 811.682 Q57.4967 815.409 59.3254 817.585 Q61.1773 819.738 64.3254 819.738 Q67.4735 819.738 69.3022 817.585 Q71.1541 815.409 71.1541 811.682 Q71.1541 807.932 69.3022 805.78 Q67.4735 803.627 64.3254 803.627 M73.6077 788.974 L73.6077 793.233 Q71.8485 792.4 70.0429 791.96 Q68.2606 791.52 66.5013 791.52 Q61.8717 791.52 59.418 794.645 Q56.9875 797.77 56.6402 804.09 Q58.006 802.076 60.0662 801.011 Q62.1263 799.923 64.6032 799.923 Q69.8115 799.923 72.8207 803.094 Q75.8531 806.243 75.8531 811.682 Q75.8531 817.006 72.705 820.224 Q69.5568 823.442 64.3254 823.442 Q58.33 823.442 55.1588 818.858 Q51.9875 814.252 51.9875 805.525 Q51.9875 797.331 55.8764 792.469 Q59.7652 787.585 66.3161 787.585 Q68.0754 787.585 69.8578 787.932 Q71.6633 788.28 73.6077 788.974 Z\" fill=\"#000000\" fill-rule=\"nonzero\" fill-opacity=\"1\" /><path clip-path=\"url(#clip980)\" d=\"M83.9086 816.891 L88.7928 816.891 L88.7928 822.77 L83.9086 822.77 L83.9086 816.891 Z\" fill=\"#000000\" fill-rule=\"nonzero\" fill-opacity=\"1\" /><path clip-path=\"url(#clip980)\" d=\"M108.978 791.289 Q105.367 791.289 103.538 794.854 Q101.733 798.395 101.733 805.525 Q101.733 812.631 103.538 816.196 Q105.367 819.738 108.978 819.738 Q112.612 819.738 114.418 816.196 Q116.246 812.631 116.246 805.525 Q116.246 798.395 114.418 794.854 Q112.612 791.289 108.978 791.289 M108.978 787.585 Q114.788 787.585 117.844 792.192 Q120.922 796.775 120.922 805.525 Q120.922 814.252 117.844 818.858 Q114.788 823.442 108.978 823.442 Q103.168 823.442 100.089 818.858 Q97.0335 814.252 97.0335 805.525 Q97.0335 796.775 100.089 792.192 Q103.168 787.585 108.978 787.585 Z\" fill=\"#000000\" fill-rule=\"nonzero\" fill-opacity=\"1\" /><path clip-path=\"url(#clip980)\" d=\"M139.14 791.289 Q135.529 791.289 133.7 794.854 Q131.894 798.395 131.894 805.525 Q131.894 812.631 133.7 816.196 Q135.529 819.738 139.14 819.738 Q142.774 819.738 144.58 816.196 Q146.408 812.631 146.408 805.525 Q146.408 798.395 144.58 794.854 Q142.774 791.289 139.14 791.289 M139.14 787.585 Q144.95 787.585 148.005 792.192 Q151.084 796.775 151.084 805.525 Q151.084 814.252 148.005 818.858 Q144.95 823.442 139.14 823.442 Q133.33 823.442 130.251 818.858 Q127.195 814.252 127.195 805.525 Q127.195 796.775 130.251 792.192 Q133.33 787.585 139.14 787.585 Z\" fill=\"#000000\" fill-rule=\"nonzero\" fill-opacity=\"1\" /><path clip-path=\"url(#clip980)\" d=\"M187.473 797.307 L176.894 807.932 L187.473 818.511 L184.718 821.312 L174.093 810.687 L163.468 821.312 L160.737 818.511 L171.292 807.932 L160.737 797.307 L163.468 794.506 L174.093 805.131 L184.718 794.506 L187.473 797.307 Z\" fill=\"#000000\" fill-rule=\"nonzero\" fill-opacity=\"1\" /><path clip-path=\"url(#clip980)\" d=\"M199.834 818.835 L207.473 818.835 L207.473 792.469 L199.163 794.136 L199.163 789.877 L207.426 788.21 L212.102 788.21 L212.102 818.835 L219.741 818.835 L219.741 822.77 L199.834 822.77 L199.834 818.835 Z\" fill=\"#000000\" fill-rule=\"nonzero\" fill-opacity=\"1\" /><path clip-path=\"url(#clip980)\" d=\"M239.186 791.289 Q235.574 791.289 233.746 794.854 Q231.94 798.395 231.94 805.525 Q231.94 812.631 233.746 816.196 Q235.574 819.738 239.186 819.738 Q242.82 819.738 244.625 816.196 Q246.454 812.631 246.454 805.525 Q246.454 798.395 244.625 794.854 Q242.82 791.289 239.186 791.289 M239.186 787.585 Q244.996 787.585 248.051 792.192 Q251.13 796.775 251.13 805.525 Q251.13 814.252 248.051 818.858 Q244.996 823.442 239.186 823.442 Q233.375 823.442 230.297 818.858 Q227.241 814.252 227.241 805.525 Q227.241 796.775 230.297 792.192 Q233.375 787.585 239.186 787.585 Z\" fill=\"#000000\" fill-rule=\"nonzero\" fill-opacity=\"1\" /><path clip-path=\"url(#clip980)\" d=\"M263.806 770.59 L254.214 785.58 L263.806 785.58 L263.806 770.59 M262.81 767.28 L267.587 767.28 L267.587 785.58 L271.593 785.58 L271.593 788.739 L267.587 788.739 L267.587 795.36 L263.806 795.36 L263.806 788.739 L251.13 788.739 L251.13 785.072 L262.81 767.28 Z\" fill=\"#000000\" fill-rule=\"nonzero\" fill-opacity=\"1\" /><path clip-path=\"url(#clip980)\" d=\"M63.7467 587.147 Q60.4134 587.147 58.4921 588.929 Q56.5939 590.712 56.5939 593.837 Q56.5939 596.962 58.4921 598.744 Q60.4134 600.527 63.7467 600.527 Q67.08 600.527 69.0013 598.744 Q70.9226 596.939 70.9226 593.837 Q70.9226 590.712 69.0013 588.929 Q67.1032 587.147 63.7467 587.147 M59.0708 585.156 Q56.0615 584.416 54.3717 582.355 Q52.7051 580.295 52.7051 577.332 Q52.7051 573.189 55.6449 570.781 Q58.6078 568.374 63.7467 568.374 Q68.9087 568.374 71.8485 570.781 Q74.7883 573.189 74.7883 577.332 Q74.7883 580.295 73.0985 582.355 Q71.4318 584.416 68.4457 585.156 Q71.8253 585.943 73.7003 588.235 Q75.5985 590.527 75.5985 593.837 Q75.5985 598.86 72.5198 601.545 Q69.4642 604.23 63.7467 604.23 Q58.0291 604.23 54.9504 601.545 Q51.8949 598.86 51.8949 593.837 Q51.8949 590.527 53.793 588.235 Q55.6912 585.943 59.0708 585.156 M57.3578 577.772 Q57.3578 580.457 59.0245 581.962 Q60.7143 583.467 63.7467 583.467 Q66.7559 583.467 68.4457 581.962 Q70.1587 580.457 70.1587 577.772 Q70.1587 575.087 68.4457 573.582 Q66.7559 572.078 63.7467 572.078 Q60.7143 572.078 59.0245 573.582 Q57.3578 575.087 57.3578 577.772 Z\" fill=\"#000000\" fill-rule=\"nonzero\" fill-opacity=\"1\" /><path clip-path=\"url(#clip980)\" d=\"M83.9086 597.679 L88.7928 597.679 L88.7928 603.559 L83.9086 603.559 L83.9086 597.679 Z\" fill=\"#000000\" fill-rule=\"nonzero\" fill-opacity=\"1\" /><path clip-path=\"url(#clip980)\" d=\"M108.978 572.078 Q105.367 572.078 103.538 575.643 Q101.733 579.184 101.733 586.314 Q101.733 593.42 103.538 596.985 Q105.367 600.527 108.978 600.527 Q112.612 600.527 114.418 596.985 Q116.246 593.42 116.246 586.314 Q116.246 579.184 114.418 575.643 Q112.612 572.078 108.978 572.078 M108.978 568.374 Q114.788 568.374 117.844 572.98 Q120.922 577.564 120.922 586.314 Q120.922 595.041 117.844 599.647 Q114.788 604.23 108.978 604.23 Q103.168 604.23 100.089 599.647 Q97.0335 595.041 97.0335 586.314 Q97.0335 577.564 100.089 572.98 Q103.168 568.374 108.978 568.374 Z\" fill=\"#000000\" fill-rule=\"nonzero\" fill-opacity=\"1\" /><path clip-path=\"url(#clip980)\" d=\"M139.14 572.078 Q135.529 572.078 133.7 575.643 Q131.894 579.184 131.894 586.314 Q131.894 593.42 133.7 596.985 Q135.529 600.527 139.14 600.527 Q142.774 600.527 144.58 596.985 Q146.408 593.42 146.408 586.314 Q146.408 579.184 144.58 575.643 Q142.774 572.078 139.14 572.078 M139.14 568.374 Q144.95 568.374 148.005 572.98 Q151.084 577.564 151.084 586.314 Q151.084 595.041 148.005 599.647 Q144.95 604.23 139.14 604.23 Q133.33 604.23 130.251 599.647 Q127.195 595.041 127.195 586.314 Q127.195 577.564 130.251 572.98 Q133.33 568.374 139.14 568.374 Z\" fill=\"#000000\" fill-rule=\"nonzero\" fill-opacity=\"1\" /><path clip-path=\"url(#clip980)\" d=\"M187.473 578.096 L176.894 588.721 L187.473 599.3 L184.718 602.101 L174.093 591.476 L163.468 602.101 L160.737 599.3 L171.292 588.721 L160.737 578.096 L163.468 575.295 L174.093 585.92 L184.718 575.295 L187.473 578.096 Z\" fill=\"#000000\" fill-rule=\"nonzero\" fill-opacity=\"1\" /><path clip-path=\"url(#clip980)\" d=\"M199.834 599.624 L207.473 599.624 L207.473 573.258 L199.163 574.925 L199.163 570.666 L207.426 568.999 L212.102 568.999 L212.102 599.624 L219.741 599.624 L219.741 603.559 L199.834 603.559 L199.834 599.624 Z\" fill=\"#000000\" fill-rule=\"nonzero\" fill-opacity=\"1\" /><path clip-path=\"url(#clip980)\" d=\"M239.186 572.078 Q235.574 572.078 233.746 575.643 Q231.94 579.184 231.94 586.314 Q231.94 593.42 233.746 596.985 Q235.574 600.527 239.186 600.527 Q242.82 600.527 244.625 596.985 Q246.454 593.42 246.454 586.314 Q246.454 579.184 244.625 575.643 Q242.82 572.078 239.186 572.078 M239.186 568.374 Q244.996 568.374 248.051 572.98 Q251.13 577.564 251.13 586.314 Q251.13 595.041 248.051 599.647 Q244.996 604.23 239.186 604.23 Q233.375 604.23 230.297 599.647 Q227.241 595.041 227.241 586.314 Q227.241 577.564 230.297 572.98 Q233.375 568.374 239.186 568.374 Z\" fill=\"#000000\" fill-rule=\"nonzero\" fill-opacity=\"1\" /><path clip-path=\"url(#clip980)\" d=\"M263.806 551.379 L254.214 566.369 L263.806 566.369 L263.806 551.379 M262.81 548.069 L267.587 548.069 L267.587 566.369 L271.593 566.369 L271.593 569.528 L267.587 569.528 L267.587 576.149 L263.806 576.149 L263.806 569.528 L251.13 569.528 L251.13 565.861 L262.81 548.069 Z\" fill=\"#000000\" fill-rule=\"nonzero\" fill-opacity=\"1\" /><path clip-path=\"url(#clip980)\" d=\"M56.8515 380.413 L64.4903 380.413 L64.4903 354.047 L56.1802 355.714 L56.1802 351.454 L64.444 349.788 L69.1199 349.788 L69.1199 380.413 L76.7588 380.413 L76.7588 384.348 L56.8515 384.348 L56.8515 380.413 Z\" fill=\"#000000\" fill-rule=\"nonzero\" fill-opacity=\"1\" /><path clip-path=\"url(#clip980)\" d=\"M86.2032 378.468 L91.0874 378.468 L91.0874 384.348 L86.2032 384.348 L86.2032 378.468 Z\" fill=\"#000000\" fill-rule=\"nonzero\" fill-opacity=\"1\" /><path clip-path=\"url(#clip980)\" d=\"M111.272 352.867 Q107.661 352.867 105.833 356.431 Q104.027 359.973 104.027 367.103 Q104.027 374.209 105.833 377.774 Q107.661 381.315 111.272 381.315 Q114.907 381.315 116.712 377.774 Q118.541 374.209 118.541 367.103 Q118.541 359.973 116.712 356.431 Q114.907 352.867 111.272 352.867 M111.272 349.163 Q117.083 349.163 120.138 353.769 Q123.217 358.353 123.217 367.103 Q123.217 375.829 120.138 380.436 Q117.083 385.019 111.272 385.019 Q105.462 385.019 102.384 380.436 Q99.3281 375.829 99.3281 367.103 Q99.3281 358.353 102.384 353.769 Q105.462 349.163 111.272 349.163 Z\" fill=\"#000000\" fill-rule=\"nonzero\" fill-opacity=\"1\" /><path clip-path=\"url(#clip980)\" d=\"M141.434 352.867 Q137.823 352.867 135.995 356.431 Q134.189 359.973 134.189 367.103 Q134.189 374.209 135.995 377.774 Q137.823 381.315 141.434 381.315 Q145.069 381.315 146.874 377.774 Q148.703 374.209 148.703 367.103 Q148.703 359.973 146.874 356.431 Q145.069 352.867 141.434 352.867 M141.434 349.163 Q147.245 349.163 150.3 353.769 Q153.379 358.353 153.379 367.103 Q153.379 375.829 150.3 380.436 Q147.245 385.019 141.434 385.019 Q135.624 385.019 132.546 380.436 Q129.49 375.829 129.49 367.103 Q129.49 358.353 132.546 353.769 Q135.624 349.163 141.434 349.163 Z\" fill=\"#000000\" fill-rule=\"nonzero\" fill-opacity=\"1\" /><path clip-path=\"url(#clip980)\" d=\"M189.767 358.885 L179.189 369.51 L189.767 380.089 L187.013 382.889 L176.388 372.265 L165.763 382.889 L163.031 380.089 L173.587 369.51 L163.031 358.885 L165.763 356.084 L176.388 366.709 L187.013 356.084 L189.767 358.885 Z\" fill=\"#000000\" fill-rule=\"nonzero\" fill-opacity=\"1\" /><path clip-path=\"url(#clip980)\" d=\"M202.128 380.413 L209.767 380.413 L209.767 354.047 L201.457 355.714 L201.457 351.454 L209.721 349.788 L214.397 349.788 L214.397 380.413 L222.036 380.413 L222.036 384.348 L202.128 384.348 L202.128 380.413 Z\" fill=\"#000000\" fill-rule=\"nonzero\" fill-opacity=\"1\" /><path clip-path=\"url(#clip980)\" d=\"M241.48 352.867 Q237.869 352.867 236.04 356.431 Q234.235 359.973 234.235 367.103 Q234.235 374.209 236.04 377.774 Q237.869 381.315 241.48 381.315 Q245.114 381.315 246.92 377.774 Q248.749 374.209 248.749 367.103 Q248.749 359.973 246.92 356.431 Q245.114 352.867 241.48 352.867 M241.48 349.163 Q247.29 349.163 250.346 353.769 Q253.424 358.353 253.424 367.103 Q253.424 375.829 250.346 380.436 Q247.29 385.019 241.48 385.019 Q235.67 385.019 232.591 380.436 Q229.536 375.829 229.536 367.103 Q229.536 358.353 232.591 353.769 Q235.67 349.163 241.48 349.163 Z\" fill=\"#000000\" fill-rule=\"nonzero\" fill-opacity=\"1\" /><path clip-path=\"url(#clip980)\" d=\"M254.609 328.857 L269.524 328.857 L269.524 332.055 L258.089 332.055 L258.089 338.938 Q258.916 338.656 259.744 338.525 Q260.571 338.374 261.399 338.374 Q266.101 338.374 268.847 340.951 Q271.593 343.527 271.593 347.928 Q271.593 352.461 268.772 354.981 Q265.95 357.483 260.816 357.483 Q259.048 357.483 257.205 357.182 Q255.38 356.881 253.424 356.279 L253.424 352.461 Q255.117 353.383 256.923 353.834 Q258.728 354.286 260.741 354.286 Q263.994 354.286 265.894 352.574 Q267.794 350.863 267.794 347.928 Q267.794 344.994 265.894 343.283 Q263.994 341.571 260.741 341.571 Q259.217 341.571 257.694 341.91 Q256.189 342.249 254.609 342.963 L254.609 328.857 Z\" fill=\"#000000\" fill-rule=\"nonzero\" fill-opacity=\"1\" /><path clip-path=\"url(#clip980)\" d=\"M56.8515 161.201 L64.4903 161.201 L64.4903 134.836 L56.1802 136.503 L56.1802 132.243 L64.444 130.577 L69.1199 130.577 L69.1199 161.201 L76.7588 161.201 L76.7588 165.137 L56.8515 165.137 L56.8515 161.201 Z\" fill=\"#000000\" fill-rule=\"nonzero\" fill-opacity=\"1\" /><path clip-path=\"url(#clip980)\" d=\"M86.2032 159.257 L91.0874 159.257 L91.0874 165.137 L86.2032 165.137 L86.2032 159.257 Z\" fill=\"#000000\" fill-rule=\"nonzero\" fill-opacity=\"1\" /><path clip-path=\"url(#clip980)\" d=\"M105.3 161.201 L121.62 161.201 L121.62 165.137 L99.6753 165.137 L99.6753 161.201 Q102.337 158.447 106.921 153.817 Q111.527 149.164 112.708 147.822 Q114.953 145.299 115.833 143.563 Q116.735 141.803 116.735 140.114 Q116.735 137.359 114.791 135.623 Q112.87 133.887 109.768 133.887 Q107.569 133.887 105.115 134.651 Q102.685 135.415 99.9068 136.965 L99.9068 132.243 Q102.731 131.109 105.185 130.53 Q107.638 129.952 109.675 129.952 Q115.046 129.952 118.24 132.637 Q121.434 135.322 121.434 139.813 Q121.434 141.942 120.624 143.864 Q119.837 145.762 117.731 148.354 Q117.152 149.026 114.05 152.243 Q110.948 155.438 105.3 161.201 Z\" fill=\"#000000\" fill-rule=\"nonzero\" fill-opacity=\"1\" /><path clip-path=\"url(#clip980)\" d=\"M141.434 133.655 Q137.823 133.655 135.995 137.22 Q134.189 140.762 134.189 147.891 Q134.189 154.998 135.995 158.563 Q137.823 162.104 141.434 162.104 Q145.069 162.104 146.874 158.563 Q148.703 154.998 148.703 147.891 Q148.703 140.762 146.874 137.22 Q145.069 133.655 141.434 133.655 M141.434 129.952 Q147.245 129.952 150.3 134.558 Q153.379 139.141 153.379 147.891 Q153.379 156.618 150.3 161.225 Q147.245 165.808 141.434 165.808 Q135.624 165.808 132.546 161.225 Q129.49 156.618 129.49 147.891 Q129.49 139.141 132.546 134.558 Q135.624 129.952 141.434 129.952 Z\" fill=\"#000000\" fill-rule=\"nonzero\" fill-opacity=\"1\" /><path clip-path=\"url(#clip980)\" d=\"M189.767 139.674 L179.189 150.299 L189.767 160.877 L187.013 163.678 L176.388 153.053 L165.763 163.678 L163.031 160.877 L173.587 150.299 L163.031 139.674 L165.763 136.873 L176.388 147.498 L187.013 136.873 L189.767 139.674 Z\" fill=\"#000000\" fill-rule=\"nonzero\" fill-opacity=\"1\" /><path clip-path=\"url(#clip980)\" d=\"M202.128 161.201 L209.767 161.201 L209.767 134.836 L201.457 136.503 L201.457 132.243 L209.721 130.577 L214.397 130.577 L214.397 161.201 L222.036 161.201 L222.036 165.137 L202.128 165.137 L202.128 161.201 Z\" fill=\"#000000\" fill-rule=\"nonzero\" fill-opacity=\"1\" /><path clip-path=\"url(#clip980)\" d=\"M241.48 133.655 Q237.869 133.655 236.04 137.22 Q234.235 140.762 234.235 147.891 Q234.235 154.998 236.04 158.563 Q237.869 162.104 241.48 162.104 Q245.114 162.104 246.92 158.563 Q248.749 154.998 248.749 147.891 Q248.749 140.762 246.92 137.22 Q245.114 133.655 241.48 133.655 M241.48 129.952 Q247.29 129.952 250.346 134.558 Q253.424 139.141 253.424 147.891 Q253.424 156.618 250.346 161.225 Q247.29 165.808 241.48 165.808 Q235.67 165.808 232.591 161.225 Q229.536 156.618 229.536 147.891 Q229.536 139.141 232.591 134.558 Q235.67 129.952 241.48 129.952 Z\" fill=\"#000000\" fill-rule=\"nonzero\" fill-opacity=\"1\" /><path clip-path=\"url(#clip980)\" d=\"M254.609 109.646 L269.524 109.646 L269.524 112.844 L258.089 112.844 L258.089 119.727 Q258.916 119.445 259.744 119.313 Q260.571 119.163 261.399 119.163 Q266.101 119.163 268.847 121.74 Q271.593 124.316 271.593 128.717 Q271.593 133.25 268.772 135.77 Q265.95 138.272 260.816 138.272 Q259.048 138.272 257.205 137.971 Q255.38 137.67 253.424 137.068 L253.424 133.25 Q255.117 134.172 256.923 134.623 Q258.728 135.074 260.741 135.074 Q263.994 135.074 265.894 133.363 Q267.794 131.651 267.794 128.717 Q267.794 125.783 265.894 124.072 Q263.994 122.36 260.741 122.36 Q259.217 122.36 257.694 122.699 Q256.189 123.037 254.609 123.752 L254.609 109.646 Z\" fill=\"#000000\" fill-rule=\"nonzero\" fill-opacity=\"1\" /><polyline clip-path=\"url(#clip982)\" style=\"stroke:#009af9; stroke-linecap:round; stroke-linejoin:round; stroke-width:4; stroke-opacity:1; fill:none\" points=\"365.475,1445.72 367.422,1444.35 369.369,1442.98 371.316,1441.61 373.262,1440.24 375.209,1438.87 377.156,1437.5 379.103,1436.13 381.05,1434.76 382.997,1433.39 384.944,1432.01 386.891,1430.64 388.838,1429.27 390.785,1427.9 392.732,1426.53 394.679,1425.16 396.626,1423.79 398.572,1422.42 400.519,1421.05 402.466,1419.68 404.413,1418.31 406.36,1416.94 408.307,1415.57 410.254,1414.2 412.201,1412.83 414.148,1411.46 416.095,1410.09 418.042,1408.72 419.989,1407.35 421.935,1405.98 423.882,1404.61 425.829,1403.24 427.776,1401.87 429.723,1400.5 431.67,1399.13 433.617,1397.76 435.564,1396.39 437.511,1395.02 439.458,1393.65 441.405,1392.28 443.352,1390.91 445.299,1389.54 447.245,1388.17 449.192,1386.8 451.139,1385.43 453.086,1384.06 455.033,1382.69 456.98,1381.32 458.927,1379.95 460.874,1378.58 462.821,1377.21 464.768,1375.84 466.715,1374.47 468.662,1373.1 470.609,1371.73 472.555,1370.36 474.502,1368.99 476.449,1367.62 478.396,1366.25 480.343,1364.88 482.29,1363.51 484.237,1362.14 486.184,1360.77 488.131,1359.4 490.078,1358.03 492.025,1356.66 493.972,1355.29 495.919,1353.92 497.865,1352.55 499.812,1351.18 501.759,1349.81 503.706,1348.44 505.653,1347.07 507.6,1345.7 509.547,1344.33 511.494,1342.96 513.441,1341.59 515.388,1340.22 517.335,1338.85 519.282,1337.48 521.228,1336.11 523.175,1334.74 525.122,1333.37 527.069,1332 529.016,1330.63 530.963,1329.26 532.91,1327.89 534.857,1326.52 536.804,1325.15 538.751,1323.78 540.698,1322.41 542.645,1321.04 544.592,1319.67 546.538,1318.3 548.485,1316.93 550.432,1315.56 552.379,1314.19 554.326,1312.82 556.273,1311.45 558.22,1310.08 560.167,1308.71 562.114,1307.34 564.061,1305.97 566.008,1304.6 567.955,1303.23 569.902,1301.86 571.848,1300.49 573.795,1299.12 575.742,1297.75 577.689,1296.38 579.636,1295.01 581.583,1293.64 583.53,1292.27 585.477,1290.9 587.424,1289.53 589.371,1288.16 591.318,1286.79 593.265,1285.42 595.212,1284.05 597.158,1282.68 599.105,1281.31 601.052,1279.94 602.999,1278.57 604.946,1277.2 606.893,1275.83 608.84,1274.46 610.787,1273.09 612.734,1271.72 614.681,1270.35 616.628,1268.98 618.575,1267.61 620.521,1266.24 622.468,1264.87 624.415,1263.5 626.362,1262.13 628.309,1260.76 630.256,1259.39 632.203,1258.02 634.15,1256.65 636.097,1255.28 638.044,1253.91 639.991,1252.54 641.938,1251.17 643.885,1249.8 645.831,1248.43 647.778,1247.06 649.725,1245.69 651.672,1244.32 653.619,1242.95 655.566,1241.58 657.513,1240.21 659.46,1238.84 661.407,1237.47 663.354,1236.09 665.301,1234.72 667.248,1233.35 669.195,1231.98 671.141,1230.61 673.088,1229.24 675.035,1227.87 676.982,1226.5 678.929,1225.13 680.876,1223.76 682.823,1222.39 684.77,1221.02 686.717,1219.65 688.664,1218.28 690.611,1216.91 692.558,1215.54 694.504,1214.17 696.451,1212.8 698.398,1211.43 700.345,1210.06 702.292,1208.69 704.239,1207.32 706.186,1205.95 708.133,1204.58 710.08,1203.21 712.027,1201.84 713.974,1200.47 715.921,1199.1 717.868,1197.73 719.814,1196.36 721.761,1194.99 723.708,1193.62 725.655,1192.25 727.602,1190.88 729.549,1189.51 731.496,1188.14 733.443,1186.77 735.39,1185.4 737.337,1184.03 739.284,1182.66 741.231,1181.29 743.178,1179.92 745.124,1178.55 747.071,1177.18 749.018,1175.81 750.965,1174.44 752.912,1173.07 754.859,1171.7 756.806,1170.33 758.753,1168.96 760.7,1167.59 762.647,1166.22 764.594,1164.85 766.541,1163.48 768.488,1162.11 770.434,1160.74 772.381,1159.37 774.328,1158 776.275,1156.63 778.222,1155.26 780.169,1153.89 782.116,1152.52 784.063,1151.15 786.01,1149.78 787.957,1148.41 789.904,1147.04 791.851,1145.67 793.797,1144.3 795.744,1142.93 797.691,1141.56 799.638,1140.19 801.585,1138.82 803.532,1137.45 805.479,1136.08 807.426,1134.71 809.373,1133.34 811.32,1131.97 813.267,1130.6 815.214,1129.23 817.161,1127.86 819.107,1126.49 821.054,1125.12 823.001,1123.75 824.948,1122.38 826.895,1121.01 828.842,1119.64 830.789,1118.27 832.736,1116.9 834.683,1115.53 836.63,1114.16 838.577,1112.79 840.524,1111.42 842.471,1110.05 844.417,1108.68 846.364,1107.31 848.311,1105.94 850.258,1104.57 852.205,1103.2 854.152,1101.83 856.099,1100.46 858.046,1099.09 859.993,1097.72 861.94,1096.35 863.887,1094.98 865.834,1093.61 867.781,1092.24 869.727,1090.87 871.674,1089.5 873.621,1088.13 875.568,1086.76 877.515,1085.39 879.462,1084.02 881.409,1082.65 883.356,1081.28 885.303,1079.91 887.25,1078.54 889.197,1077.17 891.144,1075.8 893.09,1074.43 895.037,1073.06 896.984,1071.69 898.931,1070.32 900.878,1068.95 902.825,1067.58 904.772,1066.21 906.719,1064.84 908.666,1063.47 910.613,1062.1 912.56,1060.73 914.507,1059.36 916.454,1057.99 918.4,1056.62 920.347,1055.25 922.294,1053.88 924.241,1052.51 926.188,1051.14 928.135,1049.77 930.082,1048.4 932.029,1047.03 933.976,1045.66 935.923,1044.29 937.87,1042.92 939.817,1041.55 941.764,1040.17 943.71,1038.8 945.657,1037.43 947.604,1036.06 949.551,1034.69 951.498,1033.32 953.445,1031.95 955.392,1030.58 957.339,1029.21 959.286,1027.84 961.233,1026.47 963.18,1025.1 965.127,1023.73 967.073,1022.36 969.02,1020.99 970.967,1019.62 972.914,1018.25 974.861,1016.88 976.808,1015.51 978.755,1014.14 980.702,1012.77 982.649,1011.4 984.596,1010.03 986.543,1008.66 988.49,1007.29 990.437,1005.92 992.383,1004.55 994.33,1003.18 996.277,1001.81 998.224,1000.44 1000.17,999.073 1002.12,997.703 1004.07,996.333 1006.01,994.963 1007.96,993.593 1009.91,992.223 1011.85,990.852 1013.8,989.482 1015.75,988.112 1017.69,986.742 1019.64,985.372 1021.59,984.002 1023.53,982.632 1025.48,981.262 1027.43,979.892 1029.37,978.522 1031.32,977.152 1033.27,975.782 1035.22,974.412 1037.16,973.042 1039.11,971.671 1041.06,970.301 1043,968.931 1044.95,967.561 1046.9,966.191 1048.84,964.821 1050.79,963.451 1052.74,962.081 1054.68,960.711 1056.63,959.341 1058.58,957.971 1060.53,956.601 1062.47,955.231 1064.42,953.861 1066.37,952.49 1068.31,951.12 1070.26,949.75 1072.21,948.38 1074.15,947.01 1076.1,945.64 1078.05,944.27 1079.99,942.9 1081.94,941.53 1083.89,940.16 1085.84,938.79 1087.78,937.42 1089.73,936.05 1091.68,934.68 1093.62,933.309 1095.57,931.939 1097.52,930.569 1099.46,929.199 1101.41,927.829 1103.36,926.459 1105.3,925.089 1107.25,923.719 1109.2,922.349 1111.15,920.979 1113.09,919.609 1115.04,918.239 1116.99,916.869 1118.93,915.499 1120.88,914.129 1122.83,912.758 1124.77,911.388 1126.72,910.018 1128.67,908.648 1130.61,907.278 1132.56,905.908 1134.51,904.538 1136.46,903.168 1138.4,901.798 1140.35,900.428 1142.3,899.058 1144.24,897.688 1146.19,896.318 1148.14,894.948 1150.08,893.577 1152.03,892.207 1153.98,890.837 1155.92,889.467 1157.87,888.097 1159.82,886.727 1161.77,885.357 1163.71,883.987 1165.66,882.617 1167.61,881.247 1169.55,879.877 1171.5,878.507 1173.45,877.137 1175.39,875.767 1177.34,874.396 1179.29,873.026 1181.23,871.656 1183.18,870.286 1185.13,868.916 1187.08,867.546 1189.02,866.176 1190.97,864.806 1192.92,863.436 1194.86,862.066 1196.81,860.696 1198.76,859.326 1200.7,857.956 1202.65,856.586 1204.6,855.216 1206.54,853.845 1208.49,852.475 1210.44,851.105 1212.39,849.735 1214.33,848.365 1216.28,846.995 1218.23,845.625 1220.17,844.255 1222.12,842.885 1224.07,841.515 1226.01,840.145 1227.96,838.775 1229.91,837.405 1231.85,836.035 1233.8,834.664 1235.75,833.294 1237.7,831.924 1239.64,830.554 1241.59,829.184 1243.54,827.814 1245.48,826.444 1247.43,825.074 1249.38,823.704 1251.32,822.334 1253.27,820.964 1255.22,819.594 1257.16,818.224 1259.11,816.854 1261.06,815.483 1263.01,814.113 1264.95,812.743 1266.9,811.373 1268.85,810.003 1270.79,808.633 1272.74,807.263 1274.69,805.893 1276.63,804.523 1278.58,803.153 1280.53,801.783 1282.47,800.413 1284.42,799.043 1286.37,797.673 1288.32,796.302 1290.26,794.932 1292.21,793.562 1294.16,792.192 1296.1,790.822 1298.05,789.452 1300,788.082 1301.94,786.712 1303.89,785.342 1305.84,783.972 1307.78,782.602 1309.73,781.232 1311.68,779.862 1313.63,778.492 1315.57,777.122 1317.52,775.751 1319.47,774.381 1321.41,773.011 1323.36,771.641 1325.31,770.271 1327.25,768.901 1329.2,767.531 1331.15,766.161 1333.09,764.791 1335.04,763.421 1336.99,762.051 1338.94,760.681 1340.88,759.311 1342.83,757.941 1344.78,756.57 1346.72,755.2 1348.67,753.83 1350.62,752.46 1352.56,751.09 1354.51,749.72 1356.46,748.35 1358.4,746.98 1360.35,745.61 1362.3,744.24 1364.25,742.87 1366.19,741.5 1368.14,740.13 1370.09,738.76 1372.03,737.389 1373.98,736.019 1375.93,734.649 1377.87,733.279 1379.82,731.909 1381.77,730.539 1383.71,729.169 1385.66,727.799 1387.61,726.429 1389.56,725.059 1391.5,723.689 1393.45,722.319 1395.4,720.949 1397.34,719.579 1399.29,718.208 1401.24,716.838 1403.18,715.468 1405.13,714.098 1407.08,712.728 1409.02,711.358 1410.97,709.988 1412.92,708.618 1414.87,707.248 1416.81,705.878 1418.76,704.508 1420.71,703.138 1422.65,701.768 1424.6,700.398 1426.55,699.028 1428.49,697.657 1430.44,696.287 1432.39,694.917 1434.33,693.547 1436.28,692.177 1438.23,690.807 1440.18,689.437 1442.12,688.067 1444.07,686.697 1446.02,685.327 1447.96,683.957 1449.91,682.587 1451.86,681.217 1453.8,679.847 1455.75,678.476 1457.7,677.106 1459.64,675.736 1461.59,674.366 1463.54,672.996 1465.49,671.626 1467.43,670.256 1469.38,668.886 1471.33,667.516 1473.27,666.146 1475.22,664.776 1477.17,663.406 1479.11,662.036 1481.06,660.666 1483.01,659.295 1484.95,657.925 1486.9,656.555 1488.85,655.185 1490.8,653.815 1492.74,652.445 1494.69,651.075 1496.64,649.705 1498.58,648.335 1500.53,646.965 1502.48,645.595 1504.42,644.225 1506.37,642.855 1508.32,641.485 1510.26,640.115 1512.21,638.744 1514.16,637.374 1516.11,636.004 1518.05,634.634 1520,633.264 1521.95,631.894 1523.89,630.524 1525.84,629.154 1527.79,627.784 1529.73,626.414 1531.68,625.044 1533.63,623.674 1535.57,622.304 1537.52,620.934 1539.47,619.563 1541.42,618.193 1543.36,616.823 1545.31,615.453 1547.26,614.083 1549.2,612.713 1551.15,611.343 1553.1,609.973 1555.04,608.603 1556.99,607.233 1558.94,605.863 1560.88,604.493 1562.83,603.123 1564.78,601.753 1566.73,600.382 1568.67,599.012 1570.62,597.642 1572.57,596.272 1574.51,594.902 1576.46,593.532 1578.41,592.162 1580.35,590.792 1582.3,589.422 1584.25,588.052 1586.19,586.682 1588.14,585.312 1590.09,583.942 1592.04,582.572 1593.98,581.201 1595.93,579.831 1597.88,578.461 1599.82,577.091 1601.77,575.721 1603.72,574.351 1605.66,572.981 1607.61,571.611 1609.56,570.241 1611.5,568.871 1613.45,567.501 1615.4,566.131 1617.35,564.761 1619.29,563.391 1621.24,562.021 1623.19,560.65 1625.13,559.28 1627.08,557.91 1629.03,556.54 1630.97,555.17 1632.92,553.8 1634.87,552.43 1636.81,551.06 1638.76,549.69 1640.71,548.32 1642.66,546.95 1644.6,545.58 1646.55,544.21 1648.5,542.84 1650.44,541.469 1652.39,540.099 1654.34,538.729 1656.28,537.359 1658.23,535.989 1660.18,534.619 1662.12,533.249 1664.07,531.879 1666.02,530.509 1667.97,529.139 1669.91,527.769 1671.86,526.399 1673.81,525.029 1675.75,523.659 1677.7,522.288 1679.65,520.918 1681.59,519.548 1683.54,518.178 1685.49,516.808 1687.43,515.438 1689.38,514.068 1691.33,512.698 1693.28,511.328 1695.22,509.958 1697.17,508.588 1699.12,507.218 1701.06,505.848 1703.01,504.478 1704.96,503.108 1706.9,501.737 1708.85,500.367 1710.8,498.997 1712.74,497.627 1714.69,496.257 1716.64,494.887 1718.59,493.517 1720.53,492.147 1722.48,490.777 1724.43,489.407 1726.37,488.037 1728.32,486.667 1730.27,485.297 1732.21,483.927 1734.16,482.556 1736.11,481.186 1738.05,479.816 1740,478.446 1741.95,477.076 1743.9,475.706 1745.84,474.336 1747.79,472.966 1749.74,471.596 1751.68,470.226 1753.63,468.856 1755.58,467.486 1757.52,466.116 1759.47,464.746 1761.42,463.375 1763.36,462.005 1765.31,460.635 1767.26,459.265 1769.21,457.895 1771.15,456.525 1773.1,455.155 1775.05,453.785 1776.99,452.415 1778.94,451.045 1780.89,449.675 1782.83,448.305 1784.78,446.935 1786.73,445.565 1788.67,444.194 1790.62,442.824 1792.57,441.454 1794.52,440.084 1796.46,438.714 1798.41,437.344 1800.36,435.974 1802.3,434.604 1804.25,433.234 1806.2,431.864 1808.14,430.494 1810.09,429.124 1812.04,427.754 1813.98,426.384 1815.93,425.014 1817.88,423.643 1819.83,422.273 1821.77,420.903 1823.72,419.533 1825.67,418.163 1827.61,416.793 1829.56,415.423 1831.51,414.053 1833.45,412.683 1835.4,411.313 1837.35,409.943 1839.29,408.573 1841.24,407.203 1843.19,405.833 1845.14,404.462 1847.08,403.092 1849.03,401.722 1850.98,400.352 1852.92,398.982 1854.87,397.612 1856.82,396.242 1858.76,394.872 1860.71,393.502 1862.66,392.132 1864.6,390.762 1866.55,389.392 1868.5,388.022 1870.45,386.652 1872.39,385.281 1874.34,383.911 1876.29,382.541 1878.23,381.171 1880.18,379.801 1882.13,378.431 1884.07,377.061 1886.02,375.691 1887.97,374.321 1889.91,372.951 1891.86,371.581 1893.81,370.211 1895.76,368.841 1897.7,367.471 1899.65,366.1 1901.6,364.73 1903.54,363.36 1905.49,361.99 1907.44,360.62 1909.38,359.25 1911.33,357.88 1913.28,356.51 1915.22,355.14 1917.17,353.77 1919.12,352.4 1921.07,351.03 1923.01,349.66 1924.96,348.29 1926.91,346.92 1928.85,345.549 1930.8,344.179 1932.75,342.809 1934.69,341.439 1936.64,340.069 1938.59,338.699 1940.53,337.329 1942.48,335.959 1944.43,334.589 1946.37,333.219 1948.32,331.849 1950.27,330.479 1952.22,329.109 1954.16,327.739 1956.11,326.368 1958.06,324.998 1960,323.628 1961.95,322.258 1963.9,320.888 1965.84,319.518 1967.79,318.148 1969.74,316.778 1971.68,315.408 1973.63,314.038 1975.58,312.668 1977.53,311.298 1979.47,309.928 1981.42,308.558 1983.37,307.187 1985.31,305.817 1987.26,304.447 1989.21,303.077 1991.15,301.707 1993.1,300.337 1995.05,298.967 1996.99,297.597 1998.94,296.227 2000.89,294.857 2002.84,293.487 2004.78,292.117 2006.73,290.747 2008.68,289.377 2010.62,288.007 2012.57,286.636 2014.52,285.266 2016.46,283.896 2018.41,282.526 2020.36,281.156 2022.3,279.786 2024.25,278.416 2026.2,277.046 2028.15,275.676 2030.09,274.306 2032.04,272.936 2033.99,271.566 2035.93,270.196 2037.88,268.826 2039.83,267.455 2041.77,266.085 2043.72,264.715 2045.67,263.345 2047.61,261.975 2049.56,260.605 2051.51,259.235 2053.46,257.865 2055.4,256.495 2057.35,255.125 2059.3,253.755 2061.24,252.385 2063.19,251.015 2065.14,249.645 2067.08,248.274 2069.03,246.904 2070.98,245.534 2072.92,244.164 2074.87,242.794 2076.82,241.424 2078.77,240.054 2080.71,238.684 2082.66,237.314 2084.61,235.944 2086.55,234.574 2088.5,233.204 2090.45,231.834 2092.39,230.464 2094.34,229.093 2096.29,227.723 2098.23,226.353 2100.18,224.983 2102.13,223.613 2104.08,222.243 2106.02,220.873 2107.97,219.503 2109.92,218.133 2111.86,216.763 2113.81,215.393 2115.76,214.023 2117.7,212.653 2119.65,211.283 2121.6,209.913 2123.54,208.542 2125.49,207.172 2127.44,205.802 2129.39,204.432 2131.33,203.062 2133.28,201.692 2135.23,200.322 2137.17,198.952 2139.12,197.582 2141.07,196.212 2143.01,194.842 2144.96,193.472 2146.91,192.102 2148.85,190.732 2150.8,189.361 2152.75,187.991 2154.7,186.621 2156.64,185.251 2158.59,183.881 2160.54,182.511 2162.48,181.141 2164.43,179.771 2166.38,178.401 2168.32,177.031 2170.27,175.661 2172.22,174.291 2174.16,172.921 2176.11,171.551 2178.06,170.18 2180.01,168.81 2181.95,167.44 2183.9,166.07 2185.85,164.7 2187.79,163.33 2189.74,161.96 2191.69,160.59 2193.63,159.22 2195.58,157.85 2197.53,156.48 2199.47,155.11 2201.42,153.74 2203.37,152.37 2205.32,150.999 2207.26,149.629 2209.21,148.259 2211.16,146.889 2213.1,145.519 2215.05,144.149 2217,142.779 2218.94,141.409 2220.89,140.039 2222.84,138.669 2224.78,137.299 2226.73,135.929 2228.68,134.559 2230.63,133.189 2232.57,131.819 2234.52,130.448 2236.47,129.078 2238.41,127.708 2240.36,126.338 2242.31,124.968 2244.25,123.598 2246.2,122.228 2248.15,120.858 2250.09,119.488 2252.04,118.118 2253.99,116.748 2255.94,115.378 2257.88,114.008 2259.83,112.638 2261.78,111.267 2263.72,109.897 2265.67,108.527 2267.62,107.157 2269.56,105.787 2271.51,104.417 2273.46,103.047 2275.4,101.677 2277.35,100.307 2279.3,98.9368 2281.25,97.5668 2283.19,96.1967 2285.14,94.8266 2287.09,93.4566 2289.03,92.0865 2290.98,90.7164 2292.93,89.3463 2294.87,87.9763 \"/>\n",
       "<path clip-path=\"url(#clip980)\" d=\"M375.765 198.898 L632.711 198.898 L632.711 95.2176 L375.765 95.2176  Z\" fill=\"#ffffff\" fill-rule=\"evenodd\" fill-opacity=\"1\"/>\n",
       "<polyline clip-path=\"url(#clip980)\" style=\"stroke:#000000; stroke-linecap:round; stroke-linejoin:round; stroke-width:4; stroke-opacity:1; fill:none\" points=\"375.765,198.898 632.711,198.898 632.711,95.2176 375.765,95.2176 375.765,198.898 \"/>\n",
       "<polyline clip-path=\"url(#clip980)\" style=\"stroke:#009af9; stroke-linecap:round; stroke-linejoin:round; stroke-width:4; stroke-opacity:1; fill:none\" points=\"398.489,147.058 534.833,147.058 \"/>\n",
       "<path clip-path=\"url(#clip980)\" d=\"M571.4 166.745 Q569.594 171.375 567.881 172.787 Q566.168 174.199 563.298 174.199 L559.895 174.199 L559.895 170.634 L562.395 170.634 Q564.154 170.634 565.127 169.8 Q566.099 168.967 567.279 165.865 L568.043 163.921 L557.557 138.412 L562.071 138.412 L570.173 158.689 L578.275 138.412 L582.789 138.412 L571.4 166.745 Z\" fill=\"#000000\" fill-rule=\"nonzero\" fill-opacity=\"1\" /><path clip-path=\"url(#clip980)\" d=\"M590.08 160.402 L597.719 160.402 L597.719 134.037 L589.409 135.703 L589.409 131.444 L597.673 129.778 L602.349 129.778 L602.349 160.402 L609.987 160.402 L609.987 164.338 L590.08 164.338 L590.08 160.402 Z\" fill=\"#000000\" fill-rule=\"nonzero\" fill-opacity=\"1\" /></svg>\n"
      ]
     },
     "execution_count": 24,
     "metadata": {},
     "output_type": "execute_result"
    }
   ],
   "source": [
    "plot(currset[\"range\"][:])"
   ]
  },
  {
   "cell_type": "code",
   "execution_count": 139,
   "id": "9ce02a7a",
   "metadata": {},
   "outputs": [
    {
     "data": {
      "text/plain": [
       "\u001b[32mDBZ\u001b[39m (384 × 87)\n",
       "  Datatype:    \u001b[0m\u001b[1mUnion{Missing, Float32}\u001b[22m (Int16)\n",
       "  Dimensions:  range × time\n",
       "  Attributes:\n",
       "   long_name            = \u001b[36mRadar Reflectivity Factor, Combined\u001b[39m\n",
       "   units                = \u001b[36mdBZ\u001b[39m\n",
       "   sampling_ratio       = \u001b[36m1.0\u001b[39m\n",
       "   _FillValue           = \u001b[36m-32768\u001b[39m\n",
       "   scale_factor         = \u001b[36m0.01\u001b[39m\n",
       "   add_offset           = \u001b[36m-0.0\u001b[39m\n",
       "   grid_mapping         = \u001b[36mgrid_mapping\u001b[39m\n",
       "   coordinates          = \u001b[36mtime range\u001b[39m\n"
      ]
     },
     "execution_count": 139,
     "metadata": {},
     "output_type": "execute_result"
    }
   ],
   "source": [
    "currset[\"DBZ\"]"
   ]
  },
  {
   "cell_type": "code",
   "execution_count": 123,
   "id": "c76eea26",
   "metadata": {},
   "outputs": [
    {
     "data": {
      "text/plain": [
       "384×87 BitMatrix:\n",
       " 0  0  1  0  0  0  0  0  1  0  0  0  0  …  0  0  0  0  0  0  0  0  0  0  0  0\n",
       " 1  0  0  1  0  0  0  0  0  0  0  0  0     0  0  0  0  0  0  0  0  0  0  0  0\n",
       " 0  0  0  0  0  0  0  0  0  0  0  0  0     0  0  0  0  0  0  0  0  0  0  0  0\n",
       " 1  1  0  0  1  1  1  1  1  1  0  0  1     0  0  0  0  0  0  0  0  0  0  0  0\n",
       " 1  1  1  1  1  1  1  1  1  1  1  1  1     0  0  0  0  0  0  0  0  0  0  0  0\n",
       " 1  1  1  1  1  1  1  1  1  1  1  1  1  …  0  0  0  0  0  0  0  0  0  0  0  0\n",
       " 1  1  1  1  1  1  1  1  1  1  1  1  1     0  0  0  0  0  0  0  0  0  0  0  0\n",
       " 1  1  1  1  1  1  1  1  1  1  1  1  1     0  0  0  0  0  0  0  0  0  0  0  0\n",
       " 1  1  1  1  1  1  1  1  1  1  1  1  1     0  0  0  0  0  0  0  0  0  0  0  0\n",
       " 1  1  1  1  1  1  1  1  1  1  1  1  1     0  0  0  0  0  0  0  0  0  0  0  0\n",
       " 1  1  1  1  1  1  1  1  1  1  1  1  1  …  0  0  0  0  0  0  0  0  0  0  0  0\n",
       " 1  1  1  1  1  1  1  1  1  1  0  1  1     0  0  0  0  0  0  0  0  0  0  0  0\n",
       " 1  1  1  1  1  1  1  1  1  0  0  1  1     0  0  0  0  0  0  0  0  0  0  0  0\n",
       " ⋮              ⋮              ⋮        ⋱  ⋮              ⋮              ⋮  \n",
       " 0  0  0  0  0  0  0  0  0  0  0  0  0     0  0  0  0  0  0  0  0  0  0  0  0\n",
       " 0  0  0  0  0  0  0  0  0  0  0  0  0     0  0  0  0  0  0  0  0  0  0  0  0\n",
       " 0  0  0  0  0  0  0  0  0  0  0  0  0     0  0  0  0  0  0  0  0  0  0  0  0\n",
       " 0  0  0  0  0  0  0  0  0  0  0  0  0  …  0  0  0  0  0  0  0  0  0  0  0  0\n",
       " 0  0  0  0  0  0  0  0  0  0  0  0  0     0  0  0  0  0  0  0  0  0  0  0  0\n",
       " 0  0  0  0  0  0  0  0  0  0  0  0  0     0  0  0  0  0  0  0  0  0  0  0  0\n",
       " 0  0  0  0  0  0  0  0  0  0  0  0  0     0  0  0  0  0  0  0  0  0  0  0  0\n",
       " 0  0  0  0  0  0  0  0  0  0  0  0  0     0  0  0  0  0  0  0  0  0  0  0  0\n",
       " 0  0  0  0  0  0  0  0  0  0  0  0  0  …  0  0  0  0  0  0  0  0  0  0  0  0\n",
       " 0  0  0  0  0  0  0  0  0  0  0  0  0     0  0  0  0  0  0  0  0  0  0  0  0\n",
       " 0  0  0  0  0  0  0  0  0  0  0  0  0     0  0  0  0  0  0  0  0  0  0  0  0\n",
       " 0  0  0  0  0  0  0  0  0  0  0  0  0     0  0  0  0  0  0  0  0  0  0  0  0"
      ]
     },
     "execution_count": 123,
     "metadata": {},
     "output_type": "execute_result"
    }
   ],
   "source": [
    ".!(map(ismissing, DBZ_RAW))"
   ]
  },
  {
   "cell_type": "code",
   "execution_count": null,
   "id": "bc6895a8",
   "metadata": {},
   "outputs": [],
   "source": [
    "#Let's only plot the values for which #ismissing is 0 "
   ]
  },
  {
   "cell_type": "code",
   "execution_count": 127,
   "id": "ebe12d26",
   "metadata": {},
   "outputs": [
    {
     "data": {
      "text/plain": [
       "\u001b[32mrange\u001b[39m (384)\n",
       "  Datatype:    \u001b[0m\u001b[1mFloat32\u001b[22m (Float32)\n",
       "  Dimensions:  range\n",
       "  Attributes:\n",
       "   long_name            = \u001b[36mRange from instrument to center of gate\u001b[39m\n",
       "   units                = \u001b[36mmeters\u001b[39m\n",
       "   spacing_is_constant  = \u001b[36mtrue\u001b[39m\n",
       "   meters_to_center_of_first_gate = \u001b[36m0.0\u001b[39m\n",
       "   meters_between_gates = \u001b[36m150.00000596046448\u001b[39m\n"
      ]
     },
     "execution_count": 127,
     "metadata": {},
     "output_type": "execute_result"
    }
   ],
   "source": [
    "vals = DBZ_RAW[.!map(ismissing, DBZ_RAW)]\n",
    "##Need to map azimuths and ranges onto the same shape array \n",
    "azis = currset[\"azimuth\"]\n",
    "ranges = currset[\"range\"]"
   ]
  },
  {
   "cell_type": "code",
   "execution_count": 75,
   "id": "d39b5314",
   "metadata": {},
   "outputs": [
    {
     "data": {
      "text/plain": [
       "226.82762f0"
      ]
     },
     "execution_count": 75,
     "metadata": {},
     "output_type": "execute_result"
    }
   ],
   "source": [
    "minimum(currset[\"azimuth\"][:])"
   ]
  },
  {
   "cell_type": "code",
   "execution_count": 4,
   "id": "f8f2a847",
   "metadata": {},
   "outputs": [
    {
     "data": {
      "text/plain": [
       "log10 (generic function with 8 methods)"
      ]
     },
     "execution_count": 4,
     "metadata": {},
     "output_type": "execute_result"
    }
   ],
   "source": [
    "eval(:log10)"
   ]
  },
  {
   "cell_type": "code",
   "execution_count": 71,
   "id": "95799d72",
   "metadata": {},
   "outputs": [
    {
     "data": {
      "text/plain": [
       "384-element Vector{Float32}:\n",
       "     0.0\n",
       "   150.0\n",
       "   300.0\n",
       "   450.0\n",
       "   600.0\n",
       "   750.0\n",
       "   900.0\n",
       "  1050.0\n",
       "  1200.0\n",
       "  1350.0\n",
       "  1500.0\n",
       "  1650.0\n",
       "  1800.0\n",
       "     ⋮\n",
       " 55800.0\n",
       " 55950.0\n",
       " 56100.0\n",
       " 56250.0\n",
       " 56400.0\n",
       " 56550.0\n",
       " 56700.0\n",
       " 56850.0\n",
       " 57000.0\n",
       " 57150.0\n",
       " 57300.0\n",
       " 57450.0"
      ]
     },
     "execution_count": 71,
     "metadata": {},
     "output_type": "execute_result"
    }
   ],
   "source": [
    "currset[\"range\"][:]"
   ]
  },
  {
   "cell_type": "code",
   "execution_count": null,
   "id": "369b510f",
   "metadata": {},
   "outputs": [],
   "source": []
  }
 ],
 "metadata": {
  "kernelspec": {
   "display_name": "Julia 1.9.2",
   "language": "julia",
   "name": "julia-1.9"
  },
  "language_info": {
   "file_extension": ".jl",
   "mimetype": "application/julia",
   "name": "julia",
   "version": "1.9.2"
  }
 },
 "nbformat": 4,
 "nbformat_minor": 5
}
