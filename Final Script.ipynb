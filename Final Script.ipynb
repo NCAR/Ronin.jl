{
 "cells": [
  {
   "cell_type": "code",
   "execution_count": null,
   "id": "ceebec22",
   "metadata": {},
   "outputs": [],
   "source": [
    "###Script for datamining a given CFRadial file for the necessary predictors to feed to JMLQC model "
   ]
  }
 ],
 "metadata": {
  "kernelspec": {
   "display_name": "Julia 1.9.2",
   "language": "julia",
   "name": "julia-1.9"
  },
  "language_info": {
   "file_extension": ".jl",
   "mimetype": "application/julia",
   "name": "julia",
   "version": "1.9.2"
  }
 },
 "nbformat": 4,
 "nbformat_minor": 5
}
