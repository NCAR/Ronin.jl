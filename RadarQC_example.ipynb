{
 "cells": [
  {
   "cell_type": "code",
   "execution_count": 2,
   "metadata": {},
   "outputs": [
    {
     "name": "stderr",
     "output_type": "stream",
     "text": [
      "WARNING: Method definition setindex!(PyCall.PyObject, Any, Integer...) in module PyCall at deprecated.jl:103 overwritten in module PyCallUtils at /Users/ischluesche/.julia/packages/PyCallUtils/GJ7TW/src/PyCallUtils.jl:53.\n",
      "  ** incremental compilation may be fatally broken for this module **\n",
      "\n",
      "WARNING: Method definition setindex!(PyCall.PyObject, Any, Integer, Integer) in module PyCall at deprecated.jl:103 overwritten in module PyCallUtils at /Users/ischluesche/.julia/packages/PyCallUtils/GJ7TW/src/PyCallUtils.jl:52.\n",
      "  ** incremental compilation may be fatally broken for this module **\n",
      "\n",
      "WARNING: Method definition setindex!(PyCall.PyObject, Any, Integer) in module PyCall at deprecated.jl:103 overwritten in module PyCallUtils at /Users/ischluesche/.julia/packages/PyCallUtils/GJ7TW/src/PyCallUtils.jl:51.\n",
      "  ** incremental compilation may be fatally broken for this module **\n",
      "\n",
      "WARNING: Method definition setindex!(PyCall.PyObject, Any, Union{AbstractString, Symbol}) in module PyCall at /Users/ischluesche/.julia/packages/PyCall/gaz9g/src/PyCall.jl:358 overwritten in module PyCallUtils at /Users/ischluesche/.julia/packages/PyCallUtils/GJ7TW/src/PyCallUtils.jl:46.\n",
      "  ** incremental compilation may be fatally broken for this module **\n",
      "\n",
      "WARNING: Method definition getindex(PyCall.PyObject, Integer...) in module PyCall at deprecated.jl:103 overwritten in module PyCallUtils at /Users/ischluesche/.julia/packages/PyCallUtils/GJ7TW/src/PyCallUtils.jl:50.\n",
      "  ** incremental compilation may be fatally broken for this module **\n",
      "\n",
      "WARNING: Method definition getindex(PyCall.PyObject, Integer, Integer) in module PyCall at deprecated.jl:103 overwritten in module PyCallUtils at /Users/ischluesche/.julia/packages/PyCallUtils/GJ7TW/src/PyCallUtils.jl:49.\n",
      "  ** incremental compilation may be fatally broken for this module **\n",
      "\n",
      "WARNING: Method definition getindex(PyCall.PyObject, Integer) in module PyCall at deprecated.jl:103 overwritten in module PyCallUtils at /Users/ischluesche/.julia/packages/PyCallUtils/GJ7TW/src/PyCallUtils.jl:48.\n",
      "  ** incremental compilation may be fatally broken for this module **\n",
      "\n",
      "WARNING: Method definition getindex(PyCall.PyObject, Union{AbstractString, Symbol}) in module PyCall at /Users/ischluesche/.julia/packages/PyCall/gaz9g/src/PyCall.jl:349 overwritten in module PyCallUtils at /Users/ischluesche/.julia/packages/PyCallUtils/GJ7TW/src/PyCallUtils.jl:45.\n",
      "  ** incremental compilation may be fatally broken for this module **\n",
      "\n",
      "WARNING: Method definition jlwrap_iterator(Any) in module PyCall at /Users/ischluesche/.julia/packages/PyCall/gaz9g/src/pyiterator.jl:137 overwritten in module PyCallUtils at /Users/ischluesche/.julia/packages/PyCallUtils/GJ7TW/src/PyCallUtils.jl:55.\n",
      "  ** incremental compilation may be fatally broken for this module **\n",
      "\n"
     ]
    }
   ],
   "source": [
    "##Make sure Julia can see our module \n",
    "push!(LOAD_PATH, \"./src/\")\n",
    "\n",
    "###Load key functionality \n",
    "###This will take a while the first time you do it \n",
    "###Will give some warnings, ignore them \n",
    "using RadarQC"
   ]
  },
  {
   "cell_type": "code",
   "execution_count": 5,
   "metadata": {},
   "outputs": [
    {
     "data": {
      "text/plain": [
       "calculate_features (generic function with 1 method)"
      ]
     },
     "metadata": {},
     "output_type": "display_data"
    }
   ],
   "source": [
    "###Arguments are\n",
    "###Path to training file/directory \n",
    "###Path to file containing arguments on features to calculate \n",
    "###Where to output calculated features \n",
    "calculate_features(\"./CFRADIALS/CASES/BAMEX/\", \"./sample_config.txt\", \"testout.h5\")"
   ]
  },
  {
   "cell_type": "code",
   "execution_count": 33,
   "metadata": {},
   "outputs": [
    {
     "ename": "PyCall.PyError",
     "evalue": "PyError ($(Expr(:escape, :(ccall(#= /Users/ischluesche/.julia/packages/PyCall/gaz9g/src/pyfncall.jl:43 =# @pysym(:PyObject_Call), PyPtr, (PyPtr, PyPtr, PyPtr), o, pyargsptr, kw))))) <class 'ValueError'>\nValueError('Found input variables with inconsistent numbers of samples: [22037873, 482]')\n  File \"/opt/homebrew/Caskroom/miniconda/base/lib/python3.11/site-packages/sklearn/base.py\", line 1152, in wrapper\n    return fit_method(estimator, *args, **kwargs)\n           ^^^^^^^^^^^^^^^^^^^^^^^^^^^^^^^^^^^^^^\n  File \"/opt/homebrew/Caskroom/miniconda/base/lib/python3.11/site-packages/sklearn/ensemble/_forest.py\", line 348, in fit\n    X, y = self._validate_data(\n           ^^^^^^^^^^^^^^^^^^^^\n  File \"/opt/homebrew/Caskroom/miniconda/base/lib/python3.11/site-packages/sklearn/base.py\", line 622, in _validate_data\n    X, y = check_X_y(X, y, **check_params)\n           ^^^^^^^^^^^^^^^^^^^^^^^^^^^^^^^\n  File \"/opt/homebrew/Caskroom/miniconda/base/lib/python3.11/site-packages/sklearn/utils/validation.py\", line 1164, in check_X_y\n    check_consistent_length(X, y)\n  File \"/opt/homebrew/Caskroom/miniconda/base/lib/python3.11/site-packages/sklearn/utils/validation.py\", line 407, in check_consistent_length\n    raise ValueError(\n",
     "output_type": "error",
     "traceback": [
      "PyError ($(Expr(:escape, :(ccall(#= /Users/ischluesche/.julia/packages/PyCall/gaz9g/src/pyfncall.jl:43 =# @pysym(:PyObject_Call), PyPtr, (PyPtr, PyPtr, PyPtr), o, pyargsptr, kw))))) <class 'ValueError'>\n",
      "ValueError('Found input variables with inconsistent numbers of samples: [22037873, 482]')\n",
      "  File \"/opt/homebrew/Caskroom/miniconda/base/lib/python3.11/site-packages/sklearn/base.py\", line 1152, in wrapper\n",
      "    return fit_method(estimator, *args, **kwargs)\n",
      "           ^^^^^^^^^^^^^^^^^^^^^^^^^^^^^^^^^^^^^^\n",
      "  File \"/opt/homebrew/Caskroom/miniconda/base/lib/python3.11/site-packages/sklearn/ensemble/_forest.py\", line 348, in fit\n",
      "    X, y = self._validate_data(\n",
      "           ^^^^^^^^^^^^^^^^^^^^\n",
      "  File \"/opt/homebrew/Caskroom/miniconda/base/lib/python3.11/site-packages/sklearn/base.py\", line 622, in _validate_data\n",
      "    X, y = check_X_y(X, y, **check_params)\n",
      "           ^^^^^^^^^^^^^^^^^^^^^^^^^^^^^^^\n",
      "  File \"/opt/homebrew/Caskroom/miniconda/base/lib/python3.11/site-packages/sklearn/utils/validation.py\", line 1164, in check_X_y\n",
      "    check_consistent_length(X, y)\n",
      "  File \"/opt/homebrew/Caskroom/miniconda/base/lib/python3.11/site-packages/sklearn/utils/validation.py\", line 407, in check_consistent_length\n",
      "    raise ValueError(\n",
      "\n",
      "\n",
      "Stacktrace:\n",
      "  [1] pyerr_check\n",
      "    @ ~/.julia/packages/PyCall/gaz9g/src/exception.jl:75 [inlined]\n",
      "  [2] pyerr_check\n",
      "    @ ~/.julia/packages/PyCall/gaz9g/src/exception.jl:79 [inlined]\n",
      "  [3] _handle_error(msg::String)\n",
      "    @ PyCall ~/.julia/packages/PyCall/gaz9g/src/exception.jl:96\n",
      "  [4] macro expansion\n",
      "    @ ~/.julia/packages/PyCall/gaz9g/src/exception.jl:110 [inlined]\n",
      "  [5] #107\n",
      "    @ ~/.julia/packages/PyCall/gaz9g/src/pyfncall.jl:43 [inlined]\n",
      "  [6] disable_sigint\n",
      "    @ ./c.jl:473 [inlined]\n",
      "  [7] __pycall!\n",
      "    @ ~/.julia/packages/PyCall/gaz9g/src/pyfncall.jl:42 [inlined]\n",
      "  [8] _pycall!(ret::PyCall.PyObject, o::PyCall.PyObject, args::Tuple{Matrix{Float64}, Vector{Int64}}, nargs::Int64, kw::Ptr{Nothing})\n",
      "    @ PyCall ~/.julia/packages/PyCall/gaz9g/src/pyfncall.jl:29\n",
      "  [9] _pycall!(ret::PyCall.PyObject, o::PyCall.PyObject, args::Tuple{Matrix{Float64}, Vector{Int64}}, kwargs::Base.Pairs{Symbol, Union{}, Tuple{}, NamedTuple{(), Tuple{}}})\n",
      "    @ PyCall ~/.julia/packages/PyCall/gaz9g/src/pyfncall.jl:11\n",
      " [10] (::PyCall.PyObject)(::Matrix{Float64}, ::Vararg{Any}; kwargs::Base.Pairs{Symbol, Union{}, Tuple{}, NamedTuple{(), Tuple{}}})\n",
      "    @ PyCall ~/.julia/packages/PyCall/gaz9g/src/pyfncall.jl:86\n",
      " [11] (::PyCall.PyObject)(::Matrix{Float64}, ::Vararg{Any})\n",
      "    @ PyCall ~/.julia/packages/PyCall/gaz9g/src/pyfncall.jl:86\n",
      " [12] fit!(::PyCall.PyObject, ::Matrix{Float64}, ::Vararg{Any}; kwargs::Base.Pairs{Symbol, Union{}, Tuple{}, NamedTuple{(), Tuple{}}})\n",
      "    @ ScikitLearn.Skcore ~/.julia/packages/ScikitLearn/sqLdT/src/Skcore.jl:102\n",
      " [13] fit!(::PyCall.PyObject, ::Matrix{Float64}, ::Vector{Int64})\n",
      "    @ ScikitLearn.Skcore ~/.julia/packages/ScikitLearn/sqLdT/src/Skcore.jl:102\n",
      " [14] train_model(input_h5::String, model_location::String; verify::Bool, verify_out::String)\n",
      "    @ Main.RadarQC ~/Documents/Grad_School/Research/JMLQC/src/RadarQC.jl:115\n",
      " [15] top-level scope\n",
      "    @ ~/Documents/Grad_School/Research/JMLQC/RadarQC_example.ipynb:2"
     ]
    }
   ],
   "source": [
    "###Now, let's train our model on it! \n",
    "RadarQC.train_model(\"testout.h5\", \"trained_model.bson\";verify=true)\n",
    "###Now, we can apply our trained model to a CFRadial! \n",
    "#RadarQC.QC_scan(\"/Users/ischluesche/Documents/Grad_School/Research/JMLQC/CFRADIALS/SMALL_TEST/cfrad.19950516_221950.411_to_19950516_221953.219_TA-ELDR_AIR.nc\", \"sample_config.txt\", \"trained_model.bson\")"
   ]
  },
  {
   "cell_type": "code",
   "execution_count": null,
   "metadata": {},
   "outputs": [],
   "source": [
    "split"
   ]
  },
  {
   "cell_type": "code",
   "execution_count": null,
   "metadata": {},
   "outputs": [],
   "source": []
  }
 ],
 "metadata": {
  "kernelspec": {
   "display_name": "Julia 1.9.3",
   "language": "julia",
   "name": "julia-1.9"
  },
  "language_info": {
   "file_extension": ".jl",
   "mimetype": "application/julia",
   "name": "julia",
   "version": "1.9.3"
  },
  "orig_nbformat": 4,
  "vscode": {
   "interpreter": {
    "hash": "33984a22e2f19a129d779f467ea60ccdbe8f7b945fb2b732bc18c7da77fe6c08"
   }
  }
 },
 "nbformat": 4,
 "nbformat_minor": 2
}
